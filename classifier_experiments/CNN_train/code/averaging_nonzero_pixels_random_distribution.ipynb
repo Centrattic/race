{
 "cells": [
  {
   "cell_type": "code",
   "execution_count": 1,
   "id": "c8898135",
   "metadata": {},
   "outputs": [],
   "source": [
    "# imports\n",
    "import os\n",
    "import shutil\n",
    "\n",
    "import numpy as np\n",
    "import pandas as pd\n",
    "from skimage.morphology import skeletonize\n",
    "from PIL import Image\n",
    "import cv2\n",
    "import random\n",
    "\n",
    "from sklearn.model_selection import train_test_split\n",
    "from sklearn.metrics import roc_auc_score\n",
    "\n",
    "from pathlib import Path\n",
    "import matplotlib.patches as patches\n",
    "import matplotlib.pyplot as plt\n",
    "from sklearn import metrics\n",
    "from tqdm import tqdm"
   ]
  },
  {
   "cell_type": "code",
   "execution_count": 2,
   "id": "c711aa6b",
   "metadata": {},
   "outputs": [],
   "source": [
    "from utils_train import channeled_image_from_id, process_skeletonize, substitute_channels, apply_threshold"
   ]
  },
  {
   "cell_type": "code",
   "execution_count": 3,
   "id": "64b31bdd",
   "metadata": {},
   "outputs": [],
   "source": [
    "def get_nonzero_zero_pixel_locations(channel_flatten, median_number_of_pixels,\n",
    "                                    image_size = (224, 224)):\n",
    "\n",
    "    # array of nonzero and zero id locations\n",
    "    \n",
    "    nonzero_pixels = []\n",
    "    zero_pixels = []\n",
    "    \n",
    "    for i in range(0, len(channel_flatten)):\n",
    "        if channel_flatten[i] == 0:\n",
    "            zero_pixels.append(i) # index value\n",
    "        elif channel_flatten[i] != 0:\n",
    "            nonzero_pixels.append(i)\n",
    "    \n",
    "    zero_pixels = np.array(zero_pixels)\n",
    "    nonzero_pixels = np.array(nonzero_pixels)\n",
    "                    \n",
    "    assert(len(nonzero_pixels) + len(zero_pixels) == len(channel_flatten))\n",
    "    \n",
    "    return nonzero_pixels, zero_pixels"
   ]
  },
  {
   "cell_type": "code",
   "execution_count": 4,
   "id": "68ccab6c",
   "metadata": {},
   "outputs": [],
   "source": [
    "def average_pixel_count_random_images2(img_channel, median_number_of_pixels, # all images 224 x 224\n",
    "                    image_size = (224, 224)):\n",
    "    \n",
    "    # random selection of removal/add means that relatively proportionate amount / pixel intensity is being added\n",
    "    # since PIV values more present have higher chance of being selected\n",
    "    \n",
    "    print(\"------------------\")\n",
    "    channel_flatten = np.copy(np.array(img_channel.flatten()))\n",
    "    \n",
    "    assert (len(channel_flatten) == image_size[0] * image_size[1])\n",
    "    \n",
    "    num_nonzero_img = np.count_nonzero(img_channel) # num pixels in 1 channel\n",
    "    pixels_to_modify = num_nonzero_img - median_number_of_pixels\n",
    "    \n",
    "    nonzero_pixels, zero_pixels = get_nonzero_zero_pixel_locations(channel_flatten, median_number_of_pixels)\n",
    "    \n",
    "    modified_channel_flatten = np.copy(channel_flatten)\n",
    "    print(pixels_to_modify)\n",
    "    \n",
    "    if pixels_to_modify > 0: # remove pixels\n",
    "        print('remove pixels')\n",
    "        num_pixels_remove = pixels_to_modify # should be positive\n",
    "        indexes = np.random.choice(len(nonzero_pixels), num_pixels_remove, replace=False)\n",
    "        remove_pixel_indexes = nonzero_pixels[indexes]\n",
    "        modified_channel_flatten[remove_pixel_indexes] = 0\n",
    "    \n",
    "    elif pixels_to_modify <= 0: # add pixels\n",
    "        print('add pixels')\n",
    "        # ok, for randomization. We'll have the image. \n",
    "        # We'll randomly choose a nonzero pixel and then duplicate it, storing that in another image (in a random location that is zero)\n",
    "        # Then continue choosing from the image. \n",
    "        # Should randomly even out because selection of nonzero pixels to duplicate should be proportional\n",
    "        \n",
    "        num_pixels_add = abs(pixels_to_modify)\n",
    "        nonzero_indexes = np.random.choice(len(nonzero_pixels), num_pixels_add, replace=False)\n",
    "        zero_indexes = np.random.choice(len(zero_pixels), num_pixels_add, replace=False)\n",
    "        \n",
    "        substituted_pixel_indexes = nonzero_pixels[nonzero_indexes]\n",
    "        zero_pixel_indexes = zero_pixels[zero_indexes]\n",
    "        \n",
    "        modified_channel_flatten[zero_pixel_indexes] = channel_flatten[substituted_pixel_indexes]\n",
    "    \n",
    "    reshapen_img = modified_channel_flatten.reshape(image_size)\n",
    "    \n",
    "    return reshapen_img  \n",
    "\n",
    "# this seems to all check out!!"
   ]
  },
  {
   "cell_type": "code",
   "execution_count": 5,
   "id": "d2ab99a4",
   "metadata": {},
   "outputs": [],
   "source": [
    "def randomly_distribute(img, skeleton, average_nonzero_pixels, median_number_of_pixels, brighten_sum, # can try with multiple brighten_sums\n",
    "                       none_thresh = 0, image_size = (224, 224)): # getting rid of the complete black\n",
    "    \n",
    "    # for number of pixels we use non_skeletonized full_set + train/test/val sets.\n",
    "    \n",
    "    # sticking with none_thresh = 0 for now, brightening everything except the background. \n",
    "    # could try some thresholding on which pixels we brighten, or thresholding by zeroing some pixels.\n",
    "    \n",
    "    # resize/skeletonize first, and then random distribution  \n",
    "    img, _ , modified_img = process_skeletonize(img, skeleton, image_size) # image size given\n",
    "    \n",
    "    # random distribution now \n",
    "    flattened_img = modified_img.flatten()\n",
    "    random_img = np.random.permutation(flattened_img)\n",
    "    modified_img2 = np.reshape(random_img, image_size)\n",
    "    \n",
    "    # averaging nonzero pixels\n",
    "    if average_nonzero_pixels:\n",
    "        print(np.count_nonzero(modified_img2))\n",
    "        value_dict = pd.value_counts(modified_img2.flatten())\n",
    "        \n",
    "        modified_img3 = average_pixel_count_random_images2(modified_img2, median_number_of_pixels)\n",
    "        \n",
    "        value_dict_modified = pd.value_counts(modified_img3.flatten())\n",
    "  \n",
    "    elif not average_nonzero_pixels:\n",
    "        modified_img3 = modified_img2\n",
    "        \n",
    "    # now for brightening code, will be brightening ALL pixels above 0/20? (above 0, brightening everything)\n",
    "    \n",
    "    modified_img4 = apply_threshold(modified_img3, 'add', none_thresh, brighten_sum, thresh_type = 'below') # yay default\n",
    "      \n",
    "    final_img = substitute_channels(img, modified_img3)\n",
    "\n",
    "    return final_img"
   ]
  },
  {
   "cell_type": "code",
   "execution_count": 6,
   "id": "2135bb08",
   "metadata": {},
   "outputs": [],
   "source": [
    "dataset_path = \"/users/riya/race/dataset/segmentations/\"\n",
    "img_path = \"30672.bmp\"\n",
    "\n",
    "channels = channeled_image_from_id(dataset_path, img_path, (480, 640))"
   ]
  },
  {
   "cell_type": "code",
   "execution_count": 9,
   "id": "a33b4d77",
   "metadata": {},
   "outputs": [
    {
     "name": "stdout",
     "output_type": "stream",
     "text": [
      "13954\n",
      "------------------\n",
      "-1046\n",
      "add pixels\n"
     ]
    }
   ],
   "source": [
    "final_img = randomly_distribute(channels, False, True, 15000, 0)"
   ]
  },
  {
   "cell_type": "code",
   "execution_count": 10,
   "id": "1e10b78e",
   "metadata": {},
   "outputs": [
    {
     "data": {
      "text/plain": [
       "45000"
      ]
     },
     "execution_count": 10,
     "metadata": {},
     "output_type": "execute_result"
    }
   ],
   "source": [
    "np.count_nonzero(final_img)"
   ]
  },
  {
   "cell_type": "code",
   "execution_count": null,
   "id": "a3b1d83d",
   "metadata": {},
   "outputs": [],
   "source": []
  },
  {
   "cell_type": "code",
   "execution_count": null,
   "id": "fc2026f1",
   "metadata": {},
   "outputs": [],
   "source": []
  },
  {
   "cell_type": "code",
   "execution_count": null,
   "id": "d0a3b3e9",
   "metadata": {},
   "outputs": [],
   "source": []
  },
  {
   "cell_type": "code",
   "execution_count": 8,
   "id": "1b29f2c8",
   "metadata": {},
   "outputs": [
    {
     "name": "stdout",
     "output_type": "stream",
     "text": [
      "13954\n",
      "------------------\n",
      "-1046\n",
      "add pixels\n"
     ]
    },
    {
     "ename": "TypeError",
     "evalue": "'Image' object is not iterable",
     "output_type": "error",
     "traceback": [
      "\u001b[0;31m---------------------------------------------------------------------------\u001b[0m",
      "\u001b[0;31mTypeError\u001b[0m                                 Traceback (most recent call last)",
      "\u001b[0;32m<ipython-input-8-af5d08622aa7>\u001b[0m in \u001b[0;36m<module>\u001b[0;34m\u001b[0m\n\u001b[0;32m----> 1\u001b[0;31m \u001b[0mfinal_img\u001b[0m\u001b[0;34m,\u001b[0m \u001b[0mvalue_dict\u001b[0m\u001b[0;34m,\u001b[0m \u001b[0mvalue_dict_modified\u001b[0m \u001b[0;34m=\u001b[0m \u001b[0mrandomly_distribute\u001b[0m\u001b[0;34m(\u001b[0m\u001b[0mchannels\u001b[0m\u001b[0;34m,\u001b[0m \u001b[0;32mFalse\u001b[0m\u001b[0;34m,\u001b[0m \u001b[0;32mTrue\u001b[0m\u001b[0;34m,\u001b[0m \u001b[0;36m15000\u001b[0m\u001b[0;34m,\u001b[0m \u001b[0;36m0\u001b[0m\u001b[0;34m)\u001b[0m\u001b[0;34m\u001b[0m\u001b[0;34m\u001b[0m\u001b[0m\n\u001b[0m",
      "\u001b[0;31mTypeError\u001b[0m: 'Image' object is not iterable"
     ]
    }
   ],
   "source": [
    "final_img, value_dict, value_dict_modified = randomly_distribute(channels, False, True, 15000, 0)"
   ]
  },
  {
   "cell_type": "code",
   "execution_count": 18,
   "id": "fa3bb943",
   "metadata": {},
   "outputs": [
    {
     "data": {
      "text/plain": [
       "15000"
      ]
     },
     "execution_count": 18,
     "metadata": {},
     "output_type": "execute_result"
    }
   ],
   "source": [
    "np.count_nonzero(final_img)"
   ]
  },
  {
   "cell_type": "code",
   "execution_count": 15,
   "id": "7e7aa7c3",
   "metadata": {},
   "outputs": [
    {
     "ename": "NameError",
     "evalue": "name 'value_dict' is not defined",
     "output_type": "error",
     "traceback": [
      "\u001b[0;31m---------------------------------------------------------------------------\u001b[0m",
      "\u001b[0;31mNameError\u001b[0m                                 Traceback (most recent call last)",
      "\u001b[0;32m<ipython-input-15-56ef7feabbc4>\u001b[0m in \u001b[0;36m<module>\u001b[0;34m\u001b[0m\n\u001b[0;32m----> 1\u001b[0;31m \u001b[0mvalue_dict\u001b[0m\u001b[0;34m\u001b[0m\u001b[0;34m\u001b[0m\u001b[0m\n\u001b[0m",
      "\u001b[0;31mNameError\u001b[0m: name 'value_dict' is not defined"
     ]
    }
   ],
   "source": [
    "value_dict"
   ]
  },
  {
   "cell_type": "code",
   "execution_count": 20,
   "id": "19098030",
   "metadata": {},
   "outputs": [
    {
     "data": {
      "text/plain": [
       "0      35176\n",
       "1       4524\n",
       "2       1729\n",
       "3       1099\n",
       "4        724\n",
       "       ...  \n",
       "231        3\n",
       "111        2\n",
       "237        1\n",
       "238        1\n",
       "164        1\n",
       "Length: 233, dtype: int64"
      ]
     },
     "execution_count": 20,
     "metadata": {},
     "output_type": "execute_result"
    }
   ],
   "source": [
    "value_dict_modified"
   ]
  },
  {
   "cell_type": "code",
   "execution_count": 14,
   "id": "8f952758",
   "metadata": {},
   "outputs": [
    {
     "data": {
      "text/plain": [
       "<matplotlib.image.AxesImage at 0x7f0aca8068d0>"
      ]
     },
     "execution_count": 14,
     "metadata": {},
     "output_type": "execute_result"
    },
    {
     "data": {
      "image/png": "[encoded data removed]",
      "text/plain": [
       "<Figure size 432x288 with 1 Axes>"
      ]
     },
     "metadata": {
      "needs_background": "light"
     },
     "output_type": "display_data"
    }
   ],
   "source": [
    "plt.imshow(final_img, cmap = 'gray')"
   ]
  },
  {
   "cell_type": "code",
   "execution_count": 47,
   "id": "43325cdf",
   "metadata": {},
   "outputs": [
    {
     "data": {
      "text/plain": [
       "{}"
      ]
     },
     "execution_count": 47,
     "metadata": {},
     "output_type": "execute_result"
    }
   ],
   "source": [
    "value_dict"
   ]
  },
  {
   "cell_type": "code",
   "execution_count": null,
   "id": "88b66636",
   "metadata": {},
   "outputs": [],
   "source": []
  },
  {
   "cell_type": "code",
   "execution_count": null,
   "id": "d2880b21",
   "metadata": {},
   "outputs": [],
   "source": [
    "def visualize_random_images(img_id, brighten_sums, median_number_of_pixels, skeleton, average_nonzero_pixels): \n",
    "    \n",
    "    num_images = len(brighten_sums)\n",
    "    \n",
    "    img = np.array(Image.open(f\"/users/riya/race/dataset/segmentations/{img_id}.bmp\"))\n",
    "    img = np.repeat(img[:, :, np.newaxis], 3, axis=2).reshape((480,640,3))\n",
    "        \n",
    "    for i in range(num_images):\n",
    "        visualize_image = randomly_distribute(img, skeleton, average_nonzero_pixels, median_number_of_pixels, brighten_sums[i])\n",
    "        \n",
    "        # bad code here\n",
    "        print('brightened by, ',brighten_sums[i])\n",
    "        plt.imshow(visualize_image, interpolation = 'nearest')\n",
    "        plt.gcf().set_size_inches(8,8)\n",
    "        plt.show()"
   ]
  },
  {
   "cell_type": "code",
   "execution_count": null,
   "id": "6de0a5fe",
   "metadata": {},
   "outputs": [],
   "source": [
    "number_of_pixels = 11170 # median is 11170.5\n",
    "\n",
    "brighten_sums_arr = [0, 20, 40, 60, 80, 100, 120]\n",
    "visualize_random_images(18168, brighten_sums_arr, number_of_pixels, False, True)"
   ]
  }
 ],
 "metadata": {
  "kernelspec": {
   "display_name": "Python 3",
   "language": "python",
   "name": "python3"
  },
  "language_info": {
   "codemirror_mode": {
    "name": "ipython",
    "version": 3
   },
   "file_extension": ".py",
   "mimetype": "text/x-python",
   "name": "python",
   "nbconvert_exporter": "python",
   "pygments_lexer": "ipython3",
   "version": "3.6.9"
  }
 },
 "nbformat": 4,
 "nbformat_minor": 5
}

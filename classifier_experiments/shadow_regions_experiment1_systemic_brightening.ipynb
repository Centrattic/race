{
 "cells": [
  {
   "cell_type": "code",
   "execution_count": 1,
   "id": "dc3f439e",
   "metadata": {},
   "outputs": [],
   "source": [
    "import os\n",
    "import shutil\n",
    "import re\n",
    "\n",
    "import pandas as pd\n",
    "import tempfile\n",
    "import matplotlib.pyplot as plt\n",
    "import matplotlib.pylab as pylab\n",
    "\n",
    "import numpy as np\n",
    "import PIL\n",
    "from PIL import Image, ImageChops, ImageDraw\n",
    "\n",
    "from skorch import NeuralNetClassifier\n",
    "from skorch.callbacks import LRScheduler, Checkpoint, EpochScoring, EarlyStopping\n",
    "from skorch.dataset import Dataset\n",
    "from skorch.helper import predefined_split\n",
    "import torch\n",
    "import torch.nn as nn\n",
    "import torch.optim as optim\n",
    "from torchvision import datasets, models, transforms\n",
    "from sklearn.model_selection import train_test_split\n",
    "from sklearn.metrics import roc_auc_score, roc_curve\n",
    "\n",
    "from pathlib import Path\n",
    "\n",
    "import tensorflow as tf\n",
    "from tensorflow import keras\n",
    "import matplotlib.patches as patches\n",
    "\n",
    "from tqdm import tqdm\n",
    "from utils import systemic_brightening, PretrainedModel\n",
    "import warnings"
   ]
  },
  {
   "cell_type": "code",
   "execution_count": null,
   "id": "788dc1b7",
   "metadata": {},
   "outputs": [],
   "source": [
    "# set directory\n",
    "os.chdir(\"/users/riya/race/classifier_experiments\")\n",
    "\n",
    "# ignore warnings\n",
    "warnings.filterwarnings(\"ignore\")\n",
    "\n",
    "# import model\n",
    "segmentation_classifier = keras.models.load_model('models/MIMIC-256x25680-20-split-resnet-Float16_2-race_detection_rop_seg_data_rop_seg-0.001_20220321-054140_epoch:011.hdf5')"
   ]
  },
  {
   "cell_type": "markdown",
   "id": "dff975a7",
   "metadata": {
    "heading_collapsed": true
   },
   "source": [
    "### Test Model Loading"
   ]
  },
  {
   "cell_type": "code",
   "execution_count": 71,
   "id": "abc8fd14",
   "metadata": {
    "hidden": true
   },
   "outputs": [],
   "source": [
    "model_path = 'outputs/checkpoints/model_original_epoch50.pt'"
   ]
  },
  {
   "cell_type": "code",
   "execution_count": 72,
   "id": "ab31d1af",
   "metadata": {
    "hidden": true
   },
   "outputs": [],
   "source": [
    "model = PretrainedModel(2)"
   ]
  },
  {
   "cell_type": "code",
   "execution_count": 73,
   "id": "c85a39e4",
   "metadata": {
    "hidden": true
   },
   "outputs": [
    {
     "data": {
      "text/plain": [
       "<All keys matched successfully>"
      ]
     },
     "execution_count": 73,
     "metadata": {},
     "output_type": "execute_result"
    }
   ],
   "source": [
    "model.load_state_dict(torch.load(model_path))"
   ]
  },
  {
   "cell_type": "code",
   "execution_count": 77,
   "id": "d13ba970",
   "metadata": {
    "hidden": true
   },
   "outputs": [],
   "source": [
    "net = NeuralNetClassifier(model, criterion=nn.CrossEntropyLoss)"
   ]
  },
  {
   "cell_type": "code",
   "execution_count": 80,
   "id": "8bcada05",
   "metadata": {
    "hidden": true
   },
   "outputs": [
    {
     "ename": "TypeError",
     "evalue": "predict_proba() missing 1 required positional argument: 'X'",
     "output_type": "error",
     "traceback": [
      "\u001b[0;31m---------------------------------------------------------------------------\u001b[0m",
      "\u001b[0;31mTypeError\u001b[0m                                 Traceback (most recent call last)",
      "\u001b[0;32m<ipython-input-80-c59768328ee5>\u001b[0m in \u001b[0;36m<module>\u001b[0;34m\u001b[0m\n\u001b[0;32m----> 1\u001b[0;31m \u001b[0mnet\u001b[0m\u001b[0;34m.\u001b[0m\u001b[0mpredict_proba\u001b[0m\u001b[0;34m(\u001b[0m\u001b[0;34m)\u001b[0m\u001b[0;34m\u001b[0m\u001b[0;34m\u001b[0m\u001b[0m\n\u001b[0m",
      "\u001b[0;31mTypeError\u001b[0m: predict_proba() missing 1 required positional argument: 'X'"
     ]
    }
   ],
   "source": [
    "net.predict_proba()"
   ]
  },
  {
   "cell_type": "markdown",
   "id": "1cb355ce",
   "metadata": {
    "heading_collapsed": true
   },
   "source": [
    "### Tensorflow Inference"
   ]
  },
  {
   "cell_type": "code",
   "execution_count": 19,
   "id": "a5753efb",
   "metadata": {
    "hidden": true
   },
   "outputs": [],
   "source": [
    "def image_from_id(img_path, path_name):\n",
    "    arr = np.array(Image.open(img_path + path_name))\n",
    "    resized = cv2.resize(arr, (256,256))\n",
    "    channels = np.repeat(resized[:, :, np.newaxis], 3, axis=2).reshape((256,256,3))\n",
    "    \n",
    "    return channels"
   ]
  },
  {
   "cell_type": "code",
   "execution_count": 20,
   "id": "9be09692",
   "metadata": {
    "hidden": true
   },
   "outputs": [],
   "source": [
    "def get_race_from_id(img_id, race_csv_path):\n",
    "\n",
    "    race_data = pd.read_csv(race_csv_path)\n",
    "    img_row = race_data.loc[race_data['image_id'] == int(img_id)] # they both must be ints\n",
    "    img_row = img_row.reset_index(drop=True) # for .at to work\n",
    "    img_race = img_row.at[0,'race']\n",
    "    \n",
    "    return img_race    "
   ]
  },
  {
   "cell_type": "code",
   "execution_count": 5,
   "id": "c95c05f4",
   "metadata": {
    "hidden": true
   },
   "outputs": [],
   "source": [
    "# run through classifier\n",
    "\n",
    "@jit         \n",
    "def predict_on_images(img_path, preds_df, colname,\n",
    "                     skeleton, thresh_type, intensity_change, brighten_sum,\n",
    "                     csv_name = \"brightened_predictions\", \n",
    "                     preds_path = \"/users/riya/race/classifier_experiments/predictions/experiment1_plus_systemic_brightening/\", \n",
    "                     race_csv_path = \"/users/riya/race/csv/image_race_data.csv\"): \n",
    "    \n",
    "    img_files = os.listdir(img_path)\n",
    "    num_images = len(img_files)\n",
    "    \n",
    "    print(num_images) # fine, 4546\n",
    "    \n",
    "    id_arr = [0] * num_images\n",
    "    race_arr = [0] * num_images\n",
    "    # img_arr = np.zeros((num_images, 256, 256, 3))\n",
    "    \n",
    "    preds_arr = [0] * num_images\n",
    "    \n",
    "    for i in tqdm(range(num_images)): # add tqdm back later\n",
    "        channels = image_from_id(img_path, img_files[i])\n",
    "        modified_img = systemic_brightening(channels, skeleton, thresh_type, intensity_change, brighten_sum,\n",
    "                                           image_size = (256, 256))\n",
    "        modified_img = np.array(modified_img).reshape((1,256,256,3)) # np reshape, bc substitute? \n",
    "        modified_img = modified_img.astype(np.uint8)\n",
    "        \n",
    "        proba = segmentation_classifier(modified_img)        \n",
    "        preds_arr[i] = proba.numpy()[0,1] # returning white prediction\n",
    "        \n",
    "        # img_arr[i] = modified_img.astype(np.uint8) # uint8\n",
    "                       \n",
    "        # getting id     \n",
    "        img_id = re.findall(r'\\d+', img_files[i])[0] # only one number\n",
    "        id_arr[i] = int(img_id) # be sure it's int\n",
    "    \n",
    "\n",
    "        # getting race\n",
    "        img_race = get_race_from_id(img_id, race_csv_path)\n",
    "        race_arr[i] = img_race\n",
    "    \n",
    "    preds_df['id'] = id_arr\n",
    "    preds_df['race'] = race_arr\n",
    "    preds_df[colname] = preds_arr      \n",
    "    \n",
    "    preds_df.to_csv(preds_path + csv_name + \".csv\")\n"
   ]
  },
  {
   "cell_type": "code",
   "execution_count": 6,
   "id": "4253ad79",
   "metadata": {
    "hidden": true
   },
   "outputs": [],
   "source": [
    "all_predictions = pd.DataFrame(columns = ['id', '30', '60', '90', '120', '150']) # from id I can get race\n",
    "\n",
    "dataset_path = \"/users/riya/race/dataset/segmentations/\""
   ]
  },
  {
   "cell_type": "code",
   "execution_count": 7,
   "id": "bc8606b6",
   "metadata": {
    "hidden": true
   },
   "outputs": [
    {
     "name": "stdout",
     "output_type": "stream",
     "text": [
      "4546\n"
     ]
    },
    {
     "name": "stderr",
     "output_type": "stream",
     "text": [
      "100%|██████████| 4546/4546 [32:36<00:00,  2.32it/s]\n"
     ]
    }
   ],
   "source": [
    "predict_on_images(dataset_path, all_predictions, '30', False, 'below', 'brighten', 30)"
   ]
  },
  {
   "cell_type": "code",
   "execution_count": 8,
   "id": "9f77ebe9",
   "metadata": {
    "hidden": true
   },
   "outputs": [],
   "source": [
    "bright_preds = pd.read_csv(\"/users/riya/race/classifier_experiments/predictions/experiment1_plus_systemic_brightening/\" \n",
    "                           + \"brightened_predictions.csv\", usecols = ['id', 'race','30', '60', '90', '120', '150'])"
   ]
  },
  {
   "cell_type": "code",
   "execution_count": 9,
   "id": "2fda45cb",
   "metadata": {
    "hidden": true
   },
   "outputs": [
    {
     "data": {
      "text/html": [
       "<div>\n",
       "<style scoped>\n",
       "    .dataframe tbody tr th:only-of-type {\n",
       "        vertical-align: middle;\n",
       "    }\n",
       "\n",
       "    .dataframe tbody tr th {\n",
       "        vertical-align: top;\n",
       "    }\n",
       "\n",
       "    .dataframe thead th {\n",
       "        text-align: right;\n",
       "    }\n",
       "</style>\n",
       "<table border=\"1\" class=\"dataframe\">\n",
       "  <thead>\n",
       "    <tr style=\"text-align: right;\">\n",
       "      <th></th>\n",
       "      <th>id</th>\n",
       "      <th>30</th>\n",
       "      <th>60</th>\n",
       "      <th>90</th>\n",
       "      <th>120</th>\n",
       "      <th>150</th>\n",
       "      <th>race</th>\n",
       "    </tr>\n",
       "  </thead>\n",
       "  <tbody>\n",
       "    <tr>\n",
       "      <th>0</th>\n",
       "      <td>101934</td>\n",
       "      <td>0.156814</td>\n",
       "      <td>NaN</td>\n",
       "      <td>NaN</td>\n",
       "      <td>NaN</td>\n",
       "      <td>NaN</td>\n",
       "      <td>black</td>\n",
       "    </tr>\n",
       "    <tr>\n",
       "      <th>1</th>\n",
       "      <td>82379</td>\n",
       "      <td>0.014365</td>\n",
       "      <td>NaN</td>\n",
       "      <td>NaN</td>\n",
       "      <td>NaN</td>\n",
       "      <td>NaN</td>\n",
       "      <td>white</td>\n",
       "    </tr>\n",
       "    <tr>\n",
       "      <th>2</th>\n",
       "      <td>87427</td>\n",
       "      <td>0.000071</td>\n",
       "      <td>NaN</td>\n",
       "      <td>NaN</td>\n",
       "      <td>NaN</td>\n",
       "      <td>NaN</td>\n",
       "      <td>black</td>\n",
       "    </tr>\n",
       "    <tr>\n",
       "      <th>3</th>\n",
       "      <td>49236</td>\n",
       "      <td>0.000039</td>\n",
       "      <td>NaN</td>\n",
       "      <td>NaN</td>\n",
       "      <td>NaN</td>\n",
       "      <td>NaN</td>\n",
       "      <td>black</td>\n",
       "    </tr>\n",
       "    <tr>\n",
       "      <th>4</th>\n",
       "      <td>45251</td>\n",
       "      <td>0.001444</td>\n",
       "      <td>NaN</td>\n",
       "      <td>NaN</td>\n",
       "      <td>NaN</td>\n",
       "      <td>NaN</td>\n",
       "      <td>black</td>\n",
       "    </tr>\n",
       "    <tr>\n",
       "      <th>...</th>\n",
       "      <td>...</td>\n",
       "      <td>...</td>\n",
       "      <td>...</td>\n",
       "      <td>...</td>\n",
       "      <td>...</td>\n",
       "      <td>...</td>\n",
       "      <td>...</td>\n",
       "    </tr>\n",
       "    <tr>\n",
       "      <th>4541</th>\n",
       "      <td>92793</td>\n",
       "      <td>0.000316</td>\n",
       "      <td>NaN</td>\n",
       "      <td>NaN</td>\n",
       "      <td>NaN</td>\n",
       "      <td>NaN</td>\n",
       "      <td>black</td>\n",
       "    </tr>\n",
       "    <tr>\n",
       "      <th>4542</th>\n",
       "      <td>31340</td>\n",
       "      <td>0.000316</td>\n",
       "      <td>NaN</td>\n",
       "      <td>NaN</td>\n",
       "      <td>NaN</td>\n",
       "      <td>NaN</td>\n",
       "      <td>black</td>\n",
       "    </tr>\n",
       "    <tr>\n",
       "      <th>4543</th>\n",
       "      <td>99058</td>\n",
       "      <td>0.000316</td>\n",
       "      <td>NaN</td>\n",
       "      <td>NaN</td>\n",
       "      <td>NaN</td>\n",
       "      <td>NaN</td>\n",
       "      <td>black</td>\n",
       "    </tr>\n",
       "    <tr>\n",
       "      <th>4544</th>\n",
       "      <td>33415</td>\n",
       "      <td>0.000316</td>\n",
       "      <td>NaN</td>\n",
       "      <td>NaN</td>\n",
       "      <td>NaN</td>\n",
       "      <td>NaN</td>\n",
       "      <td>white</td>\n",
       "    </tr>\n",
       "    <tr>\n",
       "      <th>4545</th>\n",
       "      <td>82914</td>\n",
       "      <td>0.000316</td>\n",
       "      <td>NaN</td>\n",
       "      <td>NaN</td>\n",
       "      <td>NaN</td>\n",
       "      <td>NaN</td>\n",
       "      <td>white</td>\n",
       "    </tr>\n",
       "  </tbody>\n",
       "</table>\n",
       "<p>4546 rows × 7 columns</p>\n",
       "</div>"
      ],
      "text/plain": [
       "          id        30  60  90  120  150   race\n",
       "0     101934  0.156814 NaN NaN  NaN  NaN  black\n",
       "1      82379  0.014365 NaN NaN  NaN  NaN  white\n",
       "2      87427  0.000071 NaN NaN  NaN  NaN  black\n",
       "3      49236  0.000039 NaN NaN  NaN  NaN  black\n",
       "4      45251  0.001444 NaN NaN  NaN  NaN  black\n",
       "...      ...       ...  ..  ..  ...  ...    ...\n",
       "4541   92793  0.000316 NaN NaN  NaN  NaN  black\n",
       "4542   31340  0.000316 NaN NaN  NaN  NaN  black\n",
       "4543   99058  0.000316 NaN NaN  NaN  NaN  black\n",
       "4544   33415  0.000316 NaN NaN  NaN  NaN  white\n",
       "4545   82914  0.000316 NaN NaN  NaN  NaN  white\n",
       "\n",
       "[4546 rows x 7 columns]"
      ]
     },
     "execution_count": 9,
     "metadata": {},
     "output_type": "execute_result"
    }
   ],
   "source": [
    "bright_preds"
   ]
  },
  {
   "cell_type": "code",
   "execution_count": null,
   "id": "caed9a77",
   "metadata": {
    "hidden": true
   },
   "outputs": [],
   "source": []
  },
  {
   "cell_type": "code",
   "execution_count": 9,
   "id": "913aaad7",
   "metadata": {
    "hidden": true,
    "scrolled": false
   },
   "outputs": [
    {
     "name": "stderr",
     "output_type": "stream",
     "text": [
      "100%|██████████| 4546/4546 [15:15<00:00,  4.96it/s]\n",
      "100%|██████████| 4546/4546 [12:36<00:00,  6.01it/s]\n",
      "100%|██████████| 4546/4546 [12:40<00:00,  5.98it/s]\n",
      "100%|██████████| 4546/4546 [12:44<00:00,  5.95it/s]\n",
      "100%|██████████| 4546/4546 [12:46<00:00,  5.93it/s]\n"
     ]
    }
   ],
   "source": [
    "predict_on_images(dataset_path, all_predictions, '30', False, 'below', 'brighten', 30)\n",
    "predict_on_images(dataset_path, all_predictions, '60', False, 'below', 'brighten', 60)\n",
    "predict_on_images(dataset_path, all_predictions, '90', False, 'below', 'brighten', 90)\n",
    "predict_on_images(dataset_path, all_predictions, '120', False, 'below', 'brighten', 120)         \n",
    "predict_on_images(dataset_path, all_predictions, '150', False, 'below', 'brighten', 150)     "
   ]
  },
  {
   "cell_type": "code",
   "execution_count": 10,
   "id": "afdf25a2",
   "metadata": {
    "hidden": true
   },
   "outputs": [
    {
     "name": "stderr",
     "output_type": "stream",
     "text": [
      "100%|██████████| 4546/4546 [12:37<00:00,  6.00it/s]\n",
      "100%|██████████| 4546/4546 [12:42<00:00,  5.96it/s]\n",
      "100%|██████████| 4546/4546 [12:40<00:00,  5.98it/s]\n",
      "100%|██████████| 4546/4546 [12:49<00:00,  5.91it/s]\n",
      "100%|██████████| 4546/4546 [12:52<00:00,  5.89it/s]\n"
     ]
    }
   ],
   "source": [
    "predict_on_images(dataset_path, all_predictions, '30', False, 'below', 'dull', 30, csv_name = \"dulled_predictions\")\n",
    "predict_on_images(dataset_path, all_predictions, '60', False, 'below', 'dull', 60, csv_name = \"dulled_predictions\")\n",
    "predict_on_images(dataset_path, all_predictions, '90', False, 'below', 'dull', 90, csv_name = \"dulled_predictions\")\n",
    "predict_on_images(dataset_path, all_predictions, '120', False, 'below', 'dull', 120, csv_name = \"dulled_predictions\")         \n",
    "predict_on_images(dataset_path, all_predictions, '150', False, 'below', 'dull', 150, csv_name = \"dulled_predictions\")                          "
   ]
  },
  {
   "cell_type": "code",
   "execution_count": 11,
   "id": "dfba603c",
   "metadata": {
    "hidden": true
   },
   "outputs": [
    {
     "name": "stdout",
     "output_type": "stream",
     "text": [
      "5\n"
     ]
    }
   ],
   "source": []
  },
  {
   "cell_type": "code",
   "execution_count": null,
   "id": "a860a722",
   "metadata": {
    "hidden": true
   },
   "outputs": [],
   "source": []
  },
  {
   "cell_type": "code",
   "execution_count": null,
   "id": "993a4e20",
   "metadata": {
    "hidden": true
   },
   "outputs": [],
   "source": []
  },
  {
   "cell_type": "markdown",
   "id": "d50d72c6",
   "metadata": {},
   "source": [
    "## Pytorch Inference"
   ]
  },
  {
   "cell_type": "code",
   "execution_count": 43,
   "id": "90f24be2",
   "metadata": {},
   "outputs": [],
   "source": []
  },
  {
   "cell_type": "code",
   "execution_count": 64,
   "id": "0746719e",
   "metadata": {},
   "outputs": [],
   "source": [
    "def generate_dataset():\n",
    "    csv_path = \"/users/riya/race/csv/image_race_data.csv\" \n",
    "    data_path = \"/users/riya/race/dataset/segmentations/\" # inference on segmentation images\n",
    "    save_path = \"/users/riya/race/classifier_experiments/dataset/experiment1_plus_systemic_brightening/test/\" \n",
    "    \n",
    "    files = os.listdir(data_path)\n",
    "    for i in range(len(files)):\n",
    "        img_id = os.path.splitext(files[i])[0]\n",
    "        img_race = get_race_from_id(img_id, csv_path)\n",
    "     \n",
    "        img = Image.open(data_path + img_id + \".bmp\")\n",
    "        \n",
    "        if img_race == 'black':\n",
    "            img.save(save_path + \"black/\" + img_id + \".bmp\") \n",
    "        if img_race == 'white':\n",
    "            img.save(save_path + \"white/\" + img_id + \".bmp\") \n",
    "        "
   ]
  },
  {
   "cell_type": "code",
   "execution_count": 65,
   "id": "dfbb4aad",
   "metadata": {},
   "outputs": [],
   "source": [
    "generate_dataset()"
   ]
  },
  {
   "cell_type": "code",
   "execution_count": 4,
   "id": "7a2cbceb",
   "metadata": {},
   "outputs": [
    {
     "data": {
      "text/plain": [
       "2837"
      ]
     },
     "execution_count": 4,
     "metadata": {},
     "output_type": "execute_result"
    }
   ],
   "source": [
    "save_path = \"/users/riya/race/classifier_experiments/dataset/experiment1_plus_systemic_brightening/test/white\" \n",
    "len(os.listdir(save_path))"
   ]
  },
  {
   "cell_type": "code",
   "execution_count": 5,
   "id": "91bb37c0",
   "metadata": {},
   "outputs": [
    {
     "data": {
      "text/plain": [
       "4546"
      ]
     },
     "execution_count": 5,
     "metadata": {},
     "output_type": "execute_result"
    }
   ],
   "source": [
    "1709 + 2837 # good"
   ]
  },
  {
   "cell_type": "code",
   "execution_count": 12,
   "id": "8bb6c972",
   "metadata": {},
   "outputs": [
    {
     "name": "stdout",
     "output_type": "stream",
     "text": [
      "/users/riya/race/classifier_experiments/CNN_train\r\n"
     ]
    }
   ],
   "source": [
    "!pwd"
   ]
  },
  {
   "cell_type": "code",
   "execution_count": 14,
   "id": "ec712fa1",
   "metadata": {},
   "outputs": [
    {
     "name": "stdout",
     "output_type": "stream",
     "text": [
      "brightened_preds_tensorflow.csv  original_model  skeleton_model_skeleton_images\r\n",
      "incorrect\t\t\t skeleton_model\r\n"
     ]
    }
   ],
   "source": [
    "!ls ../predictions/experiment1_plus_systemic_brightening"
   ]
  },
  {
   "cell_type": "markdown",
   "id": "eb4ab365",
   "metadata": {},
   "source": [
    "### Performing Inference"
   ]
  },
  {
   "cell_type": "code",
   "execution_count": 29,
   "id": "389db8df",
   "metadata": {},
   "outputs": [],
   "source": [
    "def test(data_dir, thresh_type, intensity_change, brighten_sum, experiment_name, model_path,\n",
    "         skeleton=False, none_thresh = 20, num_classes = 2, image_size = (224, 224)):\n",
    "    \n",
    "    os.chdir(\"/users/riya/race/classifier_experiments/CNN_train/\")\n",
    "    warnings.filterwarnings('ignore')\n",
    "    \n",
    "    race_data_path = \"/users/riya/race/csv/image_race_data.csv\"\n",
    "\n",
    "    device = torch.device(\"cuda:1\" if torch.cuda.is_available() else \"cpu\")\n",
    "    if device == 'cuda:1':\n",
    "        torch.cuda.empty_cache()\n",
    "    \n",
    "    csv_name = f'../predictions/experiment1_plus_systemic_brightening/{experiment_name}/' + str(intensity_change) + '_by_' + str(brighten_sum) + '.csv'\n",
    "    \n",
    "    print(csv_name)\n",
    "    \n",
    "    test_transforms = transforms.Compose([transforms.Lambda(lambda img: systemic_brightening\n",
    "                                                            (img, skeleton, thresh_type, intensity_change, brighten_sum)),\n",
    "                                          # transforms.Resize(image_size),\n",
    "                                          transforms.ToTensor(),\n",
    "                                          transforms.Normalize([0.5, 0.5, 0.5],\n",
    "                                                               [0.5, 0.5, 0.5])])\n",
    "    \n",
    "    test_folder = os.path.join(data_dir, 'test')\n",
    "    test_dataset = datasets.ImageFolder(test_folder, test_transforms)    \n",
    "    \n",
    "    # Pytorch load model\n",
    "    model = PretrainedModel(num_classes)\n",
    "    model.load_state_dict(torch.load(model_path))\n",
    "    \n",
    "    # load into Skorch\n",
    "    net = NeuralNetClassifier(model, \n",
    "                              criterion=nn.CrossEntropyLoss,\n",
    "                              device=device)\n",
    "    \n",
    "    net.initialize() # bc I am not using net.fit (training the model)\n",
    "    \n",
    "    print (\"Model Loaded + Initialized\", model_path)\n",
    "    \n",
    "    img_locs = [loc for loc, _ in test_dataset.samples]\n",
    "    # img_ids = [re.findall(r'\\d+', loc)[1] for loc in img_locs] # instantaneous basically\n",
    "    \n",
    "    #print(img_ids)\n",
    "    \n",
    "    # img_race = [get_race_from_id(img_id, race_data_path) for img_id in img_ids]\n",
    "    \n",
    "    # print(img_race)\n",
    "    print(\"Number of Images: \" + str(len(img_locs)))\n",
    "    \n",
    "    print (\"Starting Predictions\")\n",
    "    \n",
    "    test_probs = net.predict_proba(test_dataset)\n",
    "    \n",
    "    print (\"Predictions Done\")\n",
    "    test_probs = [prob[1] for prob in test_probs] # probability of being white, so should the prob of wrong class in my outputs\n",
    "    # data = {'img_id' : img_ids, 'race': img_race, 'probability_' + str(brighten_sum) : test_probs}\n",
    "    data = {'img_loc' : img_locs, 'probability' : test_probs}\n",
    "    pd.DataFrame(data=data).to_csv(csv_name, index=False)\n",
    "    \n",
    "    print (\"Code Done\")"
   ]
  },
  {
   "cell_type": "code",
   "execution_count": null,
   "id": "36eace18",
   "metadata": {},
   "outputs": [],
   "source": []
  },
  {
   "cell_type": "markdown",
   "id": "3d1d1d33",
   "metadata": {
    "heading_collapsed": true
   },
   "source": [
    "### Skeleton Model Skeleton Images"
   ]
  },
  {
   "cell_type": "code",
   "execution_count": null,
   "id": "233fc288",
   "metadata": {
    "hidden": true
   },
   "outputs": [],
   "source": []
  },
  {
   "cell_type": "code",
   "execution_count": 16,
   "id": "c439cdae",
   "metadata": {
    "hidden": true
   },
   "outputs": [],
   "source": [
    "experiment_name = 'skeleton_model_skeleton_images' # change depending on experiment\n",
    "data_dir = \"../dataset/experiment1_plus_systemic_brightening/\"\n",
    "model_path = 'outputs/checkpoints/model_skeletonized_epoch50.pt'"
   ]
  },
  {
   "cell_type": "code",
   "execution_count": 17,
   "id": "2434d23f",
   "metadata": {
    "hidden": true
   },
   "outputs": [
    {
     "name": "stdout",
     "output_type": "stream",
     "text": [
      "../predictions/experiment1_plus_systemic_brightening/skeleton_model_skeleton_images/brighten_by_0.csv\n"
     ]
    },
    {
     "name": "stderr",
     "output_type": "stream",
     "text": [
      "  0%|          | 8/4546 [00:00<01:04, 70.09it/s]"
     ]
    },
    {
     "name": "stdout",
     "output_type": "stream",
     "text": [
      "Model Loaded + Initialized outputs/checkpoints/model_skeletonized_epoch50.pt\n"
     ]
    },
    {
     "name": "stderr",
     "output_type": "stream",
     "text": [
      "100%|██████████| 4546/4546 [01:10<00:00, 64.30it/s]\n"
     ]
    },
    {
     "name": "stdout",
     "output_type": "stream",
     "text": [
      "Number of Images: 4546\n",
      "Starting Predictions\n",
      "Predictions Done\n",
      "Code Done\n",
      "../predictions/experiment1_plus_systemic_brightening/skeleton_model_skeleton_images/brighten_by_30.csv\n"
     ]
    },
    {
     "name": "stderr",
     "output_type": "stream",
     "text": [
      "  0%|          | 7/4546 [00:00<01:12, 62.40it/s]"
     ]
    },
    {
     "name": "stdout",
     "output_type": "stream",
     "text": [
      "Model Loaded + Initialized outputs/checkpoints/model_skeletonized_epoch50.pt\n"
     ]
    },
    {
     "name": "stderr",
     "output_type": "stream",
     "text": [
      "100%|██████████| 4546/4546 [01:08<00:00, 66.70it/s]\n"
     ]
    },
    {
     "name": "stdout",
     "output_type": "stream",
     "text": [
      "Number of Images: 4546\n",
      "Starting Predictions\n",
      "Predictions Done\n",
      "Code Done\n",
      "../predictions/experiment1_plus_systemic_brightening/skeleton_model_skeleton_images/brighten_by_60.csv\n"
     ]
    },
    {
     "name": "stderr",
     "output_type": "stream",
     "text": [
      "  0%|          | 7/4546 [00:00<01:08, 66.37it/s]"
     ]
    },
    {
     "name": "stdout",
     "output_type": "stream",
     "text": [
      "Model Loaded + Initialized outputs/checkpoints/model_skeletonized_epoch50.pt\n"
     ]
    },
    {
     "name": "stderr",
     "output_type": "stream",
     "text": [
      "100%|██████████| 4546/4546 [01:08<00:00, 65.94it/s]\n"
     ]
    },
    {
     "name": "stdout",
     "output_type": "stream",
     "text": [
      "Number of Images: 4546\n",
      "Starting Predictions\n",
      "Predictions Done\n",
      "Code Done\n",
      "../predictions/experiment1_plus_systemic_brightening/skeleton_model_skeleton_images/brighten_by_90.csv\n"
     ]
    },
    {
     "name": "stderr",
     "output_type": "stream",
     "text": [
      "  0%|          | 8/4546 [00:00<01:03, 71.18it/s]"
     ]
    },
    {
     "name": "stdout",
     "output_type": "stream",
     "text": [
      "Model Loaded + Initialized outputs/checkpoints/model_skeletonized_epoch50.pt\n"
     ]
    },
    {
     "name": "stderr",
     "output_type": "stream",
     "text": [
      "100%|██████████| 4546/4546 [01:07<00:00, 67.06it/s]\n"
     ]
    },
    {
     "name": "stdout",
     "output_type": "stream",
     "text": [
      "Number of Images: 4546\n",
      "Starting Predictions\n",
      "Predictions Done\n",
      "Code Done\n",
      "../predictions/experiment1_plus_systemic_brightening/skeleton_model_skeleton_images/brighten_by_120.csv\n"
     ]
    },
    {
     "name": "stderr",
     "output_type": "stream",
     "text": [
      "  0%|          | 6/4546 [00:00<01:19, 57.17it/s]"
     ]
    },
    {
     "name": "stdout",
     "output_type": "stream",
     "text": [
      "Model Loaded + Initialized outputs/checkpoints/model_skeletonized_epoch50.pt\n"
     ]
    },
    {
     "name": "stderr",
     "output_type": "stream",
     "text": [
      "100%|██████████| 4546/4546 [01:10<00:00, 64.49it/s]\n"
     ]
    },
    {
     "name": "stdout",
     "output_type": "stream",
     "text": [
      "Number of Images: 4546\n",
      "Starting Predictions\n",
      "Predictions Done\n",
      "Code Done\n",
      "../predictions/experiment1_plus_systemic_brightening/skeleton_model_skeleton_images/brighten_by_150.csv\n"
     ]
    },
    {
     "name": "stderr",
     "output_type": "stream",
     "text": [
      "  0%|          | 7/4546 [00:00<01:05, 68.78it/s]"
     ]
    },
    {
     "name": "stdout",
     "output_type": "stream",
     "text": [
      "Model Loaded + Initialized outputs/checkpoints/model_skeletonized_epoch50.pt\n"
     ]
    },
    {
     "name": "stderr",
     "output_type": "stream",
     "text": [
      "100%|██████████| 4546/4546 [01:09<00:00, 65.07it/s]\n"
     ]
    },
    {
     "name": "stdout",
     "output_type": "stream",
     "text": [
      "Number of Images: 4546\n",
      "Starting Predictions\n",
      "Predictions Done\n",
      "Code Done\n",
      "../predictions/experiment1_plus_systemic_brightening/skeleton_model_skeleton_images/dull_by_30.csv\n"
     ]
    },
    {
     "name": "stderr",
     "output_type": "stream",
     "text": [
      "  0%|          | 8/4546 [00:00<01:05, 69.75it/s]"
     ]
    },
    {
     "name": "stdout",
     "output_type": "stream",
     "text": [
      "Model Loaded + Initialized outputs/checkpoints/model_skeletonized_epoch50.pt\n"
     ]
    },
    {
     "name": "stderr",
     "output_type": "stream",
     "text": [
      "100%|██████████| 4546/4546 [01:08<00:00, 66.09it/s]\n"
     ]
    },
    {
     "name": "stdout",
     "output_type": "stream",
     "text": [
      "Number of Images: 4546\n",
      "Starting Predictions\n",
      "Predictions Done\n",
      "Code Done\n",
      "../predictions/experiment1_plus_systemic_brightening/skeleton_model_skeleton_images/dull_by_60.csv\n"
     ]
    },
    {
     "name": "stderr",
     "output_type": "stream",
     "text": [
      "  0%|          | 8/4546 [00:00<01:04, 70.17it/s]"
     ]
    },
    {
     "name": "stdout",
     "output_type": "stream",
     "text": [
      "Model Loaded + Initialized outputs/checkpoints/model_skeletonized_epoch50.pt\n"
     ]
    },
    {
     "name": "stderr",
     "output_type": "stream",
     "text": [
      "100%|██████████| 4546/4546 [01:13<00:00, 62.24it/s]\n"
     ]
    },
    {
     "name": "stdout",
     "output_type": "stream",
     "text": [
      "Number of Images: 4546\n",
      "Starting Predictions\n",
      "Predictions Done\n",
      "Code Done\n",
      "../predictions/experiment1_plus_systemic_brightening/skeleton_model_skeleton_images/dull_by_90.csv\n"
     ]
    },
    {
     "name": "stderr",
     "output_type": "stream",
     "text": [
      "  0%|          | 7/4546 [00:00<01:06, 68.26it/s]"
     ]
    },
    {
     "name": "stdout",
     "output_type": "stream",
     "text": [
      "Model Loaded + Initialized outputs/checkpoints/model_skeletonized_epoch50.pt\n"
     ]
    },
    {
     "name": "stderr",
     "output_type": "stream",
     "text": [
      "100%|██████████| 4546/4546 [01:12<00:00, 62.44it/s]\n"
     ]
    },
    {
     "name": "stdout",
     "output_type": "stream",
     "text": [
      "Number of Images: 4546\n",
      "Starting Predictions\n",
      "Predictions Done\n",
      "Code Done\n",
      "../predictions/experiment1_plus_systemic_brightening/skeleton_model_skeleton_images/dull_by_120.csv\n"
     ]
    },
    {
     "name": "stderr",
     "output_type": "stream",
     "text": [
      "  0%|          | 7/4546 [00:00<01:12, 62.53it/s]"
     ]
    },
    {
     "name": "stdout",
     "output_type": "stream",
     "text": [
      "Model Loaded + Initialized outputs/checkpoints/model_skeletonized_epoch50.pt\n"
     ]
    },
    {
     "name": "stderr",
     "output_type": "stream",
     "text": [
      "100%|██████████| 4546/4546 [01:15<00:00, 60.60it/s]\n"
     ]
    },
    {
     "name": "stdout",
     "output_type": "stream",
     "text": [
      "Number of Images: 4546\n",
      "Starting Predictions\n",
      "Predictions Done\n",
      "Code Done\n",
      "../predictions/experiment1_plus_systemic_brightening/skeleton_model_skeleton_images/dull_by_150.csv\n"
     ]
    },
    {
     "name": "stderr",
     "output_type": "stream",
     "text": [
      "  0%|          | 7/4546 [00:00<01:10, 64.09it/s]"
     ]
    },
    {
     "name": "stdout",
     "output_type": "stream",
     "text": [
      "Model Loaded + Initialized outputs/checkpoints/model_skeletonized_epoch50.pt\n"
     ]
    },
    {
     "name": "stderr",
     "output_type": "stream",
     "text": [
      "100%|██████████| 4546/4546 [01:15<00:00, 60.45it/s]\n"
     ]
    },
    {
     "name": "stdout",
     "output_type": "stream",
     "text": [
      "Number of Images: 4546\n",
      "Starting Predictions\n",
      "Predictions Done\n",
      "Code Done\n"
     ]
    }
   ],
   "source": [
    "test(data_dir, 'below', 'brighten', 0, experiment_name, model_path, skeleton =True) \n",
    "test(data_dir, 'below', 'brighten', 30, experiment_name, model_path, skeleton =True) # skeleton = False\n",
    "test(data_dir, 'below', 'brighten', 60, experiment_name, model_path, skeleton =True) \n",
    "test(data_dir, 'below', 'brighten', 90, experiment_name, model_path, skeleton =True) \n",
    "test(data_dir, 'below', 'brighten', 120, experiment_name, model_path, skeleton =True) \n",
    "test(data_dir, 'below', 'brighten', 150, experiment_name, model_path, skeleton =True) \n",
    "\n",
    "# ---------------------- dulled now\n",
    "\n",
    "test(data_dir, 'below', 'dull', 30, experiment_name, model_path, skeleton =True) \n",
    "test(data_dir, 'below', 'dull', 60, experiment_name, model_path, skeleton =True) \n",
    "test(data_dir, 'below', 'dull', 90, experiment_name, model_path, skeleton =True) \n",
    "test(data_dir, 'below', 'dull', 120, experiment_name, model_path, skeleton =True) \n",
    "test(data_dir, 'below', 'dull', 150, experiment_name, model_path, skeleton =True) "
   ]
  },
  {
   "cell_type": "code",
   "execution_count": null,
   "id": "ff866f52",
   "metadata": {
    "hidden": true
   },
   "outputs": [],
   "source": []
  },
  {
   "cell_type": "markdown",
   "id": "4c84f21b",
   "metadata": {},
   "source": [
    "### Original Model Original Images"
   ]
  },
  {
   "cell_type": "code",
   "execution_count": 32,
   "id": "bf6bfd35",
   "metadata": {},
   "outputs": [],
   "source": [
    "experiment_name = 'correct_original_model' # change depending on experiment\n",
    "data_dir = \"../dataset/experiment1_plus_systemic_brightening/\"\n",
    "model_path = './outputs/checkpoints/given_dataset/base_models/model_skeleton_False.pt'"
   ]
  },
  {
   "cell_type": "code",
   "execution_count": 33,
   "id": "80948837",
   "metadata": {},
   "outputs": [
    {
     "name": "stdout",
     "output_type": "stream",
     "text": [
      "../predictions/experiment1_plus_systemic_brightening/correct_original_model/brighten_by_30.csv\n",
      "Model Loaded + Initialized ./outputs/checkpoints/given_dataset/base_models/model_skeleton_False.pt\n",
      "Number of Images: 4546\n",
      "Starting Predictions\n",
      "Predictions Done\n",
      "Code Done\n"
     ]
    }
   ],
   "source": [
    "test(data_dir, 'below', 'brighten', 30, experiment_name, model_path) # skeleton = False"
   ]
  },
  {
   "cell_type": "code",
   "execution_count": 35,
   "id": "e315d575",
   "metadata": {},
   "outputs": [
    {
     "name": "stdout",
     "output_type": "stream",
     "text": [
      "../predictions/experiment1_plus_systemic_brightening/correct_original_model/brighten_by_60.csv\n",
      "Model Loaded + Initialized ./outputs/checkpoints/given_dataset/base_models/model_skeleton_False.pt\n",
      "Number of Images: 4546\n",
      "Starting Predictions\n",
      "Predictions Done\n",
      "Code Done\n"
     ]
    }
   ],
   "source": [
    "test(data_dir, 'below', 'brighten', 60, experiment_name, model_path) "
   ]
  },
  {
   "cell_type": "code",
   "execution_count": 36,
   "id": "74d81da0",
   "metadata": {},
   "outputs": [
    {
     "name": "stdout",
     "output_type": "stream",
     "text": [
      "../predictions/experiment1_plus_systemic_brightening/correct_original_model/brighten_by_90.csv\n",
      "Model Loaded + Initialized ./outputs/checkpoints/given_dataset/base_models/model_skeleton_False.pt\n",
      "Number of Images: 4546\n",
      "Starting Predictions\n",
      "Predictions Done\n",
      "Code Done\n"
     ]
    }
   ],
   "source": [
    "test(data_dir, 'below', 'brighten', 90, experiment_name, model_path) "
   ]
  },
  {
   "cell_type": "code",
   "execution_count": 37,
   "id": "3b43dad8",
   "metadata": {},
   "outputs": [
    {
     "name": "stdout",
     "output_type": "stream",
     "text": [
      "../predictions/experiment1_plus_systemic_brightening/correct_original_model/brighten_by_120.csv\n",
      "Model Loaded + Initialized ./outputs/checkpoints/given_dataset/base_models/model_skeleton_False.pt\n",
      "Number of Images: 4546\n",
      "Starting Predictions\n",
      "Predictions Done\n",
      "Code Done\n"
     ]
    }
   ],
   "source": [
    "test(data_dir, 'below', 'brighten', 120, experiment_name, model_path) "
   ]
  },
  {
   "cell_type": "code",
   "execution_count": 38,
   "id": "2bf0d355",
   "metadata": {},
   "outputs": [
    {
     "name": "stdout",
     "output_type": "stream",
     "text": [
      "../predictions/experiment1_plus_systemic_brightening/correct_original_model/brighten_by_150.csv\n",
      "Model Loaded + Initialized ./outputs/checkpoints/given_dataset/base_models/model_skeleton_False.pt\n",
      "Number of Images: 4546\n",
      "Starting Predictions\n",
      "Predictions Done\n",
      "Code Done\n"
     ]
    }
   ],
   "source": [
    "test(data_dir, 'below', 'brighten', 150, experiment_name, model_path) "
   ]
  },
  {
   "cell_type": "code",
   "execution_count": 39,
   "id": "9da47e83",
   "metadata": {
    "scrolled": true
   },
   "outputs": [
    {
     "name": "stdout",
     "output_type": "stream",
     "text": [
      "../predictions/experiment1_plus_systemic_brightening/correct_original_model/dull_by_30.csv\n",
      "Model Loaded + Initialized ./outputs/checkpoints/given_dataset/base_models/model_skeleton_False.pt\n",
      "Number of Images: 4546\n",
      "Starting Predictions\n",
      "Predictions Done\n",
      "Code Done\n",
      "../predictions/experiment1_plus_systemic_brightening/correct_original_model/dull_by_60.csv\n",
      "Model Loaded + Initialized ./outputs/checkpoints/given_dataset/base_models/model_skeleton_False.pt\n",
      "Number of Images: 4546\n",
      "Starting Predictions\n",
      "Predictions Done\n",
      "Code Done\n",
      "../predictions/experiment1_plus_systemic_brightening/correct_original_model/dull_by_90.csv\n",
      "Model Loaded + Initialized ./outputs/checkpoints/given_dataset/base_models/model_skeleton_False.pt\n",
      "Number of Images: 4546\n",
      "Starting Predictions\n",
      "Predictions Done\n",
      "Code Done\n",
      "../predictions/experiment1_plus_systemic_brightening/correct_original_model/dull_by_120.csv\n",
      "Model Loaded + Initialized ./outputs/checkpoints/given_dataset/base_models/model_skeleton_False.pt\n",
      "Number of Images: 4546\n",
      "Starting Predictions\n",
      "Predictions Done\n",
      "Code Done\n",
      "../predictions/experiment1_plus_systemic_brightening/correct_original_model/dull_by_150.csv\n",
      "Model Loaded + Initialized ./outputs/checkpoints/given_dataset/base_models/model_skeleton_False.pt\n",
      "Number of Images: 4546\n",
      "Starting Predictions\n",
      "Predictions Done\n",
      "Code Done\n"
     ]
    }
   ],
   "source": [
    "test(data_dir, 'below', 'dull', 30, experiment_name, model_path) \n",
    "test(data_dir, 'below', 'dull', 60, experiment_name, model_path) \n",
    "test(data_dir, 'below', 'dull', 90, experiment_name, model_path) \n",
    "test(data_dir, 'below', 'dull', 120, experiment_name, model_path) \n",
    "test(data_dir, 'below', 'dull', 150, experiment_name, model_path) "
   ]
  },
  {
   "cell_type": "code",
   "execution_count": 40,
   "id": "c07f17ec",
   "metadata": {
    "scrolled": true
   },
   "outputs": [
    {
     "name": "stdout",
     "output_type": "stream",
     "text": [
      "../predictions/experiment1_plus_systemic_brightening/correct_original_model/brighten_by_0.csv\n",
      "Model Loaded + Initialized ./outputs/checkpoints/given_dataset/base_models/model_skeleton_False.pt\n",
      "Number of Images: 4546\n",
      "Starting Predictions\n",
      "Predictions Done\n",
      "Code Done\n"
     ]
    }
   ],
   "source": [
    "test(data_dir, 'below', 'brighten', 0, experiment_name, model_path) \n",
    "# original image. No brightening effect"
   ]
  },
  {
   "cell_type": "markdown",
   "id": "2443cd4f",
   "metadata": {
    "heading_collapsed": true
   },
   "source": [
    "### Unneeded"
   ]
  },
  {
   "cell_type": "code",
   "execution_count": 7,
   "id": "549a807e",
   "metadata": {
    "hidden": true
   },
   "outputs": [
    {
     "name": "stdout",
     "output_type": "stream",
     "text": [
      "../predictions/experiment1_plus_systemic_brightening/skeleton_model/brighten_by_0.csv\n"
     ]
    },
    {
     "name": "stderr",
     "output_type": "stream",
     "text": [
      "\r",
      "  0%|          | 0/4546 [00:00<?, ?it/s]"
     ]
    },
    {
     "name": "stdout",
     "output_type": "stream",
     "text": [
      "Model Loaded + Initialized outputs/checkpoints/model_skeletonized_epoch50.pt\n"
     ]
    },
    {
     "name": "stderr",
     "output_type": "stream",
     "text": [
      "100%|██████████| 4546/4546 [01:15<00:00, 59.96it/s]\n"
     ]
    },
    {
     "name": "stdout",
     "output_type": "stream",
     "text": [
      "Number of Images: 4546\n",
      "Starting Predictions\n",
      "Predictions Done\n",
      "Code Done\n",
      "../predictions/experiment1_plus_systemic_brightening/skeleton_model/brighten_by_30.csv\n"
     ]
    },
    {
     "name": "stderr",
     "output_type": "stream",
     "text": [
      "  0%|          | 7/4546 [00:00<01:14, 60.99it/s]"
     ]
    },
    {
     "name": "stdout",
     "output_type": "stream",
     "text": [
      "Model Loaded + Initialized outputs/checkpoints/model_skeletonized_epoch50.pt\n"
     ]
    },
    {
     "name": "stderr",
     "output_type": "stream",
     "text": [
      "100%|██████████| 4546/4546 [01:15<00:00, 60.17it/s]\n"
     ]
    },
    {
     "name": "stdout",
     "output_type": "stream",
     "text": [
      "Number of Images: 4546\n",
      "Starting Predictions\n",
      "Predictions Done\n",
      "Code Done\n",
      "../predictions/experiment1_plus_systemic_brightening/skeleton_model/brighten_by_60.csv\n"
     ]
    },
    {
     "name": "stderr",
     "output_type": "stream",
     "text": [
      "  0%|          | 7/4546 [00:00<01:14, 60.81it/s]"
     ]
    },
    {
     "name": "stdout",
     "output_type": "stream",
     "text": [
      "Model Loaded + Initialized outputs/checkpoints/model_skeletonized_epoch50.pt\n"
     ]
    },
    {
     "name": "stderr",
     "output_type": "stream",
     "text": [
      "100%|██████████| 4546/4546 [01:15<00:00, 60.50it/s]\n"
     ]
    },
    {
     "name": "stdout",
     "output_type": "stream",
     "text": [
      "Number of Images: 4546\n",
      "Starting Predictions\n",
      "Predictions Done\n",
      "Code Done\n",
      "../predictions/experiment1_plus_systemic_brightening/skeleton_model/brighten_by_90.csv\n"
     ]
    },
    {
     "name": "stderr",
     "output_type": "stream",
     "text": [
      "  0%|          | 7/4546 [00:00<01:13, 61.37it/s]"
     ]
    },
    {
     "name": "stdout",
     "output_type": "stream",
     "text": [
      "Model Loaded + Initialized outputs/checkpoints/model_skeletonized_epoch50.pt\n"
     ]
    },
    {
     "name": "stderr",
     "output_type": "stream",
     "text": [
      "100%|██████████| 4546/4546 [01:14<00:00, 60.74it/s]\n"
     ]
    },
    {
     "name": "stdout",
     "output_type": "stream",
     "text": [
      "Number of Images: 4546\n",
      "Starting Predictions\n",
      "Predictions Done\n",
      "Code Done\n",
      "../predictions/experiment1_plus_systemic_brightening/skeleton_model/brighten_by_120.csv\n"
     ]
    },
    {
     "name": "stderr",
     "output_type": "stream",
     "text": [
      "  0%|          | 7/4546 [00:00<01:14, 60.67it/s]"
     ]
    },
    {
     "name": "stdout",
     "output_type": "stream",
     "text": [
      "Model Loaded + Initialized outputs/checkpoints/model_skeletonized_epoch50.pt\n"
     ]
    },
    {
     "name": "stderr",
     "output_type": "stream",
     "text": [
      "100%|██████████| 4546/4546 [01:14<00:00, 60.95it/s]\n"
     ]
    },
    {
     "name": "stdout",
     "output_type": "stream",
     "text": [
      "Number of Images: 4546\n",
      "Starting Predictions\n",
      "Predictions Done\n",
      "Code Done\n",
      "../predictions/experiment1_plus_systemic_brightening/skeleton_model/brighten_by_150.csv\n"
     ]
    },
    {
     "name": "stderr",
     "output_type": "stream",
     "text": [
      "  0%|          | 7/4546 [00:00<01:13, 62.02it/s]"
     ]
    },
    {
     "name": "stdout",
     "output_type": "stream",
     "text": [
      "Model Loaded + Initialized outputs/checkpoints/model_skeletonized_epoch50.pt\n"
     ]
    },
    {
     "name": "stderr",
     "output_type": "stream",
     "text": [
      "100%|██████████| 4546/4546 [01:14<00:00, 61.15it/s]\n"
     ]
    },
    {
     "name": "stdout",
     "output_type": "stream",
     "text": [
      "Number of Images: 4546\n",
      "Starting Predictions\n",
      "Predictions Done\n",
      "Code Done\n",
      "../predictions/experiment1_plus_systemic_brightening/skeleton_model/dull_by_30.csv\n"
     ]
    },
    {
     "name": "stderr",
     "output_type": "stream",
     "text": [
      "  0%|          | 6/4546 [00:00<01:16, 59.48it/s]"
     ]
    },
    {
     "name": "stdout",
     "output_type": "stream",
     "text": [
      "Model Loaded + Initialized outputs/checkpoints/model_skeletonized_epoch50.pt\n"
     ]
    },
    {
     "name": "stderr",
     "output_type": "stream",
     "text": [
      "100%|██████████| 4546/4546 [01:14<00:00, 61.36it/s]\n"
     ]
    },
    {
     "name": "stdout",
     "output_type": "stream",
     "text": [
      "Number of Images: 4546\n",
      "Starting Predictions\n",
      "Predictions Done\n",
      "Code Done\n",
      "../predictions/experiment1_plus_systemic_brightening/skeleton_model/dull_by_60.csv\n"
     ]
    },
    {
     "name": "stderr",
     "output_type": "stream",
     "text": [
      "  0%|          | 7/4546 [00:00<01:11, 63.66it/s]"
     ]
    },
    {
     "name": "stdout",
     "output_type": "stream",
     "text": [
      "Model Loaded + Initialized outputs/checkpoints/model_skeletonized_epoch50.pt\n"
     ]
    },
    {
     "name": "stderr",
     "output_type": "stream",
     "text": [
      "100%|██████████| 4546/4546 [01:15<00:00, 60.37it/s]\n"
     ]
    },
    {
     "name": "stdout",
     "output_type": "stream",
     "text": [
      "Number of Images: 4546\n",
      "Starting Predictions\n",
      "Predictions Done\n",
      "Code Done\n",
      "../predictions/experiment1_plus_systemic_brightening/skeleton_model/dull_by_90.csv\n"
     ]
    },
    {
     "name": "stderr",
     "output_type": "stream",
     "text": [
      "  0%|          | 7/4546 [00:00<01:15, 59.95it/s]"
     ]
    },
    {
     "name": "stdout",
     "output_type": "stream",
     "text": [
      "Model Loaded + Initialized outputs/checkpoints/model_skeletonized_epoch50.pt\n"
     ]
    },
    {
     "name": "stderr",
     "output_type": "stream",
     "text": [
      "100%|██████████| 4546/4546 [01:14<00:00, 60.86it/s]\n"
     ]
    },
    {
     "name": "stdout",
     "output_type": "stream",
     "text": [
      "Number of Images: 4546\n",
      "Starting Predictions\n",
      "Predictions Done\n",
      "Code Done\n",
      "../predictions/experiment1_plus_systemic_brightening/skeleton_model/dull_by_120.csv\n"
     ]
    },
    {
     "name": "stderr",
     "output_type": "stream",
     "text": [
      "  0%|          | 6/4546 [00:00<01:17, 58.47it/s]"
     ]
    },
    {
     "name": "stdout",
     "output_type": "stream",
     "text": [
      "Model Loaded + Initialized outputs/checkpoints/model_skeletonized_epoch50.pt\n"
     ]
    },
    {
     "name": "stderr",
     "output_type": "stream",
     "text": [
      "100%|██████████| 4546/4546 [01:14<00:00, 60.87it/s]\n"
     ]
    },
    {
     "name": "stdout",
     "output_type": "stream",
     "text": [
      "Number of Images: 4546\n",
      "Starting Predictions\n",
      "Predictions Done\n",
      "Code Done\n",
      "../predictions/experiment1_plus_systemic_brightening/skeleton_model/dull_by_150.csv\n"
     ]
    },
    {
     "name": "stderr",
     "output_type": "stream",
     "text": [
      "  0%|          | 7/4546 [00:00<01:12, 62.50it/s]"
     ]
    },
    {
     "name": "stdout",
     "output_type": "stream",
     "text": [
      "Model Loaded + Initialized outputs/checkpoints/model_skeletonized_epoch50.pt\n"
     ]
    },
    {
     "name": "stderr",
     "output_type": "stream",
     "text": [
      "100%|██████████| 4546/4546 [01:15<00:00, 60.18it/s]\n"
     ]
    },
    {
     "name": "stdout",
     "output_type": "stream",
     "text": [
      "Number of Images: 4546\n",
      "Starting Predictions\n",
      "Predictions Done\n",
      "Code Done\n"
     ]
    }
   ],
   "source": [
    "# no skeletonization\n",
    "\n",
    "test(data_dir, 'below', 'brighten', 0, experiment_name, model_path) \n",
    "test(data_dir, 'below', 'brighten', 30, experiment_name, model_path) # skeleton = False\n",
    "test(data_dir, 'below', 'brighten', 60, experiment_name, model_path) \n",
    "test(data_dir, 'below', 'brighten', 90, experiment_name, model_path) \n",
    "test(data_dir, 'below', 'brighten', 120, experiment_name, model_path) \n",
    "test(data_dir, 'below', 'brighten', 150, experiment_name, model_path) \n",
    "\n",
    "# ---------------------- dulled now\n",
    "\n",
    "test(data_dir, 'below', 'dull', 30, experiment_name, model_path) \n",
    "test(data_dir, 'below', 'dull', 60, experiment_name, model_path) \n",
    "test(data_dir, 'below', 'dull', 90, experiment_name, model_path) \n",
    "test(data_dir, 'below', 'dull', 120, experiment_name, model_path) \n",
    "test(data_dir, 'below', 'dull', 150, experiment_name, model_path) "
   ]
  },
  {
   "cell_type": "markdown",
   "id": "94c46068",
   "metadata": {
    "heading_collapsed": true
   },
   "source": [
    "## Analyze Results"
   ]
  },
  {
   "cell_type": "code",
   "execution_count": 26,
   "id": "7934e435",
   "metadata": {
    "hidden": true
   },
   "outputs": [],
   "source": [
    "os.chdir(\"/users/riya/race/classifier_experiments/\")"
   ]
  },
  {
   "cell_type": "code",
   "execution_count": 108,
   "id": "4e37f74e",
   "metadata": {
    "hidden": true
   },
   "outputs": [],
   "source": [
    "results_path = \"predictions/experiment1_plus_systemic_brightening/skeleton_model_skeleton_images/\""
   ]
  },
  {
   "cell_type": "markdown",
   "id": "9b2f2245",
   "metadata": {
    "heading_collapsed": true,
    "hidden": true
   },
   "source": [
    "### Compile Arrays"
   ]
  },
  {
   "cell_type": "code",
   "execution_count": 109,
   "id": "5f5b87af",
   "metadata": {
    "hidden": true
   },
   "outputs": [],
   "source": [
    "increments_arr = [0,30, 60, 90, 120, 150] # do the original prediction too, I totally forgot about that oopsies"
   ]
  },
  {
   "cell_type": "code",
   "execution_count": 110,
   "id": "69bbb61d",
   "metadata": {
    "hidden": true
   },
   "outputs": [],
   "source": [
    "bright30preds = pd.read_csv(results_path + \"brighten_by_30.csv\")\n",
    "dull30preds = pd.read_csv(results_path + \"dull_by_30.csv\")"
   ]
  },
  {
   "cell_type": "code",
   "execution_count": 111,
   "id": "75c443b3",
   "metadata": {
    "hidden": true
   },
   "outputs": [],
   "source": [
    "# develop complete brightened array, considering dataframes are in the same order\n",
    "brightened_predictions = bright30preds[['img_id','race']].copy()\n",
    "dull_predictions = dull30preds[['img_id','race']].copy()\n",
    "\n",
    "# should be the same arrays"
   ]
  },
  {
   "cell_type": "code",
   "execution_count": 112,
   "id": "7414a5b8",
   "metadata": {
    "hidden": true
   },
   "outputs": [],
   "source": [
    "def combine_result_frames(combined_df, intensity_change, increments_arr):\n",
    "    \n",
    "    complete_predictions = combined_df.copy()\n",
    "    csv_name = ''\n",
    "    \n",
    "    for i in range(len(increments_arr)):\n",
    "        if intensity_change == 'brighten':\n",
    "            prediction_df =  pd.read_csv(results_path + f\"brighten_by_{increments_arr[i]}.csv\")\n",
    "            csv_name = 'brightpreds.csv'\n",
    "        elif intensity_change == 'dull':\n",
    "            prediction_df =  pd.read_csv(results_path + f\"dull_by_{increments_arr[i]}.csv\")\n",
    "            csv_name = 'dullpreds.csv'\n",
    "\n",
    "        colname = prediction_df.columns[2]\n",
    "        prediction_col = prediction_df.iloc[:,2]\n",
    "\n",
    "        insert_pos = len(combined_df.columns)\n",
    "        complete_predictions.insert(insert_pos, colname, prediction_col)\n",
    "    \n",
    "    complete_predictions.to_csv(results_path + csv_name)\n",
    "\n",
    "    return complete_predictions"
   ]
  },
  {
   "cell_type": "code",
   "execution_count": 113,
   "id": "377ef22b",
   "metadata": {
    "hidden": true
   },
   "outputs": [],
   "source": [
    "brightpreds = combine_result_frames(brightened_predictions, 'brighten', increments_arr)"
   ]
  },
  {
   "cell_type": "code",
   "execution_count": 114,
   "id": "9f835f36",
   "metadata": {
    "hidden": true
   },
   "outputs": [
    {
     "data": {
      "text/html": [
       "<div>\n",
       "<style scoped>\n",
       "    .dataframe tbody tr th:only-of-type {\n",
       "        vertical-align: middle;\n",
       "    }\n",
       "\n",
       "    .dataframe tbody tr th {\n",
       "        vertical-align: top;\n",
       "    }\n",
       "\n",
       "    .dataframe thead th {\n",
       "        text-align: right;\n",
       "    }\n",
       "</style>\n",
       "<table border=\"1\" class=\"dataframe\">\n",
       "  <thead>\n",
       "    <tr style=\"text-align: right;\">\n",
       "      <th></th>\n",
       "      <th>img_id</th>\n",
       "      <th>race</th>\n",
       "      <th>probability_150</th>\n",
       "      <th>probability_120</th>\n",
       "      <th>probability_90</th>\n",
       "      <th>probability_60</th>\n",
       "      <th>probability_30</th>\n",
       "      <th>probability_0</th>\n",
       "    </tr>\n",
       "  </thead>\n",
       "  <tbody>\n",
       "    <tr>\n",
       "      <th>0</th>\n",
       "      <td>101127</td>\n",
       "      <td>black</td>\n",
       "      <td>0.967593</td>\n",
       "      <td>0.967593</td>\n",
       "      <td>0.967593</td>\n",
       "      <td>0.967593</td>\n",
       "      <td>0.967593</td>\n",
       "      <td>0.967593</td>\n",
       "    </tr>\n",
       "    <tr>\n",
       "      <th>1</th>\n",
       "      <td>101128</td>\n",
       "      <td>black</td>\n",
       "      <td>0.952659</td>\n",
       "      <td>0.952659</td>\n",
       "      <td>0.952659</td>\n",
       "      <td>0.952659</td>\n",
       "      <td>0.952659</td>\n",
       "      <td>0.952659</td>\n",
       "    </tr>\n",
       "    <tr>\n",
       "      <th>2</th>\n",
       "      <td>101129</td>\n",
       "      <td>black</td>\n",
       "      <td>0.513051</td>\n",
       "      <td>0.513051</td>\n",
       "      <td>0.513051</td>\n",
       "      <td>0.513051</td>\n",
       "      <td>0.513051</td>\n",
       "      <td>0.513051</td>\n",
       "    </tr>\n",
       "    <tr>\n",
       "      <th>3</th>\n",
       "      <td>101130</td>\n",
       "      <td>black</td>\n",
       "      <td>0.950785</td>\n",
       "      <td>0.950785</td>\n",
       "      <td>0.950785</td>\n",
       "      <td>0.950785</td>\n",
       "      <td>0.950785</td>\n",
       "      <td>0.950785</td>\n",
       "    </tr>\n",
       "    <tr>\n",
       "      <th>4</th>\n",
       "      <td>101131</td>\n",
       "      <td>black</td>\n",
       "      <td>0.597616</td>\n",
       "      <td>0.597616</td>\n",
       "      <td>0.597616</td>\n",
       "      <td>0.597616</td>\n",
       "      <td>0.597616</td>\n",
       "      <td>0.597616</td>\n",
       "    </tr>\n",
       "  </tbody>\n",
       "</table>\n",
       "</div>"
      ],
      "text/plain": [
       "   img_id   race  probability_150  probability_120  probability_90  \\\n",
       "0  101127  black         0.967593         0.967593        0.967593   \n",
       "1  101128  black         0.952659         0.952659        0.952659   \n",
       "2  101129  black         0.513051         0.513051        0.513051   \n",
       "3  101130  black         0.950785         0.950785        0.950785   \n",
       "4  101131  black         0.597616         0.597616        0.597616   \n",
       "\n",
       "   probability_60  probability_30  probability_0  \n",
       "0        0.967593        0.967593       0.967593  \n",
       "1        0.952659        0.952659       0.952659  \n",
       "2        0.513051        0.513051       0.513051  \n",
       "3        0.950785        0.950785       0.950785  \n",
       "4        0.597616        0.597616       0.597616  "
      ]
     },
     "execution_count": 114,
     "metadata": {},
     "output_type": "execute_result"
    }
   ],
   "source": [
    "brightpreds.head()"
   ]
  },
  {
   "cell_type": "code",
   "execution_count": 115,
   "id": "830ef6ac",
   "metadata": {
    "hidden": true
   },
   "outputs": [],
   "source": [
    "brightpreds_white = brightpreds[brightpreds['race'] == 'white']\n",
    "brightpreds_black = brightpreds[brightpreds['race'] == 'black']"
   ]
  },
  {
   "cell_type": "markdown",
   "id": "954e341e",
   "metadata": {
    "hidden": true
   },
   "source": [
    "While probability outputs ARE NOT confidence exactly, if one is larger than the other, for instance, confidence is higher. Relative confidence can be determined, although not exact model confidence."
   ]
  },
  {
   "cell_type": "code",
   "execution_count": 116,
   "id": "24543624",
   "metadata": {
    "hidden": true
   },
   "outputs": [
    {
     "data": {
      "text/html": [
       "<div>\n",
       "<style scoped>\n",
       "    .dataframe tbody tr th:only-of-type {\n",
       "        vertical-align: middle;\n",
       "    }\n",
       "\n",
       "    .dataframe tbody tr th {\n",
       "        vertical-align: top;\n",
       "    }\n",
       "\n",
       "    .dataframe thead th {\n",
       "        text-align: right;\n",
       "    }\n",
       "</style>\n",
       "<table border=\"1\" class=\"dataframe\">\n",
       "  <thead>\n",
       "    <tr style=\"text-align: right;\">\n",
       "      <th></th>\n",
       "      <th>img_id</th>\n",
       "      <th>race</th>\n",
       "      <th>probability_150</th>\n",
       "      <th>probability_120</th>\n",
       "      <th>probability_90</th>\n",
       "      <th>probability_60</th>\n",
       "      <th>probability_30</th>\n",
       "      <th>probability_0</th>\n",
       "    </tr>\n",
       "  </thead>\n",
       "  <tbody>\n",
       "    <tr>\n",
       "      <th>1709</th>\n",
       "      <td>100281</td>\n",
       "      <td>white</td>\n",
       "      <td>0.084018</td>\n",
       "      <td>0.084018</td>\n",
       "      <td>0.084018</td>\n",
       "      <td>0.084018</td>\n",
       "      <td>0.084018</td>\n",
       "      <td>0.084018</td>\n",
       "    </tr>\n",
       "    <tr>\n",
       "      <th>1710</th>\n",
       "      <td>100282</td>\n",
       "      <td>white</td>\n",
       "      <td>0.628893</td>\n",
       "      <td>0.628893</td>\n",
       "      <td>0.628893</td>\n",
       "      <td>0.628893</td>\n",
       "      <td>0.628893</td>\n",
       "      <td>0.628893</td>\n",
       "    </tr>\n",
       "    <tr>\n",
       "      <th>1711</th>\n",
       "      <td>100283</td>\n",
       "      <td>white</td>\n",
       "      <td>0.987403</td>\n",
       "      <td>0.987403</td>\n",
       "      <td>0.987403</td>\n",
       "      <td>0.987403</td>\n",
       "      <td>0.987403</td>\n",
       "      <td>0.987403</td>\n",
       "    </tr>\n",
       "    <tr>\n",
       "      <th>1712</th>\n",
       "      <td>100284</td>\n",
       "      <td>white</td>\n",
       "      <td>0.686884</td>\n",
       "      <td>0.686884</td>\n",
       "      <td>0.686884</td>\n",
       "      <td>0.686884</td>\n",
       "      <td>0.686884</td>\n",
       "      <td>0.686884</td>\n",
       "    </tr>\n",
       "    <tr>\n",
       "      <th>1713</th>\n",
       "      <td>100285</td>\n",
       "      <td>white</td>\n",
       "      <td>0.154744</td>\n",
       "      <td>0.154744</td>\n",
       "      <td>0.154744</td>\n",
       "      <td>0.154744</td>\n",
       "      <td>0.154744</td>\n",
       "      <td>0.154744</td>\n",
       "    </tr>\n",
       "  </tbody>\n",
       "</table>\n",
       "</div>"
      ],
      "text/plain": [
       "      img_id   race  probability_150  probability_120  probability_90  \\\n",
       "1709  100281  white         0.084018         0.084018        0.084018   \n",
       "1710  100282  white         0.628893         0.628893        0.628893   \n",
       "1711  100283  white         0.987403         0.987403        0.987403   \n",
       "1712  100284  white         0.686884         0.686884        0.686884   \n",
       "1713  100285  white         0.154744         0.154744        0.154744   \n",
       "\n",
       "      probability_60  probability_30  probability_0  \n",
       "1709        0.084018        0.084018       0.084018  \n",
       "1710        0.628893        0.628893       0.628893  \n",
       "1711        0.987403        0.987403       0.987403  \n",
       "1712        0.686884        0.686884       0.686884  \n",
       "1713        0.154744        0.154744       0.154744  "
      ]
     },
     "execution_count": 116,
     "metadata": {},
     "output_type": "execute_result"
    }
   ],
   "source": [
    "brightpreds_white.head()"
   ]
  },
  {
   "cell_type": "code",
   "execution_count": 117,
   "id": "27b99146",
   "metadata": {
    "hidden": true
   },
   "outputs": [
    {
     "data": {
      "text/plain": [
       "(4546, 2837, 1709)"
      ]
     },
     "execution_count": 117,
     "metadata": {},
     "output_type": "execute_result"
    }
   ],
   "source": [
    "len(brightpreds), len(brightpreds_white), len(brightpreds_black)"
   ]
  },
  {
   "cell_type": "code",
   "execution_count": 118,
   "id": "6399781e",
   "metadata": {
    "hidden": true
   },
   "outputs": [],
   "source": [
    "dullpreds = combine_result_frames(dull_predictions, 'dull', increments_arr[1:])"
   ]
  },
  {
   "cell_type": "code",
   "execution_count": 119,
   "id": "7a60ace1",
   "metadata": {
    "hidden": true
   },
   "outputs": [
    {
     "data": {
      "text/html": [
       "<div>\n",
       "<style scoped>\n",
       "    .dataframe tbody tr th:only-of-type {\n",
       "        vertical-align: middle;\n",
       "    }\n",
       "\n",
       "    .dataframe tbody tr th {\n",
       "        vertical-align: top;\n",
       "    }\n",
       "\n",
       "    .dataframe thead th {\n",
       "        text-align: right;\n",
       "    }\n",
       "</style>\n",
       "<table border=\"1\" class=\"dataframe\">\n",
       "  <thead>\n",
       "    <tr style=\"text-align: right;\">\n",
       "      <th></th>\n",
       "      <th>img_id</th>\n",
       "      <th>race</th>\n",
       "      <th>probability_150</th>\n",
       "      <th>probability_120</th>\n",
       "      <th>probability_90</th>\n",
       "      <th>probability_60</th>\n",
       "      <th>probability_30</th>\n",
       "    </tr>\n",
       "  </thead>\n",
       "  <tbody>\n",
       "    <tr>\n",
       "      <th>0</th>\n",
       "      <td>101127</td>\n",
       "      <td>black</td>\n",
       "      <td>0.307103</td>\n",
       "      <td>0.458103</td>\n",
       "      <td>0.647117</td>\n",
       "      <td>0.824582</td>\n",
       "      <td>0.920884</td>\n",
       "    </tr>\n",
       "    <tr>\n",
       "      <th>1</th>\n",
       "      <td>101128</td>\n",
       "      <td>black</td>\n",
       "      <td>0.546230</td>\n",
       "      <td>0.748987</td>\n",
       "      <td>0.858834</td>\n",
       "      <td>0.917688</td>\n",
       "      <td>0.941782</td>\n",
       "    </tr>\n",
       "    <tr>\n",
       "      <th>2</th>\n",
       "      <td>101129</td>\n",
       "      <td>black</td>\n",
       "      <td>0.322121</td>\n",
       "      <td>0.475279</td>\n",
       "      <td>0.507855</td>\n",
       "      <td>0.491497</td>\n",
       "      <td>0.514013</td>\n",
       "    </tr>\n",
       "    <tr>\n",
       "      <th>3</th>\n",
       "      <td>101130</td>\n",
       "      <td>black</td>\n",
       "      <td>0.851867</td>\n",
       "      <td>0.932843</td>\n",
       "      <td>0.948199</td>\n",
       "      <td>0.949814</td>\n",
       "      <td>0.950390</td>\n",
       "    </tr>\n",
       "    <tr>\n",
       "      <th>4</th>\n",
       "      <td>101131</td>\n",
       "      <td>black</td>\n",
       "      <td>0.231372</td>\n",
       "      <td>0.271184</td>\n",
       "      <td>0.293435</td>\n",
       "      <td>0.329196</td>\n",
       "      <td>0.476555</td>\n",
       "    </tr>\n",
       "  </tbody>\n",
       "</table>\n",
       "</div>"
      ],
      "text/plain": [
       "   img_id   race  probability_150  probability_120  probability_90  \\\n",
       "0  101127  black         0.307103         0.458103        0.647117   \n",
       "1  101128  black         0.546230         0.748987        0.858834   \n",
       "2  101129  black         0.322121         0.475279        0.507855   \n",
       "3  101130  black         0.851867         0.932843        0.948199   \n",
       "4  101131  black         0.231372         0.271184        0.293435   \n",
       "\n",
       "   probability_60  probability_30  \n",
       "0        0.824582        0.920884  \n",
       "1        0.917688        0.941782  \n",
       "2        0.491497        0.514013  \n",
       "3        0.949814        0.950390  \n",
       "4        0.329196        0.476555  "
      ]
     },
     "execution_count": 119,
     "metadata": {},
     "output_type": "execute_result"
    }
   ],
   "source": [
    "dullpreds.head()"
   ]
  },
  {
   "cell_type": "code",
   "execution_count": 120,
   "id": "b913b86d",
   "metadata": {
    "hidden": true
   },
   "outputs": [],
   "source": [
    "dullpreds_white = dullpreds[dullpreds['race'] == 'white']\n",
    "dullpreds_black = dullpreds[dullpreds['race'] == 'black']"
   ]
  },
  {
   "cell_type": "code",
   "execution_count": 121,
   "id": "3498e94d",
   "metadata": {
    "hidden": true
   },
   "outputs": [
    {
     "data": {
      "text/plain": [
       "(4546, 2837, 1709)"
      ]
     },
     "execution_count": 121,
     "metadata": {},
     "output_type": "execute_result"
    }
   ],
   "source": [
    "len(dullpreds), len(dullpreds_white), len(dullpreds_black)"
   ]
  },
  {
   "cell_type": "markdown",
   "id": "5de6e919",
   "metadata": {
    "heading_collapsed": true,
    "hidden": true
   },
   "source": [
    "### Determine Percent Misclassification"
   ]
  },
  {
   "cell_type": "code",
   "execution_count": 130,
   "id": "b5f2a898",
   "metadata": {
    "hidden": true
   },
   "outputs": [],
   "source": [
    "def percent_predictions(preds_df, race, increments_arr = []):\n",
    "    \n",
    "    pred = ''\n",
    "    \n",
    "    if (race == 'black'):\n",
    "        pred = 'white'\n",
    "    elif (race == 'white'):\n",
    "        pred = 'black'\n",
    "    \n",
    "    print(f'Percent of {race} Images Incorrectly Predicted as {pred}')\n",
    "    \n",
    "    def preds_print(colname):\n",
    "        if (race == 'white'): # getting the percent predicted correctly as white\n",
    "            predscol = preds_df[preds_df[colname] > 0.5]\n",
    "        elif (race == 'black'): # getting the percent predicted correctly as black\n",
    "            predscol = preds_df[preds_df[colname] < 0.5]\n",
    "        \n",
    "        right_percent = 100 * len(predscol)/len(preds_df) \n",
    "        wrong_percent = 100 - right_percent\n",
    "        print(str(colname) + ':' + str(wrong_percent))\n",
    "    \n",
    "    # preds_print('original') # will do soon\n",
    "    \n",
    "   #  preds_print('probability_0')\n",
    "    preds_print('probability_30')\n",
    "    preds_print('probability_60')\n",
    "    preds_print('probability_90')\n",
    "    preds_print('probability_120')\n",
    "    preds_print('probability_150')"
   ]
  },
  {
   "cell_type": "markdown",
   "id": "e164806a",
   "metadata": {
    "heading_collapsed": true,
    "hidden": true
   },
   "source": [
    "### Macula Work"
   ]
  },
  {
   "cell_type": "code",
   "execution_count": 41,
   "id": "f00c655f",
   "metadata": {
    "hidden": true
   },
   "outputs": [],
   "source": [
    "results_path = \"/users/riya/race/classifier_experiments/CNN_train/outputs/probabilities/#10(macula_focus)/\""
   ]
  },
  {
   "cell_type": "code",
   "execution_count": 83,
   "id": "78646767",
   "metadata": {
    "hidden": true
   },
   "outputs": [],
   "source": [
    "show_macula_non_skel = pd.read_csv(results_path + \"show_macula_brightened_by_0_epoch50.csv\")\n",
    "show_macula_skel = pd.read_csv(results_path + \"show_macula_brightened_by_0_skeletonized_epoch50.csv\")\n",
    "\n",
    "hide_macula_non_skel = pd.read_csv(results_path + \"hide_macula_brightened_by_0_epoch50.csv\")\n",
    "hide_macula_skel = pd.read_csv(results_path + \"hide_macula_brightened_by_0_skeletonized_epoch50.csv\")"
   ]
  },
  {
   "cell_type": "code",
   "execution_count": 84,
   "id": "4fdf8382",
   "metadata": {
    "hidden": true,
    "scrolled": true
   },
   "outputs": [
    {
     "data": {
      "text/html": [
       "<div>\n",
       "<style scoped>\n",
       "    .dataframe tbody tr th:only-of-type {\n",
       "        vertical-align: middle;\n",
       "    }\n",
       "\n",
       "    .dataframe tbody tr th {\n",
       "        vertical-align: top;\n",
       "    }\n",
       "\n",
       "    .dataframe thead th {\n",
       "        text-align: right;\n",
       "    }\n",
       "</style>\n",
       "<table border=\"1\" class=\"dataframe\">\n",
       "  <thead>\n",
       "    <tr style=\"text-align: right;\">\n",
       "      <th></th>\n",
       "      <th>img_loc</th>\n",
       "      <th>probability</th>\n",
       "    </tr>\n",
       "  </thead>\n",
       "  <tbody>\n",
       "    <tr>\n",
       "      <th>0</th>\n",
       "      <td>/users/riya/race/classifier_experiments/CNN_tr...</td>\n",
       "      <td>0.720475</td>\n",
       "    </tr>\n",
       "    <tr>\n",
       "      <th>1</th>\n",
       "      <td>/users/riya/race/classifier_experiments/CNN_tr...</td>\n",
       "      <td>0.866231</td>\n",
       "    </tr>\n",
       "    <tr>\n",
       "      <th>2</th>\n",
       "      <td>/users/riya/race/classifier_experiments/CNN_tr...</td>\n",
       "      <td>0.746231</td>\n",
       "    </tr>\n",
       "    <tr>\n",
       "      <th>3</th>\n",
       "      <td>/users/riya/race/classifier_experiments/CNN_tr...</td>\n",
       "      <td>0.467659</td>\n",
       "    </tr>\n",
       "    <tr>\n",
       "      <th>4</th>\n",
       "      <td>/users/riya/race/classifier_experiments/CNN_tr...</td>\n",
       "      <td>0.934661</td>\n",
       "    </tr>\n",
       "    <tr>\n",
       "      <th>...</th>\n",
       "      <td>...</td>\n",
       "      <td>...</td>\n",
       "    </tr>\n",
       "    <tr>\n",
       "      <th>905</th>\n",
       "      <td>/users/riya/race/classifier_experiments/CNN_tr...</td>\n",
       "      <td>0.081580</td>\n",
       "    </tr>\n",
       "    <tr>\n",
       "      <th>906</th>\n",
       "      <td>/users/riya/race/classifier_experiments/CNN_tr...</td>\n",
       "      <td>0.225085</td>\n",
       "    </tr>\n",
       "    <tr>\n",
       "      <th>907</th>\n",
       "      <td>/users/riya/race/classifier_experiments/CNN_tr...</td>\n",
       "      <td>0.725670</td>\n",
       "    </tr>\n",
       "    <tr>\n",
       "      <th>908</th>\n",
       "      <td>/users/riya/race/classifier_experiments/CNN_tr...</td>\n",
       "      <td>0.068766</td>\n",
       "    </tr>\n",
       "    <tr>\n",
       "      <th>909</th>\n",
       "      <td>/users/riya/race/classifier_experiments/CNN_tr...</td>\n",
       "      <td>0.333136</td>\n",
       "    </tr>\n",
       "  </tbody>\n",
       "</table>\n",
       "<p>910 rows × 2 columns</p>\n",
       "</div>"
      ],
      "text/plain": [
       "                                               img_loc  probability\n",
       "0    /users/riya/race/classifier_experiments/CNN_tr...     0.720475\n",
       "1    /users/riya/race/classifier_experiments/CNN_tr...     0.866231\n",
       "2    /users/riya/race/classifier_experiments/CNN_tr...     0.746231\n",
       "3    /users/riya/race/classifier_experiments/CNN_tr...     0.467659\n",
       "4    /users/riya/race/classifier_experiments/CNN_tr...     0.934661\n",
       "..                                                 ...          ...\n",
       "905  /users/riya/race/classifier_experiments/CNN_tr...     0.081580\n",
       "906  /users/riya/race/classifier_experiments/CNN_tr...     0.225085\n",
       "907  /users/riya/race/classifier_experiments/CNN_tr...     0.725670\n",
       "908  /users/riya/race/classifier_experiments/CNN_tr...     0.068766\n",
       "909  /users/riya/race/classifier_experiments/CNN_tr...     0.333136\n",
       "\n",
       "[910 rows x 2 columns]"
      ]
     },
     "execution_count": 84,
     "metadata": {},
     "output_type": "execute_result"
    }
   ],
   "source": [
    "hide_macula_skel"
   ]
  },
  {
   "cell_type": "code",
   "execution_count": 85,
   "id": "4c894c9f",
   "metadata": {
    "hidden": true
   },
   "outputs": [
    {
     "data": {
      "text/plain": [
       "'/users/riya/race/classifier_experiments/CNN_train/dataset_full/test/white/33937.bmp'"
      ]
     },
     "execution_count": 85,
     "metadata": {},
     "output_type": "execute_result"
    }
   ],
   "source": [
    "hide_macula_skel['img_loc'][500]"
   ]
  },
  {
   "cell_type": "code",
   "execution_count": 86,
   "id": "c582fe43",
   "metadata": {
    "hidden": true
   },
   "outputs": [],
   "source": [
    "race_arr = [0] * len(hide_macula_skel)\n",
    "\n",
    "for i in range(len(hide_macula_skel)):\n",
    "    test_phrase = hide_macula_skel['img_loc'][i]\n",
    "    if 'black' in test_phrase:\n",
    "        race_arr[i] = 0\n",
    "    if 'white' in test_phrase:\n",
    "        race_arr[i] = 1"
   ]
  },
  {
   "cell_type": "code",
   "execution_count": 87,
   "id": "b5d77bbc",
   "metadata": {
    "hidden": true
   },
   "outputs": [
    {
     "data": {
      "text/plain": [
       "910"
      ]
     },
     "execution_count": 87,
     "metadata": {},
     "output_type": "execute_result"
    }
   ],
   "source": [
    "len(race_arr)"
   ]
  },
  {
   "cell_type": "code",
   "execution_count": 88,
   "id": "97b6d1ec",
   "metadata": {
    "hidden": true
   },
   "outputs": [],
   "source": [
    "hide_macula_skel['race'] = race_arr"
   ]
  },
  {
   "cell_type": "code",
   "execution_count": 89,
   "id": "0cc99b6a",
   "metadata": {
    "hidden": true
   },
   "outputs": [
    {
     "data": {
      "text/html": [
       "<div>\n",
       "<style scoped>\n",
       "    .dataframe tbody tr th:only-of-type {\n",
       "        vertical-align: middle;\n",
       "    }\n",
       "\n",
       "    .dataframe tbody tr th {\n",
       "        vertical-align: top;\n",
       "    }\n",
       "\n",
       "    .dataframe thead th {\n",
       "        text-align: right;\n",
       "    }\n",
       "</style>\n",
       "<table border=\"1\" class=\"dataframe\">\n",
       "  <thead>\n",
       "    <tr style=\"text-align: right;\">\n",
       "      <th></th>\n",
       "      <th>img_loc</th>\n",
       "      <th>probability</th>\n",
       "      <th>race</th>\n",
       "    </tr>\n",
       "  </thead>\n",
       "  <tbody>\n",
       "    <tr>\n",
       "      <th>342</th>\n",
       "      <td>/users/riya/race/classifier_experiments/CNN_tr...</td>\n",
       "      <td>0.866755</td>\n",
       "      <td>1</td>\n",
       "    </tr>\n",
       "    <tr>\n",
       "      <th>343</th>\n",
       "      <td>/users/riya/race/classifier_experiments/CNN_tr...</td>\n",
       "      <td>0.144750</td>\n",
       "      <td>1</td>\n",
       "    </tr>\n",
       "    <tr>\n",
       "      <th>344</th>\n",
       "      <td>/users/riya/race/classifier_experiments/CNN_tr...</td>\n",
       "      <td>0.566279</td>\n",
       "      <td>1</td>\n",
       "    </tr>\n",
       "    <tr>\n",
       "      <th>345</th>\n",
       "      <td>/users/riya/race/classifier_experiments/CNN_tr...</td>\n",
       "      <td>0.038444</td>\n",
       "      <td>1</td>\n",
       "    </tr>\n",
       "    <tr>\n",
       "      <th>346</th>\n",
       "      <td>/users/riya/race/classifier_experiments/CNN_tr...</td>\n",
       "      <td>0.026375</td>\n",
       "      <td>1</td>\n",
       "    </tr>\n",
       "    <tr>\n",
       "      <th>...</th>\n",
       "      <td>...</td>\n",
       "      <td>...</td>\n",
       "      <td>...</td>\n",
       "    </tr>\n",
       "    <tr>\n",
       "      <th>905</th>\n",
       "      <td>/users/riya/race/classifier_experiments/CNN_tr...</td>\n",
       "      <td>0.081580</td>\n",
       "      <td>1</td>\n",
       "    </tr>\n",
       "    <tr>\n",
       "      <th>906</th>\n",
       "      <td>/users/riya/race/classifier_experiments/CNN_tr...</td>\n",
       "      <td>0.225085</td>\n",
       "      <td>1</td>\n",
       "    </tr>\n",
       "    <tr>\n",
       "      <th>907</th>\n",
       "      <td>/users/riya/race/classifier_experiments/CNN_tr...</td>\n",
       "      <td>0.725670</td>\n",
       "      <td>1</td>\n",
       "    </tr>\n",
       "    <tr>\n",
       "      <th>908</th>\n",
       "      <td>/users/riya/race/classifier_experiments/CNN_tr...</td>\n",
       "      <td>0.068766</td>\n",
       "      <td>1</td>\n",
       "    </tr>\n",
       "    <tr>\n",
       "      <th>909</th>\n",
       "      <td>/users/riya/race/classifier_experiments/CNN_tr...</td>\n",
       "      <td>0.333136</td>\n",
       "      <td>1</td>\n",
       "    </tr>\n",
       "  </tbody>\n",
       "</table>\n",
       "<p>568 rows × 3 columns</p>\n",
       "</div>"
      ],
      "text/plain": [
       "                                               img_loc  probability  race\n",
       "342  /users/riya/race/classifier_experiments/CNN_tr...     0.866755     1\n",
       "343  /users/riya/race/classifier_experiments/CNN_tr...     0.144750     1\n",
       "344  /users/riya/race/classifier_experiments/CNN_tr...     0.566279     1\n",
       "345  /users/riya/race/classifier_experiments/CNN_tr...     0.038444     1\n",
       "346  /users/riya/race/classifier_experiments/CNN_tr...     0.026375     1\n",
       "..                                                 ...          ...   ...\n",
       "905  /users/riya/race/classifier_experiments/CNN_tr...     0.081580     1\n",
       "906  /users/riya/race/classifier_experiments/CNN_tr...     0.225085     1\n",
       "907  /users/riya/race/classifier_experiments/CNN_tr...     0.725670     1\n",
       "908  /users/riya/race/classifier_experiments/CNN_tr...     0.068766     1\n",
       "909  /users/riya/race/classifier_experiments/CNN_tr...     0.333136     1\n",
       "\n",
       "[568 rows x 3 columns]"
      ]
     },
     "execution_count": 89,
     "metadata": {},
     "output_type": "execute_result"
    }
   ],
   "source": [
    "hide_macula_skel[hide_macula_skel['race'] == 1]"
   ]
  },
  {
   "cell_type": "code",
   "execution_count": 90,
   "id": "143f6907",
   "metadata": {
    "hidden": true
   },
   "outputs": [],
   "source": [
    "fpr, tpr, _ = roc_curve(hide_macula_skel['race'],  1 - hide_macula_skel['probability'])\n",
    "auc = roc_auc_score(hide_macula_skel['race'], 1 - hide_macula_skel['probability'])\n",
    "auc = np.round(auc, 4)"
   ]
  },
  {
   "cell_type": "code",
   "execution_count": 91,
   "id": "c7ef1720",
   "metadata": {
    "hidden": true
   },
   "outputs": [
    {
     "data": {
      "text/plain": [
       "0.8957"
      ]
     },
     "execution_count": 91,
     "metadata": {},
     "output_type": "execute_result"
    }
   ],
   "source": [
    "auc"
   ]
  },
  {
   "cell_type": "code",
   "execution_count": 49,
   "id": "af783abb",
   "metadata": {
    "hidden": true
   },
   "outputs": [],
   "source": []
  },
  {
   "cell_type": "code",
   "execution_count": 43,
   "id": "d1148cc7",
   "metadata": {
    "hidden": true
   },
   "outputs": [
    {
     "ename": "NameError",
     "evalue": "name 'hide_macula_skel' is not defined",
     "output_type": "error",
     "traceback": [
      "\u001b[0;31m---------------------------------------------------------------------------\u001b[0m",
      "\u001b[0;31mNameError\u001b[0m                                 Traceback (most recent call last)",
      "\u001b[0;32m<ipython-input-43-57788f32d684>\u001b[0m in \u001b[0;36m<module>\u001b[0;34m\u001b[0m\n\u001b[0;32m----> 1\u001b[0;31m \u001b[0mwhite_show_macula_non_skel\u001b[0m \u001b[0;34m=\u001b[0m \u001b[0mhide_macula_skel\u001b[0m\u001b[0;34m[\u001b[0m\u001b[0mhide_macula_skel\u001b[0m\u001b[0;34m[\u001b[0m\u001b[0;34m'race'\u001b[0m\u001b[0;34m]\u001b[0m \u001b[0;34m==\u001b[0m \u001b[0;36m1\u001b[0m\u001b[0;34m]\u001b[0m\u001b[0;34m\u001b[0m\u001b[0;34m\u001b[0m\u001b[0m\n\u001b[0m\u001b[1;32m      2\u001b[0m \u001b[0mblack_show_macula_non_skel\u001b[0m \u001b[0;34m=\u001b[0m \u001b[0mhide_macula_skel\u001b[0m\u001b[0;34m[\u001b[0m\u001b[0mhide_macula_skel\u001b[0m\u001b[0;34m[\u001b[0m\u001b[0;34m'race'\u001b[0m\u001b[0;34m]\u001b[0m \u001b[0;34m==\u001b[0m \u001b[0;36m0\u001b[0m\u001b[0;34m]\u001b[0m\u001b[0;34m\u001b[0m\u001b[0;34m\u001b[0m\u001b[0m\n",
      "\u001b[0;31mNameError\u001b[0m: name 'hide_macula_skel' is not defined"
     ]
    }
   ],
   "source": [
    "white_show_macula_non_skel = hide_macula_skel[hide_macula_skel['race'] == 1]\n",
    "black_show_macula_non_skel = hide_macula_skel[hide_macula_skel['race'] == 0]"
   ]
  },
  {
   "cell_type": "code",
   "execution_count": 93,
   "id": "faade3b8",
   "metadata": {
    "hidden": true
   },
   "outputs": [
    {
     "name": "stdout",
     "output_type": "stream",
     "text": [
      "Percent of white Images Incorrectly Predicted as black\n",
      "probability:79.5774647887324\n"
     ]
    }
   ],
   "source": [
    "percent_predictions(white_show_macula_non_skel, 'white')"
   ]
  },
  {
   "cell_type": "code",
   "execution_count": 94,
   "id": "2239b5bf",
   "metadata": {
    "hidden": true
   },
   "outputs": [
    {
     "name": "stdout",
     "output_type": "stream",
     "text": [
      "Percent of black Images Incorrectly Predicted as white\n",
      "probability:82.45614035087719\n"
     ]
    }
   ],
   "source": [
    "percent_predictions(black_show_macula_non_skel, 'black')"
   ]
  },
  {
   "cell_type": "code",
   "execution_count": null,
   "id": "19ea5c15",
   "metadata": {
    "hidden": true
   },
   "outputs": [],
   "source": []
  },
  {
   "cell_type": "markdown",
   "id": "3deaa8a5",
   "metadata": {
    "heading_collapsed": true,
    "hidden": true
   },
   "source": [
    "### Systemic Brightening Experiment Work"
   ]
  },
  {
   "cell_type": "code",
   "execution_count": 123,
   "id": "2fabcc51",
   "metadata": {
    "hidden": true
   },
   "outputs": [
    {
     "name": "stdout",
     "output_type": "stream",
     "text": [
      "Percent of white Images Incorrectly Predicted as black\n",
      "probability_0:14.557631300669726\n",
      "probability_30:14.557631300669726\n",
      "probability_60:14.557631300669726\n",
      "probability_90:14.557631300669726\n",
      "probability_120:14.557631300669726\n",
      "probability_150:14.557631300669726\n"
     ]
    }
   ],
   "source": [
    "percent_predictions(brightpreds_white, 'white', increments_arr)"
   ]
  },
  {
   "cell_type": "code",
   "execution_count": 124,
   "id": "93d6556d",
   "metadata": {
    "hidden": true
   },
   "outputs": [
    {
     "name": "stdout",
     "output_type": "stream",
     "text": [
      "Percent of black Images Incorrectly Predicted as white\n",
      "probability_0:12.99005266237566\n",
      "probability_30:12.99005266237566\n",
      "probability_60:12.99005266237566\n",
      "probability_90:12.99005266237566\n",
      "probability_120:12.99005266237566\n",
      "probability_150:12.99005266237566\n"
     ]
    }
   ],
   "source": [
    "percent_predictions(brightpreds_black, 'black', increments_arr)"
   ]
  },
  {
   "cell_type": "code",
   "execution_count": null,
   "id": "adf9a5e5",
   "metadata": {
    "hidden": true
   },
   "outputs": [],
   "source": []
  },
  {
   "cell_type": "code",
   "execution_count": 125,
   "id": "038a290c",
   "metadata": {
    "hidden": true
   },
   "outputs": [
    {
     "data": {
      "text/html": [
       "<div>\n",
       "<style scoped>\n",
       "    .dataframe tbody tr th:only-of-type {\n",
       "        vertical-align: middle;\n",
       "    }\n",
       "\n",
       "    .dataframe tbody tr th {\n",
       "        vertical-align: top;\n",
       "    }\n",
       "\n",
       "    .dataframe thead th {\n",
       "        text-align: right;\n",
       "    }\n",
       "</style>\n",
       "<table border=\"1\" class=\"dataframe\">\n",
       "  <thead>\n",
       "    <tr style=\"text-align: right;\">\n",
       "      <th></th>\n",
       "      <th>img_id</th>\n",
       "      <th>race</th>\n",
       "      <th>probability_150</th>\n",
       "      <th>probability_120</th>\n",
       "      <th>probability_90</th>\n",
       "      <th>probability_60</th>\n",
       "      <th>probability_30</th>\n",
       "    </tr>\n",
       "  </thead>\n",
       "  <tbody>\n",
       "    <tr>\n",
       "      <th>1709</th>\n",
       "      <td>100281</td>\n",
       "      <td>white</td>\n",
       "      <td>0.066816</td>\n",
       "      <td>0.051706</td>\n",
       "      <td>0.054456</td>\n",
       "      <td>0.062228</td>\n",
       "      <td>0.077103</td>\n",
       "    </tr>\n",
       "    <tr>\n",
       "      <th>1710</th>\n",
       "      <td>100282</td>\n",
       "      <td>white</td>\n",
       "      <td>0.361356</td>\n",
       "      <td>0.503810</td>\n",
       "      <td>0.509219</td>\n",
       "      <td>0.569688</td>\n",
       "      <td>0.601143</td>\n",
       "    </tr>\n",
       "    <tr>\n",
       "      <th>1711</th>\n",
       "      <td>100283</td>\n",
       "      <td>white</td>\n",
       "      <td>0.778830</td>\n",
       "      <td>0.892857</td>\n",
       "      <td>0.967932</td>\n",
       "      <td>0.984967</td>\n",
       "      <td>0.988128</td>\n",
       "    </tr>\n",
       "    <tr>\n",
       "      <th>1712</th>\n",
       "      <td>100284</td>\n",
       "      <td>white</td>\n",
       "      <td>0.087315</td>\n",
       "      <td>0.108743</td>\n",
       "      <td>0.195157</td>\n",
       "      <td>0.336279</td>\n",
       "      <td>0.570772</td>\n",
       "    </tr>\n",
       "    <tr>\n",
       "      <th>1713</th>\n",
       "      <td>100285</td>\n",
       "      <td>white</td>\n",
       "      <td>0.119301</td>\n",
       "      <td>0.121952</td>\n",
       "      <td>0.123537</td>\n",
       "      <td>0.121130</td>\n",
       "      <td>0.140034</td>\n",
       "    </tr>\n",
       "    <tr>\n",
       "      <th>...</th>\n",
       "      <td>...</td>\n",
       "      <td>...</td>\n",
       "      <td>...</td>\n",
       "      <td>...</td>\n",
       "      <td>...</td>\n",
       "      <td>...</td>\n",
       "      <td>...</td>\n",
       "    </tr>\n",
       "    <tr>\n",
       "      <th>4541</th>\n",
       "      <td>99973</td>\n",
       "      <td>white</td>\n",
       "      <td>0.109535</td>\n",
       "      <td>0.292435</td>\n",
       "      <td>0.549933</td>\n",
       "      <td>0.691693</td>\n",
       "      <td>0.774248</td>\n",
       "    </tr>\n",
       "    <tr>\n",
       "      <th>4542</th>\n",
       "      <td>99975</td>\n",
       "      <td>white</td>\n",
       "      <td>0.298317</td>\n",
       "      <td>0.665455</td>\n",
       "      <td>0.875226</td>\n",
       "      <td>0.937163</td>\n",
       "      <td>0.957284</td>\n",
       "    </tr>\n",
       "    <tr>\n",
       "      <th>4543</th>\n",
       "      <td>99976</td>\n",
       "      <td>white</td>\n",
       "      <td>0.391018</td>\n",
       "      <td>0.687441</td>\n",
       "      <td>0.886481</td>\n",
       "      <td>0.958021</td>\n",
       "      <td>0.973775</td>\n",
       "    </tr>\n",
       "    <tr>\n",
       "      <th>4544</th>\n",
       "      <td>99977</td>\n",
       "      <td>white</td>\n",
       "      <td>0.683921</td>\n",
       "      <td>0.892387</td>\n",
       "      <td>0.970614</td>\n",
       "      <td>0.991345</td>\n",
       "      <td>0.996935</td>\n",
       "    </tr>\n",
       "    <tr>\n",
       "      <th>4545</th>\n",
       "      <td>99978</td>\n",
       "      <td>white</td>\n",
       "      <td>0.624925</td>\n",
       "      <td>0.829098</td>\n",
       "      <td>0.900970</td>\n",
       "      <td>0.945628</td>\n",
       "      <td>0.973183</td>\n",
       "    </tr>\n",
       "  </tbody>\n",
       "</table>\n",
       "<p>2837 rows × 7 columns</p>\n",
       "</div>"
      ],
      "text/plain": [
       "      img_id   race  probability_150  probability_120  probability_90  \\\n",
       "1709  100281  white         0.066816         0.051706        0.054456   \n",
       "1710  100282  white         0.361356         0.503810        0.509219   \n",
       "1711  100283  white         0.778830         0.892857        0.967932   \n",
       "1712  100284  white         0.087315         0.108743        0.195157   \n",
       "1713  100285  white         0.119301         0.121952        0.123537   \n",
       "...      ...    ...              ...              ...             ...   \n",
       "4541   99973  white         0.109535         0.292435        0.549933   \n",
       "4542   99975  white         0.298317         0.665455        0.875226   \n",
       "4543   99976  white         0.391018         0.687441        0.886481   \n",
       "4544   99977  white         0.683921         0.892387        0.970614   \n",
       "4545   99978  white         0.624925         0.829098        0.900970   \n",
       "\n",
       "      probability_60  probability_30  \n",
       "1709        0.062228        0.077103  \n",
       "1710        0.569688        0.601143  \n",
       "1711        0.984967        0.988128  \n",
       "1712        0.336279        0.570772  \n",
       "1713        0.121130        0.140034  \n",
       "...              ...             ...  \n",
       "4541        0.691693        0.774248  \n",
       "4542        0.937163        0.957284  \n",
       "4543        0.958021        0.973775  \n",
       "4544        0.991345        0.996935  \n",
       "4545        0.945628        0.973183  \n",
       "\n",
       "[2837 rows x 7 columns]"
      ]
     },
     "execution_count": 125,
     "metadata": {},
     "output_type": "execute_result"
    }
   ],
   "source": [
    "dullpreds_white"
   ]
  },
  {
   "cell_type": "code",
   "execution_count": 131,
   "id": "cedc6241",
   "metadata": {
    "hidden": true
   },
   "outputs": [
    {
     "name": "stdout",
     "output_type": "stream",
     "text": [
      "Percent of white Images Incorrectly Predicted as black\n",
      "probability_30:15.438843849136418\n",
      "probability_60:17.377511455763127\n",
      "probability_90:21.1138526612619\n",
      "probability_120:27.529080014099407\n",
      "probability_150:41.06450475854776\n"
     ]
    }
   ],
   "source": [
    "percent_predictions(dullpreds_white, 'white', increments_arr[1:])"
   ]
  },
  {
   "cell_type": "code",
   "execution_count": 132,
   "id": "48fb9c6a",
   "metadata": {
    "hidden": true
   },
   "outputs": [],
   "source": [
    "def calculate_dull_auc(white_arr, black_arr, colname):\n",
    "    white_real = np.ones(len(white_arr))\n",
    "    black_real = np.zeros(len(black_arr))\n",
    "\n",
    "    all_real = np.concatenate((white_real, black_real))\n",
    "\n",
    "    all_preds = np.concatenate((white_arr[colname], black_arr[colname]))\n",
    "    \n",
    "    auc = roc_auc_score(all_real, all_preds)\n",
    "    auc = np.round(auc, 4)\n",
    "    \n",
    "    print(auc)"
   ]
  },
  {
   "cell_type": "code",
   "execution_count": 133,
   "id": "e96d4952",
   "metadata": {
    "hidden": true
   },
   "outputs": [
    {
     "name": "stdout",
     "output_type": "stream",
     "text": [
      "0.9178\n"
     ]
    }
   ],
   "source": [
    "calculate_dull_auc(dullpreds_white, dullpreds_black, 'probability_120')"
   ]
  },
  {
   "cell_type": "code",
   "execution_count": 134,
   "id": "87364a35",
   "metadata": {
    "hidden": true
   },
   "outputs": [
    {
     "name": "stdout",
     "output_type": "stream",
     "text": [
      "Percent of black Images Incorrectly Predicted as white\n",
      "probability_30:11.936805149210059\n",
      "probability_60:10.356933879461678\n",
      "probability_90:8.308952603861911\n",
      "probability_120:5.558806319485086\n",
      "probability_150:2.4575775307197176\n"
     ]
    }
   ],
   "source": [
    "percent_predictions(dullpreds_black, 'black', increments_arr[1:])"
   ]
  },
  {
   "cell_type": "markdown",
   "id": "23dfee02",
   "metadata": {
    "heading_collapsed": true,
    "hidden": true
   },
   "source": [
    "### Old Code"
   ]
  },
  {
   "cell_type": "code",
   "execution_count": 56,
   "id": "fccf3e59",
   "metadata": {
    "hidden": true
   },
   "outputs": [
    {
     "name": "stdout",
     "output_type": "stream",
     "text": [
      "Percent of Images Incorrectly Predicted as \n",
      "probability_30:23.68699330278463\n"
     ]
    }
   ],
   "source": [
    "percent_predictions(bright30preds_white, 'white')"
   ]
  },
  {
   "cell_type": "code",
   "execution_count": 12,
   "id": "ae799a59",
   "metadata": {
    "hidden": true
   },
   "outputs": [
    {
     "name": "stdout",
     "output_type": "stream",
     "text": [
      "Percent of Images Incorrectly Predicted as \n",
      "30:23.68699330278463\n",
      "60:100.0\n",
      "90:100.0\n",
      "120:100.0\n",
      "150:100.0\n"
     ]
    }
   ],
   "source": [
    "percent_predictions(bright_white_preds, 'white')"
   ]
  },
  {
   "cell_type": "code",
   "execution_count": 31,
   "id": "040195ae",
   "metadata": {
    "hidden": true
   },
   "outputs": [
    {
     "data": {
      "text/html": [
       "<div>\n",
       "<style scoped>\n",
       "    .dataframe tbody tr th:only-of-type {\n",
       "        vertical-align: middle;\n",
       "    }\n",
       "\n",
       "    .dataframe tbody tr th {\n",
       "        vertical-align: top;\n",
       "    }\n",
       "\n",
       "    .dataframe thead th {\n",
       "        text-align: right;\n",
       "    }\n",
       "</style>\n",
       "<table border=\"1\" class=\"dataframe\">\n",
       "  <thead>\n",
       "    <tr style=\"text-align: right;\">\n",
       "      <th></th>\n",
       "      <th>id</th>\n",
       "      <th>30</th>\n",
       "      <th>60</th>\n",
       "      <th>90</th>\n",
       "      <th>120</th>\n",
       "      <th>150</th>\n",
       "      <th>race</th>\n",
       "    </tr>\n",
       "  </thead>\n",
       "  <tbody>\n",
       "    <tr>\n",
       "      <th>1</th>\n",
       "      <td>82379</td>\n",
       "      <td>0.014365</td>\n",
       "      <td>0.001441</td>\n",
       "      <td>0.001383</td>\n",
       "      <td>0.001755</td>\n",
       "      <td>0.002071</td>\n",
       "      <td>white</td>\n",
       "    </tr>\n",
       "    <tr>\n",
       "      <th>5</th>\n",
       "      <td>87380</td>\n",
       "      <td>0.932330</td>\n",
       "      <td>0.928991</td>\n",
       "      <td>0.866641</td>\n",
       "      <td>0.566693</td>\n",
       "      <td>0.192995</td>\n",
       "      <td>white</td>\n",
       "    </tr>\n",
       "    <tr>\n",
       "      <th>7</th>\n",
       "      <td>43868</td>\n",
       "      <td>0.197987</td>\n",
       "      <td>0.004664</td>\n",
       "      <td>0.002383</td>\n",
       "      <td>0.001999</td>\n",
       "      <td>0.001897</td>\n",
       "      <td>white</td>\n",
       "    </tr>\n",
       "    <tr>\n",
       "      <th>9</th>\n",
       "      <td>102795</td>\n",
       "      <td>0.997897</td>\n",
       "      <td>0.389615</td>\n",
       "      <td>0.024940</td>\n",
       "      <td>0.009268</td>\n",
       "      <td>0.006931</td>\n",
       "      <td>white</td>\n",
       "    </tr>\n",
       "    <tr>\n",
       "      <th>12</th>\n",
       "      <td>84991</td>\n",
       "      <td>0.990329</td>\n",
       "      <td>0.622761</td>\n",
       "      <td>0.062046</td>\n",
       "      <td>0.010388</td>\n",
       "      <td>0.004232</td>\n",
       "      <td>white</td>\n",
       "    </tr>\n",
       "    <tr>\n",
       "      <th>...</th>\n",
       "      <td>...</td>\n",
       "      <td>...</td>\n",
       "      <td>...</td>\n",
       "      <td>...</td>\n",
       "      <td>...</td>\n",
       "      <td>...</td>\n",
       "      <td>...</td>\n",
       "    </tr>\n",
       "    <tr>\n",
       "      <th>4537</th>\n",
       "      <td>96939</td>\n",
       "      <td>0.000316</td>\n",
       "      <td>0.000316</td>\n",
       "      <td>0.000316</td>\n",
       "      <td>0.000316</td>\n",
       "      <td>0.000316</td>\n",
       "      <td>white</td>\n",
       "    </tr>\n",
       "    <tr>\n",
       "      <th>4539</th>\n",
       "      <td>71512</td>\n",
       "      <td>0.000316</td>\n",
       "      <td>0.000316</td>\n",
       "      <td>0.000316</td>\n",
       "      <td>0.000316</td>\n",
       "      <td>0.000316</td>\n",
       "      <td>white</td>\n",
       "    </tr>\n",
       "    <tr>\n",
       "      <th>4540</th>\n",
       "      <td>18169</td>\n",
       "      <td>0.000316</td>\n",
       "      <td>0.000316</td>\n",
       "      <td>0.000316</td>\n",
       "      <td>0.000316</td>\n",
       "      <td>0.000316</td>\n",
       "      <td>white</td>\n",
       "    </tr>\n",
       "    <tr>\n",
       "      <th>4544</th>\n",
       "      <td>33415</td>\n",
       "      <td>0.000316</td>\n",
       "      <td>0.000316</td>\n",
       "      <td>0.000316</td>\n",
       "      <td>0.000316</td>\n",
       "      <td>0.000316</td>\n",
       "      <td>white</td>\n",
       "    </tr>\n",
       "    <tr>\n",
       "      <th>4545</th>\n",
       "      <td>82914</td>\n",
       "      <td>0.000316</td>\n",
       "      <td>0.000316</td>\n",
       "      <td>0.000316</td>\n",
       "      <td>0.000316</td>\n",
       "      <td>0.000316</td>\n",
       "      <td>white</td>\n",
       "    </tr>\n",
       "  </tbody>\n",
       "</table>\n",
       "<p>2837 rows × 7 columns</p>\n",
       "</div>"
      ],
      "text/plain": [
       "          id        30        60        90       120       150   race\n",
       "1      82379  0.014365  0.001441  0.001383  0.001755  0.002071  white\n",
       "5      87380  0.932330  0.928991  0.866641  0.566693  0.192995  white\n",
       "7      43868  0.197987  0.004664  0.002383  0.001999  0.001897  white\n",
       "9     102795  0.997897  0.389615  0.024940  0.009268  0.006931  white\n",
       "12     84991  0.990329  0.622761  0.062046  0.010388  0.004232  white\n",
       "...      ...       ...       ...       ...       ...       ...    ...\n",
       "4537   96939  0.000316  0.000316  0.000316  0.000316  0.000316  white\n",
       "4539   71512  0.000316  0.000316  0.000316  0.000316  0.000316  white\n",
       "4540   18169  0.000316  0.000316  0.000316  0.000316  0.000316  white\n",
       "4544   33415  0.000316  0.000316  0.000316  0.000316  0.000316  white\n",
       "4545   82914  0.000316  0.000316  0.000316  0.000316  0.000316  white\n",
       "\n",
       "[2837 rows x 7 columns]"
      ]
     },
     "execution_count": 31,
     "metadata": {},
     "output_type": "execute_result"
    }
   ],
   "source": [
    "bright_white_preds"
   ]
  },
  {
   "cell_type": "code",
   "execution_count": 34,
   "id": "c5dcec3d",
   "metadata": {
    "hidden": true
   },
   "outputs": [
    {
     "data": {
      "text/html": [
       "<div>\n",
       "<style scoped>\n",
       "    .dataframe tbody tr th:only-of-type {\n",
       "        vertical-align: middle;\n",
       "    }\n",
       "\n",
       "    .dataframe tbody tr th {\n",
       "        vertical-align: top;\n",
       "    }\n",
       "\n",
       "    .dataframe thead th {\n",
       "        text-align: right;\n",
       "    }\n",
       "</style>\n",
       "<table border=\"1\" class=\"dataframe\">\n",
       "  <thead>\n",
       "    <tr style=\"text-align: right;\">\n",
       "      <th></th>\n",
       "      <th>id</th>\n",
       "      <th>30</th>\n",
       "      <th>60</th>\n",
       "      <th>90</th>\n",
       "      <th>120</th>\n",
       "      <th>150</th>\n",
       "      <th>race</th>\n",
       "    </tr>\n",
       "  </thead>\n",
       "  <tbody>\n",
       "    <tr>\n",
       "      <th>0</th>\n",
       "      <td>101934</td>\n",
       "      <td>0.156814</td>\n",
       "      <td>0.239794</td>\n",
       "      <td>0.080069</td>\n",
       "      <td>0.027195</td>\n",
       "      <td>0.013532</td>\n",
       "      <td>black</td>\n",
       "    </tr>\n",
       "    <tr>\n",
       "      <th>2</th>\n",
       "      <td>87427</td>\n",
       "      <td>0.000071</td>\n",
       "      <td>0.000078</td>\n",
       "      <td>0.000162</td>\n",
       "      <td>0.000218</td>\n",
       "      <td>0.000225</td>\n",
       "      <td>black</td>\n",
       "    </tr>\n",
       "    <tr>\n",
       "      <th>3</th>\n",
       "      <td>49236</td>\n",
       "      <td>0.000039</td>\n",
       "      <td>0.000071</td>\n",
       "      <td>0.000110</td>\n",
       "      <td>0.000147</td>\n",
       "      <td>0.000196</td>\n",
       "      <td>black</td>\n",
       "    </tr>\n",
       "    <tr>\n",
       "      <th>4</th>\n",
       "      <td>45251</td>\n",
       "      <td>0.001444</td>\n",
       "      <td>0.003900</td>\n",
       "      <td>0.007533</td>\n",
       "      <td>0.011245</td>\n",
       "      <td>0.013532</td>\n",
       "      <td>black</td>\n",
       "    </tr>\n",
       "    <tr>\n",
       "      <th>6</th>\n",
       "      <td>39426</td>\n",
       "      <td>0.000392</td>\n",
       "      <td>0.000634</td>\n",
       "      <td>0.000739</td>\n",
       "      <td>0.000883</td>\n",
       "      <td>0.000975</td>\n",
       "      <td>black</td>\n",
       "    </tr>\n",
       "    <tr>\n",
       "      <th>...</th>\n",
       "      <td>...</td>\n",
       "      <td>...</td>\n",
       "      <td>...</td>\n",
       "      <td>...</td>\n",
       "      <td>...</td>\n",
       "      <td>...</td>\n",
       "      <td>...</td>\n",
       "    </tr>\n",
       "    <tr>\n",
       "      <th>4535</th>\n",
       "      <td>7451</td>\n",
       "      <td>0.000316</td>\n",
       "      <td>0.000316</td>\n",
       "      <td>0.000316</td>\n",
       "      <td>0.000316</td>\n",
       "      <td>0.000316</td>\n",
       "      <td>black</td>\n",
       "    </tr>\n",
       "    <tr>\n",
       "      <th>4538</th>\n",
       "      <td>101738</td>\n",
       "      <td>0.000316</td>\n",
       "      <td>0.000316</td>\n",
       "      <td>0.000316</td>\n",
       "      <td>0.000316</td>\n",
       "      <td>0.000316</td>\n",
       "      <td>black</td>\n",
       "    </tr>\n",
       "    <tr>\n",
       "      <th>4541</th>\n",
       "      <td>92793</td>\n",
       "      <td>0.000316</td>\n",
       "      <td>0.000316</td>\n",
       "      <td>0.000316</td>\n",
       "      <td>0.000316</td>\n",
       "      <td>0.000316</td>\n",
       "      <td>black</td>\n",
       "    </tr>\n",
       "    <tr>\n",
       "      <th>4542</th>\n",
       "      <td>31340</td>\n",
       "      <td>0.000316</td>\n",
       "      <td>0.000316</td>\n",
       "      <td>0.000316</td>\n",
       "      <td>0.000316</td>\n",
       "      <td>0.000316</td>\n",
       "      <td>black</td>\n",
       "    </tr>\n",
       "    <tr>\n",
       "      <th>4543</th>\n",
       "      <td>99058</td>\n",
       "      <td>0.000316</td>\n",
       "      <td>0.000316</td>\n",
       "      <td>0.000316</td>\n",
       "      <td>0.000316</td>\n",
       "      <td>0.000316</td>\n",
       "      <td>black</td>\n",
       "    </tr>\n",
       "  </tbody>\n",
       "</table>\n",
       "<p>1709 rows × 7 columns</p>\n",
       "</div>"
      ],
      "text/plain": [
       "          id        30        60        90       120       150   race\n",
       "0     101934  0.156814  0.239794  0.080069  0.027195  0.013532  black\n",
       "2      87427  0.000071  0.000078  0.000162  0.000218  0.000225  black\n",
       "3      49236  0.000039  0.000071  0.000110  0.000147  0.000196  black\n",
       "4      45251  0.001444  0.003900  0.007533  0.011245  0.013532  black\n",
       "6      39426  0.000392  0.000634  0.000739  0.000883  0.000975  black\n",
       "...      ...       ...       ...       ...       ...       ...    ...\n",
       "4535    7451  0.000316  0.000316  0.000316  0.000316  0.000316  black\n",
       "4538  101738  0.000316  0.000316  0.000316  0.000316  0.000316  black\n",
       "4541   92793  0.000316  0.000316  0.000316  0.000316  0.000316  black\n",
       "4542   31340  0.000316  0.000316  0.000316  0.000316  0.000316  black\n",
       "4543   99058  0.000316  0.000316  0.000316  0.000316  0.000316  black\n",
       "\n",
       "[1709 rows x 7 columns]"
      ]
     },
     "execution_count": 34,
     "metadata": {},
     "output_type": "execute_result"
    }
   ],
   "source": [
    "bright_black_preds"
   ]
  },
  {
   "cell_type": "code",
   "execution_count": 51,
   "id": "0ac6ac60",
   "metadata": {
    "hidden": true
   },
   "outputs": [
    {
     "data": {
      "text/html": [
       "<div>\n",
       "<style scoped>\n",
       "    .dataframe tbody tr th:only-of-type {\n",
       "        vertical-align: middle;\n",
       "    }\n",
       "\n",
       "    .dataframe tbody tr th {\n",
       "        vertical-align: top;\n",
       "    }\n",
       "\n",
       "    .dataframe thead th {\n",
       "        text-align: right;\n",
       "    }\n",
       "</style>\n",
       "<table border=\"1\" class=\"dataframe\">\n",
       "  <thead>\n",
       "    <tr style=\"text-align: right;\">\n",
       "      <th></th>\n",
       "      <th>id</th>\n",
       "      <th>30</th>\n",
       "      <th>60</th>\n",
       "      <th>90</th>\n",
       "      <th>120</th>\n",
       "      <th>150</th>\n",
       "      <th>race</th>\n",
       "    </tr>\n",
       "  </thead>\n",
       "  <tbody>\n",
       "    <tr>\n",
       "      <th>0</th>\n",
       "      <td>101934</td>\n",
       "      <td>0.043204</td>\n",
       "      <td>0.027118</td>\n",
       "      <td>0.018960</td>\n",
       "      <td>0.024586</td>\n",
       "      <td>0.046725</td>\n",
       "      <td>black</td>\n",
       "    </tr>\n",
       "    <tr>\n",
       "      <th>2</th>\n",
       "      <td>87427</td>\n",
       "      <td>0.081046</td>\n",
       "      <td>0.938463</td>\n",
       "      <td>0.965835</td>\n",
       "      <td>0.974043</td>\n",
       "      <td>0.972831</td>\n",
       "      <td>black</td>\n",
       "    </tr>\n",
       "    <tr>\n",
       "      <th>3</th>\n",
       "      <td>49236</td>\n",
       "      <td>0.000083</td>\n",
       "      <td>0.000636</td>\n",
       "      <td>0.003286</td>\n",
       "      <td>0.037644</td>\n",
       "      <td>0.157525</td>\n",
       "      <td>black</td>\n",
       "    </tr>\n",
       "    <tr>\n",
       "      <th>4</th>\n",
       "      <td>45251</td>\n",
       "      <td>0.003016</td>\n",
       "      <td>0.017193</td>\n",
       "      <td>0.167015</td>\n",
       "      <td>0.869160</td>\n",
       "      <td>0.975249</td>\n",
       "      <td>black</td>\n",
       "    </tr>\n",
       "    <tr>\n",
       "      <th>6</th>\n",
       "      <td>39426</td>\n",
       "      <td>0.000888</td>\n",
       "      <td>0.002742</td>\n",
       "      <td>0.013480</td>\n",
       "      <td>0.057652</td>\n",
       "      <td>0.112210</td>\n",
       "      <td>black</td>\n",
       "    </tr>\n",
       "    <tr>\n",
       "      <th>...</th>\n",
       "      <td>...</td>\n",
       "      <td>...</td>\n",
       "      <td>...</td>\n",
       "      <td>...</td>\n",
       "      <td>...</td>\n",
       "      <td>...</td>\n",
       "      <td>...</td>\n",
       "    </tr>\n",
       "    <tr>\n",
       "      <th>4535</th>\n",
       "      <td>7451</td>\n",
       "      <td>0.000316</td>\n",
       "      <td>0.000316</td>\n",
       "      <td>0.000316</td>\n",
       "      <td>0.000316</td>\n",
       "      <td>0.000316</td>\n",
       "      <td>black</td>\n",
       "    </tr>\n",
       "    <tr>\n",
       "      <th>4538</th>\n",
       "      <td>101738</td>\n",
       "      <td>0.000316</td>\n",
       "      <td>0.000316</td>\n",
       "      <td>0.000316</td>\n",
       "      <td>0.000316</td>\n",
       "      <td>0.000316</td>\n",
       "      <td>black</td>\n",
       "    </tr>\n",
       "    <tr>\n",
       "      <th>4541</th>\n",
       "      <td>92793</td>\n",
       "      <td>0.000316</td>\n",
       "      <td>0.000316</td>\n",
       "      <td>0.000316</td>\n",
       "      <td>0.000316</td>\n",
       "      <td>0.000316</td>\n",
       "      <td>black</td>\n",
       "    </tr>\n",
       "    <tr>\n",
       "      <th>4542</th>\n",
       "      <td>31340</td>\n",
       "      <td>0.000316</td>\n",
       "      <td>0.000316</td>\n",
       "      <td>0.000316</td>\n",
       "      <td>0.000316</td>\n",
       "      <td>0.000316</td>\n",
       "      <td>black</td>\n",
       "    </tr>\n",
       "    <tr>\n",
       "      <th>4543</th>\n",
       "      <td>99058</td>\n",
       "      <td>0.000316</td>\n",
       "      <td>0.000316</td>\n",
       "      <td>0.000316</td>\n",
       "      <td>0.000316</td>\n",
       "      <td>0.000316</td>\n",
       "      <td>black</td>\n",
       "    </tr>\n",
       "  </tbody>\n",
       "</table>\n",
       "<p>1709 rows × 7 columns</p>\n",
       "</div>"
      ],
      "text/plain": [
       "          id        30        60        90       120       150   race\n",
       "0     101934  0.043204  0.027118  0.018960  0.024586  0.046725  black\n",
       "2      87427  0.081046  0.938463  0.965835  0.974043  0.972831  black\n",
       "3      49236  0.000083  0.000636  0.003286  0.037644  0.157525  black\n",
       "4      45251  0.003016  0.017193  0.167015  0.869160  0.975249  black\n",
       "6      39426  0.000888  0.002742  0.013480  0.057652  0.112210  black\n",
       "...      ...       ...       ...       ...       ...       ...    ...\n",
       "4535    7451  0.000316  0.000316  0.000316  0.000316  0.000316  black\n",
       "4538  101738  0.000316  0.000316  0.000316  0.000316  0.000316  black\n",
       "4541   92793  0.000316  0.000316  0.000316  0.000316  0.000316  black\n",
       "4542   31340  0.000316  0.000316  0.000316  0.000316  0.000316  black\n",
       "4543   99058  0.000316  0.000316  0.000316  0.000316  0.000316  black\n",
       "\n",
       "[1709 rows x 7 columns]"
      ]
     },
     "execution_count": 51,
     "metadata": {},
     "output_type": "execute_result"
    }
   ],
   "source": [
    "dull_black_preds"
   ]
  },
  {
   "cell_type": "code",
   "execution_count": 47,
   "id": "0a7381f3",
   "metadata": {
    "hidden": true
   },
   "outputs": [
    {
     "data": {
      "text/plain": [
       "3074"
      ]
     },
     "execution_count": 47,
     "metadata": {},
     "output_type": "execute_result"
    }
   ],
   "source": []
  },
  {
   "cell_type": "code",
   "execution_count": 37,
   "id": "efb35c20",
   "metadata": {
    "hidden": true
   },
   "outputs": [
    {
     "data": {
      "text/html": [
       "<div>\n",
       "<style scoped>\n",
       "    .dataframe tbody tr th:only-of-type {\n",
       "        vertical-align: middle;\n",
       "    }\n",
       "\n",
       "    .dataframe tbody tr th {\n",
       "        vertical-align: top;\n",
       "    }\n",
       "\n",
       "    .dataframe thead th {\n",
       "        text-align: right;\n",
       "    }\n",
       "</style>\n",
       "<table border=\"1\" class=\"dataframe\">\n",
       "  <thead>\n",
       "    <tr style=\"text-align: right;\">\n",
       "      <th></th>\n",
       "      <th>id</th>\n",
       "      <th>30</th>\n",
       "      <th>60</th>\n",
       "      <th>90</th>\n",
       "      <th>120</th>\n",
       "      <th>150</th>\n",
       "      <th>race</th>\n",
       "    </tr>\n",
       "  </thead>\n",
       "  <tbody>\n",
       "  </tbody>\n",
       "</table>\n",
       "</div>"
      ],
      "text/plain": [
       "Empty DataFrame\n",
       "Columns: [id, 30, 60, 90, 120, 150, race]\n",
       "Index: []"
      ]
     },
     "execution_count": 37,
     "metadata": {},
     "output_type": "execute_result"
    }
   ],
   "source": [
    "bright_black_preds[bright_black_preds['30'] == 0.000316]"
   ]
  },
  {
   "cell_type": "code",
   "execution_count": 46,
   "id": "3e30c92a",
   "metadata": {
    "hidden": true
   },
   "outputs": [
    {
     "data": {
      "text/plain": [
       "0.000316    1537\n",
       "0.002296       3\n",
       "0.000510       2\n",
       "0.000166       2\n",
       "0.000546       2\n",
       "            ... \n",
       "0.000688       1\n",
       "0.000223       1\n",
       "0.003148       1\n",
       "0.001158       1\n",
       "0.000401       1\n",
       "Name: 150, Length: 163, dtype: int64"
      ]
     },
     "execution_count": 46,
     "metadata": {},
     "output_type": "execute_result"
    }
   ],
   "source": [
    "pd.value_counts(bright_black_preds['150'])"
   ]
  },
  {
   "cell_type": "code",
   "execution_count": 40,
   "id": "296e49f0",
   "metadata": {
    "hidden": true
   },
   "outputs": [
    {
     "data": {
      "text/html": [
       "<div>\n",
       "<style scoped>\n",
       "    .dataframe tbody tr th:only-of-type {\n",
       "        vertical-align: middle;\n",
       "    }\n",
       "\n",
       "    .dataframe tbody tr th {\n",
       "        vertical-align: top;\n",
       "    }\n",
       "\n",
       "    .dataframe thead th {\n",
       "        text-align: right;\n",
       "    }\n",
       "</style>\n",
       "<table border=\"1\" class=\"dataframe\">\n",
       "  <thead>\n",
       "    <tr style=\"text-align: right;\">\n",
       "      <th></th>\n",
       "      <th>id</th>\n",
       "      <th>30</th>\n",
       "      <th>60</th>\n",
       "      <th>90</th>\n",
       "      <th>120</th>\n",
       "      <th>150</th>\n",
       "      <th>race</th>\n",
       "    </tr>\n",
       "  </thead>\n",
       "  <tbody>\n",
       "    <tr>\n",
       "      <th>1</th>\n",
       "      <td>82379</td>\n",
       "      <td>0.923868</td>\n",
       "      <td>0.958770</td>\n",
       "      <td>0.852935</td>\n",
       "      <td>0.389010</td>\n",
       "      <td>0.125493</td>\n",
       "      <td>white</td>\n",
       "    </tr>\n",
       "    <tr>\n",
       "      <th>5</th>\n",
       "      <td>87380</td>\n",
       "      <td>0.727443</td>\n",
       "      <td>0.798344</td>\n",
       "      <td>0.676887</td>\n",
       "      <td>0.556769</td>\n",
       "      <td>0.556083</td>\n",
       "      <td>white</td>\n",
       "    </tr>\n",
       "    <tr>\n",
       "      <th>7</th>\n",
       "      <td>43868</td>\n",
       "      <td>0.995435</td>\n",
       "      <td>0.998239</td>\n",
       "      <td>0.998516</td>\n",
       "      <td>0.996190</td>\n",
       "      <td>0.982757</td>\n",
       "      <td>white</td>\n",
       "    </tr>\n",
       "    <tr>\n",
       "      <th>9</th>\n",
       "      <td>102795</td>\n",
       "      <td>0.988313</td>\n",
       "      <td>0.903720</td>\n",
       "      <td>0.666985</td>\n",
       "      <td>0.264738</td>\n",
       "      <td>0.154887</td>\n",
       "      <td>white</td>\n",
       "    </tr>\n",
       "    <tr>\n",
       "      <th>12</th>\n",
       "      <td>84991</td>\n",
       "      <td>0.999913</td>\n",
       "      <td>0.999957</td>\n",
       "      <td>0.999769</td>\n",
       "      <td>0.998713</td>\n",
       "      <td>0.982271</td>\n",
       "      <td>white</td>\n",
       "    </tr>\n",
       "    <tr>\n",
       "      <th>...</th>\n",
       "      <td>...</td>\n",
       "      <td>...</td>\n",
       "      <td>...</td>\n",
       "      <td>...</td>\n",
       "      <td>...</td>\n",
       "      <td>...</td>\n",
       "      <td>...</td>\n",
       "    </tr>\n",
       "    <tr>\n",
       "      <th>4537</th>\n",
       "      <td>96939</td>\n",
       "      <td>0.000316</td>\n",
       "      <td>0.000316</td>\n",
       "      <td>0.000316</td>\n",
       "      <td>0.000316</td>\n",
       "      <td>0.000316</td>\n",
       "      <td>white</td>\n",
       "    </tr>\n",
       "    <tr>\n",
       "      <th>4539</th>\n",
       "      <td>71512</td>\n",
       "      <td>0.000316</td>\n",
       "      <td>0.000316</td>\n",
       "      <td>0.000316</td>\n",
       "      <td>0.000316</td>\n",
       "      <td>0.000316</td>\n",
       "      <td>white</td>\n",
       "    </tr>\n",
       "    <tr>\n",
       "      <th>4540</th>\n",
       "      <td>18169</td>\n",
       "      <td>0.000316</td>\n",
       "      <td>0.000316</td>\n",
       "      <td>0.000316</td>\n",
       "      <td>0.000316</td>\n",
       "      <td>0.000316</td>\n",
       "      <td>white</td>\n",
       "    </tr>\n",
       "    <tr>\n",
       "      <th>4544</th>\n",
       "      <td>33415</td>\n",
       "      <td>0.000316</td>\n",
       "      <td>0.000316</td>\n",
       "      <td>0.000316</td>\n",
       "      <td>0.000316</td>\n",
       "      <td>0.000316</td>\n",
       "      <td>white</td>\n",
       "    </tr>\n",
       "    <tr>\n",
       "      <th>4545</th>\n",
       "      <td>82914</td>\n",
       "      <td>0.000316</td>\n",
       "      <td>0.000316</td>\n",
       "      <td>0.000316</td>\n",
       "      <td>0.000316</td>\n",
       "      <td>0.000316</td>\n",
       "      <td>white</td>\n",
       "    </tr>\n",
       "  </tbody>\n",
       "</table>\n",
       "<p>2837 rows × 7 columns</p>\n",
       "</div>"
      ],
      "text/plain": [
       "          id        30        60        90       120       150   race\n",
       "1      82379  0.923868  0.958770  0.852935  0.389010  0.125493  white\n",
       "5      87380  0.727443  0.798344  0.676887  0.556769  0.556083  white\n",
       "7      43868  0.995435  0.998239  0.998516  0.996190  0.982757  white\n",
       "9     102795  0.988313  0.903720  0.666985  0.264738  0.154887  white\n",
       "12     84991  0.999913  0.999957  0.999769  0.998713  0.982271  white\n",
       "...      ...       ...       ...       ...       ...       ...    ...\n",
       "4537   96939  0.000316  0.000316  0.000316  0.000316  0.000316  white\n",
       "4539   71512  0.000316  0.000316  0.000316  0.000316  0.000316  white\n",
       "4540   18169  0.000316  0.000316  0.000316  0.000316  0.000316  white\n",
       "4544   33415  0.000316  0.000316  0.000316  0.000316  0.000316  white\n",
       "4545   82914  0.000316  0.000316  0.000316  0.000316  0.000316  white\n",
       "\n",
       "[2837 rows x 7 columns]"
      ]
     },
     "execution_count": 40,
     "metadata": {},
     "output_type": "execute_result"
    }
   ],
   "source": [
    "dull_white_preds"
   ]
  },
  {
   "cell_type": "code",
   "execution_count": 48,
   "id": "04c94b84",
   "metadata": {
    "hidden": true
   },
   "outputs": [
    {
     "data": {
      "text/plain": [
       "0.000316    2559\n",
       "0.999774       2\n",
       "0.999913       2\n",
       "0.999993       2\n",
       "0.999543       2\n",
       "            ... \n",
       "0.963780       1\n",
       "0.999115       1\n",
       "0.999137       1\n",
       "0.936401       1\n",
       "0.986310       1\n",
       "Name: 30, Length: 273, dtype: int64"
      ]
     },
     "execution_count": 48,
     "metadata": {},
     "output_type": "execute_result"
    }
   ],
   "source": [
    "pd.value_counts(dull_white_preds['30'])"
   ]
  },
  {
   "cell_type": "code",
   "execution_count": 49,
   "id": "92171670",
   "metadata": {
    "hidden": true
   },
   "outputs": [
    {
     "data": {
      "text/plain": [
       "0.9020091646105041"
      ]
     },
     "execution_count": 49,
     "metadata": {},
     "output_type": "execute_result"
    }
   ],
   "source": [
    "2559/2837"
   ]
  },
  {
   "cell_type": "code",
   "execution_count": 50,
   "id": "88dc15a6",
   "metadata": {
    "hidden": true
   },
   "outputs": [
    {
     "data": {
      "text/plain": [
       "0.8993563487419544"
      ]
     },
     "execution_count": 50,
     "metadata": {},
     "output_type": "execute_result"
    }
   ],
   "source": [
    "1537/1709"
   ]
  },
  {
   "cell_type": "markdown",
   "id": "08e835bb",
   "metadata": {
    "heading_collapsed": true
   },
   "source": [
    "## Quick Checks"
   ]
  },
  {
   "cell_type": "code",
   "execution_count": 98,
   "id": "4b200de5",
   "metadata": {
    "hidden": true
   },
   "outputs": [],
   "source": [
    "checksum_arr = [0] * len(test_img_arr)\n",
    "\n",
    "for i in range(len(test_img_arr)):\n",
    "    test_img_arr[i] = test_img_arr[i].astype(np.uint8)\n",
    "    all_sum = np.concatenate(test_img_arr[i]).sum()\n",
    "    checksum_arr[i] = all_sum    "
   ]
  },
  {
   "cell_type": "code",
   "execution_count": 125,
   "id": "38c68b49",
   "metadata": {
    "hidden": true
   },
   "outputs": [
    {
     "data": {
      "text/plain": [
       "1017804.0    2\n",
       "1062438.0    2\n",
       "228525.0     2\n",
       "498261.0     2\n",
       "613530.0     2\n",
       "            ..\n",
       "1108473.0    1\n",
       "1890948.0    1\n",
       "1812981.0    1\n",
       "1255920.0    1\n",
       "110592.0     1\n",
       "Length: 4495, dtype: int64"
      ]
     },
     "execution_count": 125,
     "metadata": {},
     "output_type": "execute_result"
    }
   ],
   "source": [
    "pd.value_counts(checksum_arr)"
   ]
  },
  {
   "cell_type": "code",
   "execution_count": null,
   "id": "3d33383a",
   "metadata": {
    "hidden": true
   },
   "outputs": [],
   "source": [
    "for i in test_img_arr:\n",
    "    plt.imshow(i.astype(np.uint8), interpolation = 'nearest')\n",
    "    plt.show()"
   ]
  }
 ],
 "metadata": {
  "kernelspec": {
   "display_name": "Python 3",
   "language": "python",
   "name": "python3"
  },
  "language_info": {
   "codemirror_mode": {
    "name": "ipython",
    "version": 3
   },
   "file_extension": ".py",
   "mimetype": "text/x-python",
   "name": "python",
   "nbconvert_exporter": "python",
   "pygments_lexer": "ipython3",
   "version": "3.6.9"
  }
 },
 "nbformat": 4,
 "nbformat_minor": 5
}

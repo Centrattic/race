{
 "cells": [
  {
   "cell_type": "code",
   "execution_count": 1,
   "id": "2638b1a8",
   "metadata": {},
   "outputs": [],
   "source": [
    "import pandas as pd\n",
    "import matplotlib.pyplot as plt\n",
    "import numpy as np\n",
    "import os\n",
    "import PIL\n",
    "from PIL import Image\n",
    "from tqdm import tqdm\n",
    "import cv2\n",
    "from functools import partial"
   ]
  },
  {
   "cell_type": "code",
   "execution_count": 2,
   "id": "d30bb3f8",
   "metadata": {},
   "outputs": [],
   "source": [
    "data_path = \"/users/riya/race/dataset/segmentations/\""
   ]
  },
  {
   "cell_type": "code",
   "execution_count": 3,
   "id": "ee847ff6",
   "metadata": {},
   "outputs": [],
   "source": [
    "image_set = os.listdir(data_path)"
   ]
  },
  {
   "cell_type": "code",
   "execution_count": 4,
   "id": "b42b2ddf",
   "metadata": {},
   "outputs": [
    {
     "data": {
      "text/plain": [
       "4546"
      ]
     },
     "execution_count": 4,
     "metadata": {},
     "output_type": "execute_result"
    }
   ],
   "source": [
    "len(image_set)"
   ]
  },
  {
   "cell_type": "code",
   "execution_count": 7,
   "id": "313dbb05",
   "metadata": {},
   "outputs": [
    {
     "name": "stderr",
     "output_type": "stream",
     "text": [
      "100%|██████████| 4546/4546 [02:03<00:00, 36.89it/s]\n"
     ]
    }
   ],
   "source": [
    "color_histogram = np.zeros((224 * 224 * 4546))\n",
    "\n",
    "for i in tqdm(range(len(image_set))):\n",
    "    # print('um')\n",
    "    img_arr = np.array(Image.open(data_path + image_set[i]))\n",
    "    # print(img_arr.shape)\n",
    "    resized_img = cv2.resize(img_arr, (224, 224))\n",
    "    flat_img = resized_img.flatten()\n",
    "    \n",
    "    for j in range(len(flat_img)):\n",
    "        hist_loc = j + i * (224 * 224)\n",
    "        color_histogram[hist_loc] = flat_img[j]    \n",
    "    \n",
    "    # print(pd.value_counts(flat_img))\n",
    "    \n",
    "    # print(len(flat_img))\n",
    "    \n",
    "    # for j, v in enumerate(flat_img):\n",
    "        # color_histogram[j] = (v)"
   ]
  },
  {
   "cell_type": "code",
   "execution_count": 8,
   "id": "3493c2ed",
   "metadata": {},
   "outputs": [
    {
     "data": {
      "text/plain": [
       "228100096"
      ]
     },
     "execution_count": 8,
     "metadata": {},
     "output_type": "execute_result"
    }
   ],
   "source": [
    "len(color_histogram)"
   ]
  },
  {
   "cell_type": "code",
   "execution_count": null,
   "id": "b0ffd5c3",
   "metadata": {},
   "outputs": [],
   "source": [
    "col"
   ]
  },
  {
   "cell_type": "code",
   "execution_count": 9,
   "id": "92ee707d",
   "metadata": {},
   "outputs": [
    {
     "data": {
      "text/plain": [
       "0.0      175531891\n",
       "1.0       18055490\n",
       "2.0        6690657\n",
       "3.0        3864329\n",
       "4.0        2596738\n",
       "           ...    \n",
       "248.0          765\n",
       "249.0          397\n",
       "250.0          186\n",
       "251.0           74\n",
       "252.0            6\n",
       "Length: 253, dtype: int64"
      ]
     },
     "execution_count": 9,
     "metadata": {},
     "output_type": "execute_result"
    }
   ],
   "source": [
    "pd.value_counts(color_histogram)"
   ]
  },
  {
   "cell_type": "code",
   "execution_count": 10,
   "id": "ca22de4b",
   "metadata": {},
   "outputs": [],
   "source": [
    "color_nonzero = color_histogram[color_histogram != 0]"
   ]
  },
  {
   "cell_type": "code",
   "execution_count": 11,
   "id": "7eec0c41",
   "metadata": {},
   "outputs": [
    {
     "data": {
      "text/plain": [
       "52568205"
      ]
     },
     "execution_count": 11,
     "metadata": {},
     "output_type": "execute_result"
    }
   ],
   "source": [
    "len(color_nonzero)"
   ]
  },
  {
   "cell_type": "code",
   "execution_count": 13,
   "id": "d8121b0e",
   "metadata": {},
   "outputs": [
    {
     "data": {
      "image/png": "[encoded data removed]",
      "text/plain": [
       "<Figure size 432x288 with 1 Axes>"
      ]
     },
     "metadata": {
      "needs_background": "light"
     },
     "output_type": "display_data"
    }
   ],
   "source": [
    "plt.title(\"Color Histogram of Black and White RVMs\")\n",
    "plt.xlabel(\"PIVs\")\n",
    "plt.ylabel(\"Relative Frequency of PIV\")\n",
    "\n",
    "plt.yscale('log')\n",
    "\n",
    "bins = np.linspace(0, 255, 50)\n",
    "plt.hist(color_nonzero, bins, edgecolor = 'k')\n",
    "plt.show()"
   ]
  },
  {
   "cell_type": "code",
   "execution_count": 27,
   "id": "df041087",
   "metadata": {},
   "outputs": [],
   "source": [
    "def get_color_histogram_array(race_bool, race, \n",
    "                             data_path = \"/users/riya/race/dataset/segmentations/\", \n",
    "                             race_csv_path = \"/users/riya/race/csv/image_race_data.csv\"):\n",
    "    \n",
    "    race_data = pd.read_csv(race_csv_path)\n",
    "   \n",
    "    # number of white images: 2837\n",
    "    # number of black images: 1709\n",
    "    \n",
    "    image_set = os.listdir(data_path)\n",
    "    color_histogram = np.zeros((224 * 224 * 4546))\n",
    "    \n",
    "    if race_bool == True:\n",
    "        assert (race == 'black' or race == 'white')\n",
    "        if race == 'black':\n",
    "            image_set = np.array(race_data.loc[race_data['race']=='black','segmentation_location'])\n",
    "            color_histogram = np.zeros((224 * 224 * 1709))\n",
    "        elif race == 'white':\n",
    "            image_set = np.array(race_data.loc[race_data['race']=='white','segmentation_location'])\n",
    "            color_histogram = np.zeros((224 * 224 * 2837))\n",
    "    \n",
    "    for i in tqdm(range(len(image_set))):\n",
    "        img_arr = np.array(Image.open(data_path + image_set[i]))\n",
    "        resized_img = cv2.resize(img_arr, (224, 224))\n",
    "        flat_img = resized_img.flatten()\n",
    "    \n",
    "        for j in range(len(flat_img)):\n",
    "            hist_loc = j + i * (224 * 224)\n",
    "            color_histogram[hist_loc] = flat_img[j]  \n",
    "\n",
    "    color_nonzero = color_histogram[color_histogram!= 0]\n",
    "    return color_histogram, color_nonzero"
   ]
  },
  {
   "cell_type": "code",
   "execution_count": 28,
   "id": "bd6c26c2",
   "metadata": {},
   "outputs": [
    {
     "name": "stderr",
     "output_type": "stream",
     "text": [
      "100%|██████████| 2837/2837 [01:03<00:00, 44.82it/s]\n"
     ]
    }
   ],
   "source": [
    "white_histogram, white_nonzero = get_color_histogram_array(True, 'white') "
   ]
  },
  {
   "cell_type": "code",
   "execution_count": 30,
   "id": "93cefde9",
   "metadata": {},
   "outputs": [
    {
     "name": "stderr",
     "output_type": "stream",
     "text": [
      "100%|██████████| 1709/1709 [00:39<00:00, 43.72it/s]\n"
     ]
    }
   ],
   "source": [
    "black_histogram, black_nonzero = get_color_histogram_array(True, 'black') "
   ]
  },
  {
   "cell_type": "code",
   "execution_count": 29,
   "id": "a00a889c",
   "metadata": {},
   "outputs": [
    {
     "data": {
      "text/plain": [
       "(142349312, 36955909)"
      ]
     },
     "execution_count": 29,
     "metadata": {},
     "output_type": "execute_result"
    }
   ],
   "source": [
    "len(white_histogram), len(white_nonzero)"
   ]
  },
  {
   "cell_type": "code",
   "execution_count": 34,
   "id": "5c362481",
   "metadata": {},
   "outputs": [
    {
     "data": {
      "text/plain": [
       "(85750784, 15612296)"
      ]
     },
     "execution_count": 34,
     "metadata": {},
     "output_type": "execute_result"
    }
   ],
   "source": [
    "len(black_histogram), len(black_nonzero)"
   ]
  },
  {
   "cell_type": "code",
   "execution_count": 117,
   "id": "ac679883",
   "metadata": {
    "scrolled": true
   },
   "outputs": [
    {
     "data": {
      "image/png": "[encoded data removed]",
      "text/plain": [
       "<Figure size 1080x360 with 1 Axes>"
      ]
     },
     "metadata": {
      "needs_background": "light"
     },
     "output_type": "display_data"
    }
   ],
   "source": [
    "plt.title(\"Normalized Intensity Histogram of Unaltered White RVMs and Black RVMs\")\n",
    "plt.xlabel(\"PIVs\")\n",
    "plt.ylabel(\"Relative Frequency of PIV\")\n",
    "plt.yscale('log')\n",
    "plt.gcf().set_size_inches(15, 5)\n",
    "\n",
    "bins = np.linspace(0, 255, 255)\n",
    "\n",
    "plt.hist(white_nonzero, bins, edgecolor = None, density = True, histtype = 'stepfilled',\n",
    "         fc = (0, 1, 1, 1),\n",
    "         label = 'White RVMs')\n",
    "\n",
    "plt.hist(black_nonzero, bins, edgecolor = None, density = True, histtype = 'stepfilled',\n",
    "         fc = (1, 0, 1, 1), alpha = 0.5,\n",
    "         label = 'Black RVMs')\n",
    "\n",
    "plt.legend(loc = 'upper right')\n",
    "plt.show()"
   ]
  },
  {
   "cell_type": "code",
   "execution_count": 59,
   "id": "7eaca69e",
   "metadata": {},
   "outputs": [],
   "source": [
    "value_counts_white = dict(pd.value_counts(white_nonzero)/4546)\n",
    "value_counts_black = dict(pd.value_counts(black_nonzero)/4546)"
   ]
  },
  {
   "cell_type": "code",
   "execution_count": 121,
   "id": "6fed9c31",
   "metadata": {},
   "outputs": [
    {
     "data": {
      "image/png": "[encoded data removed]",
      "text/plain": [
       "<Figure size 1080x360 with 1 Axes>"
      ]
     },
     "metadata": {
      "needs_background": "light"
     },
     "output_type": "display_data"
    }
   ],
   "source": [
    "plt.title(\"Normalized Intensity Histogram of Unaltered White RVMs and Black RVMs\")\n",
    "plt.xlabel(\"PIVs\")\n",
    "plt.ylabel(\"Relative Frequency of PIV\")\n",
    "plt.yscale('log')\n",
    "plt.gcf().set_size_inches(15, 5)\n",
    "\n",
    "bins = np.linspace(0, 255, 255)\n",
    "\n",
    "x_axis = np.arange(len(value_counts_white.keys()))\n",
    "\n",
    "plt.hist(value_counts_white.values(), bins, edgecolor = None, density = True, histtype = 'stepfilled',\n",
    "         fc = (0, 1, 1, 1),\n",
    "         label = 'White RVMs')\n",
    "\n",
    "plt.hist(value_counts_black.values(), bins, edgecolor = None, density = True, histtype = 'stepfilled',\n",
    "         fc = (1, 0, 1, 1), alpha = 0.5,\n",
    "         label = 'Black RVMs')\n",
    "\n",
    "plt.legend(loc = 'upper right')\n",
    "plt.show()"
   ]
  },
  {
   "cell_type": "code",
   "execution_count": 119,
   "id": "4d31c909",
   "metadata": {},
   "outputs": [
    {
     "data": {
      "image/png": "[encoded data removed]",
      "text/plain": [
       "<Figure size 1080x360 with 1 Axes>"
      ]
     },
     "metadata": {
      "needs_background": "light"
     },
     "output_type": "display_data"
    }
   ],
   "source": [
    "plt.title(\"Intensity Histogram of Unaltered White RVMs and Black RVMs\")\n",
    "plt.xlabel(\"PIVs\")\n",
    "plt.ylabel(\"Relative Frequency of PIV\")\n",
    "plt.yscale('log')\n",
    "plt.gcf().set_size_inches(15, 5)\n",
    "\n",
    "width = 1\n",
    "x_axis = np.arange(len(value_counts_white.keys()))\n",
    "\n",
    "plt.bar(x_axis, value_counts_white.values(), width = width, edgecolor=None, \n",
    "        fc = (0, 1, 1, 1),\n",
    "        label = \"White RVMs\")\n",
    "plt.bar(x_axis, value_counts_black.values(), width = width, edgecolor=None, \n",
    "        fc = (1, 0, 1, 1), alpha = 0.5,\n",
    "        label = \"Black RVMs\")\n",
    "\n",
    "plt.legend()\n",
    "\n",
    "plt.show()"
   ]
  },
  {
   "cell_type": "code",
   "execution_count": null,
   "id": "ca5a8956",
   "metadata": {},
   "outputs": [],
   "source": []
  },
  {
   "cell_type": "code",
   "execution_count": null,
   "id": "b592764f",
   "metadata": {},
   "outputs": [],
   "source": []
  },
  {
   "cell_type": "code",
   "execution_count": 45,
   "id": "5c4b41b5",
   "metadata": {},
   "outputs": [
    {
     "data": {
      "image/png": "[encoded data removed]",
      "text/plain": [
       "<Figure size 1080x360 with 1 Axes>"
      ]
     },
     "metadata": {
      "needs_background": "light"
     },
     "output_type": "display_data"
    }
   ],
   "source": [
    "plt.title(\"Color Histogram of White RVMs vs. Black RVMs\")\n",
    "plt.xlabel(\"PIVs\")\n",
    "plt.ylabel(\"Relative Frequency of PIV\")\n",
    "plt.yscale('log')\n",
    "plt.gcf().set_size_inches(15, 5)\n",
    "\n",
    "bins = np.linspace(0, 255, 50)\n",
    "plt.hist([white_nonzero, black_nonzero], bins, edgecolor = 'k', density = False, \n",
    "         label = ['White RVMs', 'Black RVMs'])\n",
    "plt.legend(loc = 'upper right')\n",
    "plt.show()"
   ]
  },
  {
   "cell_type": "code",
   "execution_count": null,
   "id": "79ac970d",
   "metadata": {},
   "outputs": [],
   "source": []
  }
 ],
 "metadata": {
  "kernelspec": {
   "display_name": "Python 3",
   "language": "python",
   "name": "python3"
  },
  "language_info": {
   "codemirror_mode": {
    "name": "ipython",
    "version": 3
   },
   "file_extension": ".py",
   "mimetype": "text/x-python",
   "name": "python",
   "nbconvert_exporter": "python",
   "pygments_lexer": "ipython3",
   "version": "3.6.9"
  }
 },
 "nbformat": 4,
 "nbformat_minor": 5
}

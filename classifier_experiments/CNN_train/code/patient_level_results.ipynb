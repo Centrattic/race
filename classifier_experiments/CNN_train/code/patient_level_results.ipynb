{
 "cells": [
  {
   "cell_type": "code",
   "execution_count": 1,
   "id": "ad4b453b",
   "metadata": {},
   "outputs": [],
   "source": [
    "import numpy as np \n",
    "import pandas as pd\n",
    "import matplotlib.pyplot as plt\n",
    "import re\n",
    "from sklearn import metrics\n",
    "import tqdm"
   ]
  },
  {
   "cell_type": "code",
   "execution_count": null,
   "id": "b1775453",
   "metadata": {},
   "outputs": [],
   "source": []
  },
  {
   "cell_type": "code",
   "execution_count": 2,
   "id": "5ab07155",
   "metadata": {},
   "outputs": [],
   "source": [
    "csv_path = \"/users/riya/race/classifier_experiments/CNN_train/outputs/probabilities/\"\n",
    "race_data_path = \"/users/riya/race/csv/image_race_data.csv\""
   ]
  },
  {
   "cell_type": "code",
   "execution_count": 3,
   "id": "b5ee9e95",
   "metadata": {},
   "outputs": [],
   "source": [
    "race_data = pd.read_csv(race_data_path)"
   ]
  },
  {
   "cell_type": "code",
   "execution_count": 4,
   "id": "e0c65d21",
   "metadata": {},
   "outputs": [
    {
     "data": {
      "text/html": [
       "<div>\n",
       "<style scoped>\n",
       "    .dataframe tbody tr th:only-of-type {\n",
       "        vertical-align: middle;\n",
       "    }\n",
       "\n",
       "    .dataframe tbody tr th {\n",
       "        vertical-align: top;\n",
       "    }\n",
       "\n",
       "    .dataframe thead th {\n",
       "        text-align: right;\n",
       "    }\n",
       "</style>\n",
       "<table border=\"1\" class=\"dataframe\">\n",
       "  <thead>\n",
       "    <tr style=\"text-align: right;\">\n",
       "      <th></th>\n",
       "      <th>subject_id</th>\n",
       "      <th>race</th>\n",
       "      <th>variable</th>\n",
       "      <th>value</th>\n",
       "      <th>image_id</th>\n",
       "      <th>fundus_location</th>\n",
       "      <th>segmentation_location</th>\n",
       "    </tr>\n",
       "  </thead>\n",
       "  <tbody>\n",
       "    <tr>\n",
       "      <th>0</th>\n",
       "      <td>BEAU-0002</td>\n",
       "      <td>black</td>\n",
       "      <td>posterior</td>\n",
       "      <td>https://tctc.ohsu.edu/uploads/30121.bmp</td>\n",
       "      <td>30121</td>\n",
       "      <td>30121.png</td>\n",
       "      <td>30121.bmp</td>\n",
       "    </tr>\n",
       "    <tr>\n",
       "      <th>1</th>\n",
       "      <td>BEAU-0003</td>\n",
       "      <td>white</td>\n",
       "      <td>posterior</td>\n",
       "      <td>https://tctc.ohsu.edu/uploads/30672.bmp</td>\n",
       "      <td>30672</td>\n",
       "      <td>30672.png</td>\n",
       "      <td>30672.bmp</td>\n",
       "    </tr>\n",
       "    <tr>\n",
       "      <th>2</th>\n",
       "      <td>BEAU-0003</td>\n",
       "      <td>white</td>\n",
       "      <td>posterior</td>\n",
       "      <td>https://tctc.ohsu.edu/uploads/30676.bmp</td>\n",
       "      <td>30676</td>\n",
       "      <td>30676.png</td>\n",
       "      <td>30676.bmp</td>\n",
       "    </tr>\n",
       "    <tr>\n",
       "      <th>3</th>\n",
       "      <td>BEAU-0004</td>\n",
       "      <td>white</td>\n",
       "      <td>posterior</td>\n",
       "      <td>https://tctc.ohsu.edu/uploads/30630.bmp</td>\n",
       "      <td>30630</td>\n",
       "      <td>30630.png</td>\n",
       "      <td>30630.bmp</td>\n",
       "    </tr>\n",
       "    <tr>\n",
       "      <th>4</th>\n",
       "      <td>BEAU-0006</td>\n",
       "      <td>white</td>\n",
       "      <td>posterior</td>\n",
       "      <td>https://tctc.ohsu.edu/uploads/30696.bmp</td>\n",
       "      <td>30696</td>\n",
       "      <td>30696.png</td>\n",
       "      <td>30696.bmp</td>\n",
       "    </tr>\n",
       "  </tbody>\n",
       "</table>\n",
       "</div>"
      ],
      "text/plain": [
       "  subject_id   race   variable                                    value  \\\n",
       "0  BEAU-0002  black  posterior  https://tctc.ohsu.edu/uploads/30121.bmp   \n",
       "1  BEAU-0003  white  posterior  https://tctc.ohsu.edu/uploads/30672.bmp   \n",
       "2  BEAU-0003  white  posterior  https://tctc.ohsu.edu/uploads/30676.bmp   \n",
       "3  BEAU-0004  white  posterior  https://tctc.ohsu.edu/uploads/30630.bmp   \n",
       "4  BEAU-0006  white  posterior  https://tctc.ohsu.edu/uploads/30696.bmp   \n",
       "\n",
       "   image_id fundus_location segmentation_location  \n",
       "0     30121       30121.png             30121.bmp  \n",
       "1     30672       30672.png             30672.bmp  \n",
       "2     30676       30676.png             30676.bmp  \n",
       "3     30630       30630.png             30630.bmp  \n",
       "4     30696       30696.png             30696.bmp  "
      ]
     },
     "execution_count": 4,
     "metadata": {},
     "output_type": "execute_result"
    }
   ],
   "source": [
    "race_data.head()"
   ]
  },
  {
   "cell_type": "code",
   "execution_count": 5,
   "id": "1f039270",
   "metadata": {},
   "outputs": [],
   "source": [
    "def get_acc(true_values, probabilities):\n",
    "   \n",
    "    true_values = true_values.reset_index(drop=True)\n",
    "    probabilities = probabilities.reset_index(drop=True)\n",
    "\n",
    "    assert len(true_values) == len(probabilities)\n",
    "    num_elements = len(true_values)\n",
    "    same_elements = 0\n",
    "    \n",
    "    for i in range(num_elements):\n",
    "        rounded_prob = round(probabilities[i])\n",
    "        if true_values[i] == rounded_prob:\n",
    "            same_elements += 1\n",
    "    \n",
    "    acc = same_elements/num_elements\n",
    "    acc = 1 - acc\n",
    "            \n",
    "    acc = np.round(acc,4) # 1 - just to get the percent misclassified\n",
    "    \n",
    "    return acc"
   ]
  },
  {
   "cell_type": "code",
   "execution_count": 6,
   "id": "76755157",
   "metadata": {},
   "outputs": [],
   "source": [
    "def patient_level_auc(race_data, csv_paths, \n",
    "                     base_path = \"/users/riya/race/classifier_experiments/CNN_train/outputs/probabilities/\"):\n",
    "    \n",
    "    prob_csv_arr = []\n",
    "\n",
    "    for path in csv_paths:\n",
    "        img_id_arr = []\n",
    "        subject_id_arr = []\n",
    "        race_arr = []\n",
    "\n",
    "        prob_csv = pd.read_csv(base_path + path)\n",
    "\n",
    "        for i in range(len(prob_csv)):\n",
    "            img_id = int(re.findall(r'\\d+', prob_csv.iloc[i]['img_loc'])[0])\n",
    "            img_id_arr.append(img_id)\n",
    "\n",
    "            subject_id = race_data.loc[race_data['image_id'] == img_id, ['subject_id']]\n",
    "            subject_id = np.array(subject_id)[0][0]\n",
    "            \n",
    "            subject_id_arr.append(subject_id)\n",
    "            \n",
    "            race = race_data.loc[race_data['image_id'] == img_id, ['race']]\n",
    "            race = np.array(race)[0][0]\n",
    "\n",
    "            race_arr.append(race)\n",
    "            \n",
    "        for i in range(len(race_arr)): # fixing up race_arr\n",
    "            if race_arr[i] == 'black':\n",
    "                race_arr[i] = 0\n",
    "            elif race_arr[i] == 'white':\n",
    "                race_arr[i] = 1\n",
    "            else:\n",
    "                print('darn it')\n",
    "\n",
    "        prob_csv['image_id'] = img_id_arr\n",
    "        prob_csv['subject_id'] = subject_id_arr\n",
    "        prob_csv['race'] = race_arr\n",
    "        \n",
    "        prob_csv_arr.append(prob_csv)\n",
    "\n",
    "    return csv_paths, prob_csv_arr"
   ]
  },
  {
   "cell_type": "code",
   "execution_count": 11,
   "id": "fda44157",
   "metadata": {},
   "outputs": [],
   "source": [
    "def get_the_aucs(csv_paths, prob_csv_arr, accs):\n",
    "    \n",
    "    patient_level_auc = []\n",
    "    white_acc_arr = []\n",
    "    black_acc_arr = []\n",
    "    \n",
    "    for prob_csv in prob_csv_arr:\n",
    "        \n",
    "        med_prob_arr = []\n",
    "        med_race_arr = []\n",
    "        \n",
    "        for unique_subject in np.unique(prob_csv['subject_id']):\n",
    "            csv_subsect = prob_csv[prob_csv['subject_id'] == unique_subject]\n",
    "            med_prob = np.median(np.array(csv_subsect['probability']))\n",
    "            med_race = np.median(np.array(csv_subsect['race']))\n",
    "            \n",
    "            med_prob_arr.append(med_prob)\n",
    "            med_race_arr.append(med_race)\n",
    "            \n",
    "        med_auc = metrics.roc_auc_score(med_race_arr, 1 - np.array(med_prob_arr)) # prob of white class\n",
    "        med_auc = np.round(med_auc, 4)\n",
    "        \n",
    "        patient_level_auc.append(med_auc)\n",
    "\n",
    "        if accs == True:\n",
    "            acc_df = pd.DataFrame()\n",
    "\n",
    "            acc_df['race_pred'] = med_prob_arr\n",
    "            acc_df['race_true'] = med_race_arr\n",
    "            \n",
    "            white_acc_df = acc_df[acc_df['race_true'] == 1]\n",
    "            black_acc_df = acc_df[acc_df['race_true'] == 0]\n",
    "            \n",
    "            white_acc = get_acc(white_acc_df['race_true'], white_acc_df['race_pred'])\n",
    "            black_acc = get_acc(black_acc_df['race_true'], black_acc_df['race_pred'])\n",
    "            \n",
    "            white_acc_arr.append(white_acc)\n",
    "            black_acc_arr.append(black_acc)\n",
    "    \n",
    "    auc_dict = {csv_paths[i]: patient_level_auc[i] for i in range(len(csv_paths))}\n",
    "    \n",
    "    if accs == True:\n",
    "        white_acc_dict = {csv_paths[i]: white_acc_arr[i] for i in range(len(csv_paths))}\n",
    "        black_acc_dict = {csv_paths[i]: black_acc_arr[i] for i in range(len(csv_paths))}\n",
    "        \n",
    "        return auc_dict, white_acc_dict, black_acc_dict\n",
    "\n",
    "    return auc_dict"
   ]
  },
  {
   "cell_type": "code",
   "execution_count": 7,
   "id": "c8788424",
   "metadata": {},
   "outputs": [],
   "source": [
    "center_retained_arr = [\"original_epoch50.csv\", \"skeletonized_epoch50.csv\", \"shadow_rings_dark_background_45_90_epoch50.csv\", \n",
    "            \"shadow_rings_dark_background_45_90_skeletonized_epoch50.csv\", \"shadow_regions_dark_background_45_epoch50.csv\", \n",
    "           \"shadow_regions_dark_background_45_skeletonized_epoch50.csv\", \"shadow_regions_dark_background_60_epoch50.csv\", \n",
    "           \"shadow_regions_dark_background_60_skeletonized_epoch50.csv\", \"shadow_regions_dark_background_90_epoch50.csv\",\n",
    "           \"shadow_regions_dark_background_90_skeletonized_epoch50.csv\"]"
   ]
  },
  {
   "cell_type": "code",
   "execution_count": 11,
   "id": "a54b82db",
   "metadata": {},
   "outputs": [],
   "source": [
    "back_retained_arr = [\"shadow_rings_dark_center_45_90_epoch50.csv\", \n",
    "            \"shadow_rings_dark_center_45_90_skeletonized_epoch50.csv\", \"shadow_regions_dark_center_45_epoch50.csv\", \n",
    "           \"shadow_regions_dark_center_45_skeletonized_epoch50.csv\", \"shadow_regions_dark_center_60_epoch50.csv\", \n",
    "           \"shadow_regions_dark_center_60_skeletonized_epoch50.csv\", \"shadow_regions_dark_center_90_epoch50.csv\",\n",
    "           \"shadow_regions_dark_center_90_skeletonized_epoch50.csv\"]"
   ]
  },
  {
   "cell_type": "code",
   "execution_count": 19,
   "id": "c04abae6",
   "metadata": {},
   "outputs": [],
   "source": [
    "macula_arr = [\"#10(macula_focus)/show_macula_brightened_by_0_epoch50.csv\", \n",
    "              \"#10(macula_focus)/hide_macula_brightened_by_0_epoch50.csv\", \n",
    "              \"#10(macula_focus)/show_macula_brightened_by_0_skeletonized_epoch50.csv\",\n",
    "              \"#10(macula_focus)/hide_macula_brightened_by_0_skeletonized_epoch50.csv\"]"
   ]
  },
  {
   "cell_type": "code",
   "execution_count": 25,
   "id": "399cdfe1",
   "metadata": {},
   "outputs": [],
   "source": [
    "nonzero_pixel = [\"#8(random_pixels)/random_pixels_brightened_by_0_skeletonized_epoch50.csv\"]"
   ]
  },
  {
   "cell_type": "code",
   "execution_count": 30,
   "id": "7117fb98",
   "metadata": {},
   "outputs": [],
   "source": [
    "piv_arr = [\"#13(random_pixels_constant_pixel_count)/full_set_random_pixels_brightened_by_0_epoch50.csv\",\n",
    "          \"#13(random_pixels_constant_pixel_count)/full_set_random_pixels_brightened_by_20_epoch50.csv\",\n",
    "          \"#13(random_pixels_constant_pixel_count)/full_set_random_pixels_brightened_by_40_epoch50.csv\",\n",
    "          \"#13(random_pixels_constant_pixel_count)/full_set_random_pixels_brightened_by_60_epoch50.csv\",\n",
    "          \"#13(random_pixels_constant_pixel_count)/full_set_random_pixels_brightened_by_80_epoch50.csv\",\n",
    "          \"#13(random_pixels_constant_pixel_count)/full_set_random_pixels_brightened_by_100_epoch50.csv\",\n",
    "          \"#13(random_pixels_constant_pixel_count)/full_set_random_pixels_brightened_by_120_epoch50.csv\"]"
   ]
  },
  {
   "cell_type": "code",
   "execution_count": 31,
   "id": "004e8e61",
   "metadata": {},
   "outputs": [],
   "source": [
    "csv_paths, prob_csv_arr = patient_level_auc(race_data, piv_arr)"
   ]
  },
  {
   "cell_type": "code",
   "execution_count": 32,
   "id": "ca63d2b0",
   "metadata": {},
   "outputs": [],
   "source": [
    "auc_dict, white_acc_dict, black_acc_dict = get_the_aucs(csv_paths, prob_csv_arr, accs = True)"
   ]
  },
  {
   "cell_type": "code",
   "execution_count": null,
   "id": "7a381e6f",
   "metadata": {},
   "outputs": [],
   "source": []
  },
  {
   "cell_type": "code",
   "execution_count": 33,
   "id": "a250d0bb",
   "metadata": {},
   "outputs": [
    {
     "data": {
      "text/plain": [
       "({'#13(random_pixels_constant_pixel_count)/full_set_random_pixels_brightened_by_0_epoch50.csv': 0.807,\n",
       "  '#13(random_pixels_constant_pixel_count)/full_set_random_pixels_brightened_by_20_epoch50.csv': 0.8107,\n",
       "  '#13(random_pixels_constant_pixel_count)/full_set_random_pixels_brightened_by_40_epoch50.csv': 0.7855,\n",
       "  '#13(random_pixels_constant_pixel_count)/full_set_random_pixels_brightened_by_60_epoch50.csv': 0.7742,\n",
       "  '#13(random_pixels_constant_pixel_count)/full_set_random_pixels_brightened_by_80_epoch50.csv': 0.7806,\n",
       "  '#13(random_pixels_constant_pixel_count)/full_set_random_pixels_brightened_by_100_epoch50.csv': 0.7349,\n",
       "  '#13(random_pixels_constant_pixel_count)/full_set_random_pixels_brightened_by_120_epoch50.csv': 0.7607},\n",
       " {'#13(random_pixels_constant_pixel_count)/full_set_random_pixels_brightened_by_0_epoch50.csv': 0.6821,\n",
       "  '#13(random_pixels_constant_pixel_count)/full_set_random_pixels_brightened_by_20_epoch50.csv': 0.7351,\n",
       "  '#13(random_pixels_constant_pixel_count)/full_set_random_pixels_brightened_by_40_epoch50.csv': 0.8212,\n",
       "  '#13(random_pixels_constant_pixel_count)/full_set_random_pixels_brightened_by_60_epoch50.csv': 0.5033,\n",
       "  '#13(random_pixels_constant_pixel_count)/full_set_random_pixels_brightened_by_80_epoch50.csv': 0.6424,\n",
       "  '#13(random_pixels_constant_pixel_count)/full_set_random_pixels_brightened_by_100_epoch50.csv': 0.7748,\n",
       "  '#13(random_pixels_constant_pixel_count)/full_set_random_pixels_brightened_by_120_epoch50.csv': 0.8609},\n",
       " {'#13(random_pixels_constant_pixel_count)/full_set_random_pixels_brightened_by_0_epoch50.csv': 0.7841,\n",
       "  '#13(random_pixels_constant_pixel_count)/full_set_random_pixels_brightened_by_20_epoch50.csv': 0.7273,\n",
       "  '#13(random_pixels_constant_pixel_count)/full_set_random_pixels_brightened_by_40_epoch50.csv': 0.6023,\n",
       "  '#13(random_pixels_constant_pixel_count)/full_set_random_pixels_brightened_by_60_epoch50.csv': 0.8977,\n",
       "  '#13(random_pixels_constant_pixel_count)/full_set_random_pixels_brightened_by_80_epoch50.csv': 0.7386,\n",
       "  '#13(random_pixels_constant_pixel_count)/full_set_random_pixels_brightened_by_100_epoch50.csv': 0.625,\n",
       "  '#13(random_pixels_constant_pixel_count)/full_set_random_pixels_brightened_by_120_epoch50.csv': 0.5568})"
      ]
     },
     "execution_count": 33,
     "metadata": {},
     "output_type": "execute_result"
    }
   ],
   "source": [
    "auc_dict, white_acc_dict, black_acc_dict"
   ]
  },
  {
   "cell_type": "code",
   "execution_count": null,
   "id": "7c26ec52",
   "metadata": {},
   "outputs": [],
   "source": []
  },
  {
   "cell_type": "code",
   "execution_count": 29,
   "id": "cdb1dac5",
   "metadata": {},
   "outputs": [
    {
     "data": {
      "text/plain": [
       "({'#8(random_pixels)/random_pixels_brightened_by_0_skeletonized_epoch50.csv': 0.7672},\n",
       " {'#8(random_pixels)/random_pixels_brightened_by_0_skeletonized_epoch50.csv': 0.7313},\n",
       " {'#8(random_pixels)/random_pixels_brightened_by_0_skeletonized_epoch50.csv': 0.7215})"
      ]
     },
     "execution_count": 29,
     "metadata": {},
     "output_type": "execute_result"
    }
   ],
   "source": [
    "auc_dict, white_acc_dict, black_acc_dict"
   ]
  },
  {
   "cell_type": "code",
   "execution_count": null,
   "id": "f99ba0f0",
   "metadata": {},
   "outputs": [],
   "source": []
  },
  {
   "cell_type": "code",
   "execution_count": null,
   "id": "d87f5991",
   "metadata": {},
   "outputs": [],
   "source": []
  },
  {
   "cell_type": "code",
   "execution_count": 22,
   "id": "aa6dde31",
   "metadata": {},
   "outputs": [
    {
     "data": {
      "text/plain": [
       "{'#10(macula_focus)/show_macula_brightened_by_0_epoch50.csv': 0.9646,\n",
       " '#10(macula_focus)/hide_macula_brightened_by_0_epoch50.csv': 0.9302,\n",
       " '#10(macula_focus)/show_macula_brightened_by_0_skeletonized_epoch50.csv': 0.9252,\n",
       " '#10(macula_focus)/hide_macula_brightened_by_0_skeletonized_epoch50.csv': 0.9126}"
      ]
     },
     "execution_count": 22,
     "metadata": {},
     "output_type": "execute_result"
    }
   ],
   "source": [
    "auc_dict"
   ]
  },
  {
   "cell_type": "code",
   "execution_count": 23,
   "id": "0e6fb013",
   "metadata": {},
   "outputs": [
    {
     "data": {
      "text/plain": [
       "{'#10(macula_focus)/show_macula_brightened_by_0_epoch50.csv': 0.8344,\n",
       " '#10(macula_focus)/hide_macula_brightened_by_0_epoch50.csv': 0.9272,\n",
       " '#10(macula_focus)/show_macula_brightened_by_0_skeletonized_epoch50.csv': 0.7682,\n",
       " '#10(macula_focus)/hide_macula_brightened_by_0_skeletonized_epoch50.csv': 0.8146}"
      ]
     },
     "execution_count": 23,
     "metadata": {},
     "output_type": "execute_result"
    }
   ],
   "source": [
    "white_acc_dict"
   ]
  },
  {
   "cell_type": "code",
   "execution_count": 24,
   "id": "c628cbc2",
   "metadata": {},
   "outputs": [
    {
     "data": {
      "text/plain": [
       "{'#10(macula_focus)/show_macula_brightened_by_0_epoch50.csv': 0.9659,\n",
       " '#10(macula_focus)/hide_macula_brightened_by_0_epoch50.csv': 0.7273,\n",
       " '#10(macula_focus)/show_macula_brightened_by_0_skeletonized_epoch50.csv': 0.9205,\n",
       " '#10(macula_focus)/hide_macula_brightened_by_0_skeletonized_epoch50.csv': 0.8523}"
      ]
     },
     "execution_count": 24,
     "metadata": {},
     "output_type": "execute_result"
    }
   ],
   "source": [
    "black_acc_dict"
   ]
  },
  {
   "cell_type": "code",
   "execution_count": null,
   "id": "32dba09c",
   "metadata": {},
   "outputs": [],
   "source": []
  },
  {
   "cell_type": "code",
   "execution_count": 14,
   "id": "a25334d8",
   "metadata": {},
   "outputs": [
    {
     "data": {
      "text/plain": [
       "{'shadow_rings_dark_center_45_90_epoch50.csv': 0.9755,\n",
       " 'shadow_rings_dark_center_45_90_skeletonized_epoch50.csv': 0.9499,\n",
       " 'shadow_regions_dark_center_45_epoch50.csv': 0.9641,\n",
       " 'shadow_regions_dark_center_45_skeletonized_epoch50.csv': 0.9643,\n",
       " 'shadow_regions_dark_center_60_epoch50.csv': 0.9675,\n",
       " 'shadow_regions_dark_center_60_skeletonized_epoch50.csv': 0.951,\n",
       " 'shadow_regions_dark_center_90_epoch50.csv': 0.8854,\n",
       " 'shadow_regions_dark_center_90_skeletonized_epoch50.csv': 0.9343}"
      ]
     },
     "execution_count": 14,
     "metadata": {},
     "output_type": "execute_result"
    }
   ],
   "source": [
    "auc_dict"
   ]
  },
  {
   "cell_type": "code",
   "execution_count": 10,
   "id": "25cb9858",
   "metadata": {},
   "outputs": [
    {
     "data": {
      "text/plain": [
       "{'original_epoch50.csv': 0.987,\n",
       " 'skeletonized_epoch50.csv': 0.9674,\n",
       " 'shadow_rings_dark_background_45_90_epoch50.csv': 0.9315,\n",
       " 'shadow_rings_dark_background_45_90_skeletonized_epoch50.csv': 0.9464,\n",
       " 'shadow_regions_dark_background_45_epoch50.csv': 0.983,\n",
       " 'shadow_regions_dark_background_45_skeletonized_epoch50.csv': 0.9028,\n",
       " 'shadow_regions_dark_background_60_epoch50.csv': 0.9784,\n",
       " 'shadow_regions_dark_background_60_skeletonized_epoch50.csv': 0.9321,\n",
       " 'shadow_regions_dark_background_90_epoch50.csv': 0.9854,\n",
       " 'shadow_regions_dark_background_90_skeletonized_epoch50.csv': 0.9624}"
      ]
     },
     "execution_count": 10,
     "metadata": {},
     "output_type": "execute_result"
    }
   ],
   "source": [
    "auc_dict"
   ]
  },
  {
   "cell_type": "code",
   "execution_count": null,
   "id": "18ab0c4d",
   "metadata": {},
   "outputs": [],
   "source": []
  },
  {
   "cell_type": "code",
   "execution_count": null,
   "id": "1654dad5",
   "metadata": {},
   "outputs": [],
   "source": []
  },
  {
   "cell_type": "code",
   "execution_count": null,
   "id": "78159858",
   "metadata": {},
   "outputs": [],
   "source": []
  }
 ],
 "metadata": {
  "kernelspec": {
   "display_name": "Python 3",
   "language": "python",
   "name": "python3"
  },
  "language_info": {
   "codemirror_mode": {
    "name": "ipython",
    "version": 3
   },
   "file_extension": ".py",
   "mimetype": "text/x-python",
   "name": "python",
   "nbconvert_exporter": "python",
   "pygments_lexer": "ipython3",
   "version": "3.6.9"
  }
 },
 "nbformat": 4,
 "nbformat_minor": 5
}

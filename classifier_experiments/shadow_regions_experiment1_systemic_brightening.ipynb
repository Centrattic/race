{
 "cells": [
  {
   "cell_type": "code",
   "execution_count": 39,
   "id": "dc3f439e",
   "metadata": {},
   "outputs": [],
   "source": [
    "import os\n",
    "import shutil\n",
    "import hickle\n",
    "import re\n",
    "\n",
    "import pandas as pd\n",
    "import tempfile\n",
    "import matplotlib.pyplot as plt\n",
    "import matplotlib.pylab as pylab\n",
    "\n",
    "import numpy as np\n",
    "import PIL\n",
    "from PIL import Image, ImageChops, ImageDraw\n",
    "\n",
    "from skorch import NeuralNetClassifier\n",
    "from skorch.callbacks import LRScheduler, Checkpoint, EpochScoring, EarlyStopping\n",
    "from skorch.dataset import Dataset\n",
    "from skorch.helper import predefined_split\n",
    "import torch\n",
    "import torch.nn as nn\n",
    "import torch.optim as optim\n",
    "from torchvision import datasets, models, transforms\n",
    "from sklearn.model_selection import train_test_split\n",
    "from sklearn.metrics import roc_auc_score, roc_curve\n",
    "\n",
    "from pathlib import Path\n",
    "\n",
    "import tensorflow as tf\n",
    "from tensorflow import keras\n",
    "import matplotlib.patches as patches\n",
    "\n",
    "from tqdm import tqdm\n",
    "from numba import jit, cuda\n",
    "from utils import systemic_brightening\n",
    "from train_random_pixels import PretrainedModel\n",
    "import warnings"
   ]
  },
  {
   "cell_type": "code",
   "execution_count": 3,
   "id": "788dc1b7",
   "metadata": {},
   "outputs": [
    {
     "name": "stdout",
     "output_type": "stream",
     "text": [
      "WARNING:tensorflow:Mixed precision compatibility check (mixed_float16): WARNING\n",
      "The dtype policy mixed_float16 may run slowly because this machine does not have a GPU. Only Nvidia GPUs with compute capability of at least 7.0 run quickly with mixed_float16.\n",
      "If you will use compatible GPU(s) not attached to this host, e.g. by running a multi-worker model, you can ignore this warning. This message will only be logged once\n",
      "WARNING:tensorflow:From /usr/local/lib/python3.6/dist-packages/tensorflow/python/training/experimental/loss_scale.py:208: DynamicLossScale.__init__ (from tensorflow.python.training.experimental.loss_scale) is deprecated and will be removed in a future version.\n",
      "Instructions for updating:\n",
      "Use tf.keras.mixed_precision.LossScaleOptimizer instead. LossScaleOptimizer now has all the functionality of DynamicLossScale\n"
     ]
    }
   ],
   "source": [
    "# set directory\n",
    "os.chdir(\"/users/riya/race/classifier_experiments\")\n",
    "\n",
    "# ignore warnings\n",
    "warnings.filterwarnings(\"ignore\")\n",
    "\n",
    "# import model\n",
    "segmentation_classifier = keras.models.load_model('models/MIMIC-256x25680-20-split-resnet-Float16_2-race_detection_rop_seg_data_rop_seg-0.001_20220321-054140_epoch:011.hdf5')"
   ]
  },
  {
   "cell_type": "markdown",
   "id": "dff975a7",
   "metadata": {},
   "source": [
    "### Test Model Loading"
   ]
  },
  {
   "cell_type": "code",
   "execution_count": 71,
   "id": "abc8fd14",
   "metadata": {},
   "outputs": [],
   "source": [
    "model_path = 'outputs/checkpoints/model_original_epoch50.pt'"
   ]
  },
  {
   "cell_type": "code",
   "execution_count": 72,
   "id": "ab31d1af",
   "metadata": {},
   "outputs": [],
   "source": [
    "model = PretrainedModel(2)"
   ]
  },
  {
   "cell_type": "code",
   "execution_count": 73,
   "id": "c85a39e4",
   "metadata": {},
   "outputs": [
    {
     "data": {
      "text/plain": [
       "<All keys matched successfully>"
      ]
     },
     "execution_count": 73,
     "metadata": {},
     "output_type": "execute_result"
    }
   ],
   "source": [
    "model.load_state_dict(torch.load(model_path))"
   ]
  },
  {
   "cell_type": "code",
   "execution_count": 77,
   "id": "d13ba970",
   "metadata": {},
   "outputs": [],
   "source": [
    "net = NeuralNetClassifier(model, criterion=nn.CrossEntropyLoss)"
   ]
  },
  {
   "cell_type": "code",
   "execution_count": 80,
   "id": "8bcada05",
   "metadata": {},
   "outputs": [
    {
     "ename": "TypeError",
     "evalue": "predict_proba() missing 1 required positional argument: 'X'",
     "output_type": "error",
     "traceback": [
      "\u001b[0;31m---------------------------------------------------------------------------\u001b[0m",
      "\u001b[0;31mTypeError\u001b[0m                                 Traceback (most recent call last)",
      "\u001b[0;32m<ipython-input-80-c59768328ee5>\u001b[0m in \u001b[0;36m<module>\u001b[0;34m\u001b[0m\n\u001b[0;32m----> 1\u001b[0;31m \u001b[0mnet\u001b[0m\u001b[0;34m.\u001b[0m\u001b[0mpredict_proba\u001b[0m\u001b[0;34m(\u001b[0m\u001b[0;34m)\u001b[0m\u001b[0;34m\u001b[0m\u001b[0;34m\u001b[0m\u001b[0m\n\u001b[0m",
      "\u001b[0;31mTypeError\u001b[0m: predict_proba() missing 1 required positional argument: 'X'"
     ]
    }
   ],
   "source": [
    "net.predict_proba()"
   ]
  },
  {
   "cell_type": "markdown",
   "id": "1cb355ce",
   "metadata": {},
   "source": [
    "### Tensorflow Inference"
   ]
  },
  {
   "cell_type": "code",
   "execution_count": 3,
   "id": "a5753efb",
   "metadata": {},
   "outputs": [],
   "source": [
    "def image_from_id(img_path, path_name):\n",
    "    arr = np.array(Image.open(img_path + path_name))\n",
    "    resized = cv2.resize(arr, (256,256))\n",
    "    channels = np.repeat(resized[:, :, np.newaxis], 3, axis=2).reshape((256,256,3))\n",
    "    \n",
    "    return channels"
   ]
  },
  {
   "cell_type": "code",
   "execution_count": 4,
   "id": "9be09692",
   "metadata": {},
   "outputs": [],
   "source": [
    "def get_race_from_id(img_id, race_csv_path):\n",
    "\n",
    "    race_data = pd.read_csv(race_csv_path)\n",
    "    img_row = race_data.loc[race_data['image_id'] == int(img_id)] # they both must be ints\n",
    "    img_row = img_row.reset_index(drop=True) # for .at to work\n",
    "    img_race = img_row.at[0,'race']\n",
    "    \n",
    "    return img_race    "
   ]
  },
  {
   "cell_type": "code",
   "execution_count": 5,
   "id": "c95c05f4",
   "metadata": {},
   "outputs": [],
   "source": [
    "# run through classifier\n",
    "\n",
    "@jit         \n",
    "def predict_on_images(img_path, preds_df, colname,\n",
    "                     skeleton, thresh_type, intensity_change, brighten_sum,\n",
    "                     csv_name = \"brightened_predictions\", \n",
    "                     preds_path = \"/users/riya/race/classifier_experiments/predictions/experiment1_plus_systemic_brightening/\", \n",
    "                     race_csv_path = \"/users/riya/race/csv/image_race_data.csv\"): \n",
    "    \n",
    "    img_files = os.listdir(img_path)\n",
    "    num_images = len(img_files)\n",
    "    \n",
    "    print(num_images) # fine, 4546\n",
    "    \n",
    "    id_arr = [0] * num_images\n",
    "    race_arr = [0] * num_images\n",
    "    # img_arr = np.zeros((num_images, 256, 256, 3))\n",
    "    \n",
    "    preds_arr = [0] * num_images\n",
    "    \n",
    "    for i in tqdm(range(num_images)): # add tqdm back later\n",
    "        channels = image_from_id(img_path, img_files[i])\n",
    "        modified_img = systemic_brightening(channels, skeleton, thresh_type, intensity_change, brighten_sum,\n",
    "                                           image_size = (256, 256))\n",
    "        modified_img = np.array(modified_img).reshape((1,256,256,3)) # np reshape, bc substitute? \n",
    "        modified_img = modified_img.astype(np.uint8)\n",
    "        \n",
    "        proba = segmentation_classifier(modified_img)        \n",
    "        preds_arr[i] = proba.numpy()[0,1] # returning white prediction\n",
    "        \n",
    "        # img_arr[i] = modified_img.astype(np.uint8) # uint8\n",
    "                       \n",
    "        # getting id     \n",
    "        img_id = re.findall(r'\\d+', img_files[i])[0] # only one number\n",
    "        id_arr[i] = int(img_id) # be sure it's int\n",
    "    \n",
    "\n",
    "        # getting race\n",
    "        img_race = get_race_from_id(img_id, race_csv_path)\n",
    "        race_arr[i] = img_race\n",
    "    \n",
    "    preds_df['id'] = id_arr\n",
    "    preds_df['race'] = race_arr\n",
    "    preds_df[colname] = preds_arr      \n",
    "    \n",
    "    preds_df.to_csv(preds_path + csv_name + \".csv\")\n"
   ]
  },
  {
   "cell_type": "code",
   "execution_count": 6,
   "id": "4253ad79",
   "metadata": {},
   "outputs": [],
   "source": [
    "all_predictions = pd.DataFrame(columns = ['id', '30', '60', '90', '120', '150']) # from id I can get race\n",
    "\n",
    "dataset_path = \"/users/riya/race/dataset/segmentations/\""
   ]
  },
  {
   "cell_type": "code",
   "execution_count": 7,
   "id": "bc8606b6",
   "metadata": {},
   "outputs": [
    {
     "name": "stdout",
     "output_type": "stream",
     "text": [
      "4546\n"
     ]
    },
    {
     "name": "stderr",
     "output_type": "stream",
     "text": [
      "100%|██████████| 4546/4546 [32:36<00:00,  2.32it/s]\n"
     ]
    }
   ],
   "source": [
    "predict_on_images(dataset_path, all_predictions, '30', False, 'below', 'brighten', 30)"
   ]
  },
  {
   "cell_type": "code",
   "execution_count": 8,
   "id": "9f77ebe9",
   "metadata": {},
   "outputs": [],
   "source": [
    "bright_preds = pd.read_csv(\"/users/riya/race/classifier_experiments/predictions/experiment1_plus_systemic_brightening/\" \n",
    "                           + \"brightened_predictions.csv\", usecols = ['id', 'race','30', '60', '90', '120', '150'])"
   ]
  },
  {
   "cell_type": "code",
   "execution_count": 9,
   "id": "2fda45cb",
   "metadata": {},
   "outputs": [
    {
     "data": {
      "text/html": [
       "<div>\n",
       "<style scoped>\n",
       "    .dataframe tbody tr th:only-of-type {\n",
       "        vertical-align: middle;\n",
       "    }\n",
       "\n",
       "    .dataframe tbody tr th {\n",
       "        vertical-align: top;\n",
       "    }\n",
       "\n",
       "    .dataframe thead th {\n",
       "        text-align: right;\n",
       "    }\n",
       "</style>\n",
       "<table border=\"1\" class=\"dataframe\">\n",
       "  <thead>\n",
       "    <tr style=\"text-align: right;\">\n",
       "      <th></th>\n",
       "      <th>id</th>\n",
       "      <th>30</th>\n",
       "      <th>60</th>\n",
       "      <th>90</th>\n",
       "      <th>120</th>\n",
       "      <th>150</th>\n",
       "      <th>race</th>\n",
       "    </tr>\n",
       "  </thead>\n",
       "  <tbody>\n",
       "    <tr>\n",
       "      <th>0</th>\n",
       "      <td>101934</td>\n",
       "      <td>0.156814</td>\n",
       "      <td>NaN</td>\n",
       "      <td>NaN</td>\n",
       "      <td>NaN</td>\n",
       "      <td>NaN</td>\n",
       "      <td>black</td>\n",
       "    </tr>\n",
       "    <tr>\n",
       "      <th>1</th>\n",
       "      <td>82379</td>\n",
       "      <td>0.014365</td>\n",
       "      <td>NaN</td>\n",
       "      <td>NaN</td>\n",
       "      <td>NaN</td>\n",
       "      <td>NaN</td>\n",
       "      <td>white</td>\n",
       "    </tr>\n",
       "    <tr>\n",
       "      <th>2</th>\n",
       "      <td>87427</td>\n",
       "      <td>0.000071</td>\n",
       "      <td>NaN</td>\n",
       "      <td>NaN</td>\n",
       "      <td>NaN</td>\n",
       "      <td>NaN</td>\n",
       "      <td>black</td>\n",
       "    </tr>\n",
       "    <tr>\n",
       "      <th>3</th>\n",
       "      <td>49236</td>\n",
       "      <td>0.000039</td>\n",
       "      <td>NaN</td>\n",
       "      <td>NaN</td>\n",
       "      <td>NaN</td>\n",
       "      <td>NaN</td>\n",
       "      <td>black</td>\n",
       "    </tr>\n",
       "    <tr>\n",
       "      <th>4</th>\n",
       "      <td>45251</td>\n",
       "      <td>0.001444</td>\n",
       "      <td>NaN</td>\n",
       "      <td>NaN</td>\n",
       "      <td>NaN</td>\n",
       "      <td>NaN</td>\n",
       "      <td>black</td>\n",
       "    </tr>\n",
       "    <tr>\n",
       "      <th>...</th>\n",
       "      <td>...</td>\n",
       "      <td>...</td>\n",
       "      <td>...</td>\n",
       "      <td>...</td>\n",
       "      <td>...</td>\n",
       "      <td>...</td>\n",
       "      <td>...</td>\n",
       "    </tr>\n",
       "    <tr>\n",
       "      <th>4541</th>\n",
       "      <td>92793</td>\n",
       "      <td>0.000316</td>\n",
       "      <td>NaN</td>\n",
       "      <td>NaN</td>\n",
       "      <td>NaN</td>\n",
       "      <td>NaN</td>\n",
       "      <td>black</td>\n",
       "    </tr>\n",
       "    <tr>\n",
       "      <th>4542</th>\n",
       "      <td>31340</td>\n",
       "      <td>0.000316</td>\n",
       "      <td>NaN</td>\n",
       "      <td>NaN</td>\n",
       "      <td>NaN</td>\n",
       "      <td>NaN</td>\n",
       "      <td>black</td>\n",
       "    </tr>\n",
       "    <tr>\n",
       "      <th>4543</th>\n",
       "      <td>99058</td>\n",
       "      <td>0.000316</td>\n",
       "      <td>NaN</td>\n",
       "      <td>NaN</td>\n",
       "      <td>NaN</td>\n",
       "      <td>NaN</td>\n",
       "      <td>black</td>\n",
       "    </tr>\n",
       "    <tr>\n",
       "      <th>4544</th>\n",
       "      <td>33415</td>\n",
       "      <td>0.000316</td>\n",
       "      <td>NaN</td>\n",
       "      <td>NaN</td>\n",
       "      <td>NaN</td>\n",
       "      <td>NaN</td>\n",
       "      <td>white</td>\n",
       "    </tr>\n",
       "    <tr>\n",
       "      <th>4545</th>\n",
       "      <td>82914</td>\n",
       "      <td>0.000316</td>\n",
       "      <td>NaN</td>\n",
       "      <td>NaN</td>\n",
       "      <td>NaN</td>\n",
       "      <td>NaN</td>\n",
       "      <td>white</td>\n",
       "    </tr>\n",
       "  </tbody>\n",
       "</table>\n",
       "<p>4546 rows × 7 columns</p>\n",
       "</div>"
      ],
      "text/plain": [
       "          id        30  60  90  120  150   race\n",
       "0     101934  0.156814 NaN NaN  NaN  NaN  black\n",
       "1      82379  0.014365 NaN NaN  NaN  NaN  white\n",
       "2      87427  0.000071 NaN NaN  NaN  NaN  black\n",
       "3      49236  0.000039 NaN NaN  NaN  NaN  black\n",
       "4      45251  0.001444 NaN NaN  NaN  NaN  black\n",
       "...      ...       ...  ..  ..  ...  ...    ...\n",
       "4541   92793  0.000316 NaN NaN  NaN  NaN  black\n",
       "4542   31340  0.000316 NaN NaN  NaN  NaN  black\n",
       "4543   99058  0.000316 NaN NaN  NaN  NaN  black\n",
       "4544   33415  0.000316 NaN NaN  NaN  NaN  white\n",
       "4545   82914  0.000316 NaN NaN  NaN  NaN  white\n",
       "\n",
       "[4546 rows x 7 columns]"
      ]
     },
     "execution_count": 9,
     "metadata": {},
     "output_type": "execute_result"
    }
   ],
   "source": [
    "bright_preds"
   ]
  },
  {
   "cell_type": "code",
   "execution_count": null,
   "id": "caed9a77",
   "metadata": {},
   "outputs": [],
   "source": []
  },
  {
   "cell_type": "code",
   "execution_count": 9,
   "id": "913aaad7",
   "metadata": {
    "scrolled": false
   },
   "outputs": [
    {
     "name": "stderr",
     "output_type": "stream",
     "text": [
      "100%|██████████| 4546/4546 [15:15<00:00,  4.96it/s]\n",
      "100%|██████████| 4546/4546 [12:36<00:00,  6.01it/s]\n",
      "100%|██████████| 4546/4546 [12:40<00:00,  5.98it/s]\n",
      "100%|██████████| 4546/4546 [12:44<00:00,  5.95it/s]\n",
      "100%|██████████| 4546/4546 [12:46<00:00,  5.93it/s]\n"
     ]
    }
   ],
   "source": [
    "predict_on_images(dataset_path, all_predictions, '30', False, 'below', 'brighten', 30)\n",
    "predict_on_images(dataset_path, all_predictions, '60', False, 'below', 'brighten', 60)\n",
    "predict_on_images(dataset_path, all_predictions, '90', False, 'below', 'brighten', 90)\n",
    "predict_on_images(dataset_path, all_predictions, '120', False, 'below', 'brighten', 120)         \n",
    "predict_on_images(dataset_path, all_predictions, '150', False, 'below', 'brighten', 150)     "
   ]
  },
  {
   "cell_type": "code",
   "execution_count": 10,
   "id": "afdf25a2",
   "metadata": {},
   "outputs": [
    {
     "name": "stderr",
     "output_type": "stream",
     "text": [
      "100%|██████████| 4546/4546 [12:37<00:00,  6.00it/s]\n",
      "100%|██████████| 4546/4546 [12:42<00:00,  5.96it/s]\n",
      "100%|██████████| 4546/4546 [12:40<00:00,  5.98it/s]\n",
      "100%|██████████| 4546/4546 [12:49<00:00,  5.91it/s]\n",
      "100%|██████████| 4546/4546 [12:52<00:00,  5.89it/s]\n"
     ]
    }
   ],
   "source": [
    "predict_on_images(dataset_path, all_predictions, '30', False, 'below', 'dull', 30, csv_name = \"dulled_predictions\")\n",
    "predict_on_images(dataset_path, all_predictions, '60', False, 'below', 'dull', 60, csv_name = \"dulled_predictions\")\n",
    "predict_on_images(dataset_path, all_predictions, '90', False, 'below', 'dull', 90, csv_name = \"dulled_predictions\")\n",
    "predict_on_images(dataset_path, all_predictions, '120', False, 'below', 'dull', 120, csv_name = \"dulled_predictions\")         \n",
    "predict_on_images(dataset_path, all_predictions, '150', False, 'below', 'dull', 150, csv_name = \"dulled_predictions\")                          "
   ]
  },
  {
   "cell_type": "code",
   "execution_count": 11,
   "id": "dfba603c",
   "metadata": {},
   "outputs": [
    {
     "name": "stdout",
     "output_type": "stream",
     "text": [
      "5\n"
     ]
    }
   ],
   "source": []
  },
  {
   "cell_type": "markdown",
   "id": "d50d72c6",
   "metadata": {},
   "source": [
    "## Pytorch Inference"
   ]
  },
  {
   "cell_type": "code",
   "execution_count": 43,
   "id": "90f24be2",
   "metadata": {},
   "outputs": [],
   "source": []
  },
  {
   "cell_type": "code",
   "execution_count": 64,
   "id": "0746719e",
   "metadata": {},
   "outputs": [],
   "source": [
    "def generate_dataset():\n",
    "    csv_path = \"/users/riya/race/csv/image_race_data.csv\" \n",
    "    data_path = \"/users/riya/race/dataset/segmentations/\" # inference on segmentation images\n",
    "    save_path = \"/users/riya/race/classifier_experiments/dataset/experiment1_plus_systemic_brightening/test/\" \n",
    "    \n",
    "    files = os.listdir(data_path)\n",
    "    for i in range(len(files)):\n",
    "        img_id = os.path.splitext(files[i])[0]\n",
    "        img_race = get_race_from_id(img_id, csv_path)\n",
    "     \n",
    "        img = Image.open(data_path + img_id + \".bmp\")\n",
    "        \n",
    "        if img_race == 'black':\n",
    "            img.save(save_path + \"black/\" + img_id + \".bmp\") \n",
    "        if img_race == 'white':\n",
    "            img.save(save_path + \"white/\" + img_id + \".bmp\") \n",
    "        "
   ]
  },
  {
   "cell_type": "code",
   "execution_count": 65,
   "id": "dfbb4aad",
   "metadata": {},
   "outputs": [],
   "source": [
    "generate_dataset()"
   ]
  },
  {
   "cell_type": "code",
   "execution_count": 68,
   "id": "7a2cbceb",
   "metadata": {},
   "outputs": [
    {
     "data": {
      "text/plain": [
       "2837"
      ]
     },
     "execution_count": 68,
     "metadata": {},
     "output_type": "execute_result"
    }
   ],
   "source": [
    "save_path = \"/users/riya/race/classifier_experiments/dataset/experiment1_plus_systemic_brightening/test/white\" \n",
    "len(os.listdir(save_path))"
   ]
  },
  {
   "cell_type": "code",
   "execution_count": 69,
   "id": "91bb37c0",
   "metadata": {},
   "outputs": [
    {
     "data": {
      "text/plain": [
       "4546"
      ]
     },
     "execution_count": 69,
     "metadata": {},
     "output_type": "execute_result"
    }
   ],
   "source": [
    "1709 + 2837 # good"
   ]
  },
  {
   "cell_type": "markdown",
   "id": "eb4ab365",
   "metadata": {},
   "source": [
    "### Performing Inference"
   ]
  },
  {
   "cell_type": "code",
   "execution_count": 5,
   "id": "389db8df",
   "metadata": {},
   "outputs": [],
   "source": [
    "def test(data_dir, thresh_type, intensity_change, brighten_sum, experiment_name, model_path,\n",
    "         skeleton=False, none_thresh = 20, num_classes = 2, image_size = (224, 224)):\n",
    "    \n",
    "    os.chdir(\"/users/riya/race/classifier_experiments/CNN_train/\")\n",
    "    race_data_path = \"/users/riya/race/csv/image_race_data.csv\"\n",
    "\n",
    "    device = torch.device(\"cuda:1\" if torch.cuda.is_available() else \"cpu\")\n",
    "    if device == 'cuda:1':\n",
    "        torch.cuda.empty_cache()\n",
    "    \n",
    "    csv_name = f'../predictions/experiment1_plus_systemic_brightening/{experiment_name}/' + str(intensity_change) + '_by_' + str(brighten_sum) + '.csv'\n",
    "    \n",
    "    print(csv_name)\n",
    "    \n",
    "    test_transforms = transforms.Compose([transforms.Lambda(lambda img: systemic_brightening\n",
    "                                                            (img, skeleton, thresh_type, intensity_change, brighten_sum)),\n",
    "                                          # transforms.Resize(image_size),\n",
    "                                          transforms.ToTensor(),\n",
    "                                          transforms.Normalize([0.5, 0.5, 0.5],\n",
    "                                                               [0.5, 0.5, 0.5])])\n",
    "    \n",
    "    test_folder = os.path.join(data_dir, 'test')\n",
    "    test_dataset = datasets.ImageFolder(test_folder, test_transforms)    \n",
    "    \n",
    "    # Pytorch load model\n",
    "    model = PretrainedModel(num_classes)\n",
    "    model.load_state_dict(torch.load(model_path))\n",
    "    \n",
    "    # load into Skorch\n",
    "    net = NeuralNetClassifier(model, \n",
    "                              criterion=nn.CrossEntropyLoss,\n",
    "                              device=device)\n",
    "    \n",
    "    net.initialize() # bc I am not using net.fit (training the model)\n",
    "    \n",
    "    print (\"Model Loaded + Initialized\", model_path)\n",
    "    \n",
    "    img_locs = [loc for loc, _ in test_dataset.samples]\n",
    "    img_ids = [re.findall(r'\\d+', loc)[1] for loc in img_locs] # instantaneous basically\n",
    "    \n",
    "    #print(img_ids)\n",
    "    \n",
    "    img_race = [get_race_from_id(img_id, race_data_path) for img_id in tqdm(img_ids)]\n",
    "    \n",
    "    # print(img_race)\n",
    "    print(\"Number of Images: \" + str(len(img_race)))\n",
    "    \n",
    "    print (\"Starting Predictions\")\n",
    "    \n",
    "    test_probs = net.predict_proba(test_dataset)\n",
    "    \n",
    "    print (\"Predictions Done\")\n",
    "    test_probs = [prob[1] for prob in test_probs] # probability of being white\n",
    "    data = {'img_id' : img_ids, 'race': img_race, 'probability_' + str(brighten_sum) : test_probs}\n",
    "    pd.DataFrame(data=data).to_csv(csv_name, index=False)\n",
    "    \n",
    "    print (\"Code Done\")"
   ]
  },
  {
   "cell_type": "code",
   "execution_count": 6,
   "id": "c439cdae",
   "metadata": {},
   "outputs": [],
   "source": [
    "experiment_name = 'skeleton_model' # change depending on experiment\n",
    "data_dir = \"../dataset/experiment1_plus_systemic_brightening/\"\n",
    "model_path = 'outputs/checkpoints/model_skeletonized_epoch50.pt'"
   ]
  },
  {
   "cell_type": "code",
   "execution_count": 7,
   "id": "549a807e",
   "metadata": {},
   "outputs": [
    {
     "name": "stdout",
     "output_type": "stream",
     "text": [
      "../predictions/experiment1_plus_systemic_brightening/skeleton_model/brighten_by_0.csv\n"
     ]
    },
    {
     "name": "stderr",
     "output_type": "stream",
     "text": [
      "\r",
      "  0%|          | 0/4546 [00:00<?, ?it/s]"
     ]
    },
    {
     "name": "stdout",
     "output_type": "stream",
     "text": [
      "Model Loaded + Initialized outputs/checkpoints/model_skeletonized_epoch50.pt\n"
     ]
    },
    {
     "name": "stderr",
     "output_type": "stream",
     "text": [
      "100%|██████████| 4546/4546 [01:15<00:00, 59.96it/s]\n"
     ]
    },
    {
     "name": "stdout",
     "output_type": "stream",
     "text": [
      "Number of Images: 4546\n",
      "Starting Predictions\n",
      "Predictions Done\n",
      "Code Done\n",
      "../predictions/experiment1_plus_systemic_brightening/skeleton_model/brighten_by_30.csv\n"
     ]
    },
    {
     "name": "stderr",
     "output_type": "stream",
     "text": [
      "  0%|          | 7/4546 [00:00<01:14, 60.99it/s]"
     ]
    },
    {
     "name": "stdout",
     "output_type": "stream",
     "text": [
      "Model Loaded + Initialized outputs/checkpoints/model_skeletonized_epoch50.pt\n"
     ]
    },
    {
     "name": "stderr",
     "output_type": "stream",
     "text": [
      "100%|██████████| 4546/4546 [01:15<00:00, 60.17it/s]\n"
     ]
    },
    {
     "name": "stdout",
     "output_type": "stream",
     "text": [
      "Number of Images: 4546\n",
      "Starting Predictions\n",
      "Predictions Done\n",
      "Code Done\n",
      "../predictions/experiment1_plus_systemic_brightening/skeleton_model/brighten_by_60.csv\n"
     ]
    },
    {
     "name": "stderr",
     "output_type": "stream",
     "text": [
      "  0%|          | 7/4546 [00:00<01:14, 60.81it/s]"
     ]
    },
    {
     "name": "stdout",
     "output_type": "stream",
     "text": [
      "Model Loaded + Initialized outputs/checkpoints/model_skeletonized_epoch50.pt\n"
     ]
    },
    {
     "name": "stderr",
     "output_type": "stream",
     "text": [
      "100%|██████████| 4546/4546 [01:15<00:00, 60.50it/s]\n"
     ]
    },
    {
     "name": "stdout",
     "output_type": "stream",
     "text": [
      "Number of Images: 4546\n",
      "Starting Predictions\n",
      "Predictions Done\n",
      "Code Done\n",
      "../predictions/experiment1_plus_systemic_brightening/skeleton_model/brighten_by_90.csv\n"
     ]
    },
    {
     "name": "stderr",
     "output_type": "stream",
     "text": [
      "  0%|          | 7/4546 [00:00<01:13, 61.37it/s]"
     ]
    },
    {
     "name": "stdout",
     "output_type": "stream",
     "text": [
      "Model Loaded + Initialized outputs/checkpoints/model_skeletonized_epoch50.pt\n"
     ]
    },
    {
     "name": "stderr",
     "output_type": "stream",
     "text": [
      "100%|██████████| 4546/4546 [01:14<00:00, 60.74it/s]\n"
     ]
    },
    {
     "name": "stdout",
     "output_type": "stream",
     "text": [
      "Number of Images: 4546\n",
      "Starting Predictions\n",
      "Predictions Done\n",
      "Code Done\n",
      "../predictions/experiment1_plus_systemic_brightening/skeleton_model/brighten_by_120.csv\n"
     ]
    },
    {
     "name": "stderr",
     "output_type": "stream",
     "text": [
      "  0%|          | 7/4546 [00:00<01:14, 60.67it/s]"
     ]
    },
    {
     "name": "stdout",
     "output_type": "stream",
     "text": [
      "Model Loaded + Initialized outputs/checkpoints/model_skeletonized_epoch50.pt\n"
     ]
    },
    {
     "name": "stderr",
     "output_type": "stream",
     "text": [
      "100%|██████████| 4546/4546 [01:14<00:00, 60.95it/s]\n"
     ]
    },
    {
     "name": "stdout",
     "output_type": "stream",
     "text": [
      "Number of Images: 4546\n",
      "Starting Predictions\n",
      "Predictions Done\n",
      "Code Done\n",
      "../predictions/experiment1_plus_systemic_brightening/skeleton_model/brighten_by_150.csv\n"
     ]
    },
    {
     "name": "stderr",
     "output_type": "stream",
     "text": [
      "  0%|          | 7/4546 [00:00<01:13, 62.02it/s]"
     ]
    },
    {
     "name": "stdout",
     "output_type": "stream",
     "text": [
      "Model Loaded + Initialized outputs/checkpoints/model_skeletonized_epoch50.pt\n"
     ]
    },
    {
     "name": "stderr",
     "output_type": "stream",
     "text": [
      "100%|██████████| 4546/4546 [01:14<00:00, 61.15it/s]\n"
     ]
    },
    {
     "name": "stdout",
     "output_type": "stream",
     "text": [
      "Number of Images: 4546\n",
      "Starting Predictions\n",
      "Predictions Done\n",
      "Code Done\n",
      "../predictions/experiment1_plus_systemic_brightening/skeleton_model/dull_by_30.csv\n"
     ]
    },
    {
     "name": "stderr",
     "output_type": "stream",
     "text": [
      "  0%|          | 6/4546 [00:00<01:16, 59.48it/s]"
     ]
    },
    {
     "name": "stdout",
     "output_type": "stream",
     "text": [
      "Model Loaded + Initialized outputs/checkpoints/model_skeletonized_epoch50.pt\n"
     ]
    },
    {
     "name": "stderr",
     "output_type": "stream",
     "text": [
      "100%|██████████| 4546/4546 [01:14<00:00, 61.36it/s]\n"
     ]
    },
    {
     "name": "stdout",
     "output_type": "stream",
     "text": [
      "Number of Images: 4546\n",
      "Starting Predictions\n",
      "Predictions Done\n",
      "Code Done\n",
      "../predictions/experiment1_plus_systemic_brightening/skeleton_model/dull_by_60.csv\n"
     ]
    },
    {
     "name": "stderr",
     "output_type": "stream",
     "text": [
      "  0%|          | 7/4546 [00:00<01:11, 63.66it/s]"
     ]
    },
    {
     "name": "stdout",
     "output_type": "stream",
     "text": [
      "Model Loaded + Initialized outputs/checkpoints/model_skeletonized_epoch50.pt\n"
     ]
    },
    {
     "name": "stderr",
     "output_type": "stream",
     "text": [
      "100%|██████████| 4546/4546 [01:15<00:00, 60.37it/s]\n"
     ]
    },
    {
     "name": "stdout",
     "output_type": "stream",
     "text": [
      "Number of Images: 4546\n",
      "Starting Predictions\n",
      "Predictions Done\n",
      "Code Done\n",
      "../predictions/experiment1_plus_systemic_brightening/skeleton_model/dull_by_90.csv\n"
     ]
    },
    {
     "name": "stderr",
     "output_type": "stream",
     "text": [
      "  0%|          | 7/4546 [00:00<01:15, 59.95it/s]"
     ]
    },
    {
     "name": "stdout",
     "output_type": "stream",
     "text": [
      "Model Loaded + Initialized outputs/checkpoints/model_skeletonized_epoch50.pt\n"
     ]
    },
    {
     "name": "stderr",
     "output_type": "stream",
     "text": [
      "100%|██████████| 4546/4546 [01:14<00:00, 60.86it/s]\n"
     ]
    },
    {
     "name": "stdout",
     "output_type": "stream",
     "text": [
      "Number of Images: 4546\n",
      "Starting Predictions\n",
      "Predictions Done\n",
      "Code Done\n",
      "../predictions/experiment1_plus_systemic_brightening/skeleton_model/dull_by_120.csv\n"
     ]
    },
    {
     "name": "stderr",
     "output_type": "stream",
     "text": [
      "  0%|          | 6/4546 [00:00<01:17, 58.47it/s]"
     ]
    },
    {
     "name": "stdout",
     "output_type": "stream",
     "text": [
      "Model Loaded + Initialized outputs/checkpoints/model_skeletonized_epoch50.pt\n"
     ]
    },
    {
     "name": "stderr",
     "output_type": "stream",
     "text": [
      "100%|██████████| 4546/4546 [01:14<00:00, 60.87it/s]\n"
     ]
    },
    {
     "name": "stdout",
     "output_type": "stream",
     "text": [
      "Number of Images: 4546\n",
      "Starting Predictions\n",
      "Predictions Done\n",
      "Code Done\n",
      "../predictions/experiment1_plus_systemic_brightening/skeleton_model/dull_by_150.csv\n"
     ]
    },
    {
     "name": "stderr",
     "output_type": "stream",
     "text": [
      "  0%|          | 7/4546 [00:00<01:12, 62.50it/s]"
     ]
    },
    {
     "name": "stdout",
     "output_type": "stream",
     "text": [
      "Model Loaded + Initialized outputs/checkpoints/model_skeletonized_epoch50.pt\n"
     ]
    },
    {
     "name": "stderr",
     "output_type": "stream",
     "text": [
      "100%|██████████| 4546/4546 [01:15<00:00, 60.18it/s]\n"
     ]
    },
    {
     "name": "stdout",
     "output_type": "stream",
     "text": [
      "Number of Images: 4546\n",
      "Starting Predictions\n",
      "Predictions Done\n",
      "Code Done\n"
     ]
    }
   ],
   "source": [
    "# no skeletonization\n",
    "\n",
    "test(data_dir, 'below', 'brighten', 0, experiment_name, model_path) \n",
    "test(data_dir, 'below', 'brighten', 30, experiment_name, model_path) # skeleton = False\n",
    "test(data_dir, 'below', 'brighten', 60, experiment_name, model_path) \n",
    "test(data_dir, 'below', 'brighten', 90, experiment_name, model_path) \n",
    "test(data_dir, 'below', 'brighten', 120, experiment_name, model_path) \n",
    "test(data_dir, 'below', 'brighten', 150, experiment_name, model_path) \n",
    "\n",
    "# ---------------------- dulled now\n",
    "\n",
    "test(data_dir, 'below', 'dull', 30, experiment_name, model_path) \n",
    "test(data_dir, 'below', 'dull', 60, experiment_name, model_path) \n",
    "test(data_dir, 'below', 'dull', 90, experiment_name, model_path) \n",
    "test(data_dir, 'below', 'dull', 120, experiment_name, model_path) \n",
    "test(data_dir, 'below', 'dull', 150, experiment_name, model_path) "
   ]
  },
  {
   "cell_type": "code",
   "execution_count": null,
   "id": "fdb52866",
   "metadata": {},
   "outputs": [],
   "source": []
  },
  {
   "cell_type": "code",
   "execution_count": 96,
   "id": "bf6bfd35",
   "metadata": {},
   "outputs": [],
   "source": [
    "experiment_name = '' # change depending on experiment\n",
    "data_dir = \"../dataset/experiment1_plus_systemic_brightening/\"\n",
    "model_path = 'outputs/checkpoints/model_original_epoch50.pt'"
   ]
  },
  {
   "cell_type": "code",
   "execution_count": 49,
   "id": "da07bf93",
   "metadata": {},
   "outputs": [
    {
     "name": "stderr",
     "output_type": "stream",
     "text": [
      "  0%|          | 7/4546 [00:00<01:13, 61.48it/s]"
     ]
    },
    {
     "name": "stdout",
     "output_type": "stream",
     "text": [
      "Model Loaded + Initialized\n"
     ]
    },
    {
     "name": "stderr",
     "output_type": "stream",
     "text": [
      "100%|██████████| 4546/4546 [01:18<00:00, 57.61it/s]\n"
     ]
    },
    {
     "name": "stdout",
     "output_type": "stream",
     "text": [
      "['black', 'black', 'black', 'black', 'black', 'black', 'black', 'black', 'black', 'black', 'black', 'black', 'black', 'black', 'black', 'black', 'black', 'black', 'black', 'black', 'black', 'black', 'black', 'black', 'black', 'black', 'black', 'black', 'black', 'black', 'black', 'black', 'black', 'black', 'black', 'black', 'black', 'black', 'black', 'black', 'black', 'black', 'black', 'black', 'black', 'black', 'black', 'black', 'black', 'black', 'black', 'black', 'black', 'black', 'black', 'black', 'black', 'black', 'black', 'black', 'black', 'black', 'black', 'black', 'black', 'black', 'black', 'black', 'black', 'black', 'black', 'black', 'black', 'black', 'black', 'black', 'black', 'black', 'black', 'black', 'black', 'black', 'black', 'black', 'black', 'black', 'black', 'black', 'black', 'black', 'black', 'black', 'black', 'black', 'black', 'black', 'black', 'black', 'black', 'black', 'black', 'black', 'black', 'black', 'black', 'black', 'black', 'black', 'black', 'black', 'black', 'black', 'black', 'black', 'black', 'black', 'black', 'black', 'black', 'black', 'black', 'black', 'black', 'black', 'black', 'black', 'black', 'black', 'black', 'black', 'black', 'black', 'black', 'black', 'black', 'black', 'black', 'black', 'black', 'black', 'black', 'black', 'black', 'black', 'black', 'black', 'black', 'black', 'black', 'black', 'black', 'black', 'black', 'black', 'black', 'black', 'black', 'black', 'black', 'black', 'black', 'black', 'black', 'black', 'black', 'black', 'black', 'black', 'black', 'black', 'black', 'black', 'black', 'black', 'black', 'black', 'black', 'black', 'black', 'black', 'black', 'black', 'black', 'black', 'black', 'black', 'black', 'black', 'black', 'black', 'black', 'black', 'black', 'black', 'black', 'black', 'black', 'black', 'black', 'black', 'black', 'black', 'black', 'black', 'black', 'black', 'black', 'black', 'black', 'black', 'black', 'black', 'black', 'black', 'black', 'black', 'black', 'black', 'black', 'black', 'black', 'black', 'black', 'black', 'black', 'black', 'black', 'black', 'black', 'black', 'black', 'black', 'black', 'black', 'black', 'black', 'black', 'black', 'black', 'black', 'black', 'black', 'black', 'black', 'black', 'black', 'black', 'black', 'black', 'black', 'black', 'black', 'black', 'black', 'black', 'black', 'black', 'black', 'black', 'black', 'black', 'black', 'black', 'black', 'black', 'black', 'black', 'black', 'black', 'black', 'black', 'black', 'black', 'black', 'black', 'black', 'black', 'black', 'black', 'black', 'black', 'black', 'black', 'black', 'black', 'black', 'black', 'black', 'black', 'black', 'black', 'black', 'black', 'black', 'black', 'black', 'black', 'black', 'black', 'black', 'black', 'black', 'black', 'black', 'black', 'black', 'black', 'black', 'black', 'black', 'black', 'black', 'black', 'black', 'black', 'black', 'black', 'black', 'black', 'black', 'black', 'black', 'black', 'black', 'black', 'black', 'black', 'black', 'black', 'black', 'black', 'black', 'black', 'black', 'black', 'black', 'black', 'black', 'black', 'black', 'black', 'black', 'black', 'black', 'black', 'black', 'black', 'black', 'black', 'black', 'black', 'black', 'black', 'black', 'black', 'black', 'black', 'black', 'black', 'black', 'black', 'black', 'black', 'black', 'black', 'black', 'black', 'black', 'black', 'black', 'black', 'black', 'black', 'black', 'black', 'black', 'black', 'black', 'black', 'black', 'black', 'black', 'black', 'black', 'black', 'black', 'black', 'black', 'black', 'black', 'black', 'black', 'black', 'black', 'black', 'black', 'black', 'black', 'black', 'black', 'black', 'black', 'black', 'black', 'black', 'black', 'black', 'black', 'black', 'black', 'black', 'black', 'black', 'black', 'black', 'black', 'black', 'black', 'black', 'black', 'black', 'black', 'black', 'black', 'black', 'black', 'black', 'black', 'black', 'black', 'black', 'black', 'black', 'black', 'black', 'black', 'black', 'black', 'black', 'black', 'black', 'black', 'black', 'black', 'black', 'black', 'black', 'black', 'black', 'black', 'black', 'black', 'black', 'black', 'black', 'black', 'black', 'black', 'black', 'black', 'black', 'black', 'black', 'black', 'black', 'black', 'black', 'black', 'black', 'black', 'black', 'black', 'black', 'black', 'black', 'black', 'black', 'black', 'black', 'black', 'black', 'black', 'black', 'black', 'black', 'black', 'black', 'black', 'black', 'black', 'black', 'black', 'black', 'black', 'black', 'black', 'black', 'black', 'black', 'black', 'black', 'black', 'black', 'black', 'black', 'black', 'black', 'black', 'black', 'black', 'black', 'black', 'black', 'black', 'black', 'black', 'black', 'black', 'black', 'black', 'black', 'black', 'black', 'black', 'black', 'black', 'black', 'black', 'black', 'black', 'black', 'black', 'black', 'black', 'black', 'black', 'black', 'black', 'black', 'black', 'black', 'black', 'black', 'black', 'black', 'black', 'black', 'black', 'black', 'black', 'black', 'black', 'black', 'black', 'black', 'black', 'black', 'black', 'black', 'black', 'black', 'black', 'black', 'black', 'black', 'black', 'black', 'black', 'black', 'black', 'black', 'black', 'black', 'black', 'black', 'black', 'black', 'black', 'black', 'black', 'black', 'black', 'black', 'black', 'black', 'black', 'black', 'black', 'black', 'black', 'black', 'black', 'black', 'black', 'black', 'black', 'black', 'black', 'black', 'black', 'black', 'black', 'black', 'black', 'black', 'black', 'black', 'black', 'black', 'black', 'black', 'black', 'black', 'black', 'black', 'black', 'black', 'black', 'black', 'black', 'black', 'black', 'black', 'black', 'black', 'black', 'black', 'black', 'black', 'black', 'black', 'black', 'black', 'black', 'black', 'black', 'black', 'black', 'black', 'black', 'black', 'black', 'black', 'black', 'black', 'black', 'black', 'black', 'black', 'black', 'black', 'black', 'black', 'black', 'black', 'black', 'black', 'black', 'black', 'black', 'black', 'black', 'black', 'black', 'black', 'black', 'black', 'black', 'black', 'black', 'black', 'black', 'black', 'black', 'black', 'black', 'black', 'black', 'black', 'black', 'black', 'black', 'black', 'black', 'black', 'black', 'black', 'black', 'black', 'black', 'black', 'black', 'black', 'black', 'black', 'black', 'black', 'black', 'black', 'black', 'black', 'black', 'black', 'black', 'black', 'black', 'black', 'black', 'black', 'black', 'black', 'black', 'black', 'black', 'black', 'black', 'black', 'black', 'black', 'black', 'black', 'black', 'black', 'black', 'black', 'black', 'black', 'black', 'black', 'black', 'black', 'black', 'black', 'black', 'black', 'black', 'black', 'black', 'black', 'black', 'black', 'black', 'black', 'black', 'black', 'black', 'black', 'black', 'black', 'black', 'black', 'black', 'black', 'black', 'black', 'black', 'black', 'black', 'black', 'black', 'black', 'black', 'black', 'black', 'black', 'black', 'black', 'black', 'black', 'black', 'black', 'black', 'black', 'black', 'black', 'black', 'black', 'black', 'black', 'black', 'black', 'black', 'black', 'black', 'black', 'black', 'black', 'black', 'black', 'black', 'black', 'black', 'black', 'black', 'black', 'black', 'black', 'black', 'black', 'black', 'black', 'black', 'black', 'black', 'black', 'black', 'black', 'black', 'black', 'black', 'black', 'black', 'black', 'black', 'black', 'black', 'black', 'black', 'black', 'black', 'black', 'black', 'black', 'black', 'black', 'black', 'black', 'black', 'black', 'black', 'black', 'black', 'black', 'black', 'black', 'black', 'black', 'black', 'black', 'black', 'black', 'black', 'black', 'black', 'black', 'black', 'black', 'black', 'black', 'black', 'black', 'black', 'black', 'black', 'black', 'black', 'black', 'black', 'black', 'black', 'black', 'black', 'black', 'black', 'black', 'black', 'black', 'black', 'black', 'black', 'black', 'black', 'black', 'black', 'black', 'black', 'black', 'black', 'black', 'black', 'black', 'black', 'black', 'black', 'black', 'black', 'black', 'black', 'black', 'black', 'black', 'black', 'black', 'black', 'black', 'black', 'black', 'black', 'black', 'black', 'black', 'black', 'black', 'black', 'black', 'black', 'black', 'black', 'black', 'black', 'black', 'black', 'black', 'black', 'black', 'black', 'black', 'black', 'black', 'black', 'black', 'black', 'black', 'black', 'black', 'black', 'black', 'black', 'black', 'black', 'black', 'black', 'black', 'black', 'black', 'black', 'black', 'black', 'black', 'black', 'black', 'black', 'black', 'black', 'black', 'black', 'black', 'black', 'black', 'black', 'black', 'black', 'black', 'black', 'black', 'black', 'black', 'black', 'black', 'black', 'black', 'black', 'black', 'black', 'black', 'black', 'black', 'black', 'black', 'black', 'black', 'black', 'black', 'black', 'black', 'black', 'black', 'black', 'black', 'black', 'black', 'black', 'black', 'black', 'black', 'black', 'black', 'black', 'black', 'black', 'black', 'black', 'black', 'black', 'black', 'black', 'black', 'black', 'black', 'black', 'black', 'black', 'black', 'black', 'black', 'black', 'black', 'black', 'black', 'black', 'black', 'black', 'black', 'black', 'black', 'black', 'black', 'black', 'black', 'black', 'black', 'black', 'black', 'black', 'black', 'black', 'black', 'black', 'black', 'black', 'black', 'black', 'black', 'black', 'black', 'black', 'black', 'black', 'black', 'black', 'black', 'black', 'black', 'black', 'black', 'black', 'black', 'black', 'black', 'black', 'black', 'black', 'black', 'black', 'black', 'black', 'black', 'black', 'black', 'black', 'black', 'black', 'black', 'black', 'black', 'black', 'black', 'black', 'black', 'black', 'black', 'black', 'black', 'black', 'black', 'black', 'black', 'black', 'black', 'black', 'black', 'black', 'black', 'black', 'black', 'black', 'black', 'black', 'black', 'black', 'black', 'black', 'black', 'black', 'black', 'black', 'black', 'black', 'black', 'black', 'black', 'black', 'black', 'black', 'black', 'black', 'black', 'black', 'black', 'black', 'black', 'black', 'black', 'black', 'black', 'black', 'black', 'black', 'black', 'black', 'black', 'black', 'black', 'black', 'black', 'black', 'black', 'black', 'black', 'black', 'black', 'black', 'black', 'black', 'black', 'black', 'black', 'black', 'black', 'black', 'black', 'black', 'black', 'black', 'black', 'black', 'black', 'black', 'black', 'black', 'black', 'black', 'black', 'black', 'black', 'black', 'black', 'black', 'black', 'black', 'black', 'black', 'black', 'black', 'black', 'black', 'black', 'black', 'black', 'black', 'black', 'black', 'black', 'black', 'black', 'black', 'black', 'black', 'black', 'black', 'black', 'black', 'black', 'black', 'black', 'black', 'black', 'black', 'black', 'black', 'black', 'black', 'black', 'black', 'black', 'black', 'black', 'black', 'black', 'black', 'black', 'black', 'black', 'black', 'black', 'black', 'black', 'black', 'black', 'black', 'black', 'black', 'black', 'black', 'black', 'black', 'black', 'black', 'black', 'black', 'black', 'black', 'black', 'black', 'black', 'black', 'black', 'black', 'black', 'black', 'black', 'black', 'black', 'black', 'black', 'black', 'black', 'black', 'black', 'black', 'black', 'black', 'black', 'black', 'black', 'black', 'black', 'black', 'black', 'black', 'black', 'black', 'black', 'black', 'black', 'black', 'black', 'black', 'black', 'black', 'black', 'black', 'black', 'black', 'black', 'black', 'black', 'black', 'black', 'black', 'black', 'black', 'black', 'black', 'black', 'black', 'black', 'black', 'black', 'black', 'black', 'black', 'black', 'black', 'black', 'black', 'black', 'black', 'black', 'black', 'black', 'black', 'black', 'black', 'black', 'black', 'black', 'black', 'black', 'black', 'black', 'black', 'black', 'black', 'black', 'black', 'black', 'black', 'black', 'black', 'black', 'black', 'black', 'black', 'black', 'black', 'black', 'black', 'black', 'black', 'black', 'black', 'black', 'black', 'black', 'black', 'black', 'black', 'black', 'black', 'black', 'black', 'black', 'black', 'black', 'black', 'black', 'black', 'black', 'black', 'black', 'black', 'black', 'black', 'black', 'black', 'black', 'black', 'black', 'black', 'black', 'black', 'black', 'black', 'black', 'black', 'black', 'black', 'black', 'black', 'black', 'black', 'black', 'black', 'black', 'black', 'black', 'black', 'black', 'black', 'black', 'black', 'black', 'black', 'black', 'black', 'black', 'black', 'black', 'black', 'black', 'black', 'black', 'black', 'black', 'black', 'black', 'black', 'black', 'black', 'black', 'black', 'black', 'black', 'black', 'black', 'black', 'black', 'black', 'black', 'black', 'black', 'black', 'black', 'black', 'black', 'black', 'black', 'black', 'black', 'black', 'black', 'black', 'black', 'black', 'black', 'black', 'black', 'black', 'black', 'black', 'black', 'black', 'black', 'black', 'black', 'black', 'black', 'black', 'black', 'black', 'black', 'black', 'black', 'black', 'black', 'black', 'black', 'black', 'black', 'black', 'black', 'black', 'black', 'black', 'black', 'black', 'black', 'black', 'black', 'black', 'black', 'black', 'black', 'black', 'black', 'black', 'black', 'black', 'black', 'black', 'black', 'black', 'black', 'black', 'black', 'black', 'black', 'black', 'black', 'black', 'black', 'black', 'black', 'black', 'black', 'black', 'black', 'black', 'black', 'black', 'black', 'black', 'black', 'black', 'black', 'black', 'black', 'black', 'black', 'black', 'black', 'black', 'black', 'black', 'black', 'black', 'black', 'black', 'black', 'black', 'black', 'black', 'black', 'black', 'black', 'black', 'black', 'black', 'black', 'black', 'black', 'black', 'black', 'black', 'black', 'black', 'black', 'black', 'black', 'black', 'black', 'black', 'black', 'black', 'black', 'black', 'black', 'black', 'black', 'black', 'black', 'black', 'black', 'black', 'black', 'black', 'black', 'black', 'black', 'black', 'black', 'black', 'black', 'black', 'black', 'black', 'black', 'black', 'black', 'black', 'black', 'black', 'black', 'black', 'black', 'black', 'black', 'black', 'black', 'black', 'black', 'black', 'black', 'black', 'black', 'black', 'black', 'black', 'black', 'black', 'black', 'black', 'black', 'black', 'black', 'black', 'black', 'black', 'black', 'black', 'black', 'black', 'black', 'black', 'black', 'black', 'black', 'black', 'black', 'black', 'black', 'black', 'black', 'black', 'black', 'black', 'black', 'black', 'black', 'black', 'black', 'black', 'black', 'black', 'black', 'black', 'black', 'black', 'black', 'black', 'black', 'black', 'black', 'black', 'black', 'black', 'black', 'black', 'black', 'black', 'black', 'black', 'black', 'black', 'black', 'black', 'black', 'black', 'black', 'black', 'black', 'black', 'black', 'black', 'black', 'black', 'black', 'black', 'black', 'black', 'black', 'black', 'black', 'black', 'black', 'black', 'black', 'black', 'black', 'black', 'black', 'black', 'black', 'black', 'black', 'black', 'black', 'black', 'black', 'black', 'black', 'black', 'black', 'black', 'black', 'black', 'black', 'black', 'black', 'black', 'black', 'black', 'black', 'black', 'black', 'black', 'black', 'black', 'black', 'black', 'black', 'black', 'black', 'black', 'black', 'black', 'black', 'black', 'black', 'black', 'black', 'black', 'black', 'black', 'black', 'black', 'black', 'black', 'black', 'black', 'black', 'black', 'black', 'black', 'black', 'black', 'black', 'black', 'white', 'white', 'white', 'white', 'white', 'white', 'white', 'white', 'white', 'white', 'white', 'white', 'white', 'white', 'white', 'white', 'white', 'white', 'white', 'white', 'white', 'white', 'white', 'white', 'white', 'white', 'white', 'white', 'white', 'white', 'white', 'white', 'white', 'white', 'white', 'white', 'white', 'white', 'white', 'white', 'white', 'white', 'white', 'white', 'white', 'white', 'white', 'white', 'white', 'white', 'white', 'white', 'white', 'white', 'white', 'white', 'white', 'white', 'white', 'white', 'white', 'white', 'white', 'white', 'white', 'white', 'white', 'white', 'white', 'white', 'white', 'white', 'white', 'white', 'white', 'white', 'white', 'white', 'white', 'white', 'white', 'white', 'white', 'white', 'white', 'white', 'white', 'white', 'white', 'white', 'white', 'white', 'white', 'white', 'white', 'white', 'white', 'white', 'white', 'white', 'white', 'white', 'white', 'white', 'white', 'white', 'white', 'white', 'white', 'white', 'white', 'white', 'white', 'white', 'white', 'white', 'white', 'white', 'white', 'white', 'white', 'white', 'white', 'white', 'white', 'white', 'white', 'white', 'white', 'white', 'white', 'white', 'white', 'white', 'white', 'white', 'white', 'white', 'white', 'white', 'white', 'white', 'white', 'white', 'white', 'white', 'white', 'white', 'white', 'white', 'white', 'white', 'white', 'white', 'white', 'white', 'white', 'white', 'white', 'white', 'white', 'white', 'white', 'white', 'white', 'white', 'white', 'white', 'white', 'white', 'white', 'white', 'white', 'white', 'white', 'white', 'white', 'white', 'white', 'white', 'white', 'white', 'white', 'white', 'white', 'white', 'white', 'white', 'white', 'white', 'white', 'white', 'white', 'white', 'white', 'white', 'white', 'white', 'white', 'white', 'white', 'white', 'white', 'white', 'white', 'white', 'white', 'white', 'white', 'white', 'white', 'white', 'white', 'white', 'white', 'white', 'white', 'white', 'white', 'white', 'white', 'white', 'white', 'white', 'white', 'white', 'white', 'white', 'white', 'white', 'white', 'white', 'white', 'white', 'white', 'white', 'white', 'white', 'white', 'white', 'white', 'white', 'white', 'white', 'white', 'white', 'white', 'white', 'white', 'white', 'white', 'white', 'white', 'white', 'white', 'white', 'white', 'white', 'white', 'white', 'white', 'white', 'white', 'white', 'white', 'white', 'white', 'white', 'white', 'white', 'white', 'white', 'white', 'white', 'white', 'white', 'white', 'white', 'white', 'white', 'white', 'white', 'white', 'white', 'white', 'white', 'white', 'white', 'white', 'white', 'white', 'white', 'white', 'white', 'white', 'white', 'white', 'white', 'white', 'white', 'white', 'white', 'white', 'white', 'white', 'white', 'white', 'white', 'white', 'white', 'white', 'white', 'white', 'white', 'white', 'white', 'white', 'white', 'white', 'white', 'white', 'white', 'white', 'white', 'white', 'white', 'white', 'white', 'white', 'white', 'white', 'white', 'white', 'white', 'white', 'white', 'white', 'white', 'white', 'white', 'white', 'white', 'white', 'white', 'white', 'white', 'white', 'white', 'white', 'white', 'white', 'white', 'white', 'white', 'white', 'white', 'white', 'white', 'white', 'white', 'white', 'white', 'white', 'white', 'white', 'white', 'white', 'white', 'white', 'white', 'white', 'white', 'white', 'white', 'white', 'white', 'white', 'white', 'white', 'white', 'white', 'white', 'white', 'white', 'white', 'white', 'white', 'white', 'white', 'white', 'white', 'white', 'white', 'white', 'white', 'white', 'white', 'white', 'white', 'white', 'white', 'white', 'white', 'white', 'white', 'white', 'white', 'white', 'white', 'white', 'white', 'white', 'white', 'white', 'white', 'white', 'white', 'white', 'white', 'white', 'white', 'white', 'white', 'white', 'white', 'white', 'white', 'white', 'white', 'white', 'white', 'white', 'white', 'white', 'white', 'white', 'white', 'white', 'white', 'white', 'white', 'white', 'white', 'white', 'white', 'white', 'white', 'white', 'white', 'white', 'white', 'white', 'white', 'white', 'white', 'white', 'white', 'white', 'white', 'white', 'white', 'white', 'white', 'white', 'white', 'white', 'white', 'white', 'white', 'white', 'white', 'white', 'white', 'white', 'white', 'white', 'white', 'white', 'white', 'white', 'white', 'white', 'white', 'white', 'white', 'white', 'white', 'white', 'white', 'white', 'white', 'white', 'white', 'white', 'white', 'white', 'white', 'white', 'white', 'white', 'white', 'white', 'white', 'white', 'white', 'white', 'white', 'white', 'white', 'white', 'white', 'white', 'white', 'white', 'white', 'white', 'white', 'white', 'white', 'white', 'white', 'white', 'white', 'white', 'white', 'white', 'white', 'white', 'white', 'white', 'white', 'white', 'white', 'white', 'white', 'white', 'white', 'white', 'white', 'white', 'white', 'white', 'white', 'white', 'white', 'white', 'white', 'white', 'white', 'white', 'white', 'white', 'white', 'white', 'white', 'white', 'white', 'white', 'white', 'white', 'white', 'white', 'white', 'white', 'white', 'white', 'white', 'white', 'white', 'white', 'white', 'white', 'white', 'white', 'white', 'white', 'white', 'white', 'white', 'white', 'white', 'white', 'white', 'white', 'white', 'white', 'white', 'white', 'white', 'white', 'white', 'white', 'white', 'white', 'white', 'white', 'white', 'white', 'white', 'white', 'white', 'white', 'white', 'white', 'white', 'white', 'white', 'white', 'white', 'white', 'white', 'white', 'white', 'white', 'white', 'white', 'white', 'white', 'white', 'white', 'white', 'white', 'white', 'white', 'white', 'white', 'white', 'white', 'white', 'white', 'white', 'white', 'white', 'white', 'white', 'white', 'white', 'white', 'white', 'white', 'white', 'white', 'white', 'white', 'white', 'white', 'white', 'white', 'white', 'white', 'white', 'white', 'white', 'white', 'white', 'white', 'white', 'white', 'white', 'white', 'white', 'white', 'white', 'white', 'white', 'white', 'white', 'white', 'white', 'white', 'white', 'white', 'white', 'white', 'white', 'white', 'white', 'white', 'white', 'white', 'white', 'white', 'white', 'white', 'white', 'white', 'white', 'white', 'white', 'white', 'white', 'white', 'white', 'white', 'white', 'white', 'white', 'white', 'white', 'white', 'white', 'white', 'white', 'white', 'white', 'white', 'white', 'white', 'white', 'white', 'white', 'white', 'white', 'white', 'white', 'white', 'white', 'white', 'white', 'white', 'white', 'white', 'white', 'white', 'white', 'white', 'white', 'white', 'white', 'white', 'white', 'white', 'white', 'white', 'white', 'white', 'white', 'white', 'white', 'white', 'white', 'white', 'white', 'white', 'white', 'white', 'white', 'white', 'white', 'white', 'white', 'white', 'white', 'white', 'white', 'white', 'white', 'white', 'white', 'white', 'white', 'white', 'white', 'white', 'white', 'white', 'white', 'white', 'white', 'white', 'white', 'white', 'white', 'white', 'white', 'white', 'white', 'white', 'white', 'white', 'white', 'white', 'white', 'white', 'white', 'white', 'white', 'white', 'white', 'white', 'white', 'white', 'white', 'white', 'white', 'white', 'white', 'white', 'white', 'white', 'white', 'white', 'white', 'white', 'white', 'white', 'white', 'white', 'white', 'white', 'white', 'white', 'white', 'white', 'white', 'white', 'white', 'white', 'white', 'white', 'white', 'white', 'white', 'white', 'white', 'white', 'white', 'white', 'white', 'white', 'white', 'white', 'white', 'white', 'white', 'white', 'white', 'white', 'white', 'white', 'white', 'white', 'white', 'white', 'white', 'white', 'white', 'white', 'white', 'white', 'white', 'white', 'white', 'white', 'white', 'white', 'white', 'white', 'white', 'white', 'white', 'white', 'white', 'white', 'white', 'white', 'white', 'white', 'white', 'white', 'white', 'white', 'white', 'white', 'white', 'white', 'white', 'white', 'white', 'white', 'white', 'white', 'white', 'white', 'white', 'white', 'white', 'white', 'white', 'white', 'white', 'white', 'white', 'white', 'white', 'white', 'white', 'white', 'white', 'white', 'white', 'white', 'white', 'white', 'white', 'white', 'white', 'white', 'white', 'white', 'white', 'white', 'white', 'white', 'white', 'white', 'white', 'white', 'white', 'white', 'white', 'white', 'white', 'white', 'white', 'white', 'white', 'white', 'white', 'white', 'white', 'white', 'white', 'white', 'white', 'white', 'white', 'white', 'white', 'white', 'white', 'white', 'white', 'white', 'white', 'white', 'white', 'white', 'white', 'white', 'white', 'white', 'white', 'white', 'white', 'white', 'white', 'white', 'white', 'white', 'white', 'white', 'white', 'white', 'white', 'white', 'white', 'white', 'white', 'white', 'white', 'white', 'white', 'white', 'white', 'white', 'white', 'white', 'white', 'white', 'white', 'white', 'white', 'white', 'white', 'white', 'white', 'white', 'white', 'white', 'white', 'white', 'white', 'white', 'white', 'white', 'white', 'white', 'white', 'white', 'white', 'white', 'white', 'white', 'white', 'white', 'white', 'white', 'white', 'white', 'white', 'white', 'white', 'white', 'white', 'white', 'white', 'white', 'white', 'white', 'white', 'white', 'white', 'white', 'white', 'white', 'white', 'white', 'white', 'white', 'white', 'white', 'white', 'white', 'white', 'white', 'white', 'white', 'white', 'white', 'white', 'white', 'white', 'white', 'white', 'white', 'white', 'white', 'white', 'white', 'white', 'white', 'white', 'white', 'white', 'white', 'white', 'white', 'white', 'white', 'white', 'white', 'white', 'white', 'white', 'white', 'white', 'white', 'white', 'white', 'white', 'white', 'white', 'white', 'white', 'white', 'white', 'white', 'white', 'white', 'white', 'white', 'white', 'white', 'white', 'white', 'white', 'white', 'white', 'white', 'white', 'white', 'white', 'white', 'white', 'white', 'white', 'white', 'white', 'white', 'white', 'white', 'white', 'white', 'white', 'white', 'white', 'white', 'white', 'white', 'white', 'white', 'white', 'white', 'white', 'white', 'white', 'white', 'white', 'white', 'white', 'white', 'white', 'white', 'white', 'white', 'white', 'white', 'white', 'white', 'white', 'white', 'white', 'white', 'white', 'white', 'white', 'white', 'white', 'white', 'white', 'white', 'white', 'white', 'white', 'white', 'white', 'white', 'white', 'white', 'white', 'white', 'white', 'white', 'white', 'white', 'white', 'white', 'white', 'white', 'white', 'white', 'white', 'white', 'white', 'white', 'white', 'white', 'white', 'white', 'white', 'white', 'white', 'white', 'white', 'white', 'white', 'white', 'white', 'white', 'white', 'white', 'white', 'white', 'white', 'white', 'white', 'white', 'white', 'white', 'white', 'white', 'white', 'white', 'white', 'white', 'white', 'white', 'white', 'white', 'white', 'white', 'white', 'white', 'white', 'white', 'white', 'white', 'white', 'white', 'white', 'white', 'white', 'white', 'white', 'white', 'white', 'white', 'white', 'white', 'white', 'white', 'white', 'white', 'white', 'white', 'white', 'white', 'white', 'white', 'white', 'white', 'white', 'white', 'white', 'white', 'white', 'white', 'white', 'white', 'white', 'white', 'white', 'white', 'white', 'white', 'white', 'white', 'white', 'white', 'white', 'white', 'white', 'white', 'white', 'white', 'white', 'white', 'white', 'white', 'white', 'white', 'white', 'white', 'white', 'white', 'white', 'white', 'white', 'white', 'white', 'white', 'white', 'white', 'white', 'white', 'white', 'white', 'white', 'white', 'white', 'white', 'white', 'white', 'white', 'white', 'white', 'white', 'white', 'white', 'white', 'white', 'white', 'white', 'white', 'white', 'white', 'white', 'white', 'white', 'white', 'white', 'white', 'white', 'white', 'white', 'white', 'white', 'white', 'white', 'white', 'white', 'white', 'white', 'white', 'white', 'white', 'white', 'white', 'white', 'white', 'white', 'white', 'white', 'white', 'white', 'white', 'white', 'white', 'white', 'white', 'white', 'white', 'white', 'white', 'white', 'white', 'white', 'white', 'white', 'white', 'white', 'white', 'white', 'white', 'white', 'white', 'white', 'white', 'white', 'white', 'white', 'white', 'white', 'white', 'white', 'white', 'white', 'white', 'white', 'white', 'white', 'white', 'white', 'white', 'white', 'white', 'white', 'white', 'white', 'white', 'white', 'white', 'white', 'white', 'white', 'white', 'white', 'white', 'white', 'white', 'white', 'white', 'white', 'white', 'white', 'white', 'white', 'white', 'white', 'white', 'white', 'white', 'white', 'white', 'white', 'white', 'white', 'white', 'white', 'white', 'white', 'white', 'white', 'white', 'white', 'white', 'white', 'white', 'white', 'white', 'white', 'white', 'white', 'white', 'white', 'white', 'white', 'white', 'white', 'white', 'white', 'white', 'white', 'white', 'white', 'white', 'white', 'white', 'white', 'white', 'white', 'white', 'white', 'white', 'white', 'white', 'white', 'white', 'white', 'white', 'white', 'white', 'white', 'white', 'white', 'white', 'white', 'white', 'white', 'white', 'white', 'white', 'white', 'white', 'white', 'white', 'white', 'white', 'white', 'white', 'white', 'white', 'white', 'white', 'white', 'white', 'white', 'white', 'white', 'white', 'white', 'white', 'white', 'white', 'white', 'white', 'white', 'white', 'white', 'white', 'white', 'white', 'white', 'white', 'white', 'white', 'white', 'white', 'white', 'white', 'white', 'white', 'white', 'white', 'white', 'white', 'white', 'white', 'white', 'white', 'white', 'white', 'white', 'white', 'white', 'white', 'white', 'white', 'white', 'white', 'white', 'white', 'white', 'white', 'white', 'white', 'white', 'white', 'white', 'white', 'white', 'white', 'white', 'white', 'white', 'white', 'white', 'white', 'white', 'white', 'white', 'white', 'white', 'white', 'white', 'white', 'white', 'white', 'white', 'white', 'white', 'white', 'white', 'white', 'white', 'white', 'white', 'white', 'white', 'white', 'white', 'white', 'white', 'white', 'white', 'white', 'white', 'white', 'white', 'white', 'white', 'white', 'white', 'white', 'white', 'white', 'white', 'white', 'white', 'white', 'white', 'white', 'white', 'white', 'white', 'white', 'white', 'white', 'white', 'white', 'white', 'white', 'white', 'white', 'white', 'white', 'white', 'white', 'white', 'white', 'white', 'white', 'white', 'white', 'white', 'white', 'white', 'white', 'white', 'white', 'white', 'white', 'white', 'white', 'white', 'white', 'white', 'white', 'white', 'white', 'white', 'white', 'white', 'white', 'white', 'white', 'white', 'white', 'white', 'white', 'white', 'white', 'white', 'white', 'white', 'white', 'white', 'white', 'white', 'white', 'white', 'white', 'white', 'white', 'white', 'white', 'white', 'white', 'white', 'white', 'white', 'white', 'white', 'white', 'white', 'white', 'white', 'white', 'white', 'white', 'white', 'white', 'white', 'white', 'white', 'white', 'white', 'white', 'white', 'white', 'white', 'white', 'white', 'white', 'white', 'white', 'white', 'white', 'white', 'white', 'white', 'white', 'white', 'white', 'white', 'white', 'white', 'white', 'white', 'white', 'white', 'white', 'white', 'white', 'white', 'white', 'white', 'white', 'white', 'white', 'white', 'white', 'white', 'white', 'white', 'white', 'white', 'white', 'white', 'white', 'white', 'white', 'white', 'white', 'white', 'white', 'white', 'white', 'white', 'white', 'white', 'white', 'white', 'white', 'white', 'white', 'white', 'white', 'white', 'white', 'white', 'white', 'white', 'white', 'white', 'white', 'white', 'white', 'white', 'white', 'white', 'white', 'white', 'white', 'white', 'white', 'white', 'white', 'white', 'white', 'white', 'white', 'white', 'white', 'white', 'white', 'white', 'white', 'white', 'white', 'white', 'white', 'white', 'white', 'white', 'white', 'white', 'white', 'white', 'white', 'white', 'white', 'white', 'white', 'white', 'white', 'white', 'white', 'white', 'white', 'white', 'white', 'white', 'white', 'white', 'white', 'white', 'white', 'white', 'white', 'white', 'white', 'white', 'white', 'white', 'white', 'white', 'white', 'white', 'white', 'white', 'white', 'white', 'white', 'white', 'white', 'white', 'white', 'white', 'white', 'white', 'white', 'white', 'white', 'white', 'white', 'white', 'white', 'white', 'white', 'white', 'white', 'white', 'white', 'white', 'white', 'white', 'white', 'white', 'white', 'white', 'white', 'white', 'white', 'white', 'white', 'white', 'white', 'white', 'white', 'white', 'white', 'white', 'white', 'white', 'white', 'white', 'white', 'white', 'white', 'white', 'white', 'white', 'white', 'white', 'white', 'white', 'white', 'white', 'white', 'white', 'white', 'white', 'white', 'white', 'white', 'white', 'white', 'white', 'white', 'white', 'white', 'white', 'white', 'white', 'white', 'white', 'white', 'white', 'white', 'white', 'white', 'white', 'white', 'white', 'white', 'white', 'white', 'white', 'white', 'white', 'white', 'white', 'white', 'white', 'white', 'white', 'white', 'white', 'white', 'white', 'white', 'white', 'white', 'white', 'white', 'white', 'white', 'white', 'white', 'white', 'white', 'white', 'white', 'white', 'white', 'white', 'white', 'white', 'white', 'white', 'white', 'white', 'white', 'white', 'white', 'white', 'white', 'white', 'white', 'white', 'white', 'white', 'white', 'white', 'white', 'white', 'white', 'white', 'white', 'white', 'white', 'white', 'white', 'white', 'white', 'white', 'white', 'white', 'white', 'white', 'white', 'white', 'white', 'white', 'white', 'white', 'white', 'white', 'white', 'white', 'white', 'white', 'white', 'white', 'white', 'white', 'white', 'white', 'white', 'white', 'white', 'white', 'white', 'white', 'white', 'white', 'white', 'white', 'white', 'white', 'white', 'white', 'white', 'white', 'white', 'white', 'white', 'white', 'white', 'white', 'white', 'white', 'white', 'white', 'white', 'white', 'white', 'white', 'white', 'white', 'white', 'white', 'white', 'white', 'white', 'white', 'white', 'white', 'white', 'white', 'white', 'white', 'white', 'white', 'white', 'white', 'white', 'white', 'white', 'white', 'white', 'white', 'white', 'white', 'white', 'white', 'white', 'white', 'white', 'white', 'white', 'white', 'white', 'white', 'white', 'white', 'white', 'white', 'white', 'white', 'white', 'white', 'white', 'white', 'white', 'white', 'white', 'white', 'white', 'white', 'white', 'white', 'white', 'white', 'white', 'white', 'white', 'white', 'white', 'white', 'white', 'white', 'white', 'white', 'white', 'white', 'white', 'white', 'white', 'white', 'white', 'white', 'white', 'white', 'white', 'white', 'white', 'white', 'white', 'white', 'white', 'white', 'white', 'white', 'white', 'white', 'white', 'white', 'white', 'white', 'white', 'white', 'white', 'white', 'white', 'white', 'white', 'white', 'white', 'white', 'white', 'white', 'white', 'white', 'white', 'white', 'white', 'white', 'white', 'white', 'white', 'white', 'white', 'white', 'white', 'white', 'white', 'white', 'white', 'white', 'white', 'white', 'white', 'white', 'white', 'white', 'white', 'white', 'white', 'white', 'white', 'white', 'white', 'white', 'white', 'white', 'white', 'white', 'white', 'white', 'white', 'white', 'white', 'white', 'white', 'white', 'white', 'white', 'white', 'white', 'white', 'white', 'white', 'white', 'white', 'white', 'white', 'white', 'white', 'white', 'white', 'white', 'white', 'white', 'white', 'white', 'white', 'white', 'white', 'white', 'white', 'white', 'white', 'white', 'white', 'white', 'white', 'white', 'white', 'white', 'white', 'white', 'white', 'white', 'white', 'white', 'white', 'white', 'white', 'white', 'white', 'white', 'white', 'white', 'white', 'white', 'white', 'white', 'white', 'white', 'white', 'white', 'white', 'white', 'white', 'white', 'white', 'white', 'white', 'white', 'white', 'white', 'white', 'white', 'white', 'white', 'white', 'white', 'white', 'white', 'white', 'white', 'white', 'white', 'white', 'white', 'white', 'white', 'white', 'white', 'white', 'white', 'white', 'white', 'white', 'white', 'white', 'white', 'white', 'white', 'white', 'white', 'white', 'white', 'white', 'white', 'white', 'white', 'white', 'white', 'white', 'white', 'white', 'white', 'white', 'white', 'white', 'white', 'white', 'white', 'white', 'white', 'white', 'white', 'white', 'white', 'white', 'white', 'white', 'white', 'white', 'white', 'white', 'white', 'white', 'white', 'white', 'white', 'white', 'white', 'white', 'white', 'white', 'white', 'white', 'white', 'white', 'white', 'white', 'white', 'white', 'white', 'white', 'white', 'white', 'white', 'white', 'white', 'white', 'white', 'white', 'white', 'white', 'white', 'white', 'white', 'white', 'white', 'white', 'white', 'white', 'white', 'white', 'white', 'white', 'white', 'white', 'white', 'white', 'white', 'white', 'white', 'white', 'white', 'white', 'white', 'white', 'white', 'white', 'white', 'white', 'white', 'white', 'white', 'white', 'white', 'white', 'white', 'white', 'white', 'white', 'white', 'white', 'white', 'white', 'white', 'white', 'white', 'white', 'white', 'white', 'white', 'white', 'white', 'white', 'white', 'white', 'white', 'white', 'white', 'white', 'white', 'white', 'white', 'white', 'white', 'white', 'white', 'white', 'white', 'white', 'white', 'white', 'white', 'white', 'white', 'white', 'white', 'white', 'white', 'white', 'white', 'white', 'white', 'white', 'white', 'white', 'white', 'white', 'white', 'white', 'white', 'white', 'white', 'white', 'white', 'white', 'white', 'white', 'white', 'white', 'white', 'white', 'white', 'white', 'white', 'white', 'white', 'white', 'white', 'white', 'white', 'white', 'white', 'white', 'white', 'white', 'white', 'white', 'white', 'white', 'white', 'white', 'white', 'white', 'white', 'white', 'white', 'white', 'white', 'white', 'white', 'white', 'white', 'white', 'white', 'white', 'white', 'white', 'white', 'white', 'white', 'white', 'white', 'white', 'white', 'white', 'white', 'white', 'white', 'white', 'white', 'white', 'white', 'white', 'white', 'white', 'white', 'white', 'white', 'white', 'white', 'white', 'white', 'white', 'white', 'white', 'white', 'white', 'white', 'white', 'white', 'white', 'white', 'white', 'white', 'white', 'white', 'white', 'white', 'white', 'white', 'white', 'white', 'white', 'white', 'white', 'white', 'white', 'white', 'white', 'white', 'white', 'white', 'white', 'white', 'white', 'white', 'white', 'white', 'white', 'white', 'white', 'white', 'white', 'white', 'white', 'white', 'white', 'white', 'white', 'white', 'white', 'white', 'white', 'white', 'white', 'white', 'white', 'white', 'white', 'white', 'white', 'white', 'white', 'white', 'white', 'white', 'white', 'white', 'white', 'white', 'white', 'white', 'white', 'white', 'white', 'white', 'white', 'white', 'white', 'white', 'white', 'white', 'white', 'white', 'white', 'white', 'white', 'white', 'white', 'white', 'white', 'white', 'white', 'white', 'white', 'white', 'white', 'white', 'white', 'white', 'white', 'white', 'white', 'white', 'white', 'white', 'white', 'white', 'white', 'white', 'white', 'white', 'white', 'white', 'white', 'white', 'white', 'white', 'white', 'white', 'white', 'white', 'white', 'white', 'white', 'white', 'white', 'white', 'white', 'white', 'white', 'white', 'white', 'white', 'white', 'white', 'white', 'white', 'white', 'white', 'white', 'white', 'white', 'white', 'white', 'white', 'white', 'white', 'white', 'white', 'white', 'white', 'white', 'white', 'white', 'white', 'white', 'white', 'white', 'white', 'white', 'white', 'white', 'white', 'white', 'white', 'white', 'white', 'white', 'white', 'white', 'white', 'white', 'white', 'white', 'white', 'white', 'white', 'white', 'white', 'white', 'white', 'white', 'white', 'white', 'white', 'white', 'white', 'white', 'white', 'white', 'white', 'white', 'white', 'white', 'white', 'white', 'white', 'white', 'white', 'white', 'white', 'white', 'white', 'white', 'white', 'white', 'white', 'white', 'white', 'white', 'white', 'white', 'white', 'white', 'white', 'white', 'white', 'white', 'white', 'white', 'white', 'white', 'white', 'white', 'white', 'white', 'white', 'white', 'white', 'white', 'white', 'white', 'white', 'white', 'white', 'white', 'white', 'white', 'white', 'white', 'white', 'white', 'white', 'white', 'white', 'white', 'white', 'white', 'white', 'white', 'white', 'white', 'white', 'white', 'white', 'white', 'white', 'white', 'white', 'white', 'white', 'white', 'white', 'white', 'white', 'white', 'white', 'white', 'white', 'white', 'white', 'white', 'white', 'white', 'white', 'white', 'white', 'white', 'white', 'white', 'white', 'white', 'white', 'white', 'white', 'white', 'white', 'white', 'white', 'white', 'white', 'white', 'white', 'white', 'white', 'white', 'white', 'white', 'white', 'white', 'white', 'white', 'white', 'white', 'white', 'white', 'white', 'white', 'white', 'white', 'white', 'white', 'white', 'white', 'white', 'white', 'white', 'white', 'white', 'white', 'white', 'white', 'white', 'white', 'white', 'white', 'white', 'white', 'white', 'white', 'white', 'white', 'white', 'white', 'white', 'white', 'white', 'white', 'white', 'white', 'white', 'white', 'white', 'white', 'white', 'white', 'white', 'white', 'white', 'white', 'white', 'white', 'white', 'white', 'white', 'white', 'white', 'white', 'white', 'white', 'white', 'white', 'white', 'white', 'white', 'white', 'white', 'white', 'white', 'white', 'white', 'white', 'white', 'white', 'white', 'white', 'white', 'white', 'white', 'white', 'white', 'white']\n",
      "4546\n",
      "Starting Predictions\n"
     ]
    },
    {
     "name": "stdout",
     "output_type": "stream",
     "text": [
      "Predictions Done\n",
      "Code Done\n"
     ]
    }
   ],
   "source": [
    "test(data_dir, 'below', 'brighten', 30, experiment_name, model_path) # skeleton = False"
   ]
  },
  {
   "cell_type": "code",
   "execution_count": 61,
   "id": "9da47e83",
   "metadata": {
    "scrolled": true
   },
   "outputs": [
    {
     "name": "stderr",
     "output_type": "stream",
     "text": [
      "  0%|          | 6/4546 [00:00<01:23, 54.27it/s]"
     ]
    },
    {
     "name": "stdout",
     "output_type": "stream",
     "text": [
      "Model Loaded + Initialized\n"
     ]
    },
    {
     "name": "stderr",
     "output_type": "stream",
     "text": [
      "100%|██████████| 4546/4546 [01:17<00:00, 58.78it/s]\n"
     ]
    },
    {
     "name": "stdout",
     "output_type": "stream",
     "text": [
      "Number of Images: 4546\n",
      "Starting Predictions\n",
      "Predictions Done\n",
      "Code Done\n"
     ]
    },
    {
     "name": "stderr",
     "output_type": "stream",
     "text": [
      "  0%|          | 7/4546 [00:00<01:11, 63.43it/s]"
     ]
    },
    {
     "name": "stdout",
     "output_type": "stream",
     "text": [
      "Model Loaded + Initialized\n"
     ]
    },
    {
     "name": "stderr",
     "output_type": "stream",
     "text": [
      "100%|██████████| 4546/4546 [01:16<00:00, 59.15it/s]\n"
     ]
    },
    {
     "name": "stdout",
     "output_type": "stream",
     "text": [
      "Number of Images: 4546\n",
      "Starting Predictions\n",
      "Predictions Done\n",
      "Code Done\n"
     ]
    },
    {
     "name": "stderr",
     "output_type": "stream",
     "text": [
      "  0%|          | 6/4546 [00:00<01:16, 59.28it/s]"
     ]
    },
    {
     "name": "stdout",
     "output_type": "stream",
     "text": [
      "Model Loaded + Initialized\n"
     ]
    },
    {
     "name": "stderr",
     "output_type": "stream",
     "text": [
      "100%|██████████| 4546/4546 [01:16<00:00, 59.10it/s]\n"
     ]
    },
    {
     "name": "stdout",
     "output_type": "stream",
     "text": [
      "Number of Images: 4546\n",
      "Starting Predictions\n",
      "Predictions Done\n",
      "Code Done\n"
     ]
    },
    {
     "name": "stderr",
     "output_type": "stream",
     "text": [
      "  0%|          | 6/4546 [00:00<01:15, 59.96it/s]"
     ]
    },
    {
     "name": "stdout",
     "output_type": "stream",
     "text": [
      "Model Loaded + Initialized\n"
     ]
    },
    {
     "name": "stderr",
     "output_type": "stream",
     "text": [
      "100%|██████████| 4546/4546 [01:16<00:00, 59.15it/s]\n"
     ]
    },
    {
     "name": "stdout",
     "output_type": "stream",
     "text": [
      "Number of Images: 4546\n",
      "Starting Predictions\n",
      "Predictions Done\n",
      "Code Done\n"
     ]
    },
    {
     "name": "stderr",
     "output_type": "stream",
     "text": [
      "  0%|          | 6/4546 [00:00<01:17, 58.51it/s]"
     ]
    },
    {
     "name": "stdout",
     "output_type": "stream",
     "text": [
      "Model Loaded + Initialized\n"
     ]
    },
    {
     "name": "stderr",
     "output_type": "stream",
     "text": [
      "100%|██████████| 4546/4546 [01:16<00:00, 59.06it/s]\n"
     ]
    },
    {
     "name": "stdout",
     "output_type": "stream",
     "text": [
      "Number of Images: 4546\n",
      "Starting Predictions\n",
      "Predictions Done\n",
      "Code Done\n"
     ]
    },
    {
     "name": "stderr",
     "output_type": "stream",
     "text": [
      "  0%|          | 6/4546 [00:00<01:18, 57.78it/s]"
     ]
    },
    {
     "name": "stdout",
     "output_type": "stream",
     "text": [
      "Model Loaded + Initialized\n"
     ]
    },
    {
     "name": "stderr",
     "output_type": "stream",
     "text": [
      "100%|██████████| 4546/4546 [01:17<00:00, 58.70it/s]\n"
     ]
    },
    {
     "name": "stdout",
     "output_type": "stream",
     "text": [
      "Number of Images: 4546\n",
      "Starting Predictions\n",
      "Predictions Done\n",
      "Code Done\n"
     ]
    },
    {
     "name": "stderr",
     "output_type": "stream",
     "text": [
      "  0%|          | 7/4546 [00:00<01:14, 60.75it/s]"
     ]
    },
    {
     "name": "stdout",
     "output_type": "stream",
     "text": [
      "Model Loaded + Initialized\n"
     ]
    },
    {
     "name": "stderr",
     "output_type": "stream",
     "text": [
      "100%|██████████| 4546/4546 [01:17<00:00, 58.92it/s]\n"
     ]
    },
    {
     "name": "stdout",
     "output_type": "stream",
     "text": [
      "Number of Images: 4546\n",
      "Starting Predictions\n",
      "Predictions Done\n",
      "Code Done\n"
     ]
    },
    {
     "name": "stderr",
     "output_type": "stream",
     "text": [
      "  0%|          | 7/4546 [00:00<01:12, 63.00it/s]"
     ]
    },
    {
     "name": "stdout",
     "output_type": "stream",
     "text": [
      "Model Loaded + Initialized\n"
     ]
    },
    {
     "name": "stderr",
     "output_type": "stream",
     "text": [
      "100%|██████████| 4546/4546 [01:17<00:00, 58.90it/s]\n"
     ]
    },
    {
     "name": "stdout",
     "output_type": "stream",
     "text": [
      "Number of Images: 4546\n",
      "Starting Predictions\n",
      "Predictions Done\n",
      "Code Done\n"
     ]
    },
    {
     "name": "stderr",
     "output_type": "stream",
     "text": [
      "  0%|          | 6/4546 [00:00<01:18, 57.87it/s]"
     ]
    },
    {
     "name": "stdout",
     "output_type": "stream",
     "text": [
      "Model Loaded + Initialized\n"
     ]
    },
    {
     "name": "stderr",
     "output_type": "stream",
     "text": [
      "100%|██████████| 4546/4546 [01:16<00:00, 59.16it/s]\n"
     ]
    },
    {
     "name": "stdout",
     "output_type": "stream",
     "text": [
      "Number of Images: 4546\n",
      "Starting Predictions\n",
      "Predictions Done\n",
      "Code Done\n"
     ]
    }
   ],
   "source": [
    "test(data_dir, 'below', 'brighten', 60, experiment_name, model_path) \n",
    "test(data_dir, 'below', 'brighten', 90, experiment_name, model_path) \n",
    "test(data_dir, 'below', 'brighten', 120, experiment_name, model_path) \n",
    "test(data_dir, 'below', 'brighten', 150, experiment_name, model_path) \n",
    "\n",
    "# ---------------------- dulled now\n",
    "\n",
    "test(data_dir, 'below', 'dull', 30, experiment_name, model_path) \n",
    "test(data_dir, 'below', 'dull', 60, experiment_name, model_path) \n",
    "test(data_dir, 'below', 'dull', 90, experiment_name, model_path) \n",
    "test(data_dir, 'below', 'dull', 120, experiment_name, model_path) \n",
    "test(data_dir, 'below', 'dull', 150, experiment_name, model_path) "
   ]
  },
  {
   "cell_type": "code",
   "execution_count": 102,
   "id": "c07f17ec",
   "metadata": {
    "scrolled": true
   },
   "outputs": [
    {
     "name": "stderr",
     "output_type": "stream",
     "text": [
      "\n",
      "\n",
      "  0%|          | 0/4546 [00:00<?, ?it/s]\u001b[A\u001b[A\n",
      "\n",
      "  0%|          | 6/4546 [00:00<01:23, 54.35it/s]\u001b[A\u001b[A"
     ]
    },
    {
     "name": "stdout",
     "output_type": "stream",
     "text": [
      "Model Loaded + Initialized\n"
     ]
    },
    {
     "name": "stderr",
     "output_type": "stream",
     "text": [
      "\n",
      "\n",
      "  0%|          | 12/4546 [00:00<01:22, 55.12it/s]\u001b[A\u001b[A\n",
      "\n",
      "  0%|          | 18/4546 [00:00<01:20, 55.95it/s]\u001b[A\u001b[A\n",
      "\n",
      "  1%|          | 24/4546 [00:00<01:20, 56.14it/s]\u001b[A\u001b[A\n",
      "\n",
      "  1%|          | 30/4546 [00:00<01:19, 56.68it/s]\u001b[A\u001b[A\n",
      "\n",
      "  1%|          | 37/4546 [00:00<01:17, 58.07it/s]\u001b[A\u001b[A\n",
      "\n",
      "  1%|          | 44/4546 [00:00<01:16, 58.89it/s]\u001b[A\u001b[A\n",
      "\n",
      "  1%|          | 51/4546 [00:00<01:15, 59.35it/s]\u001b[A\u001b[A\n",
      "\n",
      "  1%|▏         | 58/4546 [00:00<01:15, 59.61it/s]\u001b[A\u001b[A\n",
      "\n",
      "  1%|▏         | 65/4546 [00:01<01:14, 59.86it/s]\u001b[A\u001b[A\n",
      "\n",
      "  2%|▏         | 72/4546 [00:01<01:14, 60.35it/s]\u001b[A\u001b[A\n",
      "\n",
      "  2%|▏         | 79/4546 [00:01<01:14, 60.19it/s]\u001b[A\u001b[A\n",
      "\n",
      "  2%|▏         | 86/4546 [00:01<01:13, 60.54it/s]\u001b[A\u001b[A\n",
      "\n",
      "  2%|▏         | 93/4546 [00:01<01:14, 59.85it/s]\u001b[A\u001b[A\n",
      "\n",
      "  2%|▏         | 100/4546 [00:01<01:13, 60.34it/s]\u001b[A\u001b[A\n",
      "\n",
      "  2%|▏         | 107/4546 [00:01<01:14, 59.74it/s]\u001b[A\u001b[A\n",
      "\n",
      "  2%|▏         | 113/4546 [00:01<01:15, 58.99it/s]\u001b[A\u001b[A\n",
      "\n",
      "  3%|▎         | 120/4546 [00:02<01:14, 59.42it/s]\u001b[A\u001b[A\n",
      "\n",
      "  3%|▎         | 126/4546 [00:02<01:15, 58.90it/s]\u001b[A\u001b[A\n",
      "\n",
      "  3%|▎         | 132/4546 [00:02<01:14, 59.15it/s]\u001b[A\u001b[A\n",
      "\n",
      "  3%|▎         | 138/4546 [00:02<01:15, 58.35it/s]\u001b[A\u001b[A\n",
      "\n",
      "  3%|▎         | 144/4546 [00:02<01:15, 58.64it/s]\u001b[A\u001b[A\n",
      "\n",
      "  3%|▎         | 151/4546 [00:02<01:14, 59.26it/s]\u001b[A\u001b[A\n",
      "\n",
      "  3%|▎         | 157/4546 [00:02<01:13, 59.42it/s]\u001b[A\u001b[A\n",
      "\n",
      "  4%|▎         | 164/4546 [00:02<01:13, 59.94it/s]\u001b[A\u001b[A\n",
      "\n",
      "  4%|▎         | 170/4546 [00:02<01:14, 59.12it/s]\u001b[A\u001b[A\n",
      "\n",
      "  4%|▍         | 176/4546 [00:02<01:14, 58.58it/s]\u001b[A\u001b[A\n",
      "\n",
      "  4%|▍         | 182/4546 [00:03<01:15, 57.86it/s]\u001b[A\u001b[A\n",
      "\n",
      "  4%|▍         | 188/4546 [00:03<01:14, 58.11it/s]\u001b[A\u001b[A\n",
      "\n",
      "  4%|▍         | 194/4546 [00:03<01:14, 58.59it/s]\u001b[A\u001b[A\n",
      "\n",
      "  4%|▍         | 200/4546 [00:03<01:14, 58.05it/s]\u001b[A\u001b[A\n",
      "\n",
      "  5%|▍         | 207/4546 [00:03<01:13, 59.23it/s]\u001b[A\u001b[A\n",
      "\n",
      "  5%|▍         | 213/4546 [00:03<01:13, 58.80it/s]\u001b[A\u001b[A\n",
      "\n",
      "  5%|▍         | 219/4546 [00:03<01:14, 58.06it/s]\u001b[A\u001b[A\n",
      "\n",
      "  5%|▍         | 225/4546 [00:03<01:14, 57.72it/s]\u001b[A\u001b[A\n",
      "\n",
      "  5%|▌         | 232/4546 [00:03<01:12, 59.24it/s]\u001b[A\u001b[A\n",
      "\n",
      "  5%|▌         | 238/4546 [00:04<01:13, 58.96it/s]\u001b[A\u001b[A\n",
      "\n",
      "  5%|▌         | 244/4546 [00:04<01:12, 59.18it/s]\u001b[A\u001b[A\n",
      "\n",
      "  5%|▌         | 250/4546 [00:04<01:12, 59.37it/s]\u001b[A\u001b[A\n",
      "\n",
      "  6%|▌         | 256/4546 [00:04<01:12, 58.95it/s]\u001b[A\u001b[A\n",
      "\n",
      "  6%|▌         | 262/4546 [00:04<01:12, 59.02it/s]\u001b[A\u001b[A\n",
      "\n",
      "  6%|▌         | 269/4546 [00:04<01:11, 60.10it/s]\u001b[A\u001b[A\n",
      "\n",
      "  6%|▌         | 276/4546 [00:04<01:10, 60.91it/s]\u001b[A\u001b[A\n",
      "\n",
      "  6%|▌         | 283/4546 [00:04<01:10, 60.23it/s]\u001b[A\u001b[A\n",
      "\n",
      "  6%|▋         | 290/4546 [00:04<01:11, 59.53it/s]\u001b[A\u001b[A\n",
      "\n",
      "  7%|▋         | 297/4546 [00:05<01:09, 60.85it/s]\u001b[A\u001b[A\n",
      "\n",
      "  7%|▋         | 304/4546 [00:05<01:09, 61.23it/s]\u001b[A\u001b[A\n",
      "\n",
      "  7%|▋         | 311/4546 [00:05<01:10, 59.99it/s]\u001b[A\u001b[A\n",
      "\n",
      "  7%|▋         | 318/4546 [00:05<01:11, 58.87it/s]\u001b[A\u001b[A\n",
      "\n",
      "  7%|▋         | 325/4546 [00:05<01:11, 59.40it/s]\u001b[A\u001b[A\n",
      "\n",
      "  7%|▋         | 331/4546 [00:05<01:11, 59.01it/s]\u001b[A\u001b[A\n",
      "\n",
      "  7%|▋         | 337/4546 [00:05<01:11, 59.02it/s]\u001b[A\u001b[A\n",
      "\n",
      "  8%|▊         | 343/4546 [00:05<01:11, 58.80it/s]\u001b[A\u001b[A\n",
      "\n",
      "  8%|▊         | 349/4546 [00:05<01:12, 57.96it/s]\u001b[A\u001b[A\n",
      "\n",
      "  8%|▊         | 355/4546 [00:06<01:12, 58.03it/s]\u001b[A\u001b[A\n",
      "\n",
      "  8%|▊         | 362/4546 [00:06<01:11, 58.48it/s]\u001b[A\u001b[A\n",
      "\n",
      "  8%|▊         | 368/4546 [00:06<01:10, 58.87it/s]\u001b[A\u001b[A\n",
      "\n",
      "  8%|▊         | 374/4546 [00:06<01:11, 58.44it/s]\u001b[A\u001b[A\n",
      "\n",
      "  8%|▊         | 381/4546 [00:06<01:10, 59.11it/s]\u001b[A\u001b[A\n",
      "\n",
      "  9%|▊         | 388/4546 [00:06<01:09, 59.50it/s]\u001b[A\u001b[A\n",
      "\n",
      "  9%|▊         | 395/4546 [00:06<01:09, 59.75it/s]\u001b[A\u001b[A\n",
      "\n",
      "  9%|▉         | 401/4546 [00:06<01:09, 59.23it/s]\u001b[A\u001b[A\n",
      "\n",
      "  9%|▉         | 407/4546 [00:06<01:10, 58.72it/s]\u001b[A\u001b[A\n",
      "\n",
      "  9%|▉         | 413/4546 [00:06<01:10, 58.40it/s]\u001b[A\u001b[A\n",
      "\n",
      "  9%|▉         | 419/4546 [00:07<01:10, 58.32it/s]\u001b[A\u001b[A\n",
      "\n",
      "  9%|▉         | 425/4546 [00:07<01:11, 58.03it/s]\u001b[A\u001b[A\n",
      "\n",
      "  9%|▉         | 431/4546 [00:07<01:10, 58.10it/s]\u001b[A\u001b[A\n",
      "\n",
      " 10%|▉         | 437/4546 [00:07<01:10, 58.00it/s]\u001b[A\u001b[A\n",
      "\n",
      " 10%|▉         | 443/4546 [00:07<01:11, 57.70it/s]\u001b[A\u001b[A\n",
      "\n",
      " 10%|▉         | 449/4546 [00:07<01:10, 57.78it/s]\u001b[A\u001b[A\n",
      "\n",
      " 10%|█         | 455/4546 [00:07<01:10, 57.64it/s]\u001b[A\u001b[A\n",
      "\n",
      " 10%|█         | 462/4546 [00:07<01:09, 58.59it/s]\u001b[A\u001b[A\n",
      "\n",
      " 10%|█         | 468/4546 [00:07<01:09, 58.67it/s]\u001b[A\u001b[A\n",
      "\n",
      " 10%|█         | 475/4546 [00:08<01:08, 59.64it/s]\u001b[A\u001b[A\n",
      "\n",
      " 11%|█         | 481/4546 [00:08<01:09, 58.79it/s]\u001b[A\u001b[A\n",
      "\n",
      " 11%|█         | 487/4546 [00:08<01:09, 57.99it/s]\u001b[A\u001b[A\n",
      "\n",
      " 11%|█         | 493/4546 [00:08<01:10, 57.69it/s]\u001b[A\u001b[A\n",
      "\n",
      " 11%|█         | 499/4546 [00:08<01:10, 57.50it/s]\u001b[A\u001b[A\n",
      "\n",
      " 11%|█         | 506/4546 [00:08<01:08, 58.95it/s]\u001b[A\u001b[A\n",
      "\n",
      " 11%|█▏        | 512/4546 [00:08<01:08, 58.95it/s]\u001b[A\u001b[A\n",
      "\n",
      " 11%|█▏        | 518/4546 [00:08<01:08, 58.76it/s]\u001b[A\u001b[A\n",
      "\n",
      " 12%|█▏        | 524/4546 [00:08<01:08, 59.00it/s]\u001b[A\u001b[A\n",
      "\n",
      " 12%|█▏        | 531/4546 [00:09<01:07, 59.66it/s]\u001b[A\u001b[A\n",
      "\n",
      " 12%|█▏        | 537/4546 [00:09<01:07, 59.10it/s]\u001b[A\u001b[A\n",
      "\n",
      " 12%|█▏        | 543/4546 [00:09<01:07, 59.23it/s]\u001b[A\u001b[A\n",
      "\n",
      " 12%|█▏        | 549/4546 [00:09<01:07, 58.95it/s]\u001b[A\u001b[A\n",
      "\n",
      " 12%|█▏        | 556/4546 [00:09<01:07, 59.15it/s]\u001b[A\u001b[A\n",
      "\n",
      " 12%|█▏        | 562/4546 [00:09<01:07, 58.70it/s]\u001b[A\u001b[A\n",
      "\n",
      " 13%|█▎        | 569/4546 [00:09<01:06, 59.68it/s]\u001b[A\u001b[A\n",
      "\n",
      " 13%|█▎        | 576/4546 [00:09<01:05, 60.38it/s]\u001b[A\u001b[A\n",
      "\n",
      " 13%|█▎        | 583/4546 [00:09<01:05, 60.23it/s]\u001b[A\u001b[A\n",
      "\n",
      " 13%|█▎        | 590/4546 [00:09<01:04, 60.94it/s]\u001b[A\u001b[A\n",
      "\n",
      " 13%|█▎        | 597/4546 [00:10<01:05, 60.26it/s]\u001b[A\u001b[A\n",
      "\n",
      " 13%|█▎        | 604/4546 [00:10<01:04, 60.75it/s]\u001b[A\u001b[A\n",
      "\n",
      " 13%|█▎        | 611/4546 [00:10<01:06, 59.42it/s]\u001b[A\u001b[A\n",
      "\n",
      " 14%|█▎        | 618/4546 [00:10<01:05, 59.87it/s]\u001b[A\u001b[A\n",
      "\n",
      " 14%|█▎        | 624/4546 [00:10<01:06, 59.03it/s]\u001b[A\u001b[A\n",
      "\n",
      " 14%|█▍        | 631/4546 [00:10<01:06, 59.26it/s]\u001b[A\u001b[A\n",
      "\n",
      " 14%|█▍        | 637/4546 [00:10<01:06, 58.93it/s]\u001b[A\u001b[A\n",
      "\n",
      " 14%|█▍        | 643/4546 [00:10<01:06, 58.65it/s]\u001b[A\u001b[A\n",
      "\n",
      " 14%|█▍        | 649/4546 [00:10<01:06, 58.88it/s]\u001b[A\u001b[A\n",
      "\n",
      " 14%|█▍        | 655/4546 [00:11<01:06, 58.62it/s]\u001b[A\u001b[A\n",
      "\n",
      " 15%|█▍        | 662/4546 [00:11<01:05, 59.15it/s]\u001b[A\u001b[A\n",
      "\n",
      " 15%|█▍        | 669/4546 [00:11<01:05, 59.53it/s]\u001b[A\u001b[A\n",
      "\n",
      " 15%|█▍        | 675/4546 [00:11<01:05, 58.68it/s]\u001b[A\u001b[A\n",
      "\n",
      " 15%|█▍        | 681/4546 [00:11<01:05, 58.59it/s]\u001b[A\u001b[A\n",
      "\n",
      " 15%|█▌        | 687/4546 [00:11<01:05, 58.51it/s]\u001b[A\u001b[A\n",
      "\n",
      " 15%|█▌        | 694/4546 [00:11<01:04, 59.58it/s]\u001b[A\u001b[A\n",
      "\n",
      " 15%|█▌        | 700/4546 [00:11<01:05, 58.87it/s]\u001b[A\u001b[A\n",
      "\n",
      " 16%|█▌        | 707/4546 [00:11<01:04, 59.68it/s]\u001b[A\u001b[A\n",
      "\n",
      " 16%|█▌        | 713/4546 [00:12<01:04, 59.21it/s]\u001b[A\u001b[A\n",
      "\n",
      " 16%|█▌        | 720/4546 [00:12<01:03, 60.48it/s]\u001b[A\u001b[A\n",
      "\n",
      " 16%|█▌        | 727/4546 [00:12<01:03, 60.13it/s]\u001b[A\u001b[A\n",
      "\n",
      " 16%|█▌        | 734/4546 [00:12<01:03, 59.74it/s]\u001b[A\u001b[A\n",
      "\n",
      " 16%|█▋        | 740/4546 [00:12<01:04, 59.01it/s]\u001b[A\u001b[A\n",
      "\n",
      " 16%|█▋        | 746/4546 [00:12<01:04, 58.63it/s]\u001b[A\u001b[A\n",
      "\n",
      " 17%|█▋        | 752/4546 [00:12<01:04, 58.78it/s]\u001b[A\u001b[A\n",
      "\n",
      " 17%|█▋        | 758/4546 [00:12<01:04, 59.11it/s]\u001b[A\u001b[A\n",
      "\n",
      " 17%|█▋        | 764/4546 [00:12<01:03, 59.26it/s]\u001b[A\u001b[A\n",
      "\n",
      " 17%|█▋        | 770/4546 [00:13<01:04, 58.49it/s]\u001b[A\u001b[A\n",
      "\n",
      " 17%|█▋        | 776/4546 [00:13<01:04, 58.65it/s]\u001b[A\u001b[A\n",
      "\n",
      " 17%|█▋        | 782/4546 [00:13<01:05, 57.88it/s]\u001b[A\u001b[A\n",
      "\n",
      " 17%|█▋        | 788/4546 [00:13<01:05, 57.62it/s]\u001b[A\u001b[A\n",
      "\n",
      " 17%|█▋        | 794/4546 [00:13<01:04, 57.82it/s]\u001b[A\u001b[A\n",
      "\n",
      " 18%|█▊        | 800/4546 [00:13<01:05, 56.97it/s]\u001b[A\u001b[A\n",
      "\n",
      " 18%|█▊        | 807/4546 [00:13<01:03, 58.74it/s]\u001b[A\u001b[A\n",
      "\n",
      " 18%|█▊        | 813/4546 [00:13<01:04, 57.92it/s]\u001b[A\u001b[A\n",
      "\n",
      " 18%|█▊        | 820/4546 [00:13<01:02, 59.28it/s]\u001b[A\u001b[A\n",
      "\n",
      " 18%|█▊        | 827/4546 [00:14<01:02, 59.65it/s]\u001b[A\u001b[A\n",
      "\n",
      " 18%|█▊        | 833/4546 [00:14<01:03, 58.87it/s]\u001b[A\u001b[A\n",
      "\n",
      " 18%|█▊        | 839/4546 [00:14<01:03, 58.75it/s]\u001b[A\u001b[A\n",
      "\n",
      " 19%|█▊        | 845/4546 [00:14<01:03, 58.35it/s]\u001b[A\u001b[A\n",
      "\n",
      " 19%|█▊        | 852/4546 [00:14<01:02, 59.33it/s]\u001b[A\u001b[A\n",
      "\n",
      " 19%|█▉        | 859/4546 [00:14<01:02, 59.14it/s]\u001b[A\u001b[A\n",
      "\n",
      " 19%|█▉        | 866/4546 [00:14<01:02, 59.13it/s]\u001b[A\u001b[A\n",
      "\n",
      " 19%|█▉        | 872/4546 [00:14<01:02, 59.00it/s]\u001b[A\u001b[A\n",
      "\n",
      " 19%|█▉        | 878/4546 [00:14<01:02, 58.43it/s]\u001b[A\u001b[A\n",
      "\n",
      " 19%|█▉        | 884/4546 [00:14<01:02, 58.27it/s]\u001b[A\u001b[A\n",
      "\n",
      " 20%|█▉        | 890/4546 [00:15<01:02, 58.41it/s]\u001b[A\u001b[A\n",
      "\n",
      " 20%|█▉        | 896/4546 [00:15<01:03, 57.64it/s]\u001b[A\u001b[A\n",
      "\n",
      " 20%|█▉        | 902/4546 [00:15<01:02, 58.14it/s]\u001b[A\u001b[A\n",
      "\n",
      " 20%|█▉        | 908/4546 [00:15<01:03, 57.49it/s]\u001b[A\u001b[A\n",
      "\n",
      " 20%|██        | 914/4546 [00:15<01:03, 57.04it/s]\u001b[A\u001b[A\n",
      "\n",
      " 20%|██        | 920/4546 [00:15<01:03, 57.00it/s]\u001b[A\u001b[A\n",
      "\n",
      " 20%|██        | 926/4546 [00:15<01:02, 57.68it/s]\u001b[A\u001b[A\n",
      "\n",
      " 21%|██        | 932/4546 [00:15<01:02, 58.04it/s]\u001b[A\u001b[A\n",
      "\n",
      " 21%|██        | 938/4546 [00:15<01:02, 57.77it/s]\u001b[A\u001b[A\n",
      "\n",
      " 21%|██        | 945/4546 [00:16<01:01, 58.75it/s]\u001b[A\u001b[A\n",
      "\n",
      " 21%|██        | 951/4546 [00:16<01:01, 58.65it/s]\u001b[A\u001b[A\n",
      "\n",
      " 21%|██        | 957/4546 [00:16<01:00, 58.92it/s]\u001b[A\u001b[A\n",
      "\n",
      " 21%|██        | 964/4546 [00:16<00:59, 60.09it/s]\u001b[A\u001b[A\n",
      "\n",
      " 21%|██▏       | 971/4546 [00:16<00:59, 60.06it/s]\u001b[A\u001b[A\n",
      "\n",
      " 22%|██▏       | 978/4546 [00:16<00:59, 60.07it/s]\u001b[A\u001b[A\n",
      "\n",
      " 22%|██▏       | 985/4546 [00:16<01:01, 57.88it/s]\u001b[A\u001b[A\n",
      "\n",
      " 22%|██▏       | 991/4546 [00:16<01:01, 57.91it/s]\u001b[A\u001b[A\n",
      "\n",
      " 22%|██▏       | 997/4546 [00:16<01:02, 57.15it/s]\u001b[A\u001b[A\n",
      "\n",
      " 22%|██▏       | 1003/4546 [00:17<01:01, 57.52it/s]\u001b[A\u001b[A\n",
      "\n",
      " 22%|██▏       | 1009/4546 [00:17<01:01, 57.32it/s]\u001b[A\u001b[A\n",
      "\n",
      " 22%|██▏       | 1015/4546 [00:17<01:01, 57.82it/s]\u001b[A\u001b[A\n",
      "\n",
      " 22%|██▏       | 1021/4546 [00:17<01:00, 57.86it/s]\u001b[A\u001b[A\n",
      "\n",
      " 23%|██▎       | 1028/4546 [00:17<00:59, 59.43it/s]\u001b[A\u001b[A\n",
      "\n",
      " 23%|██▎       | 1034/4546 [00:17<00:59, 58.87it/s]\u001b[A\u001b[A\n",
      "\n",
      " 23%|██▎       | 1041/4546 [00:17<00:58, 59.48it/s]\u001b[A\u001b[A\n",
      "\n",
      " 23%|██▎       | 1048/4546 [00:17<00:58, 59.90it/s]\u001b[A\u001b[A\n",
      "\n",
      " 23%|██▎       | 1054/4546 [00:17<00:58, 59.84it/s]\u001b[A\u001b[A\n",
      "\n",
      " 23%|██▎       | 1060/4546 [00:17<00:58, 59.57it/s]\u001b[A\u001b[A\n",
      "\n",
      " 23%|██▎       | 1066/4546 [00:18<00:58, 59.26it/s]\u001b[A\u001b[A\n",
      "\n",
      " 24%|██▎       | 1072/4546 [00:18<00:58, 59.35it/s]\u001b[A\u001b[A\n",
      "\n",
      " 24%|██▎       | 1079/4546 [00:18<00:58, 59.58it/s]\u001b[A\u001b[A\n",
      "\n",
      " 24%|██▍       | 1085/4546 [00:18<00:58, 59.12it/s]\u001b[A\u001b[A\n",
      "\n",
      " 24%|██▍       | 1091/4546 [00:18<00:58, 59.16it/s]\u001b[A\u001b[A\n",
      "\n",
      " 24%|██▍       | 1098/4546 [00:18<00:57, 59.45it/s]\u001b[A\u001b[A\n",
      "\n",
      " 24%|██▍       | 1104/4546 [00:18<00:58, 59.29it/s]\u001b[A\u001b[A\n",
      "\n",
      " 24%|██▍       | 1111/4546 [00:18<00:57, 59.79it/s]\u001b[A\u001b[A\n",
      "\n",
      " 25%|██▍       | 1117/4546 [00:18<00:57, 59.29it/s]\u001b[A\u001b[A\n",
      "\n",
      " 25%|██▍       | 1123/4546 [00:19<00:58, 58.66it/s]\u001b[A\u001b[A\n",
      "\n",
      " 25%|██▍       | 1129/4546 [00:19<00:58, 58.40it/s]\u001b[A\u001b[A\n",
      "\n",
      " 25%|██▍       | 1135/4546 [00:19<00:58, 58.75it/s]\u001b[A\u001b[A\n",
      "\n",
      " 25%|██▌       | 1141/4546 [00:19<00:58, 57.88it/s]\u001b[A\u001b[A\n",
      "\n",
      " 25%|██▌       | 1147/4546 [00:19<00:58, 57.62it/s]\u001b[A\u001b[A\n",
      "\n",
      " 25%|██▌       | 1153/4546 [00:19<00:58, 57.75it/s]\u001b[A\u001b[A\n",
      "\n",
      " 25%|██▌       | 1159/4546 [00:19<00:58, 57.56it/s]\u001b[A\u001b[A\n",
      "\n",
      " 26%|██▌       | 1165/4546 [00:19<00:58, 57.91it/s]\u001b[A\u001b[A\n",
      "\n",
      " 26%|██▌       | 1172/4546 [00:19<00:57, 59.07it/s]\u001b[A\u001b[A\n",
      "\n",
      " 26%|██▌       | 1179/4546 [00:20<00:55, 60.90it/s]\u001b[A\u001b[A\n",
      "\n",
      " 26%|██▌       | 1186/4546 [00:20<00:55, 60.59it/s]\u001b[A\u001b[A\n",
      "\n",
      " 26%|██▌       | 1193/4546 [00:20<00:56, 59.64it/s]\u001b[A\u001b[A\n",
      "\n",
      " 26%|██▋       | 1199/4546 [00:20<00:56, 58.74it/s]\u001b[A\u001b[A\n",
      "\n",
      " 27%|██▋       | 1205/4546 [00:20<00:57, 57.82it/s]\u001b[A\u001b[A\n",
      "\n",
      " 27%|██▋       | 1211/4546 [00:20<00:57, 57.76it/s]\u001b[A\u001b[A\n",
      "\n",
      " 27%|██▋       | 1217/4546 [00:20<00:57, 57.90it/s]\u001b[A\u001b[A\n",
      "\n",
      " 27%|██▋       | 1223/4546 [00:20<00:56, 58.45it/s]\u001b[A\u001b[A\n",
      "\n",
      " 27%|██▋       | 1230/4546 [00:20<00:55, 59.31it/s]\u001b[A\u001b[A\n",
      "\n",
      " 27%|██▋       | 1236/4546 [00:20<00:56, 58.78it/s]\u001b[A\u001b[A\n",
      "\n",
      " 27%|██▋       | 1242/4546 [00:21<00:57, 57.53it/s]\u001b[A\u001b[A\n",
      "\n",
      " 27%|██▋       | 1248/4546 [00:21<00:57, 57.20it/s]\u001b[A\u001b[A\n",
      "\n",
      " 28%|██▊       | 1254/4546 [00:21<00:56, 57.97it/s]\u001b[A\u001b[A\n",
      "\n",
      " 28%|██▊       | 1260/4546 [00:21<00:56, 58.28it/s]\u001b[A\u001b[A\n",
      "\n",
      " 28%|██▊       | 1266/4546 [00:21<00:56, 57.73it/s]\u001b[A\u001b[A\n",
      "\n",
      " 28%|██▊       | 1272/4546 [00:21<00:56, 58.19it/s]\u001b[A\u001b[A\n",
      "\n",
      " 28%|██▊       | 1278/4546 [00:21<00:56, 57.99it/s]\u001b[A\u001b[A\n",
      "\n",
      " 28%|██▊       | 1285/4546 [00:21<00:55, 58.90it/s]\u001b[A\u001b[A\n",
      "\n",
      " 28%|██▊       | 1291/4546 [00:21<00:55, 59.09it/s]\u001b[A\u001b[A\n",
      "\n",
      " 29%|██▊       | 1297/4546 [00:22<00:55, 58.78it/s]\u001b[A\u001b[A\n",
      "\n",
      " 29%|██▊       | 1303/4546 [00:22<00:55, 58.27it/s]\u001b[A\u001b[A\n",
      "\n",
      " 29%|██▉       | 1309/4546 [00:22<00:55, 58.41it/s]\u001b[A\u001b[A\n",
      "\n",
      " 29%|██▉       | 1315/4546 [00:22<00:55, 58.68it/s]\u001b[A\u001b[A\n",
      "\n",
      " 29%|██▉       | 1322/4546 [00:22<00:54, 59.38it/s]\u001b[A\u001b[A\n",
      "\n",
      " 29%|██▉       | 1328/4546 [00:22<00:54, 59.32it/s]\u001b[A\u001b[A\n",
      "\n",
      " 29%|██▉       | 1334/4546 [00:22<00:54, 59.10it/s]\u001b[A\u001b[A\n",
      "\n",
      " 29%|██▉       | 1340/4546 [00:22<00:54, 59.23it/s]\u001b[A\u001b[A\n",
      "\n",
      " 30%|██▉       | 1346/4546 [00:22<00:54, 58.65it/s]\u001b[A\u001b[A\n",
      "\n",
      " 30%|██▉       | 1352/4546 [00:22<00:54, 58.51it/s]\u001b[A\u001b[A\n",
      "\n",
      " 30%|██▉       | 1358/4546 [00:23<00:55, 57.54it/s]\u001b[A\u001b[A\n",
      "\n",
      " 30%|███       | 1364/4546 [00:23<00:55, 56.91it/s]\u001b[A\u001b[A\n",
      "\n",
      " 30%|███       | 1371/4546 [00:23<00:54, 58.39it/s]\u001b[A\u001b[A\n",
      "\n",
      " 30%|███       | 1377/4546 [00:23<00:55, 57.61it/s]\u001b[A\u001b[A\n",
      "\n",
      " 30%|███       | 1383/4546 [00:23<00:55, 57.27it/s]\u001b[A\u001b[A\n",
      "\n",
      " 31%|███       | 1389/4546 [00:23<00:55, 57.18it/s]\u001b[A\u001b[A\n",
      "\n",
      " 31%|███       | 1395/4546 [00:23<00:54, 57.51it/s]\u001b[A\u001b[A\n",
      "\n",
      " 31%|███       | 1401/4546 [00:23<00:54, 57.51it/s]\u001b[A\u001b[A\n",
      "\n",
      " 31%|███       | 1407/4546 [00:23<00:55, 56.93it/s]\u001b[A\u001b[A\n",
      "\n",
      " 31%|███       | 1413/4546 [00:24<00:55, 56.90it/s]\u001b[A\u001b[A\n",
      "\n",
      " 31%|███       | 1419/4546 [00:24<00:54, 57.31it/s]\u001b[A\u001b[A\n",
      "\n",
      " 31%|███▏      | 1425/4546 [00:24<00:54, 57.59it/s]\u001b[A\u001b[A\n",
      "\n",
      " 31%|███▏      | 1431/4546 [00:24<00:54, 57.68it/s]\u001b[A\u001b[A\n",
      "\n",
      " 32%|███▏      | 1438/4546 [00:24<00:52, 58.78it/s]\u001b[A\u001b[A\n",
      "\n",
      " 32%|███▏      | 1444/4546 [00:24<00:52, 58.69it/s]\u001b[A\u001b[A\n",
      "\n",
      " 32%|███▏      | 1451/4546 [00:24<00:52, 59.31it/s]\u001b[A\u001b[A\n",
      "\n",
      " 32%|███▏      | 1457/4546 [00:24<00:52, 58.86it/s]\u001b[A\u001b[A\n",
      "\n",
      " 32%|███▏      | 1463/4546 [00:24<00:52, 59.04it/s]\u001b[A\u001b[A\n",
      "\n",
      " 32%|███▏      | 1469/4546 [00:24<00:51, 59.22it/s]\u001b[A\u001b[A\n",
      "\n",
      " 32%|███▏      | 1476/4546 [00:25<00:51, 59.59it/s]\u001b[A\u001b[A\n",
      "\n",
      " 33%|███▎      | 1482/4546 [00:25<00:52, 58.45it/s]\u001b[A\u001b[A\n",
      "\n",
      " 33%|███▎      | 1488/4546 [00:25<00:52, 58.41it/s]\u001b[A\u001b[A\n",
      "\n",
      " 33%|███▎      | 1494/4546 [00:25<00:52, 58.16it/s]\u001b[A\u001b[A\n",
      "\n",
      " 33%|███▎      | 1500/4546 [00:25<00:52, 57.74it/s]\u001b[A\u001b[A\n",
      "\n",
      " 33%|███▎      | 1507/4546 [00:25<00:51, 58.75it/s]\u001b[A\u001b[A\n",
      "\n",
      " 33%|███▎      | 1513/4546 [00:25<00:51, 58.90it/s]\u001b[A\u001b[A\n",
      "\n",
      " 33%|███▎      | 1520/4546 [00:25<00:50, 59.89it/s]\u001b[A\u001b[A\n",
      "\n",
      " 34%|███▎      | 1526/4546 [00:25<00:50, 59.55it/s]\u001b[A\u001b[A\n",
      "\n",
      " 34%|███▎      | 1532/4546 [00:26<00:50, 59.39it/s]\u001b[A\u001b[A\n",
      "\n",
      " 34%|███▍      | 1538/4546 [00:26<00:50, 59.45it/s]\u001b[A\u001b[A\n",
      "\n",
      " 34%|███▍      | 1545/4546 [00:26<00:49, 60.78it/s]\u001b[A\u001b[A\n",
      "\n",
      " 34%|███▍      | 1552/4546 [00:26<00:50, 59.55it/s]\u001b[A\u001b[A\n",
      "\n",
      " 34%|███▍      | 1558/4546 [00:26<00:50, 59.17it/s]\u001b[A\u001b[A\n",
      "\n",
      " 34%|███▍      | 1564/4546 [00:26<00:51, 58.40it/s]\u001b[A\u001b[A\n",
      "\n",
      " 35%|███▍      | 1570/4546 [00:26<00:51, 58.25it/s]\u001b[A\u001b[A\n",
      "\n",
      " 35%|███▍      | 1576/4546 [00:26<00:51, 57.99it/s]\u001b[A\u001b[A\n",
      "\n",
      " 35%|███▍      | 1582/4546 [00:26<00:51, 57.92it/s]\u001b[A\u001b[A\n",
      "\n",
      " 35%|███▍      | 1588/4546 [00:27<00:50, 58.42it/s]\u001b[A\u001b[A\n",
      "\n",
      " 35%|███▌      | 1594/4546 [00:27<00:50, 57.90it/s]\u001b[A\u001b[A\n",
      "\n",
      " 35%|███▌      | 1600/4546 [00:27<00:50, 58.21it/s]\u001b[A\u001b[A\n",
      "\n",
      " 35%|███▌      | 1606/4546 [00:27<00:50, 57.94it/s]\u001b[A\u001b[A\n",
      "\n",
      " 35%|███▌      | 1612/4546 [00:27<00:51, 56.84it/s]\u001b[A\u001b[A\n",
      "\n",
      " 36%|███▌      | 1618/4546 [00:27<00:51, 57.02it/s]\u001b[A\u001b[A\n",
      "\n",
      " 36%|███▌      | 1624/4546 [00:27<00:50, 57.74it/s]\u001b[A\u001b[A\n",
      "\n",
      " 36%|███▌      | 1630/4546 [00:27<00:50, 57.66it/s]\u001b[A\u001b[A\n",
      "\n",
      " 36%|███▌      | 1636/4546 [00:27<00:50, 57.87it/s]\u001b[A\u001b[A\n",
      "\n",
      " 36%|███▌      | 1642/4546 [00:27<00:50, 57.30it/s]\u001b[A\u001b[A\n",
      "\n",
      " 36%|███▋      | 1648/4546 [00:28<00:52, 55.42it/s]\u001b[A\u001b[A\n",
      "\n",
      " 36%|███▋      | 1654/4546 [00:28<00:51, 56.55it/s]\u001b[A\u001b[A\n",
      "\n",
      " 37%|███▋      | 1660/4546 [00:28<00:50, 56.77it/s]\u001b[A\u001b[A\n",
      "\n",
      " 37%|███▋      | 1666/4546 [00:28<00:50, 57.05it/s]\u001b[A\u001b[A\n",
      "\n",
      " 37%|███▋      | 1672/4546 [00:28<00:49, 57.55it/s]\u001b[A\u001b[A\n",
      "\n",
      " 37%|███▋      | 1678/4546 [00:28<00:49, 57.96it/s]\u001b[A\u001b[A\n",
      "\n",
      " 37%|███▋      | 1685/4546 [00:28<00:49, 58.39it/s]\u001b[A\u001b[A\n",
      "\n",
      " 37%|███▋      | 1691/4546 [00:28<00:48, 58.60it/s]\u001b[A\u001b[A\n",
      "\n",
      " 37%|███▋      | 1697/4546 [00:28<00:49, 58.02it/s]\u001b[A\u001b[A\n",
      "\n",
      " 37%|███▋      | 1703/4546 [00:29<00:48, 58.51it/s]\u001b[A\u001b[A\n",
      "\n",
      " 38%|███▊      | 1709/4546 [00:29<00:48, 58.27it/s]\u001b[A\u001b[A\n",
      "\n",
      " 38%|███▊      | 1715/4546 [00:29<00:48, 58.57it/s]\u001b[A\u001b[A\n",
      "\n",
      " 38%|███▊      | 1722/4546 [00:29<00:47, 59.06it/s]\u001b[A\u001b[A\n",
      "\n",
      " 38%|███▊      | 1728/4546 [00:29<00:47, 58.88it/s]\u001b[A\u001b[A\n",
      "\n",
      " 38%|███▊      | 1734/4546 [00:29<00:47, 59.12it/s]\u001b[A\u001b[A\n",
      "\n",
      " 38%|███▊      | 1740/4546 [00:29<00:47, 58.95it/s]\u001b[A\u001b[A\n",
      "\n",
      " 38%|███▊      | 1747/4546 [00:29<00:46, 59.86it/s]\u001b[A\u001b[A\n",
      "\n",
      " 39%|███▊      | 1753/4546 [00:29<00:47, 59.18it/s]\u001b[A\u001b[A\n",
      "\n",
      " 39%|███▊      | 1760/4546 [00:29<00:46, 59.68it/s]\u001b[A\u001b[A\n",
      "\n",
      " 39%|███▉      | 1766/4546 [00:30<00:47, 59.14it/s]\u001b[A\u001b[A\n",
      "\n",
      " 39%|███▉      | 1772/4546 [00:30<00:47, 58.70it/s]\u001b[A\u001b[A\n",
      "\n"
     ]
    },
    {
     "name": "stderr",
     "output_type": "stream",
     "text": [
      " 39%|███▉      | 1779/4546 [00:30<00:45, 60.42it/s]\u001b[A\u001b[A\n",
      "\n",
      " 39%|███▉      | 1786/4546 [00:30<00:46, 59.04it/s]\u001b[A\u001b[A\n",
      "\n",
      " 39%|███▉      | 1793/4546 [00:30<00:46, 59.18it/s]\u001b[A\u001b[A\n",
      "\n",
      " 40%|███▉      | 1799/4546 [00:30<00:46, 59.25it/s]\u001b[A\u001b[A\n",
      "\n",
      " 40%|███▉      | 1806/4546 [00:30<00:45, 59.60it/s]\u001b[A\u001b[A\n",
      "\n",
      " 40%|███▉      | 1812/4546 [00:30<00:46, 59.29it/s]\u001b[A\u001b[A\n",
      "\n",
      " 40%|████      | 1819/4546 [00:30<00:45, 59.29it/s]\u001b[A\u001b[A\n",
      "\n",
      " 40%|████      | 1825/4546 [00:31<00:46, 58.78it/s]\u001b[A\u001b[A\n",
      "\n",
      " 40%|████      | 1831/4546 [00:31<00:46, 58.35it/s]\u001b[A\u001b[A\n",
      "\n",
      " 40%|████      | 1837/4546 [00:31<00:46, 58.43it/s]\u001b[A\u001b[A\n",
      "\n",
      " 41%|████      | 1843/4546 [00:31<00:46, 58.06it/s]\u001b[A\u001b[A\n",
      "\n",
      " 41%|████      | 1849/4546 [00:31<00:46, 57.39it/s]\u001b[A\u001b[A\n",
      "\n",
      " 41%|████      | 1856/4546 [00:31<00:46, 58.21it/s]\u001b[A\u001b[A\n",
      "\n",
      " 41%|████      | 1862/4546 [00:31<00:46, 57.60it/s]\u001b[A\u001b[A\n",
      "\n",
      " 41%|████      | 1868/4546 [00:31<00:46, 57.94it/s]\u001b[A\u001b[A\n",
      "\n",
      " 41%|████      | 1875/4546 [00:31<00:45, 58.91it/s]\u001b[A\u001b[A\n",
      "\n",
      " 41%|████▏     | 1881/4546 [00:32<00:45, 58.65it/s]\u001b[A\u001b[A\n",
      "\n",
      " 42%|████▏     | 1888/4546 [00:32<00:44, 59.26it/s]\u001b[A\u001b[A\n",
      "\n",
      " 42%|████▏     | 1895/4546 [00:32<00:44, 59.65it/s]\u001b[A\u001b[A\n",
      "\n",
      " 42%|████▏     | 1901/4546 [00:32<00:45, 58.74it/s]\u001b[A\u001b[A\n",
      "\n",
      " 42%|████▏     | 1907/4546 [00:32<00:44, 59.08it/s]\u001b[A\u001b[A\n",
      "\n",
      " 42%|████▏     | 1913/4546 [00:32<00:44, 59.13it/s]\u001b[A\u001b[A\n",
      "\n",
      " 42%|████▏     | 1920/4546 [00:32<00:44, 59.45it/s]\u001b[A\u001b[A\n",
      "\n",
      " 42%|████▏     | 1926/4546 [00:32<00:44, 59.38it/s]\u001b[A\u001b[A\n",
      "\n",
      " 42%|████▏     | 1932/4546 [00:32<00:44, 59.40it/s]\u001b[A\u001b[A\n",
      "\n",
      " 43%|████▎     | 1938/4546 [00:33<00:44, 58.83it/s]\u001b[A\u001b[A\n",
      "\n",
      " 43%|████▎     | 1944/4546 [00:33<00:44, 58.88it/s]\u001b[A\u001b[A\n",
      "\n",
      " 43%|████▎     | 1950/4546 [00:33<00:44, 58.52it/s]\u001b[A\u001b[A\n",
      "\n",
      " 43%|████▎     | 1956/4546 [00:33<00:44, 58.55it/s]\u001b[A\u001b[A\n",
      "\n",
      " 43%|████▎     | 1962/4546 [00:33<00:44, 58.42it/s]\u001b[A\u001b[A\n",
      "\n",
      " 43%|████▎     | 1968/4546 [00:33<00:43, 58.80it/s]\u001b[A\u001b[A\n",
      "\n",
      " 43%|████▎     | 1974/4546 [00:33<00:43, 58.57it/s]\u001b[A\u001b[A\n",
      "\n",
      " 44%|████▎     | 1980/4546 [00:33<00:43, 58.77it/s]\u001b[A\u001b[A\n",
      "\n",
      " 44%|████▎     | 1986/4546 [00:33<00:43, 58.87it/s]\u001b[A\u001b[A\n",
      "\n",
      " 44%|████▍     | 1992/4546 [00:33<00:43, 59.03it/s]\u001b[A\u001b[A\n",
      "\n",
      " 44%|████▍     | 1998/4546 [00:34<00:43, 58.49it/s]\u001b[A\u001b[A\n",
      "\n",
      " 44%|████▍     | 2005/4546 [00:34<00:43, 59.06it/s]\u001b[A\u001b[A\n",
      "\n",
      " 44%|████▍     | 2011/4546 [00:34<00:42, 59.08it/s]\u001b[A\u001b[A\n",
      "\n",
      " 44%|████▍     | 2018/4546 [00:34<00:42, 59.78it/s]\u001b[A\u001b[A\n",
      "\n",
      " 45%|████▍     | 2024/4546 [00:34<00:42, 59.30it/s]\u001b[A\u001b[A\n",
      "\n",
      " 45%|████▍     | 2030/4546 [00:34<00:42, 59.36it/s]\u001b[A\u001b[A\n",
      "\n",
      " 45%|████▍     | 2036/4546 [00:34<00:42, 58.88it/s]\u001b[A\u001b[A\n",
      "\n",
      " 45%|████▍     | 2042/4546 [00:34<00:42, 58.75it/s]\u001b[A\u001b[A\n",
      "\n",
      " 45%|████▌     | 2049/4546 [00:34<00:41, 60.40it/s]\u001b[A\u001b[A\n",
      "\n",
      " 45%|████▌     | 2056/4546 [00:34<00:40, 60.81it/s]\u001b[A\u001b[A\n",
      "\n",
      " 45%|████▌     | 2063/4546 [00:35<00:42, 58.91it/s]\u001b[A\u001b[A\n",
      "\n",
      " 46%|████▌     | 2069/4546 [00:35<00:42, 58.20it/s]\u001b[A\u001b[A\n",
      "\n",
      " 46%|████▌     | 2075/4546 [00:35<00:42, 58.07it/s]\u001b[A\u001b[A\n",
      "\n",
      " 46%|████▌     | 2081/4546 [00:35<00:43, 57.27it/s]\u001b[A\u001b[A\n",
      "\n",
      " 46%|████▌     | 2087/4546 [00:35<00:42, 57.37it/s]\u001b[A\u001b[A\n",
      "\n",
      " 46%|████▌     | 2093/4546 [00:35<00:42, 57.31it/s]\u001b[A\u001b[A\n",
      "\n",
      " 46%|████▌     | 2099/4546 [00:35<00:42, 57.29it/s]\u001b[A\u001b[A\n",
      "\n",
      " 46%|████▋     | 2106/4546 [00:35<00:42, 58.03it/s]\u001b[A\u001b[A\n",
      "\n",
      " 46%|████▋     | 2112/4546 [00:35<00:41, 58.39it/s]\u001b[A\u001b[A\n",
      "\n",
      " 47%|████▋     | 2118/4546 [00:36<00:41, 58.52it/s]\u001b[A\u001b[A\n",
      "\n",
      " 47%|████▋     | 2125/4546 [00:36<00:40, 59.34it/s]\u001b[A\u001b[A\n",
      "\n",
      " 47%|████▋     | 2132/4546 [00:36<00:39, 60.40it/s]\u001b[A\u001b[A\n",
      "\n",
      " 47%|████▋     | 2139/4546 [00:36<00:39, 60.96it/s]\u001b[A\u001b[A\n",
      "\n",
      " 47%|████▋     | 2146/4546 [00:36<00:39, 60.38it/s]\u001b[A\u001b[A\n",
      "\n",
      " 47%|████▋     | 2153/4546 [00:36<00:39, 60.23it/s]\u001b[A\u001b[A\n",
      "\n",
      " 48%|████▊     | 2160/4546 [00:36<00:40, 58.92it/s]\u001b[A\u001b[A\n",
      "\n",
      " 48%|████▊     | 2167/4546 [00:36<00:39, 59.85it/s]\u001b[A\u001b[A\n",
      "\n",
      " 48%|████▊     | 2173/4546 [00:36<00:40, 59.01it/s]\u001b[A\u001b[A\n",
      "\n",
      " 48%|████▊     | 2179/4546 [00:37<00:40, 58.05it/s]\u001b[A\u001b[A\n",
      "\n",
      " 48%|████▊     | 2185/4546 [00:37<00:40, 58.35it/s]\u001b[A\u001b[A\n",
      "\n",
      " 48%|████▊     | 2191/4546 [00:37<00:40, 58.20it/s]\u001b[A\u001b[A\n",
      "\n",
      " 48%|████▊     | 2197/4546 [00:37<00:40, 58.57it/s]\u001b[A\u001b[A\n",
      "\n",
      " 48%|████▊     | 2204/4546 [00:37<00:39, 59.38it/s]\u001b[A\u001b[A\n",
      "\n",
      " 49%|████▊     | 2210/4546 [00:37<00:39, 59.41it/s]\u001b[A\u001b[A\n",
      "\n",
      " 49%|████▊     | 2216/4546 [00:37<00:39, 59.28it/s]\u001b[A\u001b[A\n",
      "\n",
      " 49%|████▉     | 2223/4546 [00:37<00:38, 59.68it/s]\u001b[A\u001b[A\n",
      "\n",
      " 49%|████▉     | 2230/4546 [00:37<00:38, 59.71it/s]\u001b[A\u001b[A\n",
      "\n",
      " 49%|████▉     | 2236/4546 [00:38<00:39, 58.91it/s]\u001b[A\u001b[A\n",
      "\n",
      " 49%|████▉     | 2242/4546 [00:38<00:39, 58.38it/s]\u001b[A\u001b[A\n",
      "\n",
      " 49%|████▉     | 2248/4546 [00:38<00:39, 57.77it/s]\u001b[A\u001b[A\n",
      "\n",
      " 50%|████▉     | 2255/4546 [00:38<00:39, 58.49it/s]\u001b[A\u001b[A\n",
      "\n",
      " 50%|████▉     | 2262/4546 [00:38<00:38, 59.14it/s]\u001b[A\u001b[A\n",
      "\n",
      " 50%|████▉     | 2268/4546 [00:38<00:38, 59.03it/s]\u001b[A\u001b[A\n",
      "\n",
      " 50%|█████     | 2275/4546 [00:38<00:38, 59.74it/s]\u001b[A\u001b[A\n",
      "\n",
      " 50%|█████     | 2281/4546 [00:38<00:38, 59.33it/s]\u001b[A\u001b[A\n",
      "\n",
      " 50%|█████     | 2287/4546 [00:38<00:38, 59.31it/s]\u001b[A\u001b[A\n",
      "\n",
      " 50%|█████     | 2293/4546 [00:39<00:38, 58.71it/s]\u001b[A\u001b[A\n",
      "\n",
      " 51%|█████     | 2299/4546 [00:39<00:38, 58.70it/s]\u001b[A\u001b[A\n",
      "\n",
      " 51%|█████     | 2305/4546 [00:39<00:38, 58.87it/s]\u001b[A\u001b[A\n",
      "\n",
      " 51%|█████     | 2311/4546 [00:39<00:38, 58.42it/s]\u001b[A\u001b[A\n",
      "\n",
      " 51%|█████     | 2317/4546 [00:39<00:38, 57.62it/s]\u001b[A\u001b[A\n",
      "\n",
      " 51%|█████     | 2323/4546 [00:39<00:38, 58.20it/s]\u001b[A\u001b[A\n",
      "\n",
      " 51%|█████▏    | 2330/4546 [00:39<00:37, 58.96it/s]\u001b[A\u001b[A\n",
      "\n",
      " 51%|█████▏    | 2337/4546 [00:39<00:37, 59.42it/s]\u001b[A\u001b[A\n",
      "\n",
      " 52%|█████▏    | 2343/4546 [00:39<00:37, 59.15it/s]\u001b[A\u001b[A\n",
      "\n",
      " 52%|█████▏    | 2350/4546 [00:39<00:36, 60.03it/s]\u001b[A\u001b[A\n",
      "\n",
      " 52%|█████▏    | 2357/4546 [00:40<00:36, 60.24it/s]\u001b[A\u001b[A\n",
      "\n",
      " 52%|█████▏    | 2364/4546 [00:40<00:36, 59.13it/s]\u001b[A\u001b[A\n",
      "\n",
      " 52%|█████▏    | 2370/4546 [00:40<00:37, 58.69it/s]\u001b[A\u001b[A\n",
      "\n",
      " 52%|█████▏    | 2377/4546 [00:40<00:36, 59.12it/s]\u001b[A\u001b[A\n",
      "\n",
      " 52%|█████▏    | 2383/4546 [00:40<00:37, 58.08it/s]\u001b[A\u001b[A\n",
      "\n",
      " 53%|█████▎    | 2390/4546 [00:40<00:36, 59.22it/s]\u001b[A\u001b[A\n",
      "\n",
      " 53%|█████▎    | 2397/4546 [00:40<00:36, 59.55it/s]\u001b[A\u001b[A\n",
      "\n",
      " 53%|█████▎    | 2404/4546 [00:40<00:35, 59.87it/s]\u001b[A\u001b[A\n",
      "\n",
      " 53%|█████▎    | 2410/4546 [00:41<00:36, 59.28it/s]\u001b[A\u001b[A\n",
      "\n",
      " 53%|█████▎    | 2416/4546 [00:41<00:36, 58.75it/s]\u001b[A\u001b[A\n",
      "\n",
      " 53%|█████▎    | 2422/4546 [00:41<00:36, 58.73it/s]\u001b[A\u001b[A\n",
      "\n",
      " 53%|█████▎    | 2428/4546 [00:41<00:36, 58.82it/s]\u001b[A\u001b[A\n",
      "\n",
      " 54%|█████▎    | 2434/4546 [00:41<00:35, 59.15it/s]\u001b[A\u001b[A\n",
      "\n",
      " 54%|█████▎    | 2440/4546 [00:41<00:35, 59.39it/s]\u001b[A\u001b[A\n",
      "\n",
      " 54%|█████▍    | 2446/4546 [00:41<00:35, 59.47it/s]\u001b[A\u001b[A\n",
      "\n",
      " 54%|█████▍    | 2452/4546 [00:41<00:35, 59.03it/s]\u001b[A\u001b[A\n",
      "\n",
      " 54%|█████▍    | 2458/4546 [00:41<00:35, 58.96it/s]\u001b[A\u001b[A\n",
      "\n",
      " 54%|█████▍    | 2464/4546 [00:41<00:35, 58.78it/s]\u001b[A\u001b[A\n",
      "\n",
      " 54%|█████▍    | 2470/4546 [00:42<00:35, 57.80it/s]\u001b[A\u001b[A\n",
      "\n",
      " 54%|█████▍    | 2476/4546 [00:42<00:35, 57.83it/s]\u001b[A\u001b[A\n",
      "\n",
      " 55%|█████▍    | 2482/4546 [00:42<00:35, 58.14it/s]\u001b[A\u001b[A\n",
      "\n",
      " 55%|█████▍    | 2488/4546 [00:42<00:35, 58.43it/s]\u001b[A\u001b[A\n",
      "\n",
      " 55%|█████▍    | 2494/4546 [00:42<00:35, 57.66it/s]\u001b[A\u001b[A\n",
      "\n",
      " 55%|█████▍    | 2500/4546 [00:42<00:35, 57.63it/s]\u001b[A\u001b[A\n",
      "\n",
      " 55%|█████▌    | 2506/4546 [00:42<00:35, 57.80it/s]\u001b[A\u001b[A\n",
      "\n",
      " 55%|█████▌    | 2512/4546 [00:42<00:35, 58.08it/s]\u001b[A\u001b[A\n",
      "\n",
      " 55%|█████▌    | 2519/4546 [00:42<00:34, 58.77it/s]\u001b[A\u001b[A\n",
      "\n",
      " 56%|█████▌    | 2525/4546 [00:42<00:34, 58.82it/s]\u001b[A\u001b[A\n",
      "\n",
      " 56%|█████▌    | 2531/4546 [00:43<00:34, 58.23it/s]\u001b[A\u001b[A\n",
      "\n",
      " 56%|█████▌    | 2537/4546 [00:43<00:34, 58.43it/s]\u001b[A\u001b[A\n",
      "\n",
      " 56%|█████▌    | 2543/4546 [00:43<00:34, 58.57it/s]\u001b[A\u001b[A\n",
      "\n",
      " 56%|█████▌    | 2549/4546 [00:43<00:34, 58.16it/s]\u001b[A\u001b[A\n",
      "\n",
      " 56%|█████▌    | 2555/4546 [00:43<00:34, 57.74it/s]\u001b[A\u001b[A\n",
      "\n",
      " 56%|█████▋    | 2561/4546 [00:43<00:34, 57.51it/s]\u001b[A\u001b[A\n",
      "\n",
      " 56%|█████▋    | 2567/4546 [00:43<00:34, 57.13it/s]\u001b[A\u001b[A\n",
      "\n",
      " 57%|█████▋    | 2573/4546 [00:43<00:34, 56.52it/s]\u001b[A\u001b[A\n",
      "\n",
      " 57%|█████▋    | 2579/4546 [00:43<00:34, 56.78it/s]\u001b[A\u001b[A\n",
      "\n",
      " 57%|█████▋    | 2586/4546 [00:44<00:33, 58.00it/s]\u001b[A\u001b[A\n",
      "\n",
      " 57%|█████▋    | 2592/4546 [00:44<00:33, 58.55it/s]\u001b[A\u001b[A\n",
      "\n",
      " 57%|█████▋    | 2598/4546 [00:44<00:33, 58.38it/s]\u001b[A\u001b[A\n",
      "\n",
      " 57%|█████▋    | 2604/4546 [00:44<00:33, 57.94it/s]\u001b[A\u001b[A\n",
      "\n",
      " 57%|█████▋    | 2611/4546 [00:44<00:32, 58.81it/s]\u001b[A\u001b[A\n",
      "\n",
      " 58%|█████▊    | 2617/4546 [00:44<00:32, 58.70it/s]\u001b[A\u001b[A\n",
      "\n",
      " 58%|█████▊    | 2624/4546 [00:44<00:32, 59.77it/s]\u001b[A\u001b[A\n",
      "\n",
      " 58%|█████▊    | 2630/4546 [00:44<00:32, 59.27it/s]\u001b[A\u001b[A\n",
      "\n",
      " 58%|█████▊    | 2636/4546 [00:44<00:32, 58.74it/s]\u001b[A\u001b[A\n",
      "\n",
      " 58%|█████▊    | 2643/4546 [00:44<00:32, 59.20it/s]\u001b[A\u001b[A\n",
      "\n",
      " 58%|█████▊    | 2649/4546 [00:45<00:32, 58.73it/s]\u001b[A\u001b[A\n",
      "\n",
      " 58%|█████▊    | 2656/4546 [00:45<00:31, 59.69it/s]\u001b[A\u001b[A\n",
      "\n",
      " 59%|█████▊    | 2662/4546 [00:45<00:31, 59.68it/s]\u001b[A\u001b[A\n",
      "\n",
      " 59%|█████▊    | 2668/4546 [00:45<00:31, 59.13it/s]\u001b[A\u001b[A\n",
      "\n",
      " 59%|█████▉    | 2674/4546 [00:45<00:31, 58.96it/s]\u001b[A\u001b[A\n",
      "\n",
      " 59%|█████▉    | 2680/4546 [00:45<00:31, 58.86it/s]\u001b[A\u001b[A\n",
      "\n",
      " 59%|█████▉    | 2686/4546 [00:45<00:32, 58.11it/s]\u001b[A\u001b[A\n",
      "\n",
      " 59%|█████▉    | 2693/4546 [00:45<00:31, 58.80it/s]\u001b[A\u001b[A\n",
      "\n",
      " 59%|█████▉    | 2699/4546 [00:45<00:31, 58.83it/s]\u001b[A\u001b[A\n",
      "\n",
      " 60%|█████▉    | 2705/4546 [00:46<00:31, 58.43it/s]\u001b[A\u001b[A\n",
      "\n",
      " 60%|█████▉    | 2711/4546 [00:46<00:31, 58.76it/s]\u001b[A\u001b[A\n",
      "\n",
      " 60%|█████▉    | 2717/4546 [00:46<00:31, 58.96it/s]\u001b[A\u001b[A\n",
      "\n",
      " 60%|█████▉    | 2723/4546 [00:46<00:31, 58.57it/s]\u001b[A\u001b[A\n",
      "\n",
      " 60%|██████    | 2730/4546 [00:46<00:30, 59.52it/s]\u001b[A\u001b[A\n",
      "\n",
      " 60%|██████    | 2736/4546 [00:46<00:30, 59.30it/s]\u001b[A\u001b[A\n",
      "\n",
      " 60%|██████    | 2743/4546 [00:46<00:30, 59.83it/s]\u001b[A\u001b[A\n",
      "\n",
      " 60%|██████    | 2749/4546 [00:46<00:30, 59.73it/s]\u001b[A\u001b[A\n",
      "\n",
      " 61%|██████    | 2755/4546 [00:46<00:30, 59.60it/s]\u001b[A\u001b[A\n",
      "\n",
      " 61%|██████    | 2762/4546 [00:47<00:29, 59.62it/s]\u001b[A\u001b[A\n",
      "\n",
      " 61%|██████    | 2768/4546 [00:47<00:30, 58.81it/s]\u001b[A\u001b[A\n",
      "\n",
      " 61%|██████    | 2774/4546 [00:47<00:30, 58.44it/s]\u001b[A\u001b[A\n",
      "\n",
      " 61%|██████    | 2780/4546 [00:47<00:30, 58.61it/s]\u001b[A\u001b[A\n",
      "\n",
      " 61%|██████▏   | 2786/4546 [00:47<00:30, 58.32it/s]\u001b[A\u001b[A\n",
      "\n",
      " 61%|██████▏   | 2792/4546 [00:47<00:30, 58.03it/s]\u001b[A\u001b[A\n",
      "\n",
      " 62%|██████▏   | 2799/4546 [00:47<00:29, 59.67it/s]\u001b[A\u001b[A\n",
      "\n",
      " 62%|██████▏   | 2806/4546 [00:47<00:29, 59.66it/s]\u001b[A\u001b[A\n",
      "\n",
      " 62%|██████▏   | 2813/4546 [00:47<00:28, 60.86it/s]\u001b[A\u001b[A\n",
      "\n",
      " 62%|██████▏   | 2820/4546 [00:47<00:28, 59.86it/s]\u001b[A\u001b[A\n",
      "\n",
      " 62%|██████▏   | 2826/4546 [00:48<00:28, 59.56it/s]\u001b[A\u001b[A\n",
      "\n",
      " 62%|██████▏   | 2833/4546 [00:48<00:28, 59.73it/s]\u001b[A\u001b[A\n",
      "\n",
      " 62%|██████▏   | 2840/4546 [00:48<00:28, 60.89it/s]\u001b[A\u001b[A\n",
      "\n",
      " 63%|██████▎   | 2847/4546 [00:48<00:28, 60.66it/s]\u001b[A\u001b[A\n",
      "\n",
      " 63%|██████▎   | 2854/4546 [00:48<00:27, 60.53it/s]\u001b[A\u001b[A\n",
      "\n",
      " 63%|██████▎   | 2861/4546 [00:48<00:28, 59.65it/s]\u001b[A\u001b[A\n",
      "\n",
      " 63%|██████▎   | 2868/4546 [00:48<00:27, 60.29it/s]\u001b[A\u001b[A\n",
      "\n",
      " 63%|██████▎   | 2875/4546 [00:48<00:28, 59.31it/s]\u001b[A\u001b[A\n",
      "\n",
      " 63%|██████▎   | 2882/4546 [00:49<00:27, 59.66it/s]\u001b[A\u001b[A\n",
      "\n",
      " 64%|██████▎   | 2888/4546 [00:49<00:28, 57.78it/s]\u001b[A\u001b[A\n",
      "\n",
      " 64%|██████▎   | 2894/4546 [00:49<00:28, 58.08it/s]\u001b[A\u001b[A\n",
      "\n",
      " 64%|██████▍   | 2900/4546 [00:49<00:28, 58.17it/s]\u001b[A\u001b[A\n",
      "\n",
      " 64%|██████▍   | 2906/4546 [00:49<00:28, 58.04it/s]\u001b[A\u001b[A\n",
      "\n",
      " 64%|██████▍   | 2912/4546 [00:49<00:28, 57.68it/s]\u001b[A\u001b[A\n",
      "\n",
      " 64%|██████▍   | 2918/4546 [00:49<00:28, 57.53it/s]\u001b[A\u001b[A\n",
      "\n",
      " 64%|██████▍   | 2924/4546 [00:49<00:28, 57.42it/s]\u001b[A\u001b[A\n",
      "\n",
      " 64%|██████▍   | 2930/4546 [00:49<00:28, 56.87it/s]\u001b[A\u001b[A\n",
      "\n",
      " 65%|██████▍   | 2936/4546 [00:49<00:28, 56.55it/s]\u001b[A\u001b[A\n",
      "\n",
      " 65%|██████▍   | 2943/4546 [00:50<00:27, 57.70it/s]\u001b[A\u001b[A\n",
      "\n",
      " 65%|██████▍   | 2949/4546 [00:50<00:27, 57.26it/s]\u001b[A\u001b[A\n",
      "\n",
      " 65%|██████▌   | 2955/4546 [00:50<00:27, 57.39it/s]\u001b[A\u001b[A\n",
      "\n",
      " 65%|██████▌   | 2961/4546 [00:50<00:27, 57.33it/s]\u001b[A\u001b[A\n",
      "\n",
      " 65%|██████▌   | 2967/4546 [00:50<00:27, 57.52it/s]\u001b[A\u001b[A\n",
      "\n",
      " 65%|██████▌   | 2973/4546 [00:50<00:27, 58.02it/s]\u001b[A\u001b[A\n",
      "\n",
      " 66%|██████▌   | 2979/4546 [00:50<00:26, 58.12it/s]\u001b[A\u001b[A\n",
      "\n",
      " 66%|██████▌   | 2985/4546 [00:50<00:26, 58.04it/s]\u001b[A\u001b[A\n",
      "\n",
      " 66%|██████▌   | 2991/4546 [00:50<00:26, 58.60it/s]\u001b[A\u001b[A\n",
      "\n",
      " 66%|██████▌   | 2997/4546 [00:51<00:26, 57.68it/s]\u001b[A\u001b[A\n",
      "\n",
      " 66%|██████▌   | 3003/4546 [00:51<00:26, 57.73it/s]\u001b[A\u001b[A\n",
      "\n",
      " 66%|██████▌   | 3009/4546 [00:51<00:26, 56.94it/s]\u001b[A\u001b[A\n",
      "\n",
      " 66%|██████▋   | 3015/4546 [00:51<00:26, 57.17it/s]\u001b[A\u001b[A\n",
      "\n",
      " 66%|██████▋   | 3021/4546 [00:51<00:26, 57.43it/s]\u001b[A\u001b[A\n",
      "\n",
      " 67%|██████▋   | 3027/4546 [00:51<00:26, 56.59it/s]\u001b[A\u001b[A\n",
      "\n",
      " 67%|██████▋   | 3034/4546 [00:51<00:26, 57.83it/s]\u001b[A\u001b[A\n",
      "\n",
      " 67%|██████▋   | 3040/4546 [00:51<00:26, 57.39it/s]\u001b[A\u001b[A\n",
      "\n",
      " 67%|██████▋   | 3046/4546 [00:51<00:25, 58.05it/s]\u001b[A\u001b[A\n",
      "\n",
      " 67%|██████▋   | 3052/4546 [00:51<00:26, 57.41it/s]\u001b[A\u001b[A\n",
      "\n",
      " 67%|██████▋   | 3059/4546 [00:52<00:25, 58.29it/s]\u001b[A\u001b[A\n",
      "\n",
      " 67%|██████▋   | 3065/4546 [00:52<00:25, 57.31it/s]\u001b[A\u001b[A\n",
      "\n",
      " 68%|██████▊   | 3072/4546 [00:52<00:25, 58.88it/s]\u001b[A\u001b[A\n",
      "\n",
      " 68%|██████▊   | 3078/4546 [00:52<00:25, 58.60it/s]\u001b[A\u001b[A\n",
      "\n",
      " 68%|██████▊   | 3084/4546 [00:52<00:25, 57.83it/s]\u001b[A\u001b[A\n",
      "\n",
      " 68%|██████▊   | 3091/4546 [00:52<00:24, 58.99it/s]\u001b[A\u001b[A\n",
      "\n",
      " 68%|██████▊   | 3097/4546 [00:52<00:24, 58.07it/s]\u001b[A\u001b[A\n",
      "\n",
      " 68%|██████▊   | 3103/4546 [00:52<00:25, 57.44it/s]\u001b[A\u001b[A\n",
      "\n",
      " 68%|██████▊   | 3109/4546 [00:52<00:24, 58.06it/s]\u001b[A\u001b[A\n",
      "\n",
      " 69%|██████▊   | 3115/4546 [00:53<00:24, 57.53it/s]\u001b[A\u001b[A\n",
      "\n",
      " 69%|██████▊   | 3122/4546 [00:53<00:24, 58.36it/s]\u001b[A\u001b[A\n",
      "\n",
      " 69%|██████▉   | 3128/4546 [00:53<00:24, 57.90it/s]\u001b[A\u001b[A\n",
      "\n",
      " 69%|██████▉   | 3134/4546 [00:53<00:24, 58.03it/s]\u001b[A\u001b[A\n",
      "\n",
      " 69%|██████▉   | 3140/4546 [00:53<00:24, 58.42it/s]\u001b[A\u001b[A\n",
      "\n",
      " 69%|██████▉   | 3146/4546 [00:53<00:23, 58.56it/s]\u001b[A\u001b[A\n",
      "\n",
      " 69%|██████▉   | 3152/4546 [00:53<00:23, 58.72it/s]\u001b[A\u001b[A\n",
      "\n",
      " 69%|██████▉   | 3158/4546 [00:53<00:23, 58.52it/s]\u001b[A\u001b[A\n",
      "\n",
      " 70%|██████▉   | 3165/4546 [00:53<00:23, 59.30it/s]\u001b[A\u001b[A\n",
      "\n",
      " 70%|██████▉   | 3171/4546 [00:54<00:23, 59.31it/s]\u001b[A\u001b[A\n",
      "\n",
      " 70%|██████▉   | 3177/4546 [00:54<00:23, 59.20it/s]\u001b[A\u001b[A\n",
      "\n",
      " 70%|███████   | 3183/4546 [00:54<00:23, 58.85it/s]\u001b[A\u001b[A\n",
      "\n",
      " 70%|███████   | 3189/4546 [00:54<00:23, 58.92it/s]\u001b[A\u001b[A\n",
      "\n",
      " 70%|███████   | 3195/4546 [00:54<00:23, 58.47it/s]\u001b[A\u001b[A\n",
      "\n",
      " 70%|███████   | 3201/4546 [00:54<00:22, 58.78it/s]\u001b[A\u001b[A\n",
      "\n",
      " 71%|███████   | 3207/4546 [00:54<00:22, 58.99it/s]\u001b[A\u001b[A\n",
      "\n",
      " 71%|███████   | 3214/4546 [00:54<00:22, 59.37it/s]\u001b[A\u001b[A\n",
      "\n",
      " 71%|███████   | 3220/4546 [00:54<00:22, 59.16it/s]\u001b[A\u001b[A\n",
      "\n",
      " 71%|███████   | 3226/4546 [00:54<00:22, 58.68it/s]\u001b[A\u001b[A\n",
      "\n",
      " 71%|███████   | 3232/4546 [00:55<00:22, 58.34it/s]\u001b[A\u001b[A\n",
      "\n",
      " 71%|███████   | 3238/4546 [00:55<00:22, 58.23it/s]\u001b[A\u001b[A\n",
      "\n",
      " 71%|███████▏  | 3244/4546 [00:55<00:22, 57.82it/s]\u001b[A\u001b[A\n",
      "\n",
      " 71%|███████▏  | 3250/4546 [00:55<00:22, 57.78it/s]\u001b[A\u001b[A\n",
      "\n",
      " 72%|███████▏  | 3256/4546 [00:55<00:22, 57.28it/s]\u001b[A\u001b[A\n",
      "\n",
      " 72%|███████▏  | 3262/4546 [00:55<00:22, 57.24it/s]\u001b[A\u001b[A\n",
      "\n",
      " 72%|███████▏  | 3268/4546 [00:55<00:22, 57.55it/s]\u001b[A\u001b[A\n",
      "\n",
      " 72%|███████▏  | 3274/4546 [00:55<00:22, 57.08it/s]\u001b[A\u001b[A\n",
      "\n",
      " 72%|███████▏  | 3281/4546 [00:55<00:21, 59.36it/s]\u001b[A\u001b[A\n",
      "\n",
      " 72%|███████▏  | 3287/4546 [00:56<00:22, 56.65it/s]\u001b[A\u001b[A\n",
      "\n",
      " 72%|███████▏  | 3293/4546 [00:56<00:21, 57.10it/s]\u001b[A\u001b[A\n",
      "\n",
      " 73%|███████▎  | 3299/4546 [00:56<00:21, 57.36it/s]\u001b[A\u001b[A\n",
      "\n",
      " 73%|███████▎  | 3305/4546 [00:56<00:21, 58.01it/s]\u001b[A\u001b[A\n",
      "\n",
      " 73%|███████▎  | 3311/4546 [00:56<00:21, 57.72it/s]\u001b[A\u001b[A\n",
      "\n",
      " 73%|███████▎  | 3318/4546 [00:56<00:20, 59.21it/s]\u001b[A\u001b[A\n",
      "\n",
      " 73%|███████▎  | 3325/4546 [00:56<00:20, 59.65it/s]\u001b[A\u001b[A\n",
      "\n",
      " 73%|███████▎  | 3332/4546 [00:56<00:20, 59.41it/s]\u001b[A\u001b[A\n",
      "\n",
      " 73%|███████▎  | 3339/4546 [00:56<00:20, 60.21it/s]\u001b[A\u001b[A\n",
      "\n",
      " 74%|███████▎  | 3346/4546 [00:57<00:20, 59.57it/s]\u001b[A\u001b[A\n",
      "\n",
      " 74%|███████▎  | 3352/4546 [00:57<00:20, 59.40it/s]\u001b[A\u001b[A\n",
      "\n",
      " 74%|███████▍  | 3358/4546 [00:57<00:19, 59.42it/s]\u001b[A\u001b[A\n",
      "\n",
      " 74%|███████▍  | 3364/4546 [00:57<00:19, 59.42it/s]\u001b[A\u001b[A\n",
      "\n",
      " 74%|███████▍  | 3370/4546 [00:57<00:19, 59.07it/s]\u001b[A\u001b[A\n",
      "\n",
      " 74%|███████▍  | 3376/4546 [00:57<00:19, 58.73it/s]\u001b[A\u001b[A\n",
      "\n",
      " 74%|███████▍  | 3382/4546 [00:57<00:19, 58.76it/s]\u001b[A\u001b[A\n",
      "\n",
      " 75%|███████▍  | 3389/4546 [00:57<00:19, 59.66it/s]\u001b[A\u001b[A\n",
      "\n",
      " 75%|███████▍  | 3396/4546 [00:57<00:19, 60.09it/s]\u001b[A\u001b[A\n",
      "\n",
      " 75%|███████▍  | 3403/4546 [00:57<00:18, 60.59it/s]\u001b[A\u001b[A\n",
      "\n",
      " 75%|███████▌  | 3410/4546 [00:58<00:19, 59.62it/s]\u001b[A\u001b[A\n",
      "\n",
      " 75%|███████▌  | 3417/4546 [00:58<00:18, 59.94it/s]\u001b[A\u001b[A\n",
      "\n",
      " 75%|███████▌  | 3423/4546 [00:58<00:18, 59.46it/s]\u001b[A\u001b[A\n",
      "\n",
      " 75%|███████▌  | 3429/4546 [00:58<00:18, 59.33it/s]\u001b[A\u001b[A\n",
      "\n",
      " 76%|███████▌  | 3435/4546 [00:58<00:18, 59.05it/s]\u001b[A\u001b[A\n",
      "\n",
      " 76%|███████▌  | 3442/4546 [00:58<00:18, 59.62it/s]\u001b[A\u001b[A\n",
      "\n",
      " 76%|███████▌  | 3448/4546 [00:58<00:18, 59.57it/s]\u001b[A\u001b[A\n",
      "\n",
      " 76%|███████▌  | 3454/4546 [00:58<00:18, 59.20it/s]\u001b[A\u001b[A\n",
      "\n",
      " 76%|███████▌  | 3460/4546 [00:58<00:18, 58.65it/s]\u001b[A\u001b[A\n",
      "\n",
      " 76%|███████▌  | 3466/4546 [00:59<00:18, 58.91it/s]\u001b[A\u001b[A\n",
      "\n",
      " 76%|███████▋  | 3472/4546 [00:59<00:18, 58.89it/s]\u001b[A\u001b[A\n",
      "\n",
      " 77%|███████▋  | 3478/4546 [00:59<00:18, 58.17it/s]\u001b[A\u001b[A\n",
      "\n",
      " 77%|███████▋  | 3485/4546 [00:59<00:18, 58.93it/s]\u001b[A\u001b[A\n",
      "\n",
      " 77%|███████▋  | 3491/4546 [00:59<00:18, 58.45it/s]\u001b[A\u001b[A\n",
      "\n",
      " 77%|███████▋  | 3497/4546 [00:59<00:17, 58.42it/s]\u001b[A\u001b[A\n",
      "\n",
      " 77%|███████▋  | 3503/4546 [00:59<00:18, 57.88it/s]\u001b[A\u001b[A\n",
      "\n",
      " 77%|███████▋  | 3510/4546 [00:59<00:17, 58.85it/s]\u001b[A\u001b[A\n",
      "\n"
     ]
    },
    {
     "name": "stderr",
     "output_type": "stream",
     "text": [
      " 77%|███████▋  | 3516/4546 [00:59<00:17, 59.05it/s]\u001b[A\u001b[A\n",
      "\n",
      " 77%|███████▋  | 3523/4546 [00:59<00:17, 60.17it/s]\u001b[A\u001b[A\n",
      "\n",
      " 78%|███████▊  | 3530/4546 [01:00<00:16, 60.40it/s]\u001b[A\u001b[A\n",
      "\n",
      " 78%|███████▊  | 3537/4546 [01:00<00:16, 59.87it/s]\u001b[A\u001b[A\n",
      "\n",
      " 78%|███████▊  | 3544/4546 [01:00<00:16, 59.86it/s]\u001b[A\u001b[A\n",
      "\n",
      " 78%|███████▊  | 3550/4546 [01:00<00:16, 59.26it/s]\u001b[A\u001b[A\n",
      "\n",
      " 78%|███████▊  | 3557/4546 [01:00<00:16, 60.01it/s]\u001b[A\u001b[A\n",
      "\n",
      " 78%|███████▊  | 3563/4546 [01:00<00:16, 59.63it/s]\u001b[A\u001b[A\n",
      "\n",
      " 79%|███████▊  | 3569/4546 [01:00<00:16, 59.32it/s]\u001b[A\u001b[A\n",
      "\n",
      " 79%|███████▊  | 3576/4546 [01:00<00:16, 60.15it/s]\u001b[A\u001b[A\n",
      "\n",
      " 79%|███████▉  | 3583/4546 [01:01<00:16, 60.08it/s]\u001b[A\u001b[A\n",
      "\n",
      " 79%|███████▉  | 3590/4546 [01:01<00:15, 60.00it/s]\u001b[A\u001b[A\n",
      "\n",
      " 79%|███████▉  | 3596/4546 [01:01<00:16, 58.74it/s]\u001b[A\u001b[A\n",
      "\n",
      " 79%|███████▉  | 3603/4546 [01:01<00:15, 59.39it/s]\u001b[A\u001b[A\n",
      "\n",
      " 79%|███████▉  | 3609/4546 [01:01<00:15, 59.24it/s]\u001b[A\u001b[A\n",
      "\n",
      " 80%|███████▉  | 3615/4546 [01:01<00:15, 58.37it/s]\u001b[A\u001b[A\n",
      "\n",
      " 80%|███████▉  | 3621/4546 [01:01<00:15, 58.19it/s]\u001b[A\u001b[A\n",
      "\n",
      " 80%|███████▉  | 3628/4546 [01:01<00:15, 59.44it/s]\u001b[A\u001b[A\n",
      "\n",
      " 80%|███████▉  | 3635/4546 [01:01<00:15, 60.07it/s]\u001b[A\u001b[A\n",
      "\n",
      " 80%|████████  | 3642/4546 [01:01<00:15, 60.07it/s]\u001b[A\u001b[A\n",
      "\n",
      " 80%|████████  | 3649/4546 [01:02<00:15, 59.19it/s]\u001b[A\u001b[A\n",
      "\n",
      " 80%|████████  | 3655/4546 [01:02<00:15, 58.94it/s]\u001b[A\u001b[A\n",
      "\n",
      " 81%|████████  | 3661/4546 [01:02<00:15, 58.76it/s]\u001b[A\u001b[A\n",
      "\n",
      " 81%|████████  | 3667/4546 [01:02<00:14, 58.78it/s]\u001b[A\u001b[A\n",
      "\n",
      " 81%|████████  | 3673/4546 [01:02<00:14, 59.10it/s]\u001b[A\u001b[A\n",
      "\n",
      " 81%|████████  | 3679/4546 [01:02<00:14, 58.58it/s]\u001b[A\u001b[A\n",
      "\n",
      " 81%|████████  | 3686/4546 [01:02<00:14, 59.26it/s]\u001b[A\u001b[A\n",
      "\n",
      " 81%|████████  | 3692/4546 [01:02<00:14, 59.46it/s]\u001b[A\u001b[A\n",
      "\n",
      " 81%|████████▏ | 3698/4546 [01:02<00:14, 58.90it/s]\u001b[A\u001b[A\n",
      "\n",
      " 81%|████████▏ | 3704/4546 [01:03<00:14, 57.86it/s]\u001b[A\u001b[A\n",
      "\n",
      " 82%|████████▏ | 3710/4546 [01:03<00:14, 57.75it/s]\u001b[A\u001b[A\n",
      "\n",
      " 82%|████████▏ | 3717/4546 [01:03<00:14, 58.30it/s]\u001b[A\u001b[A\n",
      "\n",
      " 82%|████████▏ | 3723/4546 [01:03<00:14, 58.30it/s]\u001b[A\u001b[A\n",
      "\n",
      " 82%|████████▏ | 3729/4546 [01:03<00:14, 58.33it/s]\u001b[A\u001b[A\n",
      "\n",
      " 82%|████████▏ | 3735/4546 [01:03<00:14, 57.65it/s]\u001b[A\u001b[A\n",
      "\n",
      " 82%|████████▏ | 3741/4546 [01:03<00:13, 57.53it/s]\u001b[A\u001b[A\n",
      "\n",
      " 82%|████████▏ | 3747/4546 [01:03<00:13, 57.72it/s]\u001b[A\u001b[A\n",
      "\n",
      " 83%|████████▎ | 3754/4546 [01:03<00:13, 59.42it/s]\u001b[A\u001b[A\n",
      "\n",
      " 83%|████████▎ | 3760/4546 [01:04<00:13, 59.34it/s]\u001b[A\u001b[A\n",
      "\n",
      " 83%|████████▎ | 3766/4546 [01:04<00:13, 58.72it/s]\u001b[A\u001b[A\n",
      "\n",
      " 83%|████████▎ | 3772/4546 [01:04<00:13, 58.38it/s]\u001b[A\u001b[A\n",
      "\n",
      " 83%|████████▎ | 3779/4546 [01:04<00:13, 58.90it/s]\u001b[A\u001b[A\n",
      "\n",
      " 83%|████████▎ | 3785/4546 [01:04<00:13, 58.11it/s]\u001b[A\u001b[A\n",
      "\n",
      " 83%|████████▎ | 3791/4546 [01:04<00:13, 57.88it/s]\u001b[A\u001b[A\n",
      "\n",
      " 84%|████████▎ | 3797/4546 [01:04<00:12, 58.08it/s]\u001b[A\u001b[A\n",
      "\n",
      " 84%|████████▎ | 3804/4546 [01:04<00:12, 58.57it/s]\u001b[A\u001b[A\n",
      "\n",
      " 84%|████████▍ | 3810/4546 [01:04<00:12, 58.69it/s]\u001b[A\u001b[A\n",
      "\n",
      " 84%|████████▍ | 3816/4546 [01:04<00:12, 58.20it/s]\u001b[A\u001b[A\n",
      "\n",
      " 84%|████████▍ | 3822/4546 [01:05<00:12, 57.62it/s]\u001b[A\u001b[A\n",
      "\n",
      " 84%|████████▍ | 3828/4546 [01:05<00:12, 57.85it/s]\u001b[A\u001b[A\n",
      "\n",
      " 84%|████████▍ | 3834/4546 [01:05<00:12, 57.33it/s]\u001b[A\u001b[A\n",
      "\n",
      " 84%|████████▍ | 3840/4546 [01:05<00:12, 57.32it/s]\u001b[A\u001b[A\n",
      "\n",
      " 85%|████████▍ | 3846/4546 [01:05<00:12, 56.81it/s]\u001b[A\u001b[A\n",
      "\n",
      " 85%|████████▍ | 3852/4546 [01:05<00:12, 57.72it/s]\u001b[A\u001b[A\n",
      "\n",
      " 85%|████████▍ | 3858/4546 [01:05<00:11, 58.31it/s]\u001b[A\u001b[A\n",
      "\n",
      " 85%|████████▍ | 3864/4546 [01:05<00:11, 58.41it/s]\u001b[A\u001b[A\n",
      "\n",
      " 85%|████████▌ | 3870/4546 [01:05<00:11, 58.72it/s]\u001b[A\u001b[A\n",
      "\n",
      " 85%|████████▌ | 3876/4546 [01:06<00:11, 57.67it/s]\u001b[A\u001b[A\n",
      "\n",
      " 85%|████████▌ | 3882/4546 [01:06<00:11, 57.75it/s]\u001b[A\u001b[A\n",
      "\n",
      " 86%|████████▌ | 3888/4546 [01:06<00:11, 57.73it/s]\u001b[A\u001b[A\n",
      "\n",
      " 86%|████████▌ | 3894/4546 [01:06<00:11, 57.51it/s]\u001b[A\u001b[A\n",
      "\n",
      " 86%|████████▌ | 3900/4546 [01:06<00:11, 57.07it/s]\u001b[A\u001b[A\n",
      "\n",
      " 86%|████████▌ | 3906/4546 [01:06<00:11, 57.62it/s]\u001b[A\u001b[A\n",
      "\n",
      " 86%|████████▌ | 3912/4546 [01:06<00:11, 57.12it/s]\u001b[A\u001b[A\n",
      "\n",
      " 86%|████████▌ | 3918/4546 [01:06<00:10, 57.41it/s]\u001b[A\u001b[A\n",
      "\n",
      " 86%|████████▋ | 3924/4546 [01:06<00:10, 57.45it/s]\u001b[A\u001b[A\n",
      "\n",
      " 86%|████████▋ | 3931/4546 [01:06<00:10, 58.85it/s]\u001b[A\u001b[A\n",
      "\n",
      " 87%|████████▋ | 3937/4546 [01:07<00:10, 58.89it/s]\u001b[A\u001b[A\n",
      "\n",
      " 87%|████████▋ | 3943/4546 [01:07<00:10, 58.65it/s]\u001b[A\u001b[A\n",
      "\n",
      " 87%|████████▋ | 3950/4546 [01:07<00:10, 59.60it/s]\u001b[A\u001b[A\n",
      "\n",
      " 87%|████████▋ | 3956/4546 [01:07<00:09, 59.04it/s]\u001b[A\u001b[A\n",
      "\n",
      " 87%|████████▋ | 3962/4546 [01:07<00:09, 58.78it/s]\u001b[A\u001b[A\n",
      "\n",
      " 87%|████████▋ | 3968/4546 [01:07<00:09, 58.73it/s]\u001b[A\u001b[A\n",
      "\n",
      " 87%|████████▋ | 3974/4546 [01:07<00:09, 58.83it/s]\u001b[A\u001b[A\n",
      "\n",
      " 88%|████████▊ | 3980/4546 [01:07<00:09, 58.98it/s]\u001b[A\u001b[A\n",
      "\n",
      " 88%|████████▊ | 3987/4546 [01:07<00:09, 59.69it/s]\u001b[A\u001b[A\n",
      "\n",
      " 88%|████████▊ | 3993/4546 [01:08<00:09, 58.88it/s]\u001b[A\u001b[A\n",
      "\n",
      " 88%|████████▊ | 3999/4546 [01:08<00:09, 58.58it/s]\u001b[A\u001b[A\n",
      "\n",
      " 88%|████████▊ | 4005/4546 [01:08<00:09, 58.25it/s]\u001b[A\u001b[A\n",
      "\n",
      " 88%|████████▊ | 4011/4546 [01:08<00:09, 58.29it/s]\u001b[A\u001b[A\n",
      "\n",
      " 88%|████████▊ | 4017/4546 [01:08<00:09, 58.55it/s]\u001b[A\u001b[A\n",
      "\n",
      " 89%|████████▊ | 4024/4546 [01:08<00:08, 59.13it/s]\u001b[A\u001b[A\n",
      "\n",
      " 89%|████████▊ | 4031/4546 [01:08<00:08, 60.24it/s]\u001b[A\u001b[A\n",
      "\n",
      " 89%|████████▉ | 4038/4546 [01:08<00:08, 59.62it/s]\u001b[A\u001b[A\n",
      "\n",
      " 89%|████████▉ | 4045/4546 [01:08<00:08, 60.22it/s]\u001b[A\u001b[A\n",
      "\n",
      " 89%|████████▉ | 4052/4546 [01:09<00:08, 59.43it/s]\u001b[A\u001b[A\n",
      "\n",
      " 89%|████████▉ | 4058/4546 [01:09<00:08, 58.92it/s]\u001b[A\u001b[A\n",
      "\n",
      " 89%|████████▉ | 4064/4546 [01:09<00:08, 59.08it/s]\u001b[A\u001b[A\n",
      "\n",
      " 90%|████████▉ | 4071/4546 [01:09<00:07, 59.38it/s]\u001b[A\u001b[A\n",
      "\n",
      " 90%|████████▉ | 4078/4546 [01:09<00:07, 59.70it/s]\u001b[A\u001b[A\n",
      "\n",
      " 90%|████████▉ | 4084/4546 [01:09<00:07, 59.55it/s]\u001b[A\u001b[A\n",
      "\n",
      " 90%|████████▉ | 4091/4546 [01:09<00:07, 59.59it/s]\u001b[A\u001b[A\n",
      "\n",
      " 90%|█████████ | 4097/4546 [01:09<00:07, 58.87it/s]\u001b[A\u001b[A\n",
      "\n",
      " 90%|█████████ | 4104/4546 [01:09<00:07, 59.37it/s]\u001b[A\u001b[A\n",
      "\n",
      " 90%|█████████ | 4111/4546 [01:10<00:07, 59.89it/s]\u001b[A\u001b[A\n",
      "\n",
      " 91%|█████████ | 4117/4546 [01:10<00:07, 59.55it/s]\u001b[A\u001b[A\n",
      "\n",
      " 91%|█████████ | 4124/4546 [01:10<00:07, 59.46it/s]\u001b[A\u001b[A\n",
      "\n",
      " 91%|█████████ | 4130/4546 [01:10<00:07, 58.83it/s]\u001b[A\u001b[A\n",
      "\n",
      " 91%|█████████ | 4136/4546 [01:10<00:06, 59.15it/s]\u001b[A\u001b[A\n",
      "\n",
      " 91%|█████████ | 4142/4546 [01:10<00:06, 58.95it/s]\u001b[A\u001b[A\n",
      "\n",
      " 91%|█████████▏| 4149/4546 [01:10<00:06, 60.69it/s]\u001b[A\u001b[A\n",
      "\n",
      " 91%|█████████▏| 4156/4546 [01:10<00:06, 59.41it/s]\u001b[A\u001b[A\n",
      "\n",
      " 92%|█████████▏| 4162/4546 [01:10<00:06, 59.45it/s]\u001b[A\u001b[A\n",
      "\n",
      " 92%|█████████▏| 4168/4546 [01:10<00:06, 59.54it/s]\u001b[A\u001b[A\n",
      "\n",
      " 92%|█████████▏| 4174/4546 [01:11<00:06, 59.50it/s]\u001b[A\u001b[A\n",
      "\n",
      " 92%|█████████▏| 4180/4546 [01:11<00:06, 58.94it/s]\u001b[A\u001b[A\n",
      "\n",
      " 92%|█████████▏| 4187/4546 [01:11<00:06, 59.70it/s]\u001b[A\u001b[A\n",
      "\n",
      " 92%|█████████▏| 4193/4546 [01:11<00:05, 58.97it/s]\u001b[A\u001b[A\n",
      "\n",
      " 92%|█████████▏| 4199/4546 [01:11<00:05, 58.43it/s]\u001b[A\u001b[A\n",
      "\n",
      " 92%|█████████▏| 4205/4546 [01:11<00:05, 58.29it/s]\u001b[A\u001b[A\n",
      "\n",
      " 93%|█████████▎| 4211/4546 [01:11<00:05, 58.00it/s]\u001b[A\u001b[A\n",
      "\n",
      " 93%|█████████▎| 4218/4546 [01:11<00:05, 58.71it/s]\u001b[A\u001b[A\n",
      "\n",
      " 93%|█████████▎| 4225/4546 [01:11<00:05, 59.25it/s]\u001b[A\u001b[A\n",
      "\n",
      " 93%|█████████▎| 4231/4546 [01:12<00:05, 59.45it/s]\u001b[A\u001b[A\n",
      "\n",
      " 93%|█████████▎| 4237/4546 [01:12<00:05, 59.20it/s]\u001b[A\u001b[A\n",
      "\n",
      " 93%|█████████▎| 4243/4546 [01:12<00:05, 58.09it/s]\u001b[A\u001b[A\n",
      "\n",
      " 93%|█████████▎| 4249/4546 [01:12<00:05, 57.96it/s]\u001b[A\u001b[A\n",
      "\n",
      " 94%|█████████▎| 4256/4546 [01:12<00:04, 58.78it/s]\u001b[A\u001b[A\n",
      "\n",
      " 94%|█████████▍| 4263/4546 [01:12<00:04, 59.32it/s]\u001b[A\u001b[A\n",
      "\n",
      " 94%|█████████▍| 4269/4546 [01:12<00:04, 59.31it/s]\u001b[A\u001b[A\n",
      "\n",
      " 94%|█████████▍| 4275/4546 [01:12<00:04, 58.89it/s]\u001b[A\u001b[A\n",
      "\n",
      " 94%|█████████▍| 4281/4546 [01:12<00:04, 58.66it/s]\u001b[A\u001b[A\n",
      "\n",
      " 94%|█████████▍| 4287/4546 [01:12<00:04, 59.01it/s]\u001b[A\u001b[A\n",
      "\n",
      " 94%|█████████▍| 4293/4546 [01:13<00:04, 58.44it/s]\u001b[A\u001b[A\n",
      "\n",
      " 95%|█████████▍| 4299/4546 [01:13<00:04, 58.17it/s]\u001b[A\u001b[A\n",
      "\n",
      " 95%|█████████▍| 4305/4546 [01:13<00:04, 58.26it/s]\u001b[A\u001b[A\n",
      "\n",
      " 95%|█████████▍| 4311/4546 [01:13<00:04, 57.20it/s]\u001b[A\u001b[A\n",
      "\n",
      " 95%|█████████▍| 4317/4546 [01:13<00:03, 57.47it/s]\u001b[A\u001b[A\n",
      "\n",
      " 95%|█████████▌| 4323/4546 [01:13<00:03, 58.05it/s]\u001b[A\u001b[A\n",
      "\n",
      " 95%|█████████▌| 4330/4546 [01:13<00:03, 58.78it/s]\u001b[A\u001b[A\n",
      "\n",
      " 95%|█████████▌| 4337/4546 [01:13<00:03, 58.88it/s]\u001b[A\u001b[A\n",
      "\n",
      " 96%|█████████▌| 4343/4546 [01:13<00:03, 58.59it/s]\u001b[A\u001b[A\n",
      "\n",
      " 96%|█████████▌| 4349/4546 [01:14<00:03, 58.27it/s]\u001b[A\u001b[A\n",
      "\n",
      " 96%|█████████▌| 4355/4546 [01:14<00:03, 57.91it/s]\u001b[A\u001b[A\n",
      "\n",
      " 96%|█████████▌| 4361/4546 [01:14<00:03, 58.42it/s]\u001b[A\u001b[A\n",
      "\n",
      " 96%|█████████▌| 4368/4546 [01:14<00:02, 59.65it/s]\u001b[A\u001b[A\n",
      "\n",
      " 96%|█████████▌| 4374/4546 [01:14<00:02, 59.36it/s]\u001b[A\u001b[A\n",
      "\n",
      " 96%|█████████▋| 4380/4546 [01:14<00:02, 59.44it/s]\u001b[A\u001b[A\n",
      "\n",
      " 97%|█████████▋| 4387/4546 [01:14<00:02, 59.64it/s]\u001b[A\u001b[A\n",
      "\n",
      " 97%|█████████▋| 4394/4546 [01:14<00:02, 60.06it/s]\u001b[A\u001b[A\n",
      "\n",
      " 97%|█████████▋| 4401/4546 [01:14<00:02, 59.32it/s]\u001b[A\u001b[A\n",
      "\n",
      " 97%|█████████▋| 4408/4546 [01:15<00:02, 61.27it/s]\u001b[A\u001b[A\n",
      "\n",
      " 97%|█████████▋| 4415/4546 [01:15<00:02, 59.69it/s]\u001b[A\u001b[A\n",
      "\n",
      " 97%|█████████▋| 4422/4546 [01:15<00:02, 59.63it/s]\u001b[A\u001b[A\n",
      "\n",
      " 97%|█████████▋| 4428/4546 [01:15<00:01, 59.07it/s]\u001b[A\u001b[A\n",
      "\n",
      " 98%|█████████▊| 4434/4546 [01:15<00:01, 58.64it/s]\u001b[A\u001b[A\n",
      "\n",
      " 98%|█████████▊| 4440/4546 [01:15<00:01, 58.54it/s]\u001b[A\u001b[A\n",
      "\n",
      " 98%|█████████▊| 4446/4546 [01:15<00:01, 57.67it/s]\u001b[A\u001b[A\n",
      "\n",
      " 98%|█████████▊| 4452/4546 [01:15<00:01, 57.45it/s]\u001b[A\u001b[A\n",
      "\n",
      " 98%|█████████▊| 4459/4546 [01:15<00:01, 58.58it/s]\u001b[A\u001b[A\n",
      "\n",
      " 98%|█████████▊| 4465/4546 [01:16<00:01, 58.90it/s]\u001b[A\u001b[A\n",
      "\n",
      " 98%|█████████▊| 4471/4546 [01:16<00:01, 58.69it/s]\u001b[A\u001b[A\n",
      "\n",
      " 98%|█████████▊| 4477/4546 [01:16<00:01, 59.04it/s]\u001b[A\u001b[A\n",
      "\n",
      " 99%|█████████▊| 4483/4546 [01:16<00:01, 58.82it/s]\u001b[A\u001b[A\n",
      "\n",
      " 99%|█████████▊| 4489/4546 [01:16<00:00, 58.94it/s]\u001b[A\u001b[A\n",
      "\n",
      " 99%|█████████▉| 4496/4546 [01:16<00:00, 59.94it/s]\u001b[A\u001b[A\n",
      "\n",
      " 99%|█████████▉| 4502/4546 [01:16<00:00, 59.60it/s]\u001b[A\u001b[A\n",
      "\n",
      " 99%|█████████▉| 4508/4546 [01:16<00:00, 59.32it/s]\u001b[A\u001b[A\n",
      "\n",
      " 99%|█████████▉| 4514/4546 [01:16<00:00, 59.14it/s]\u001b[A\u001b[A\n",
      "\n",
      " 99%|█████████▉| 4521/4546 [01:16<00:00, 60.78it/s]\u001b[A\u001b[A\n",
      "\n",
      "100%|█████████▉| 4528/4546 [01:17<00:00, 60.62it/s]\u001b[A\u001b[A\n",
      "\n",
      "100%|█████████▉| 4535/4546 [01:17<00:00, 59.27it/s]\u001b[A\u001b[A\n",
      "\n",
      "100%|██████████| 4546/4546 [01:17<00:00, 58.75it/s]\u001b[A\u001b[A\n"
     ]
    },
    {
     "name": "stdout",
     "output_type": "stream",
     "text": [
      "Number of Images: 4546\n",
      "Starting Predictions\n",
      "Predictions Done\n",
      "Code Done\n"
     ]
    }
   ],
   "source": [
    "test(data_dir, 'below', 'brighten', 0, experiment_name, model_path) \n",
    "# original image. No brightening effect"
   ]
  },
  {
   "cell_type": "markdown",
   "id": "94c46068",
   "metadata": {},
   "source": [
    "## Analyze Results"
   ]
  },
  {
   "cell_type": "code",
   "execution_count": 3,
   "id": "7934e435",
   "metadata": {},
   "outputs": [
    {
     "name": "stdout",
     "output_type": "stream",
     "text": [
      "/users/riya/race/classifier_experiments\r\n"
     ]
    }
   ],
   "source": [
    "!pwd"
   ]
  },
  {
   "cell_type": "code",
   "execution_count": 4,
   "id": "4e37f74e",
   "metadata": {},
   "outputs": [],
   "source": [
    "results_path = \"predictions/experiment1_plus_systemic_brightening/skeleton_model/\""
   ]
  },
  {
   "cell_type": "markdown",
   "id": "9b2f2245",
   "metadata": {},
   "source": [
    "### Compile Arrays"
   ]
  },
  {
   "cell_type": "code",
   "execution_count": 5,
   "id": "5f5b87af",
   "metadata": {},
   "outputs": [],
   "source": [
    "increments_arr = [0,30, 60, 90, 120, 150] # do the original prediction too, I totally forgot about that oopsies"
   ]
  },
  {
   "cell_type": "code",
   "execution_count": 6,
   "id": "69bbb61d",
   "metadata": {},
   "outputs": [],
   "source": [
    "bright30preds = pd.read_csv(results_path + \"brighten_by_30.csv\")\n",
    "dull30preds = pd.read_csv(results_path + \"dull_by_30.csv\")"
   ]
  },
  {
   "cell_type": "code",
   "execution_count": 7,
   "id": "75c443b3",
   "metadata": {},
   "outputs": [],
   "source": [
    "# develop complete brightened array, considering dataframes are in the same order\n",
    "brightened_predictions = bright30preds[['img_id','race']].copy()\n",
    "dull_predictions = dull30preds[['img_id','race']].copy()\n",
    "\n",
    "# should be the same arrays"
   ]
  },
  {
   "cell_type": "code",
   "execution_count": 12,
   "id": "7414a5b8",
   "metadata": {},
   "outputs": [],
   "source": [
    "def combine_result_frames(combined_df, intensity_change, increments_arr):\n",
    "    \n",
    "    complete_predictions = combined_df.copy()\n",
    "    csv_name = ''\n",
    "    \n",
    "    for i in range(len(increments_arr)):\n",
    "        if intensity_change == 'brighten':\n",
    "            prediction_df =  pd.read_csv(results_path + f\"brighten_by_{increments_arr[i]}.csv\")\n",
    "            csv_name = 'brightpreds.csv'\n",
    "        elif intensity_change == 'dull':\n",
    "            prediction_df =  pd.read_csv(results_path + f\"dull_by_{increments_arr[i]}.csv\")\n",
    "            csv_name = 'dullpreds.csv'\n",
    "\n",
    "        colname = prediction_df.columns[2]\n",
    "        prediction_col = prediction_df.iloc[:,2]\n",
    "\n",
    "        insert_pos = len(combined_df.columns)\n",
    "        complete_predictions.insert(insert_pos, colname, prediction_col)\n",
    "    \n",
    "    complete_predictions.to_csv(results_path + csv_name)\n",
    "\n",
    "    return complete_predictions"
   ]
  },
  {
   "cell_type": "code",
   "execution_count": 13,
   "id": "377ef22b",
   "metadata": {},
   "outputs": [],
   "source": [
    "brightpreds = combine_result_frames(brightened_predictions, 'brighten', increments_arr)"
   ]
  },
  {
   "cell_type": "code",
   "execution_count": 14,
   "id": "9f835f36",
   "metadata": {},
   "outputs": [
    {
     "data": {
      "text/html": [
       "<div>\n",
       "<style scoped>\n",
       "    .dataframe tbody tr th:only-of-type {\n",
       "        vertical-align: middle;\n",
       "    }\n",
       "\n",
       "    .dataframe tbody tr th {\n",
       "        vertical-align: top;\n",
       "    }\n",
       "\n",
       "    .dataframe thead th {\n",
       "        text-align: right;\n",
       "    }\n",
       "</style>\n",
       "<table border=\"1\" class=\"dataframe\">\n",
       "  <thead>\n",
       "    <tr style=\"text-align: right;\">\n",
       "      <th></th>\n",
       "      <th>img_id</th>\n",
       "      <th>race</th>\n",
       "      <th>probability_150</th>\n",
       "      <th>probability_120</th>\n",
       "      <th>probability_90</th>\n",
       "      <th>probability_60</th>\n",
       "      <th>probability_30</th>\n",
       "      <th>probability_0</th>\n",
       "    </tr>\n",
       "  </thead>\n",
       "  <tbody>\n",
       "    <tr>\n",
       "      <th>0</th>\n",
       "      <td>101127</td>\n",
       "      <td>black</td>\n",
       "      <td>0.011595</td>\n",
       "      <td>0.012912</td>\n",
       "      <td>0.016962</td>\n",
       "      <td>0.026338</td>\n",
       "      <td>0.050886</td>\n",
       "      <td>0.067836</td>\n",
       "    </tr>\n",
       "    <tr>\n",
       "      <th>1</th>\n",
       "      <td>101128</td>\n",
       "      <td>black</td>\n",
       "      <td>0.164268</td>\n",
       "      <td>0.166308</td>\n",
       "      <td>0.146381</td>\n",
       "      <td>0.092394</td>\n",
       "      <td>0.051615</td>\n",
       "      <td>0.030836</td>\n",
       "    </tr>\n",
       "    <tr>\n",
       "      <th>2</th>\n",
       "      <td>101129</td>\n",
       "      <td>black</td>\n",
       "      <td>0.008155</td>\n",
       "      <td>0.007646</td>\n",
       "      <td>0.007741</td>\n",
       "      <td>0.007821</td>\n",
       "      <td>0.007899</td>\n",
       "      <td>0.005908</td>\n",
       "    </tr>\n",
       "    <tr>\n",
       "      <th>3</th>\n",
       "      <td>101130</td>\n",
       "      <td>black</td>\n",
       "      <td>0.005517</td>\n",
       "      <td>0.005347</td>\n",
       "      <td>0.005242</td>\n",
       "      <td>0.007844</td>\n",
       "      <td>0.013683</td>\n",
       "      <td>0.016326</td>\n",
       "    </tr>\n",
       "    <tr>\n",
       "      <th>4</th>\n",
       "      <td>101131</td>\n",
       "      <td>black</td>\n",
       "      <td>0.032120</td>\n",
       "      <td>0.041045</td>\n",
       "      <td>0.052970</td>\n",
       "      <td>0.071659</td>\n",
       "      <td>0.096342</td>\n",
       "      <td>0.092300</td>\n",
       "    </tr>\n",
       "  </tbody>\n",
       "</table>\n",
       "</div>"
      ],
      "text/plain": [
       "   img_id   race  probability_150  probability_120  probability_90  \\\n",
       "0  101127  black         0.011595         0.012912        0.016962   \n",
       "1  101128  black         0.164268         0.166308        0.146381   \n",
       "2  101129  black         0.008155         0.007646        0.007741   \n",
       "3  101130  black         0.005517         0.005347        0.005242   \n",
       "4  101131  black         0.032120         0.041045        0.052970   \n",
       "\n",
       "   probability_60  probability_30  probability_0  \n",
       "0        0.026338        0.050886       0.067836  \n",
       "1        0.092394        0.051615       0.030836  \n",
       "2        0.007821        0.007899       0.005908  \n",
       "3        0.007844        0.013683       0.016326  \n",
       "4        0.071659        0.096342       0.092300  "
      ]
     },
     "execution_count": 14,
     "metadata": {},
     "output_type": "execute_result"
    }
   ],
   "source": [
    "brightpreds.head()"
   ]
  },
  {
   "cell_type": "code",
   "execution_count": 15,
   "id": "830ef6ac",
   "metadata": {},
   "outputs": [],
   "source": [
    "brightpreds_white = brightpreds[brightpreds['race'] == 'white']\n",
    "brightpreds_black = brightpreds[brightpreds['race'] == 'black']"
   ]
  },
  {
   "cell_type": "markdown",
   "id": "954e341e",
   "metadata": {},
   "source": [
    "While probability outputs ARE NOT confidence exactly, if one is larger than the other, for instance, confidence is higher. Relative confidence can be determined, although not exact model confidence."
   ]
  },
  {
   "cell_type": "code",
   "execution_count": 17,
   "id": "24543624",
   "metadata": {},
   "outputs": [
    {
     "data": {
      "text/html": [
       "<div>\n",
       "<style scoped>\n",
       "    .dataframe tbody tr th:only-of-type {\n",
       "        vertical-align: middle;\n",
       "    }\n",
       "\n",
       "    .dataframe tbody tr th {\n",
       "        vertical-align: top;\n",
       "    }\n",
       "\n",
       "    .dataframe thead th {\n",
       "        text-align: right;\n",
       "    }\n",
       "</style>\n",
       "<table border=\"1\" class=\"dataframe\">\n",
       "  <thead>\n",
       "    <tr style=\"text-align: right;\">\n",
       "      <th></th>\n",
       "      <th>img_id</th>\n",
       "      <th>race</th>\n",
       "      <th>probability_150</th>\n",
       "      <th>probability_120</th>\n",
       "      <th>probability_90</th>\n",
       "      <th>probability_60</th>\n",
       "      <th>probability_30</th>\n",
       "      <th>probability_0</th>\n",
       "    </tr>\n",
       "  </thead>\n",
       "  <tbody>\n",
       "    <tr>\n",
       "      <th>1709</th>\n",
       "      <td>100281</td>\n",
       "      <td>white</td>\n",
       "      <td>0.031918</td>\n",
       "      <td>0.023943</td>\n",
       "      <td>0.018720</td>\n",
       "      <td>0.011903</td>\n",
       "      <td>0.005556</td>\n",
       "      <td>0.002899</td>\n",
       "    </tr>\n",
       "    <tr>\n",
       "      <th>1710</th>\n",
       "      <td>100282</td>\n",
       "      <td>white</td>\n",
       "      <td>0.049282</td>\n",
       "      <td>0.052149</td>\n",
       "      <td>0.053809</td>\n",
       "      <td>0.046064</td>\n",
       "      <td>0.033878</td>\n",
       "      <td>0.032848</td>\n",
       "    </tr>\n",
       "    <tr>\n",
       "      <th>1711</th>\n",
       "      <td>100283</td>\n",
       "      <td>white</td>\n",
       "      <td>0.003321</td>\n",
       "      <td>0.004094</td>\n",
       "      <td>0.004276</td>\n",
       "      <td>0.004087</td>\n",
       "      <td>0.003478</td>\n",
       "      <td>0.002371</td>\n",
       "    </tr>\n",
       "    <tr>\n",
       "      <th>1712</th>\n",
       "      <td>100284</td>\n",
       "      <td>white</td>\n",
       "      <td>0.006728</td>\n",
       "      <td>0.004620</td>\n",
       "      <td>0.003261</td>\n",
       "      <td>0.002176</td>\n",
       "      <td>0.001335</td>\n",
       "      <td>0.000554</td>\n",
       "    </tr>\n",
       "    <tr>\n",
       "      <th>1713</th>\n",
       "      <td>100285</td>\n",
       "      <td>white</td>\n",
       "      <td>0.017935</td>\n",
       "      <td>0.016385</td>\n",
       "      <td>0.014592</td>\n",
       "      <td>0.012146</td>\n",
       "      <td>0.009924</td>\n",
       "      <td>0.007472</td>\n",
       "    </tr>\n",
       "  </tbody>\n",
       "</table>\n",
       "</div>"
      ],
      "text/plain": [
       "      img_id   race  probability_150  probability_120  probability_90  \\\n",
       "1709  100281  white         0.031918         0.023943        0.018720   \n",
       "1710  100282  white         0.049282         0.052149        0.053809   \n",
       "1711  100283  white         0.003321         0.004094        0.004276   \n",
       "1712  100284  white         0.006728         0.004620        0.003261   \n",
       "1713  100285  white         0.017935         0.016385        0.014592   \n",
       "\n",
       "      probability_60  probability_30  probability_0  \n",
       "1709        0.011903        0.005556       0.002899  \n",
       "1710        0.046064        0.033878       0.032848  \n",
       "1711        0.004087        0.003478       0.002371  \n",
       "1712        0.002176        0.001335       0.000554  \n",
       "1713        0.012146        0.009924       0.007472  "
      ]
     },
     "execution_count": 17,
     "metadata": {},
     "output_type": "execute_result"
    }
   ],
   "source": [
    "brightpreds_white.head()"
   ]
  },
  {
   "cell_type": "code",
   "execution_count": 18,
   "id": "27b99146",
   "metadata": {},
   "outputs": [
    {
     "data": {
      "text/plain": [
       "(4546, 2837, 1709)"
      ]
     },
     "execution_count": 18,
     "metadata": {},
     "output_type": "execute_result"
    }
   ],
   "source": [
    "len(brightpreds), len(brightpreds_white), len(brightpreds_black)"
   ]
  },
  {
   "cell_type": "code",
   "execution_count": 19,
   "id": "6399781e",
   "metadata": {},
   "outputs": [],
   "source": [
    "dullpreds = combine_result_frames(dull_predictions, 'dull', increments_arr[1:])"
   ]
  },
  {
   "cell_type": "code",
   "execution_count": 20,
   "id": "7a60ace1",
   "metadata": {},
   "outputs": [
    {
     "data": {
      "text/html": [
       "<div>\n",
       "<style scoped>\n",
       "    .dataframe tbody tr th:only-of-type {\n",
       "        vertical-align: middle;\n",
       "    }\n",
       "\n",
       "    .dataframe tbody tr th {\n",
       "        vertical-align: top;\n",
       "    }\n",
       "\n",
       "    .dataframe thead th {\n",
       "        text-align: right;\n",
       "    }\n",
       "</style>\n",
       "<table border=\"1\" class=\"dataframe\">\n",
       "  <thead>\n",
       "    <tr style=\"text-align: right;\">\n",
       "      <th></th>\n",
       "      <th>img_id</th>\n",
       "      <th>race</th>\n",
       "      <th>probability_150</th>\n",
       "      <th>probability_120</th>\n",
       "      <th>probability_90</th>\n",
       "      <th>probability_60</th>\n",
       "      <th>probability_30</th>\n",
       "    </tr>\n",
       "  </thead>\n",
       "  <tbody>\n",
       "    <tr>\n",
       "      <th>0</th>\n",
       "      <td>101127</td>\n",
       "      <td>black</td>\n",
       "      <td>0.011909</td>\n",
       "      <td>0.009557</td>\n",
       "      <td>0.013532</td>\n",
       "      <td>0.035277</td>\n",
       "      <td>0.053298</td>\n",
       "    </tr>\n",
       "    <tr>\n",
       "      <th>1</th>\n",
       "      <td>101128</td>\n",
       "      <td>black</td>\n",
       "      <td>0.037104</td>\n",
       "      <td>0.029430</td>\n",
       "      <td>0.015921</td>\n",
       "      <td>0.007985</td>\n",
       "      <td>0.010540</td>\n",
       "    </tr>\n",
       "    <tr>\n",
       "      <th>2</th>\n",
       "      <td>101129</td>\n",
       "      <td>black</td>\n",
       "      <td>0.005985</td>\n",
       "      <td>0.001869</td>\n",
       "      <td>0.001018</td>\n",
       "      <td>0.000903</td>\n",
       "      <td>0.001822</td>\n",
       "    </tr>\n",
       "    <tr>\n",
       "      <th>3</th>\n",
       "      <td>101130</td>\n",
       "      <td>black</td>\n",
       "      <td>0.035109</td>\n",
       "      <td>0.028922</td>\n",
       "      <td>0.031499</td>\n",
       "      <td>0.028128</td>\n",
       "      <td>0.019299</td>\n",
       "    </tr>\n",
       "    <tr>\n",
       "      <th>4</th>\n",
       "      <td>101131</td>\n",
       "      <td>black</td>\n",
       "      <td>0.020138</td>\n",
       "      <td>0.022647</td>\n",
       "      <td>0.025004</td>\n",
       "      <td>0.052920</td>\n",
       "      <td>0.032119</td>\n",
       "    </tr>\n",
       "  </tbody>\n",
       "</table>\n",
       "</div>"
      ],
      "text/plain": [
       "   img_id   race  probability_150  probability_120  probability_90  \\\n",
       "0  101127  black         0.011909         0.009557        0.013532   \n",
       "1  101128  black         0.037104         0.029430        0.015921   \n",
       "2  101129  black         0.005985         0.001869        0.001018   \n",
       "3  101130  black         0.035109         0.028922        0.031499   \n",
       "4  101131  black         0.020138         0.022647        0.025004   \n",
       "\n",
       "   probability_60  probability_30  \n",
       "0        0.035277        0.053298  \n",
       "1        0.007985        0.010540  \n",
       "2        0.000903        0.001822  \n",
       "3        0.028128        0.019299  \n",
       "4        0.052920        0.032119  "
      ]
     },
     "execution_count": 20,
     "metadata": {},
     "output_type": "execute_result"
    }
   ],
   "source": [
    "dullpreds.head()"
   ]
  },
  {
   "cell_type": "code",
   "execution_count": 21,
   "id": "b913b86d",
   "metadata": {},
   "outputs": [],
   "source": [
    "dullpreds_white = dullpreds[dullpreds['race'] == 'white']\n",
    "dullpreds_black = dullpreds[dullpreds['race'] == 'black']"
   ]
  },
  {
   "cell_type": "code",
   "execution_count": 22,
   "id": "3498e94d",
   "metadata": {},
   "outputs": [
    {
     "data": {
      "text/plain": [
       "(4546, 2837, 1709)"
      ]
     },
     "execution_count": 22,
     "metadata": {},
     "output_type": "execute_result"
    }
   ],
   "source": [
    "len(dullpreds), len(dullpreds_white), len(dullpreds_black)"
   ]
  },
  {
   "cell_type": "markdown",
   "id": "5de6e919",
   "metadata": {},
   "source": [
    "### Determine Percent Misclassification"
   ]
  },
  {
   "cell_type": "code",
   "execution_count": 7,
   "id": "f00c655f",
   "metadata": {},
   "outputs": [],
   "source": [
    "results_path = \"/users/riya/race/classifier_experiments/CNN_train/outputs/probabilities/#10(macula_focus)/\""
   ]
  },
  {
   "cell_type": "code",
   "execution_count": 83,
   "id": "78646767",
   "metadata": {},
   "outputs": [],
   "source": [
    "show_macula_non_skel = pd.read_csv(results_path + \"show_macula_brightened_by_0_epoch50.csv\")\n",
    "show_macula_skel = pd.read_csv(results_path + \"show_macula_brightened_by_0_skeletonized_epoch50.csv\")\n",
    "\n",
    "hide_macula_non_skel = pd.read_csv(results_path + \"hide_macula_brightened_by_0_epoch50.csv\")\n",
    "hide_macula_skel = pd.read_csv(results_path + \"hide_macula_brightened_by_0_skeletonized_epoch50.csv\")"
   ]
  },
  {
   "cell_type": "code",
   "execution_count": 84,
   "id": "4fdf8382",
   "metadata": {},
   "outputs": [
    {
     "data": {
      "text/html": [
       "<div>\n",
       "<style scoped>\n",
       "    .dataframe tbody tr th:only-of-type {\n",
       "        vertical-align: middle;\n",
       "    }\n",
       "\n",
       "    .dataframe tbody tr th {\n",
       "        vertical-align: top;\n",
       "    }\n",
       "\n",
       "    .dataframe thead th {\n",
       "        text-align: right;\n",
       "    }\n",
       "</style>\n",
       "<table border=\"1\" class=\"dataframe\">\n",
       "  <thead>\n",
       "    <tr style=\"text-align: right;\">\n",
       "      <th></th>\n",
       "      <th>img_loc</th>\n",
       "      <th>probability</th>\n",
       "    </tr>\n",
       "  </thead>\n",
       "  <tbody>\n",
       "    <tr>\n",
       "      <th>0</th>\n",
       "      <td>/users/riya/race/classifier_experiments/CNN_tr...</td>\n",
       "      <td>0.720475</td>\n",
       "    </tr>\n",
       "    <tr>\n",
       "      <th>1</th>\n",
       "      <td>/users/riya/race/classifier_experiments/CNN_tr...</td>\n",
       "      <td>0.866231</td>\n",
       "    </tr>\n",
       "    <tr>\n",
       "      <th>2</th>\n",
       "      <td>/users/riya/race/classifier_experiments/CNN_tr...</td>\n",
       "      <td>0.746231</td>\n",
       "    </tr>\n",
       "    <tr>\n",
       "      <th>3</th>\n",
       "      <td>/users/riya/race/classifier_experiments/CNN_tr...</td>\n",
       "      <td>0.467659</td>\n",
       "    </tr>\n",
       "    <tr>\n",
       "      <th>4</th>\n",
       "      <td>/users/riya/race/classifier_experiments/CNN_tr...</td>\n",
       "      <td>0.934661</td>\n",
       "    </tr>\n",
       "    <tr>\n",
       "      <th>...</th>\n",
       "      <td>...</td>\n",
       "      <td>...</td>\n",
       "    </tr>\n",
       "    <tr>\n",
       "      <th>905</th>\n",
       "      <td>/users/riya/race/classifier_experiments/CNN_tr...</td>\n",
       "      <td>0.081580</td>\n",
       "    </tr>\n",
       "    <tr>\n",
       "      <th>906</th>\n",
       "      <td>/users/riya/race/classifier_experiments/CNN_tr...</td>\n",
       "      <td>0.225085</td>\n",
       "    </tr>\n",
       "    <tr>\n",
       "      <th>907</th>\n",
       "      <td>/users/riya/race/classifier_experiments/CNN_tr...</td>\n",
       "      <td>0.725670</td>\n",
       "    </tr>\n",
       "    <tr>\n",
       "      <th>908</th>\n",
       "      <td>/users/riya/race/classifier_experiments/CNN_tr...</td>\n",
       "      <td>0.068766</td>\n",
       "    </tr>\n",
       "    <tr>\n",
       "      <th>909</th>\n",
       "      <td>/users/riya/race/classifier_experiments/CNN_tr...</td>\n",
       "      <td>0.333136</td>\n",
       "    </tr>\n",
       "  </tbody>\n",
       "</table>\n",
       "<p>910 rows × 2 columns</p>\n",
       "</div>"
      ],
      "text/plain": [
       "                                               img_loc  probability\n",
       "0    /users/riya/race/classifier_experiments/CNN_tr...     0.720475\n",
       "1    /users/riya/race/classifier_experiments/CNN_tr...     0.866231\n",
       "2    /users/riya/race/classifier_experiments/CNN_tr...     0.746231\n",
       "3    /users/riya/race/classifier_experiments/CNN_tr...     0.467659\n",
       "4    /users/riya/race/classifier_experiments/CNN_tr...     0.934661\n",
       "..                                                 ...          ...\n",
       "905  /users/riya/race/classifier_experiments/CNN_tr...     0.081580\n",
       "906  /users/riya/race/classifier_experiments/CNN_tr...     0.225085\n",
       "907  /users/riya/race/classifier_experiments/CNN_tr...     0.725670\n",
       "908  /users/riya/race/classifier_experiments/CNN_tr...     0.068766\n",
       "909  /users/riya/race/classifier_experiments/CNN_tr...     0.333136\n",
       "\n",
       "[910 rows x 2 columns]"
      ]
     },
     "execution_count": 84,
     "metadata": {},
     "output_type": "execute_result"
    }
   ],
   "source": [
    "hide_macula_skel"
   ]
  },
  {
   "cell_type": "code",
   "execution_count": 85,
   "id": "4c894c9f",
   "metadata": {},
   "outputs": [
    {
     "data": {
      "text/plain": [
       "'/users/riya/race/classifier_experiments/CNN_train/dataset_full/test/white/33937.bmp'"
      ]
     },
     "execution_count": 85,
     "metadata": {},
     "output_type": "execute_result"
    }
   ],
   "source": [
    "hide_macula_skel['img_loc'][500]"
   ]
  },
  {
   "cell_type": "code",
   "execution_count": 86,
   "id": "c582fe43",
   "metadata": {},
   "outputs": [],
   "source": [
    "race_arr = [0] * len(hide_macula_skel)\n",
    "\n",
    "for i in range(len(hide_macula_skel)):\n",
    "    test_phrase = hide_macula_skel['img_loc'][i]\n",
    "    if 'black' in test_phrase:\n",
    "        race_arr[i] = 0\n",
    "    if 'white' in test_phrase:\n",
    "        race_arr[i] = 1"
   ]
  },
  {
   "cell_type": "code",
   "execution_count": 87,
   "id": "b5d77bbc",
   "metadata": {},
   "outputs": [
    {
     "data": {
      "text/plain": [
       "910"
      ]
     },
     "execution_count": 87,
     "metadata": {},
     "output_type": "execute_result"
    }
   ],
   "source": [
    "len(race_arr)"
   ]
  },
  {
   "cell_type": "code",
   "execution_count": 88,
   "id": "97b6d1ec",
   "metadata": {},
   "outputs": [],
   "source": [
    "hide_macula_skel['race'] = race_arr"
   ]
  },
  {
   "cell_type": "code",
   "execution_count": 89,
   "id": "0cc99b6a",
   "metadata": {},
   "outputs": [
    {
     "data": {
      "text/html": [
       "<div>\n",
       "<style scoped>\n",
       "    .dataframe tbody tr th:only-of-type {\n",
       "        vertical-align: middle;\n",
       "    }\n",
       "\n",
       "    .dataframe tbody tr th {\n",
       "        vertical-align: top;\n",
       "    }\n",
       "\n",
       "    .dataframe thead th {\n",
       "        text-align: right;\n",
       "    }\n",
       "</style>\n",
       "<table border=\"1\" class=\"dataframe\">\n",
       "  <thead>\n",
       "    <tr style=\"text-align: right;\">\n",
       "      <th></th>\n",
       "      <th>img_loc</th>\n",
       "      <th>probability</th>\n",
       "      <th>race</th>\n",
       "    </tr>\n",
       "  </thead>\n",
       "  <tbody>\n",
       "    <tr>\n",
       "      <th>342</th>\n",
       "      <td>/users/riya/race/classifier_experiments/CNN_tr...</td>\n",
       "      <td>0.866755</td>\n",
       "      <td>1</td>\n",
       "    </tr>\n",
       "    <tr>\n",
       "      <th>343</th>\n",
       "      <td>/users/riya/race/classifier_experiments/CNN_tr...</td>\n",
       "      <td>0.144750</td>\n",
       "      <td>1</td>\n",
       "    </tr>\n",
       "    <tr>\n",
       "      <th>344</th>\n",
       "      <td>/users/riya/race/classifier_experiments/CNN_tr...</td>\n",
       "      <td>0.566279</td>\n",
       "      <td>1</td>\n",
       "    </tr>\n",
       "    <tr>\n",
       "      <th>345</th>\n",
       "      <td>/users/riya/race/classifier_experiments/CNN_tr...</td>\n",
       "      <td>0.038444</td>\n",
       "      <td>1</td>\n",
       "    </tr>\n",
       "    <tr>\n",
       "      <th>346</th>\n",
       "      <td>/users/riya/race/classifier_experiments/CNN_tr...</td>\n",
       "      <td>0.026375</td>\n",
       "      <td>1</td>\n",
       "    </tr>\n",
       "    <tr>\n",
       "      <th>...</th>\n",
       "      <td>...</td>\n",
       "      <td>...</td>\n",
       "      <td>...</td>\n",
       "    </tr>\n",
       "    <tr>\n",
       "      <th>905</th>\n",
       "      <td>/users/riya/race/classifier_experiments/CNN_tr...</td>\n",
       "      <td>0.081580</td>\n",
       "      <td>1</td>\n",
       "    </tr>\n",
       "    <tr>\n",
       "      <th>906</th>\n",
       "      <td>/users/riya/race/classifier_experiments/CNN_tr...</td>\n",
       "      <td>0.225085</td>\n",
       "      <td>1</td>\n",
       "    </tr>\n",
       "    <tr>\n",
       "      <th>907</th>\n",
       "      <td>/users/riya/race/classifier_experiments/CNN_tr...</td>\n",
       "      <td>0.725670</td>\n",
       "      <td>1</td>\n",
       "    </tr>\n",
       "    <tr>\n",
       "      <th>908</th>\n",
       "      <td>/users/riya/race/classifier_experiments/CNN_tr...</td>\n",
       "      <td>0.068766</td>\n",
       "      <td>1</td>\n",
       "    </tr>\n",
       "    <tr>\n",
       "      <th>909</th>\n",
       "      <td>/users/riya/race/classifier_experiments/CNN_tr...</td>\n",
       "      <td>0.333136</td>\n",
       "      <td>1</td>\n",
       "    </tr>\n",
       "  </tbody>\n",
       "</table>\n",
       "<p>568 rows × 3 columns</p>\n",
       "</div>"
      ],
      "text/plain": [
       "                                               img_loc  probability  race\n",
       "342  /users/riya/race/classifier_experiments/CNN_tr...     0.866755     1\n",
       "343  /users/riya/race/classifier_experiments/CNN_tr...     0.144750     1\n",
       "344  /users/riya/race/classifier_experiments/CNN_tr...     0.566279     1\n",
       "345  /users/riya/race/classifier_experiments/CNN_tr...     0.038444     1\n",
       "346  /users/riya/race/classifier_experiments/CNN_tr...     0.026375     1\n",
       "..                                                 ...          ...   ...\n",
       "905  /users/riya/race/classifier_experiments/CNN_tr...     0.081580     1\n",
       "906  /users/riya/race/classifier_experiments/CNN_tr...     0.225085     1\n",
       "907  /users/riya/race/classifier_experiments/CNN_tr...     0.725670     1\n",
       "908  /users/riya/race/classifier_experiments/CNN_tr...     0.068766     1\n",
       "909  /users/riya/race/classifier_experiments/CNN_tr...     0.333136     1\n",
       "\n",
       "[568 rows x 3 columns]"
      ]
     },
     "execution_count": 89,
     "metadata": {},
     "output_type": "execute_result"
    }
   ],
   "source": [
    "hide_macula_skel[hide_macula_skel['race'] == 1]"
   ]
  },
  {
   "cell_type": "code",
   "execution_count": 90,
   "id": "143f6907",
   "metadata": {},
   "outputs": [],
   "source": [
    "fpr, tpr, _ = roc_curve(hide_macula_skel['race'],  1 - hide_macula_skel['probability'])\n",
    "auc = roc_auc_score(hide_macula_skel['race'], 1 - hide_macula_skel['probability'])\n",
    "auc = np.round(auc, 4)"
   ]
  },
  {
   "cell_type": "code",
   "execution_count": 91,
   "id": "c7ef1720",
   "metadata": {},
   "outputs": [
    {
     "data": {
      "text/plain": [
       "0.8957"
      ]
     },
     "execution_count": 91,
     "metadata": {},
     "output_type": "execute_result"
    }
   ],
   "source": [
    "auc"
   ]
  },
  {
   "cell_type": "code",
   "execution_count": 66,
   "id": "af783abb",
   "metadata": {},
   "outputs": [],
   "source": [
    "def percent_predictions(preds_df, race, increments_arr = []):\n",
    "    \n",
    "    pred = ''\n",
    "    \n",
    "    if (race == 'black'):\n",
    "        pred = 'white'\n",
    "    elif (race == 'white'):\n",
    "        pred = 'black'\n",
    "    \n",
    "    print(f'Percent of {race} Images Incorrectly Predicted as {pred}')\n",
    "    \n",
    "    def preds_print(colname):\n",
    "        if (race == 'white'): # getting the percent predicted correctly as white\n",
    "            predscol = preds_df[preds_df[colname] > 0.5]\n",
    "        elif (race == 'black'): # getting the percent predicted correctly as black\n",
    "            predscol = preds_df[preds_df[colname] < 0.5]\n",
    "        \n",
    "        right_percent = 100 * len(predscol)/len(preds_df) \n",
    "        wrong_percent = 100 - right_percent\n",
    "        print(str(colname) + ':' + str(wrong_percent))\n",
    "    \n",
    "    # preds_print('original') # will do soon\n",
    "    \n",
    "    preds_print('probability')"
   ]
  },
  {
   "cell_type": "code",
   "execution_count": 92,
   "id": "d1148cc7",
   "metadata": {},
   "outputs": [],
   "source": [
    "white_show_macula_non_skel = hide_macula_skel[hide_macula_skel['race'] == 1]\n",
    "black_show_macula_non_skel = hide_macula_skel[hide_macula_skel['race'] == 0]"
   ]
  },
  {
   "cell_type": "code",
   "execution_count": 93,
   "id": "faade3b8",
   "metadata": {},
   "outputs": [
    {
     "name": "stdout",
     "output_type": "stream",
     "text": [
      "Percent of white Images Incorrectly Predicted as black\n",
      "probability:79.5774647887324\n"
     ]
    }
   ],
   "source": [
    "percent_predictions(white_show_macula_non_skel, 'white')"
   ]
  },
  {
   "cell_type": "code",
   "execution_count": 94,
   "id": "2239b5bf",
   "metadata": {},
   "outputs": [
    {
     "name": "stdout",
     "output_type": "stream",
     "text": [
      "Percent of black Images Incorrectly Predicted as white\n",
      "probability:82.45614035087719\n"
     ]
    }
   ],
   "source": [
    "percent_predictions(black_show_macula_non_skel, 'black')"
   ]
  },
  {
   "cell_type": "code",
   "execution_count": null,
   "id": "19ea5c15",
   "metadata": {},
   "outputs": [],
   "source": []
  },
  {
   "cell_type": "code",
   "execution_count": null,
   "id": "46d15bc3",
   "metadata": {},
   "outputs": [],
   "source": []
  },
  {
   "cell_type": "code",
   "execution_count": null,
   "id": "1d0ad3bb",
   "metadata": {},
   "outputs": [],
   "source": []
  },
  {
   "cell_type": "code",
   "execution_count": 24,
   "id": "2fabcc51",
   "metadata": {},
   "outputs": [
    {
     "name": "stdout",
     "output_type": "stream",
     "text": [
      "Percent of white Images Incorrectly Predicted as black\n",
      "probability_0:97.10962284102925\n",
      "probability_30:95.02996122664787\n",
      "probability_60:94.25449418399718\n",
      "probability_90:94.53648219950652\n",
      "probability_120:95.59393725766655\n",
      "probability_150:96.61614381388792\n"
     ]
    }
   ],
   "source": [
    "percent_predictions(brightpreds_white, 'white', increments_arr)"
   ]
  },
  {
   "cell_type": "code",
   "execution_count": 25,
   "id": "93d6556d",
   "metadata": {},
   "outputs": [
    {
     "name": "stdout",
     "output_type": "stream",
     "text": [
      "Percent of black Images Incorrectly Predicted as white\n",
      "probability_0:0.05851375073142151\n",
      "probability_30:0.17554125219426453\n",
      "probability_60:0.05851375073142151\n",
      "probability_90:0.0\n",
      "probability_120:0.0\n",
      "probability_150:0.0\n"
     ]
    }
   ],
   "source": [
    "percent_predictions(brightpreds_black, 'black', increments_arr)"
   ]
  },
  {
   "cell_type": "code",
   "execution_count": 27,
   "id": "cedc6241",
   "metadata": {},
   "outputs": [
    {
     "name": "stdout",
     "output_type": "stream",
     "text": [
      "Percent of white Images Incorrectly Predicted as black\n",
      "probability_30:99.57701797673599\n",
      "probability_60:99.92950299612266\n",
      "probability_90:100.0\n",
      "probability_120:100.0\n",
      "probability_150:100.0\n"
     ]
    }
   ],
   "source": [
    "percent_predictions(dullpreds_white, 'white', increments_arr[1:])"
   ]
  },
  {
   "cell_type": "code",
   "execution_count": 28,
   "id": "87364a35",
   "metadata": {},
   "outputs": [
    {
     "name": "stdout",
     "output_type": "stream",
     "text": [
      "Percent of black Images Incorrectly Predicted as white\n",
      "probability_30:0.0\n",
      "probability_60:0.05851375073142151\n",
      "probability_90:0.05851375073142151\n",
      "probability_120:0.0\n",
      "probability_150:0.0\n"
     ]
    }
   ],
   "source": [
    "percent_predictions(dullpreds_black, 'black', increments_arr[1:])"
   ]
  },
  {
   "cell_type": "markdown",
   "id": "23dfee02",
   "metadata": {},
   "source": [
    "### Old Code"
   ]
  },
  {
   "cell_type": "code",
   "execution_count": 56,
   "id": "fccf3e59",
   "metadata": {},
   "outputs": [
    {
     "name": "stdout",
     "output_type": "stream",
     "text": [
      "Percent of Images Incorrectly Predicted as \n",
      "probability_30:23.68699330278463\n"
     ]
    }
   ],
   "source": [
    "percent_predictions(bright30preds_white, 'white')"
   ]
  },
  {
   "cell_type": "code",
   "execution_count": 12,
   "id": "ae799a59",
   "metadata": {},
   "outputs": [
    {
     "name": "stdout",
     "output_type": "stream",
     "text": [
      "Percent of Images Incorrectly Predicted as \n",
      "30:23.68699330278463\n",
      "60:100.0\n",
      "90:100.0\n",
      "120:100.0\n",
      "150:100.0\n"
     ]
    }
   ],
   "source": [
    "percent_predictions(bright_white_preds, 'white')"
   ]
  },
  {
   "cell_type": "code",
   "execution_count": 31,
   "id": "040195ae",
   "metadata": {},
   "outputs": [
    {
     "data": {
      "text/html": [
       "<div>\n",
       "<style scoped>\n",
       "    .dataframe tbody tr th:only-of-type {\n",
       "        vertical-align: middle;\n",
       "    }\n",
       "\n",
       "    .dataframe tbody tr th {\n",
       "        vertical-align: top;\n",
       "    }\n",
       "\n",
       "    .dataframe thead th {\n",
       "        text-align: right;\n",
       "    }\n",
       "</style>\n",
       "<table border=\"1\" class=\"dataframe\">\n",
       "  <thead>\n",
       "    <tr style=\"text-align: right;\">\n",
       "      <th></th>\n",
       "      <th>id</th>\n",
       "      <th>30</th>\n",
       "      <th>60</th>\n",
       "      <th>90</th>\n",
       "      <th>120</th>\n",
       "      <th>150</th>\n",
       "      <th>race</th>\n",
       "    </tr>\n",
       "  </thead>\n",
       "  <tbody>\n",
       "    <tr>\n",
       "      <th>1</th>\n",
       "      <td>82379</td>\n",
       "      <td>0.014365</td>\n",
       "      <td>0.001441</td>\n",
       "      <td>0.001383</td>\n",
       "      <td>0.001755</td>\n",
       "      <td>0.002071</td>\n",
       "      <td>white</td>\n",
       "    </tr>\n",
       "    <tr>\n",
       "      <th>5</th>\n",
       "      <td>87380</td>\n",
       "      <td>0.932330</td>\n",
       "      <td>0.928991</td>\n",
       "      <td>0.866641</td>\n",
       "      <td>0.566693</td>\n",
       "      <td>0.192995</td>\n",
       "      <td>white</td>\n",
       "    </tr>\n",
       "    <tr>\n",
       "      <th>7</th>\n",
       "      <td>43868</td>\n",
       "      <td>0.197987</td>\n",
       "      <td>0.004664</td>\n",
       "      <td>0.002383</td>\n",
       "      <td>0.001999</td>\n",
       "      <td>0.001897</td>\n",
       "      <td>white</td>\n",
       "    </tr>\n",
       "    <tr>\n",
       "      <th>9</th>\n",
       "      <td>102795</td>\n",
       "      <td>0.997897</td>\n",
       "      <td>0.389615</td>\n",
       "      <td>0.024940</td>\n",
       "      <td>0.009268</td>\n",
       "      <td>0.006931</td>\n",
       "      <td>white</td>\n",
       "    </tr>\n",
       "    <tr>\n",
       "      <th>12</th>\n",
       "      <td>84991</td>\n",
       "      <td>0.990329</td>\n",
       "      <td>0.622761</td>\n",
       "      <td>0.062046</td>\n",
       "      <td>0.010388</td>\n",
       "      <td>0.004232</td>\n",
       "      <td>white</td>\n",
       "    </tr>\n",
       "    <tr>\n",
       "      <th>...</th>\n",
       "      <td>...</td>\n",
       "      <td>...</td>\n",
       "      <td>...</td>\n",
       "      <td>...</td>\n",
       "      <td>...</td>\n",
       "      <td>...</td>\n",
       "      <td>...</td>\n",
       "    </tr>\n",
       "    <tr>\n",
       "      <th>4537</th>\n",
       "      <td>96939</td>\n",
       "      <td>0.000316</td>\n",
       "      <td>0.000316</td>\n",
       "      <td>0.000316</td>\n",
       "      <td>0.000316</td>\n",
       "      <td>0.000316</td>\n",
       "      <td>white</td>\n",
       "    </tr>\n",
       "    <tr>\n",
       "      <th>4539</th>\n",
       "      <td>71512</td>\n",
       "      <td>0.000316</td>\n",
       "      <td>0.000316</td>\n",
       "      <td>0.000316</td>\n",
       "      <td>0.000316</td>\n",
       "      <td>0.000316</td>\n",
       "      <td>white</td>\n",
       "    </tr>\n",
       "    <tr>\n",
       "      <th>4540</th>\n",
       "      <td>18169</td>\n",
       "      <td>0.000316</td>\n",
       "      <td>0.000316</td>\n",
       "      <td>0.000316</td>\n",
       "      <td>0.000316</td>\n",
       "      <td>0.000316</td>\n",
       "      <td>white</td>\n",
       "    </tr>\n",
       "    <tr>\n",
       "      <th>4544</th>\n",
       "      <td>33415</td>\n",
       "      <td>0.000316</td>\n",
       "      <td>0.000316</td>\n",
       "      <td>0.000316</td>\n",
       "      <td>0.000316</td>\n",
       "      <td>0.000316</td>\n",
       "      <td>white</td>\n",
       "    </tr>\n",
       "    <tr>\n",
       "      <th>4545</th>\n",
       "      <td>82914</td>\n",
       "      <td>0.000316</td>\n",
       "      <td>0.000316</td>\n",
       "      <td>0.000316</td>\n",
       "      <td>0.000316</td>\n",
       "      <td>0.000316</td>\n",
       "      <td>white</td>\n",
       "    </tr>\n",
       "  </tbody>\n",
       "</table>\n",
       "<p>2837 rows × 7 columns</p>\n",
       "</div>"
      ],
      "text/plain": [
       "          id        30        60        90       120       150   race\n",
       "1      82379  0.014365  0.001441  0.001383  0.001755  0.002071  white\n",
       "5      87380  0.932330  0.928991  0.866641  0.566693  0.192995  white\n",
       "7      43868  0.197987  0.004664  0.002383  0.001999  0.001897  white\n",
       "9     102795  0.997897  0.389615  0.024940  0.009268  0.006931  white\n",
       "12     84991  0.990329  0.622761  0.062046  0.010388  0.004232  white\n",
       "...      ...       ...       ...       ...       ...       ...    ...\n",
       "4537   96939  0.000316  0.000316  0.000316  0.000316  0.000316  white\n",
       "4539   71512  0.000316  0.000316  0.000316  0.000316  0.000316  white\n",
       "4540   18169  0.000316  0.000316  0.000316  0.000316  0.000316  white\n",
       "4544   33415  0.000316  0.000316  0.000316  0.000316  0.000316  white\n",
       "4545   82914  0.000316  0.000316  0.000316  0.000316  0.000316  white\n",
       "\n",
       "[2837 rows x 7 columns]"
      ]
     },
     "execution_count": 31,
     "metadata": {},
     "output_type": "execute_result"
    }
   ],
   "source": [
    "bright_white_preds"
   ]
  },
  {
   "cell_type": "code",
   "execution_count": 34,
   "id": "c5dcec3d",
   "metadata": {},
   "outputs": [
    {
     "data": {
      "text/html": [
       "<div>\n",
       "<style scoped>\n",
       "    .dataframe tbody tr th:only-of-type {\n",
       "        vertical-align: middle;\n",
       "    }\n",
       "\n",
       "    .dataframe tbody tr th {\n",
       "        vertical-align: top;\n",
       "    }\n",
       "\n",
       "    .dataframe thead th {\n",
       "        text-align: right;\n",
       "    }\n",
       "</style>\n",
       "<table border=\"1\" class=\"dataframe\">\n",
       "  <thead>\n",
       "    <tr style=\"text-align: right;\">\n",
       "      <th></th>\n",
       "      <th>id</th>\n",
       "      <th>30</th>\n",
       "      <th>60</th>\n",
       "      <th>90</th>\n",
       "      <th>120</th>\n",
       "      <th>150</th>\n",
       "      <th>race</th>\n",
       "    </tr>\n",
       "  </thead>\n",
       "  <tbody>\n",
       "    <tr>\n",
       "      <th>0</th>\n",
       "      <td>101934</td>\n",
       "      <td>0.156814</td>\n",
       "      <td>0.239794</td>\n",
       "      <td>0.080069</td>\n",
       "      <td>0.027195</td>\n",
       "      <td>0.013532</td>\n",
       "      <td>black</td>\n",
       "    </tr>\n",
       "    <tr>\n",
       "      <th>2</th>\n",
       "      <td>87427</td>\n",
       "      <td>0.000071</td>\n",
       "      <td>0.000078</td>\n",
       "      <td>0.000162</td>\n",
       "      <td>0.000218</td>\n",
       "      <td>0.000225</td>\n",
       "      <td>black</td>\n",
       "    </tr>\n",
       "    <tr>\n",
       "      <th>3</th>\n",
       "      <td>49236</td>\n",
       "      <td>0.000039</td>\n",
       "      <td>0.000071</td>\n",
       "      <td>0.000110</td>\n",
       "      <td>0.000147</td>\n",
       "      <td>0.000196</td>\n",
       "      <td>black</td>\n",
       "    </tr>\n",
       "    <tr>\n",
       "      <th>4</th>\n",
       "      <td>45251</td>\n",
       "      <td>0.001444</td>\n",
       "      <td>0.003900</td>\n",
       "      <td>0.007533</td>\n",
       "      <td>0.011245</td>\n",
       "      <td>0.013532</td>\n",
       "      <td>black</td>\n",
       "    </tr>\n",
       "    <tr>\n",
       "      <th>6</th>\n",
       "      <td>39426</td>\n",
       "      <td>0.000392</td>\n",
       "      <td>0.000634</td>\n",
       "      <td>0.000739</td>\n",
       "      <td>0.000883</td>\n",
       "      <td>0.000975</td>\n",
       "      <td>black</td>\n",
       "    </tr>\n",
       "    <tr>\n",
       "      <th>...</th>\n",
       "      <td>...</td>\n",
       "      <td>...</td>\n",
       "      <td>...</td>\n",
       "      <td>...</td>\n",
       "      <td>...</td>\n",
       "      <td>...</td>\n",
       "      <td>...</td>\n",
       "    </tr>\n",
       "    <tr>\n",
       "      <th>4535</th>\n",
       "      <td>7451</td>\n",
       "      <td>0.000316</td>\n",
       "      <td>0.000316</td>\n",
       "      <td>0.000316</td>\n",
       "      <td>0.000316</td>\n",
       "      <td>0.000316</td>\n",
       "      <td>black</td>\n",
       "    </tr>\n",
       "    <tr>\n",
       "      <th>4538</th>\n",
       "      <td>101738</td>\n",
       "      <td>0.000316</td>\n",
       "      <td>0.000316</td>\n",
       "      <td>0.000316</td>\n",
       "      <td>0.000316</td>\n",
       "      <td>0.000316</td>\n",
       "      <td>black</td>\n",
       "    </tr>\n",
       "    <tr>\n",
       "      <th>4541</th>\n",
       "      <td>92793</td>\n",
       "      <td>0.000316</td>\n",
       "      <td>0.000316</td>\n",
       "      <td>0.000316</td>\n",
       "      <td>0.000316</td>\n",
       "      <td>0.000316</td>\n",
       "      <td>black</td>\n",
       "    </tr>\n",
       "    <tr>\n",
       "      <th>4542</th>\n",
       "      <td>31340</td>\n",
       "      <td>0.000316</td>\n",
       "      <td>0.000316</td>\n",
       "      <td>0.000316</td>\n",
       "      <td>0.000316</td>\n",
       "      <td>0.000316</td>\n",
       "      <td>black</td>\n",
       "    </tr>\n",
       "    <tr>\n",
       "      <th>4543</th>\n",
       "      <td>99058</td>\n",
       "      <td>0.000316</td>\n",
       "      <td>0.000316</td>\n",
       "      <td>0.000316</td>\n",
       "      <td>0.000316</td>\n",
       "      <td>0.000316</td>\n",
       "      <td>black</td>\n",
       "    </tr>\n",
       "  </tbody>\n",
       "</table>\n",
       "<p>1709 rows × 7 columns</p>\n",
       "</div>"
      ],
      "text/plain": [
       "          id        30        60        90       120       150   race\n",
       "0     101934  0.156814  0.239794  0.080069  0.027195  0.013532  black\n",
       "2      87427  0.000071  0.000078  0.000162  0.000218  0.000225  black\n",
       "3      49236  0.000039  0.000071  0.000110  0.000147  0.000196  black\n",
       "4      45251  0.001444  0.003900  0.007533  0.011245  0.013532  black\n",
       "6      39426  0.000392  0.000634  0.000739  0.000883  0.000975  black\n",
       "...      ...       ...       ...       ...       ...       ...    ...\n",
       "4535    7451  0.000316  0.000316  0.000316  0.000316  0.000316  black\n",
       "4538  101738  0.000316  0.000316  0.000316  0.000316  0.000316  black\n",
       "4541   92793  0.000316  0.000316  0.000316  0.000316  0.000316  black\n",
       "4542   31340  0.000316  0.000316  0.000316  0.000316  0.000316  black\n",
       "4543   99058  0.000316  0.000316  0.000316  0.000316  0.000316  black\n",
       "\n",
       "[1709 rows x 7 columns]"
      ]
     },
     "execution_count": 34,
     "metadata": {},
     "output_type": "execute_result"
    }
   ],
   "source": [
    "bright_black_preds"
   ]
  },
  {
   "cell_type": "code",
   "execution_count": 51,
   "id": "0ac6ac60",
   "metadata": {},
   "outputs": [
    {
     "data": {
      "text/html": [
       "<div>\n",
       "<style scoped>\n",
       "    .dataframe tbody tr th:only-of-type {\n",
       "        vertical-align: middle;\n",
       "    }\n",
       "\n",
       "    .dataframe tbody tr th {\n",
       "        vertical-align: top;\n",
       "    }\n",
       "\n",
       "    .dataframe thead th {\n",
       "        text-align: right;\n",
       "    }\n",
       "</style>\n",
       "<table border=\"1\" class=\"dataframe\">\n",
       "  <thead>\n",
       "    <tr style=\"text-align: right;\">\n",
       "      <th></th>\n",
       "      <th>id</th>\n",
       "      <th>30</th>\n",
       "      <th>60</th>\n",
       "      <th>90</th>\n",
       "      <th>120</th>\n",
       "      <th>150</th>\n",
       "      <th>race</th>\n",
       "    </tr>\n",
       "  </thead>\n",
       "  <tbody>\n",
       "    <tr>\n",
       "      <th>0</th>\n",
       "      <td>101934</td>\n",
       "      <td>0.043204</td>\n",
       "      <td>0.027118</td>\n",
       "      <td>0.018960</td>\n",
       "      <td>0.024586</td>\n",
       "      <td>0.046725</td>\n",
       "      <td>black</td>\n",
       "    </tr>\n",
       "    <tr>\n",
       "      <th>2</th>\n",
       "      <td>87427</td>\n",
       "      <td>0.081046</td>\n",
       "      <td>0.938463</td>\n",
       "      <td>0.965835</td>\n",
       "      <td>0.974043</td>\n",
       "      <td>0.972831</td>\n",
       "      <td>black</td>\n",
       "    </tr>\n",
       "    <tr>\n",
       "      <th>3</th>\n",
       "      <td>49236</td>\n",
       "      <td>0.000083</td>\n",
       "      <td>0.000636</td>\n",
       "      <td>0.003286</td>\n",
       "      <td>0.037644</td>\n",
       "      <td>0.157525</td>\n",
       "      <td>black</td>\n",
       "    </tr>\n",
       "    <tr>\n",
       "      <th>4</th>\n",
       "      <td>45251</td>\n",
       "      <td>0.003016</td>\n",
       "      <td>0.017193</td>\n",
       "      <td>0.167015</td>\n",
       "      <td>0.869160</td>\n",
       "      <td>0.975249</td>\n",
       "      <td>black</td>\n",
       "    </tr>\n",
       "    <tr>\n",
       "      <th>6</th>\n",
       "      <td>39426</td>\n",
       "      <td>0.000888</td>\n",
       "      <td>0.002742</td>\n",
       "      <td>0.013480</td>\n",
       "      <td>0.057652</td>\n",
       "      <td>0.112210</td>\n",
       "      <td>black</td>\n",
       "    </tr>\n",
       "    <tr>\n",
       "      <th>...</th>\n",
       "      <td>...</td>\n",
       "      <td>...</td>\n",
       "      <td>...</td>\n",
       "      <td>...</td>\n",
       "      <td>...</td>\n",
       "      <td>...</td>\n",
       "      <td>...</td>\n",
       "    </tr>\n",
       "    <tr>\n",
       "      <th>4535</th>\n",
       "      <td>7451</td>\n",
       "      <td>0.000316</td>\n",
       "      <td>0.000316</td>\n",
       "      <td>0.000316</td>\n",
       "      <td>0.000316</td>\n",
       "      <td>0.000316</td>\n",
       "      <td>black</td>\n",
       "    </tr>\n",
       "    <tr>\n",
       "      <th>4538</th>\n",
       "      <td>101738</td>\n",
       "      <td>0.000316</td>\n",
       "      <td>0.000316</td>\n",
       "      <td>0.000316</td>\n",
       "      <td>0.000316</td>\n",
       "      <td>0.000316</td>\n",
       "      <td>black</td>\n",
       "    </tr>\n",
       "    <tr>\n",
       "      <th>4541</th>\n",
       "      <td>92793</td>\n",
       "      <td>0.000316</td>\n",
       "      <td>0.000316</td>\n",
       "      <td>0.000316</td>\n",
       "      <td>0.000316</td>\n",
       "      <td>0.000316</td>\n",
       "      <td>black</td>\n",
       "    </tr>\n",
       "    <tr>\n",
       "      <th>4542</th>\n",
       "      <td>31340</td>\n",
       "      <td>0.000316</td>\n",
       "      <td>0.000316</td>\n",
       "      <td>0.000316</td>\n",
       "      <td>0.000316</td>\n",
       "      <td>0.000316</td>\n",
       "      <td>black</td>\n",
       "    </tr>\n",
       "    <tr>\n",
       "      <th>4543</th>\n",
       "      <td>99058</td>\n",
       "      <td>0.000316</td>\n",
       "      <td>0.000316</td>\n",
       "      <td>0.000316</td>\n",
       "      <td>0.000316</td>\n",
       "      <td>0.000316</td>\n",
       "      <td>black</td>\n",
       "    </tr>\n",
       "  </tbody>\n",
       "</table>\n",
       "<p>1709 rows × 7 columns</p>\n",
       "</div>"
      ],
      "text/plain": [
       "          id        30        60        90       120       150   race\n",
       "0     101934  0.043204  0.027118  0.018960  0.024586  0.046725  black\n",
       "2      87427  0.081046  0.938463  0.965835  0.974043  0.972831  black\n",
       "3      49236  0.000083  0.000636  0.003286  0.037644  0.157525  black\n",
       "4      45251  0.003016  0.017193  0.167015  0.869160  0.975249  black\n",
       "6      39426  0.000888  0.002742  0.013480  0.057652  0.112210  black\n",
       "...      ...       ...       ...       ...       ...       ...    ...\n",
       "4535    7451  0.000316  0.000316  0.000316  0.000316  0.000316  black\n",
       "4538  101738  0.000316  0.000316  0.000316  0.000316  0.000316  black\n",
       "4541   92793  0.000316  0.000316  0.000316  0.000316  0.000316  black\n",
       "4542   31340  0.000316  0.000316  0.000316  0.000316  0.000316  black\n",
       "4543   99058  0.000316  0.000316  0.000316  0.000316  0.000316  black\n",
       "\n",
       "[1709 rows x 7 columns]"
      ]
     },
     "execution_count": 51,
     "metadata": {},
     "output_type": "execute_result"
    }
   ],
   "source": [
    "dull_black_preds"
   ]
  },
  {
   "cell_type": "code",
   "execution_count": 47,
   "id": "0a7381f3",
   "metadata": {},
   "outputs": [
    {
     "data": {
      "text/plain": [
       "3074"
      ]
     },
     "execution_count": 47,
     "metadata": {},
     "output_type": "execute_result"
    }
   ],
   "source": []
  },
  {
   "cell_type": "code",
   "execution_count": 37,
   "id": "efb35c20",
   "metadata": {},
   "outputs": [
    {
     "data": {
      "text/html": [
       "<div>\n",
       "<style scoped>\n",
       "    .dataframe tbody tr th:only-of-type {\n",
       "        vertical-align: middle;\n",
       "    }\n",
       "\n",
       "    .dataframe tbody tr th {\n",
       "        vertical-align: top;\n",
       "    }\n",
       "\n",
       "    .dataframe thead th {\n",
       "        text-align: right;\n",
       "    }\n",
       "</style>\n",
       "<table border=\"1\" class=\"dataframe\">\n",
       "  <thead>\n",
       "    <tr style=\"text-align: right;\">\n",
       "      <th></th>\n",
       "      <th>id</th>\n",
       "      <th>30</th>\n",
       "      <th>60</th>\n",
       "      <th>90</th>\n",
       "      <th>120</th>\n",
       "      <th>150</th>\n",
       "      <th>race</th>\n",
       "    </tr>\n",
       "  </thead>\n",
       "  <tbody>\n",
       "  </tbody>\n",
       "</table>\n",
       "</div>"
      ],
      "text/plain": [
       "Empty DataFrame\n",
       "Columns: [id, 30, 60, 90, 120, 150, race]\n",
       "Index: []"
      ]
     },
     "execution_count": 37,
     "metadata": {},
     "output_type": "execute_result"
    }
   ],
   "source": [
    "bright_black_preds[bright_black_preds['30'] == 0.000316]"
   ]
  },
  {
   "cell_type": "code",
   "execution_count": 46,
   "id": "3e30c92a",
   "metadata": {},
   "outputs": [
    {
     "data": {
      "text/plain": [
       "0.000316    1537\n",
       "0.002296       3\n",
       "0.000510       2\n",
       "0.000166       2\n",
       "0.000546       2\n",
       "            ... \n",
       "0.000688       1\n",
       "0.000223       1\n",
       "0.003148       1\n",
       "0.001158       1\n",
       "0.000401       1\n",
       "Name: 150, Length: 163, dtype: int64"
      ]
     },
     "execution_count": 46,
     "metadata": {},
     "output_type": "execute_result"
    }
   ],
   "source": [
    "pd.value_counts(bright_black_preds['150'])"
   ]
  },
  {
   "cell_type": "code",
   "execution_count": 40,
   "id": "296e49f0",
   "metadata": {},
   "outputs": [
    {
     "data": {
      "text/html": [
       "<div>\n",
       "<style scoped>\n",
       "    .dataframe tbody tr th:only-of-type {\n",
       "        vertical-align: middle;\n",
       "    }\n",
       "\n",
       "    .dataframe tbody tr th {\n",
       "        vertical-align: top;\n",
       "    }\n",
       "\n",
       "    .dataframe thead th {\n",
       "        text-align: right;\n",
       "    }\n",
       "</style>\n",
       "<table border=\"1\" class=\"dataframe\">\n",
       "  <thead>\n",
       "    <tr style=\"text-align: right;\">\n",
       "      <th></th>\n",
       "      <th>id</th>\n",
       "      <th>30</th>\n",
       "      <th>60</th>\n",
       "      <th>90</th>\n",
       "      <th>120</th>\n",
       "      <th>150</th>\n",
       "      <th>race</th>\n",
       "    </tr>\n",
       "  </thead>\n",
       "  <tbody>\n",
       "    <tr>\n",
       "      <th>1</th>\n",
       "      <td>82379</td>\n",
       "      <td>0.923868</td>\n",
       "      <td>0.958770</td>\n",
       "      <td>0.852935</td>\n",
       "      <td>0.389010</td>\n",
       "      <td>0.125493</td>\n",
       "      <td>white</td>\n",
       "    </tr>\n",
       "    <tr>\n",
       "      <th>5</th>\n",
       "      <td>87380</td>\n",
       "      <td>0.727443</td>\n",
       "      <td>0.798344</td>\n",
       "      <td>0.676887</td>\n",
       "      <td>0.556769</td>\n",
       "      <td>0.556083</td>\n",
       "      <td>white</td>\n",
       "    </tr>\n",
       "    <tr>\n",
       "      <th>7</th>\n",
       "      <td>43868</td>\n",
       "      <td>0.995435</td>\n",
       "      <td>0.998239</td>\n",
       "      <td>0.998516</td>\n",
       "      <td>0.996190</td>\n",
       "      <td>0.982757</td>\n",
       "      <td>white</td>\n",
       "    </tr>\n",
       "    <tr>\n",
       "      <th>9</th>\n",
       "      <td>102795</td>\n",
       "      <td>0.988313</td>\n",
       "      <td>0.903720</td>\n",
       "      <td>0.666985</td>\n",
       "      <td>0.264738</td>\n",
       "      <td>0.154887</td>\n",
       "      <td>white</td>\n",
       "    </tr>\n",
       "    <tr>\n",
       "      <th>12</th>\n",
       "      <td>84991</td>\n",
       "      <td>0.999913</td>\n",
       "      <td>0.999957</td>\n",
       "      <td>0.999769</td>\n",
       "      <td>0.998713</td>\n",
       "      <td>0.982271</td>\n",
       "      <td>white</td>\n",
       "    </tr>\n",
       "    <tr>\n",
       "      <th>...</th>\n",
       "      <td>...</td>\n",
       "      <td>...</td>\n",
       "      <td>...</td>\n",
       "      <td>...</td>\n",
       "      <td>...</td>\n",
       "      <td>...</td>\n",
       "      <td>...</td>\n",
       "    </tr>\n",
       "    <tr>\n",
       "      <th>4537</th>\n",
       "      <td>96939</td>\n",
       "      <td>0.000316</td>\n",
       "      <td>0.000316</td>\n",
       "      <td>0.000316</td>\n",
       "      <td>0.000316</td>\n",
       "      <td>0.000316</td>\n",
       "      <td>white</td>\n",
       "    </tr>\n",
       "    <tr>\n",
       "      <th>4539</th>\n",
       "      <td>71512</td>\n",
       "      <td>0.000316</td>\n",
       "      <td>0.000316</td>\n",
       "      <td>0.000316</td>\n",
       "      <td>0.000316</td>\n",
       "      <td>0.000316</td>\n",
       "      <td>white</td>\n",
       "    </tr>\n",
       "    <tr>\n",
       "      <th>4540</th>\n",
       "      <td>18169</td>\n",
       "      <td>0.000316</td>\n",
       "      <td>0.000316</td>\n",
       "      <td>0.000316</td>\n",
       "      <td>0.000316</td>\n",
       "      <td>0.000316</td>\n",
       "      <td>white</td>\n",
       "    </tr>\n",
       "    <tr>\n",
       "      <th>4544</th>\n",
       "      <td>33415</td>\n",
       "      <td>0.000316</td>\n",
       "      <td>0.000316</td>\n",
       "      <td>0.000316</td>\n",
       "      <td>0.000316</td>\n",
       "      <td>0.000316</td>\n",
       "      <td>white</td>\n",
       "    </tr>\n",
       "    <tr>\n",
       "      <th>4545</th>\n",
       "      <td>82914</td>\n",
       "      <td>0.000316</td>\n",
       "      <td>0.000316</td>\n",
       "      <td>0.000316</td>\n",
       "      <td>0.000316</td>\n",
       "      <td>0.000316</td>\n",
       "      <td>white</td>\n",
       "    </tr>\n",
       "  </tbody>\n",
       "</table>\n",
       "<p>2837 rows × 7 columns</p>\n",
       "</div>"
      ],
      "text/plain": [
       "          id        30        60        90       120       150   race\n",
       "1      82379  0.923868  0.958770  0.852935  0.389010  0.125493  white\n",
       "5      87380  0.727443  0.798344  0.676887  0.556769  0.556083  white\n",
       "7      43868  0.995435  0.998239  0.998516  0.996190  0.982757  white\n",
       "9     102795  0.988313  0.903720  0.666985  0.264738  0.154887  white\n",
       "12     84991  0.999913  0.999957  0.999769  0.998713  0.982271  white\n",
       "...      ...       ...       ...       ...       ...       ...    ...\n",
       "4537   96939  0.000316  0.000316  0.000316  0.000316  0.000316  white\n",
       "4539   71512  0.000316  0.000316  0.000316  0.000316  0.000316  white\n",
       "4540   18169  0.000316  0.000316  0.000316  0.000316  0.000316  white\n",
       "4544   33415  0.000316  0.000316  0.000316  0.000316  0.000316  white\n",
       "4545   82914  0.000316  0.000316  0.000316  0.000316  0.000316  white\n",
       "\n",
       "[2837 rows x 7 columns]"
      ]
     },
     "execution_count": 40,
     "metadata": {},
     "output_type": "execute_result"
    }
   ],
   "source": [
    "dull_white_preds"
   ]
  },
  {
   "cell_type": "code",
   "execution_count": 48,
   "id": "04c94b84",
   "metadata": {},
   "outputs": [
    {
     "data": {
      "text/plain": [
       "0.000316    2559\n",
       "0.999774       2\n",
       "0.999913       2\n",
       "0.999993       2\n",
       "0.999543       2\n",
       "            ... \n",
       "0.963780       1\n",
       "0.999115       1\n",
       "0.999137       1\n",
       "0.936401       1\n",
       "0.986310       1\n",
       "Name: 30, Length: 273, dtype: int64"
      ]
     },
     "execution_count": 48,
     "metadata": {},
     "output_type": "execute_result"
    }
   ],
   "source": [
    "pd.value_counts(dull_white_preds['30'])"
   ]
  },
  {
   "cell_type": "code",
   "execution_count": 49,
   "id": "92171670",
   "metadata": {},
   "outputs": [
    {
     "data": {
      "text/plain": [
       "0.9020091646105041"
      ]
     },
     "execution_count": 49,
     "metadata": {},
     "output_type": "execute_result"
    }
   ],
   "source": [
    "2559/2837"
   ]
  },
  {
   "cell_type": "code",
   "execution_count": 50,
   "id": "88dc15a6",
   "metadata": {},
   "outputs": [
    {
     "data": {
      "text/plain": [
       "0.8993563487419544"
      ]
     },
     "execution_count": 50,
     "metadata": {},
     "output_type": "execute_result"
    }
   ],
   "source": [
    "1537/1709"
   ]
  },
  {
   "cell_type": "markdown",
   "id": "08e835bb",
   "metadata": {},
   "source": [
    "## Quick Checks"
   ]
  },
  {
   "cell_type": "code",
   "execution_count": 98,
   "id": "4b200de5",
   "metadata": {},
   "outputs": [],
   "source": [
    "checksum_arr = [0] * len(test_img_arr)\n",
    "\n",
    "for i in range(len(test_img_arr)):\n",
    "    test_img_arr[i] = test_img_arr[i].astype(np.uint8)\n",
    "    all_sum = np.concatenate(test_img_arr[i]).sum()\n",
    "    checksum_arr[i] = all_sum    "
   ]
  },
  {
   "cell_type": "code",
   "execution_count": 125,
   "id": "38c68b49",
   "metadata": {},
   "outputs": [
    {
     "data": {
      "text/plain": [
       "1017804.0    2\n",
       "1062438.0    2\n",
       "228525.0     2\n",
       "498261.0     2\n",
       "613530.0     2\n",
       "            ..\n",
       "1108473.0    1\n",
       "1890948.0    1\n",
       "1812981.0    1\n",
       "1255920.0    1\n",
       "110592.0     1\n",
       "Length: 4495, dtype: int64"
      ]
     },
     "execution_count": 125,
     "metadata": {},
     "output_type": "execute_result"
    }
   ],
   "source": [
    "pd.value_counts(checksum_arr)"
   ]
  },
  {
   "cell_type": "code",
   "execution_count": null,
   "id": "3d33383a",
   "metadata": {},
   "outputs": [],
   "source": [
    "for i in test_img_arr:\n",
    "    plt.imshow(i.astype(np.uint8), interpolation = 'nearest')\n",
    "    plt.show()"
   ]
  }
 ],
 "metadata": {
  "kernelspec": {
   "display_name": "Python 3",
   "language": "python",
   "name": "python3"
  },
  "language_info": {
   "codemirror_mode": {
    "name": "ipython",
    "version": 3
   },
   "file_extension": ".py",
   "mimetype": "text/x-python",
   "name": "python",
   "nbconvert_exporter": "python",
   "pygments_lexer": "ipython3",
   "version": "3.6.9"
  }
 },
 "nbformat": 4,
 "nbformat_minor": 5
}

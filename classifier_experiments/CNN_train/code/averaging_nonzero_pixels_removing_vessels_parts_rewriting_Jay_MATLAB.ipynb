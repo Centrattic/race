{
 "cells": [
  {
   "cell_type": "code",
   "execution_count": 16,
   "id": "c10995b6",
   "metadata": {
    "scrolled": true
   },
   "outputs": [
    {
     "name": "stdout",
     "output_type": "stream",
     "text": [
      "Collecting oct2py\n",
      "  Downloading oct2py-5.3.0-py2.py3-none-any.whl (44 kB)\n",
      "     |████████████████████████████████| 44 kB 718 kB/s            \n",
      "\u001b[?25hRequirement already satisfied: numpy>=1.12 in /usr/local/lib/python3.6/dist-packages (from oct2py) (1.19.5)\n",
      "Collecting octave-kernel>=0.31.0\n",
      "  Downloading octave_kernel-0.32.0-py3-none-any.whl (34 kB)\n",
      "Requirement already satisfied: scipy>=0.17 in /usr/local/lib/python3.6/dist-packages (from oct2py) (1.4.1)\n",
      "Requirement already satisfied: jupyter-client>=4.3.0 in /usr/local/lib/python3.6/dist-packages (from octave-kernel>=0.31.0->oct2py) (6.1.12)\n",
      "Collecting metakernel>=0.24.0\n",
      "  Downloading metakernel-0.28.2-py2.py3-none-any.whl (217 kB)\n",
      "     |████████████████████████████████| 217 kB 2.8 MB/s            \n",
      "\u001b[?25hRequirement already satisfied: ipykernel in /usr/local/lib/python3.6/dist-packages (from octave-kernel>=0.31.0->oct2py) (5.5.5)\n",
      "Requirement already satisfied: traitlets in /usr/local/lib/python3.6/dist-packages (from jupyter-client>=4.3.0->octave-kernel>=0.31.0->oct2py) (4.3.3)\n",
      "Requirement already satisfied: jupyter-core>=4.6.0 in /usr/local/lib/python3.6/dist-packages (from jupyter-client>=4.3.0->octave-kernel>=0.31.0->oct2py) (4.7.1)\n",
      "Requirement already satisfied: pyzmq>=13 in /usr/local/lib/python3.6/dist-packages (from jupyter-client>=4.3.0->octave-kernel>=0.31.0->oct2py) (22.0.3)\n",
      "Requirement already satisfied: tornado>=4.1 in /usr/local/lib/python3.6/dist-packages (from jupyter-client>=4.3.0->octave-kernel>=0.31.0->oct2py) (6.1)\n",
      "Requirement already satisfied: python-dateutil>=2.1 in /usr/local/lib/python3.6/dist-packages (from jupyter-client>=4.3.0->octave-kernel>=0.31.0->oct2py) (2.8.1)\n",
      "Requirement already satisfied: pexpect>=4.2 in /usr/local/lib/python3.6/dist-packages (from metakernel>=0.24.0->octave-kernel>=0.31.0->oct2py) (4.8.0)\n",
      "Collecting jedi<0.18\n",
      "  Downloading jedi-0.17.2-py2.py3-none-any.whl (1.4 MB)\n",
      "     |████████████████████████████████| 1.4 MB 4.6 MB/s            \n",
      "\u001b[?25hRequirement already satisfied: ipython>=5.0.0 in /usr/local/lib/python3.6/dist-packages (from ipykernel->octave-kernel>=0.31.0->oct2py) (7.16.1)\n",
      "Requirement already satisfied: setuptools>=18.5 in /usr/local/lib/python3.6/dist-packages (from ipython>=5.0.0->ipykernel->octave-kernel>=0.31.0->oct2py) (56.2.0)\n",
      "Requirement already satisfied: backcall in /usr/local/lib/python3.6/dist-packages (from ipython>=5.0.0->ipykernel->octave-kernel>=0.31.0->oct2py) (0.2.0)\n",
      "Requirement already satisfied: decorator in /usr/local/lib/python3.6/dist-packages (from ipython>=5.0.0->ipykernel->octave-kernel>=0.31.0->oct2py) (4.4.2)\n",
      "Requirement already satisfied: pickleshare in /usr/local/lib/python3.6/dist-packages (from ipython>=5.0.0->ipykernel->octave-kernel>=0.31.0->oct2py) (0.7.5)\n",
      "Requirement already satisfied: pygments in /usr/local/lib/python3.6/dist-packages (from ipython>=5.0.0->ipykernel->octave-kernel>=0.31.0->oct2py) (2.9.0)\n",
      "Requirement already satisfied: prompt-toolkit!=3.0.0,!=3.0.1,<3.1.0,>=2.0.0 in /usr/local/lib/python3.6/dist-packages (from ipython>=5.0.0->ipykernel->octave-kernel>=0.31.0->oct2py) (3.0.18)\n",
      "Collecting parso<0.8.0,>=0.7.0\n",
      "  Downloading parso-0.7.1-py2.py3-none-any.whl (109 kB)\n",
      "     |████████████████████████████████| 109 kB 8.7 MB/s            \n",
      "\u001b[?25hRequirement already satisfied: ptyprocess>=0.5 in /usr/local/lib/python3.6/dist-packages (from pexpect>=4.2->metakernel>=0.24.0->octave-kernel>=0.31.0->oct2py) (0.7.0)\n",
      "Requirement already satisfied: six>=1.5 in /usr/local/lib/python3.6/dist-packages (from python-dateutil>=2.1->jupyter-client>=4.3.0->octave-kernel>=0.31.0->oct2py) (1.15.0)\n",
      "Requirement already satisfied: ipython-genutils in /usr/local/lib/python3.6/dist-packages (from traitlets->jupyter-client>=4.3.0->octave-kernel>=0.31.0->oct2py) (0.2.0)\n",
      "Requirement already satisfied: wcwidth in /usr/local/lib/python3.6/dist-packages (from prompt-toolkit!=3.0.0,!=3.0.1,<3.1.0,>=2.0.0->ipython>=5.0.0->ipykernel->octave-kernel>=0.31.0->oct2py) (0.2.5)\n",
      "Installing collected packages: parso, jedi, metakernel, octave-kernel, oct2py\n",
      "  Attempting uninstall: parso\n",
      "    Found existing installation: parso 0.8.2\n",
      "    Uninstalling parso-0.8.2:\n",
      "      Successfully uninstalled parso-0.8.2\n",
      "  Attempting uninstall: jedi\n",
      "    Found existing installation: jedi 0.18.0\n",
      "    Uninstalling jedi-0.18.0:\n",
      "      Successfully uninstalled jedi-0.18.0\n",
      "Successfully installed jedi-0.17.2 metakernel-0.28.2 oct2py-5.3.0 octave-kernel-0.32.0 parso-0.7.1\n",
      "\u001b[33mWARNING: Running pip as the 'root' user can result in broken permissions and conflicting behaviour with the system package manager. It is recommended to use a virtual environment instead: https://pip.pypa.io/warnings/venv\u001b[0m\n"
     ]
    }
   ],
   "source": [
    "!pip install oct2py"
   ]
  },
  {
   "cell_type": "code",
   "execution_count": 18,
   "id": "73c47094",
   "metadata": {},
   "outputs": [
    {
     "name": "stdout",
     "output_type": "stream",
     "text": [
      "\u001b[31mERROR: Could not find a version that satisfies the requirement octave (from versions: none)\u001b[0m\r\n",
      "\u001b[31mERROR: No matching distribution found for octave\u001b[0m\r\n"
     ]
    }
   ],
   "source": [
    "!pip install octave"
   ]
  },
  {
   "cell_type": "code",
   "execution_count": 1,
   "id": "0813de7b",
   "metadata": {},
   "outputs": [],
   "source": [
    "import os\n",
    "import shutil\n",
    "\n",
    "import numpy as np\n",
    "import pandas as pd\n",
    "from skimage.morphology import skeletonize\n",
    "from PIL import Image\n",
    "import cv2\n",
    "import argparse\n",
    "import random\n",
    "from collections import OrderedDict\n",
    "\n",
    "from pathlib import Path\n",
    "import tensorflow as tf\n",
    "from tensorflow import keras\n",
    "import matplotlib.patches as patches\n",
    "import matplotlib.pyplot as plt\n",
    "\n",
    "from tqdm import tqdm"
   ]
  },
  {
   "cell_type": "code",
   "execution_count": 17,
   "id": "75149de1",
   "metadata": {},
   "outputs": [
    {
     "ename": "OSError",
     "evalue": "octave-cli not found, please see README",
     "output_type": "error",
     "traceback": [
      "\u001b[0;31m---------------------------------------------------------------------------\u001b[0m",
      "\u001b[0;31mOSError\u001b[0m                                   Traceback (most recent call last)",
      "\u001b[0;32m<ipython-input-17-294a5c29efff>\u001b[0m in \u001b[0;36m<module>\u001b[0;34m\u001b[0m\n\u001b[0;32m----> 1\u001b[0;31m \u001b[0;32mimport\u001b[0m \u001b[0moct2py\u001b[0m\u001b[0;34m\u001b[0m\u001b[0;34m\u001b[0m\u001b[0m\n\u001b[0m\u001b[1;32m      2\u001b[0m \u001b[0;32mfrom\u001b[0m \u001b[0moct2py\u001b[0m \u001b[0;32mimport\u001b[0m \u001b[0moctave\u001b[0m\u001b[0;34m\u001b[0m\u001b[0;34m\u001b[0m\u001b[0m\n",
      "\u001b[0;32m/usr/local/lib/python3.6/dist-packages/oct2py/__init__.py\u001b[0m in \u001b[0;36m<module>\u001b[0;34m\u001b[0m\n\u001b[1;32m     36\u001b[0m \u001b[0;34m\u001b[0m\u001b[0m\n\u001b[1;32m     37\u001b[0m \u001b[0;32mtry\u001b[0m\u001b[0;34m:\u001b[0m\u001b[0;34m\u001b[0m\u001b[0;34m\u001b[0m\u001b[0m\n\u001b[0;32m---> 38\u001b[0;31m     \u001b[0moctave\u001b[0m \u001b[0;34m=\u001b[0m \u001b[0mOct2Py\u001b[0m\u001b[0;34m(\u001b[0m\u001b[0;34m)\u001b[0m\u001b[0;34m\u001b[0m\u001b[0;34m\u001b[0m\u001b[0m\n\u001b[0m\u001b[1;32m     39\u001b[0m \u001b[0;32mexcept\u001b[0m \u001b[0mOct2PyError\u001b[0m \u001b[0;32mas\u001b[0m \u001b[0me\u001b[0m\u001b[0;34m:\u001b[0m\u001b[0;34m\u001b[0m\u001b[0;34m\u001b[0m\u001b[0m\n\u001b[1;32m     40\u001b[0m     \u001b[0mprint\u001b[0m\u001b[0;34m(\u001b[0m\u001b[0me\u001b[0m\u001b[0;34m)\u001b[0m\u001b[0;34m\u001b[0m\u001b[0;34m\u001b[0m\u001b[0m\n",
      "\u001b[0;32m/usr/local/lib/python3.6/dist-packages/oct2py/core.py\u001b[0m in \u001b[0;36m__init__\u001b[0;34m(self, logger, timeout, oned_as, temp_dir, convert_to_float, backend)\u001b[0m\n\u001b[1;32m     74\u001b[0m         \u001b[0mself\u001b[0m\u001b[0;34m.\u001b[0m\u001b[0m_user_classes\u001b[0m \u001b[0;34m=\u001b[0m \u001b[0mdict\u001b[0m\u001b[0;34m(\u001b[0m\u001b[0;34m)\u001b[0m\u001b[0;34m\u001b[0m\u001b[0;34m\u001b[0m\u001b[0m\n\u001b[1;32m     75\u001b[0m         \u001b[0mself\u001b[0m\u001b[0;34m.\u001b[0m\u001b[0m_function_ptrs\u001b[0m \u001b[0;34m=\u001b[0m \u001b[0mdict\u001b[0m\u001b[0;34m(\u001b[0m\u001b[0;34m)\u001b[0m\u001b[0;34m\u001b[0m\u001b[0;34m\u001b[0m\u001b[0m\n\u001b[0;32m---> 76\u001b[0;31m         \u001b[0mself\u001b[0m\u001b[0;34m.\u001b[0m\u001b[0mrestart\u001b[0m\u001b[0;34m(\u001b[0m\u001b[0;34m)\u001b[0m\u001b[0;34m\u001b[0m\u001b[0;34m\u001b[0m\u001b[0m\n\u001b[0m\u001b[1;32m     77\u001b[0m \u001b[0;34m\u001b[0m\u001b[0m\n\u001b[1;32m     78\u001b[0m     \u001b[0;34m@\u001b[0m\u001b[0mproperty\u001b[0m\u001b[0;34m\u001b[0m\u001b[0;34m\u001b[0m\u001b[0m\n",
      "\u001b[0;32m/usr/local/lib/python3.6/dist-packages/oct2py/core.py\u001b[0m in \u001b[0;36mrestart\u001b[0;34m(self)\u001b[0m\n\u001b[1;32m    519\u001b[0m \u001b[0;34m\u001b[0m\u001b[0m\n\u001b[1;32m    520\u001b[0m         self._engine = OctaveEngine(stdin_handler=self._handle_stdin,\n\u001b[0;32m--> 521\u001b[0;31m                                     logger=self.logger)\n\u001b[0m\u001b[1;32m    522\u001b[0m \u001b[0;34m\u001b[0m\u001b[0m\n\u001b[1;32m    523\u001b[0m         \u001b[0;31m# Add local Octave scripts.\u001b[0m\u001b[0;34m\u001b[0m\u001b[0;34m\u001b[0m\u001b[0;34m\u001b[0m\u001b[0m\n",
      "\u001b[0;32m/usr/local/lib/python3.6/dist-packages/octave_kernel/kernel.py\u001b[0m in \u001b[0;36m__init__\u001b[0;34m(self, error_handler, stream_handler, line_handler, stdin_handler, plot_settings, inline_toolkit, cli_options, logger)\u001b[0m\n\u001b[1;32m    168\u001b[0m             \u001b[0mlogging\u001b[0m\u001b[0;34m.\u001b[0m\u001b[0mbasicConfig\u001b[0m\u001b[0;34m(\u001b[0m\u001b[0;34m)\u001b[0m\u001b[0;34m\u001b[0m\u001b[0;34m\u001b[0m\u001b[0m\n\u001b[1;32m    169\u001b[0m         \u001b[0mself\u001b[0m\u001b[0;34m.\u001b[0m\u001b[0mlogger\u001b[0m \u001b[0;34m=\u001b[0m \u001b[0mlogger\u001b[0m\u001b[0;34m\u001b[0m\u001b[0;34m\u001b[0m\u001b[0m\n\u001b[0;32m--> 170\u001b[0;31m         \u001b[0mself\u001b[0m\u001b[0;34m.\u001b[0m\u001b[0mexecutable\u001b[0m \u001b[0;34m=\u001b[0m \u001b[0mself\u001b[0m\u001b[0;34m.\u001b[0m\u001b[0m_get_executable\u001b[0m\u001b[0;34m(\u001b[0m\u001b[0;34m)\u001b[0m\u001b[0;34m\u001b[0m\u001b[0;34m\u001b[0m\u001b[0m\n\u001b[0m\u001b[1;32m    171\u001b[0m         \u001b[0mself\u001b[0m\u001b[0;34m.\u001b[0m\u001b[0mcli_options\u001b[0m \u001b[0;34m=\u001b[0m \u001b[0mcli_options\u001b[0m\u001b[0;34m\u001b[0m\u001b[0;34m\u001b[0m\u001b[0m\n\u001b[1;32m    172\u001b[0m         \u001b[0mself\u001b[0m\u001b[0;34m.\u001b[0m\u001b[0minline_toolkit\u001b[0m \u001b[0;34m=\u001b[0m \u001b[0minline_toolkit\u001b[0m\u001b[0;34m\u001b[0m\u001b[0;34m\u001b[0m\u001b[0m\n",
      "\u001b[0;32m/usr/local/lib/python3.6/dist-packages/octave_kernel/kernel.py\u001b[0m in \u001b[0;36m_get_executable\u001b[0;34m(self)\u001b[0m\n\u001b[1;32m    458\u001b[0m             \u001b[0mexecutable\u001b[0m \u001b[0;34m=\u001b[0m \u001b[0mwhich\u001b[0m\u001b[0;34m(\u001b[0m\u001b[0;34m'octave-cli'\u001b[0m\u001b[0;34m)\u001b[0m\u001b[0;34m\u001b[0m\u001b[0;34m\u001b[0m\u001b[0m\n\u001b[1;32m    459\u001b[0m             \u001b[0;32mif\u001b[0m \u001b[0;32mnot\u001b[0m \u001b[0mexecutable\u001b[0m\u001b[0;34m:\u001b[0m\u001b[0;34m\u001b[0m\u001b[0;34m\u001b[0m\u001b[0m\n\u001b[0;32m--> 460\u001b[0;31m                 \u001b[0;32mraise\u001b[0m \u001b[0mOSError\u001b[0m\u001b[0;34m(\u001b[0m\u001b[0;34m'octave-cli not found, please see README'\u001b[0m\u001b[0;34m)\u001b[0m\u001b[0;34m\u001b[0m\u001b[0;34m\u001b[0m\u001b[0m\n\u001b[0m\u001b[1;32m    461\u001b[0m         \u001b[0;32mreturn\u001b[0m \u001b[0mexecutable\u001b[0m\u001b[0;34m.\u001b[0m\u001b[0mreplace\u001b[0m\u001b[0;34m(\u001b[0m\u001b[0mos\u001b[0m\u001b[0;34m.\u001b[0m\u001b[0mpath\u001b[0m\u001b[0;34m.\u001b[0m\u001b[0msep\u001b[0m\u001b[0;34m,\u001b[0m \u001b[0;34m'/'\u001b[0m\u001b[0;34m)\u001b[0m\u001b[0;34m\u001b[0m\u001b[0;34m\u001b[0m\u001b[0m\n\u001b[1;32m    462\u001b[0m \u001b[0;34m\u001b[0m\u001b[0m\n",
      "\u001b[0;31mOSError\u001b[0m: octave-cli not found, please see README"
     ]
    }
   ],
   "source": [
    "import oct2py\n",
    "from oct2py import octave"
   ]
  },
  {
   "cell_type": "code",
   "execution_count": null,
   "id": "f16de477",
   "metadata": {},
   "outputs": [],
   "source": []
  },
  {
   "cell_type": "code",
   "execution_count": null,
   "id": "d8621416",
   "metadata": {},
   "outputs": [],
   "source": []
  },
  {
   "cell_type": "code",
   "execution_count": null,
   "id": "d4bf88b9",
   "metadata": {},
   "outputs": [],
   "source": []
  },
  {
   "cell_type": "code",
   "execution_count": null,
   "id": "4af99a76",
   "metadata": {},
   "outputs": [],
   "source": []
  },
  {
   "cell_type": "code",
   "execution_count": 11,
   "id": "135807c7",
   "metadata": {},
   "outputs": [],
   "source": [
    "def total_handshakes(n):\n",
    "    if 0 == n:\n",
    "        return\n",
    "        \n",
    "    (n-1) + total_handshakes(n-1)"
   ]
  },
  {
   "cell_type": "code",
   "execution_count": 12,
   "id": "0ca4ea18",
   "metadata": {},
   "outputs": [
    {
     "ename": "TypeError",
     "evalue": "unsupported operand type(s) for +: 'int' and 'NoneType'",
     "output_type": "error",
     "traceback": [
      "\u001b[0;31m---------------------------------------------------------------------------\u001b[0m",
      "\u001b[0;31mTypeError\u001b[0m                                 Traceback (most recent call last)",
      "\u001b[0;32m<ipython-input-12-0bd7fe37e10a>\u001b[0m in \u001b[0;36m<module>\u001b[0;34m\u001b[0m\n\u001b[0;32m----> 1\u001b[0;31m \u001b[0mtotal_handshakes\u001b[0m\u001b[0;34m(\u001b[0m\u001b[0;36m2\u001b[0m\u001b[0;34m)\u001b[0m\u001b[0;34m\u001b[0m\u001b[0;34m\u001b[0m\u001b[0m\n\u001b[0m",
      "\u001b[0;32m<ipython-input-11-931a6ad93379>\u001b[0m in \u001b[0;36mtotal_handshakes\u001b[0;34m(n)\u001b[0m\n\u001b[1;32m      3\u001b[0m         \u001b[0;32mreturn\u001b[0m\u001b[0;34m\u001b[0m\u001b[0;34m\u001b[0m\u001b[0m\n\u001b[1;32m      4\u001b[0m \u001b[0;34m\u001b[0m\u001b[0m\n\u001b[0;32m----> 5\u001b[0;31m     \u001b[0;34m(\u001b[0m\u001b[0mn\u001b[0m\u001b[0;34m-\u001b[0m\u001b[0;36m1\u001b[0m\u001b[0;34m)\u001b[0m \u001b[0;34m+\u001b[0m \u001b[0mtotal_handshakes\u001b[0m\u001b[0;34m(\u001b[0m\u001b[0mn\u001b[0m\u001b[0;34m-\u001b[0m\u001b[0;36m1\u001b[0m\u001b[0;34m)\u001b[0m\u001b[0;34m\u001b[0m\u001b[0;34m\u001b[0m\u001b[0m\n\u001b[0m",
      "\u001b[0;32m<ipython-input-11-931a6ad93379>\u001b[0m in \u001b[0;36mtotal_handshakes\u001b[0;34m(n)\u001b[0m\n\u001b[1;32m      3\u001b[0m         \u001b[0;32mreturn\u001b[0m\u001b[0;34m\u001b[0m\u001b[0;34m\u001b[0m\u001b[0m\n\u001b[1;32m      4\u001b[0m \u001b[0;34m\u001b[0m\u001b[0m\n\u001b[0;32m----> 5\u001b[0;31m     \u001b[0;34m(\u001b[0m\u001b[0mn\u001b[0m\u001b[0;34m-\u001b[0m\u001b[0;36m1\u001b[0m\u001b[0;34m)\u001b[0m \u001b[0;34m+\u001b[0m \u001b[0mtotal_handshakes\u001b[0m\u001b[0;34m(\u001b[0m\u001b[0mn\u001b[0m\u001b[0;34m-\u001b[0m\u001b[0;36m1\u001b[0m\u001b[0;34m)\u001b[0m\u001b[0;34m\u001b[0m\u001b[0;34m\u001b[0m\u001b[0m\n\u001b[0m",
      "\u001b[0;31mTypeError\u001b[0m: unsupported operand type(s) for +: 'int' and 'NoneType'"
     ]
    }
   ],
   "source": [
    "total_handshakes(2)"
   ]
  },
  {
   "cell_type": "code",
   "execution_count": null,
   "id": "086c9b58",
   "metadata": {},
   "outputs": [],
   "source": [
    "def riya_recursive_search_2d (tempGraph, currEndPoint, currPoint, prevPoint, \n",
    "                              branchPointNodesAvoid, currLength, spacing, graphNodes, currPath, graphPaths):\n",
    "    \n",
    "    # possible movements\n",
    "    \n",
    "    C = combnk"
   ]
  },
  {
   "cell_type": "code",
   "execution_count": null,
   "id": "667ede20",
   "metadata": {},
   "outputs": [],
   "source": []
  },
  {
   "cell_type": "code",
   "execution_count": null,
   "id": "ac08f28a",
   "metadata": {},
   "outputs": [],
   "source": [
    "\n",
    "    "
   ]
  },
  {
   "cell_type": "code",
   "execution_count": null,
   "id": "1361c617",
   "metadata": {},
   "outputs": [],
   "source": []
  },
  {
   "cell_type": "code",
   "execution_count": null,
   "id": "d7927eba",
   "metadata": {},
   "outputs": [],
   "source": []
  },
  {
   "cell_type": "code",
   "execution_count": null,
   "id": "663a8e7d",
   "metadata": {},
   "outputs": [],
   "source": []
  },
  {
   "cell_type": "code",
   "execution_count": null,
   "id": "2b64b444",
   "metadata": {},
   "outputs": [],
   "source": []
  },
  {
   "cell_type": "code",
   "execution_count": null,
   "id": "0d86e26a",
   "metadata": {},
   "outputs": [],
   "source": []
  },
  {
   "cell_type": "code",
   "execution_count": null,
   "id": "3414c85a",
   "metadata": {},
   "outputs": [],
   "source": [
    "x = imread('C:/Users/jay_p/Downloads/30672.bmp');\n",
    "segNew = logical(x > 128);\n",
    "\n",
    "tempGraph = segNew;\n",
    "\n",
    "skelIm = bwmorph(logical(tempGraph),'skel',Inf);\n",
    "bridgedIm = bwmorph(skelIm,'bridge');\n",
    "skelImFinal = bwmorph(logical(bridgedIm),'skel',Inf);\n",
    "CC = bwconncomp(skelImFinal);\n",
    "numPixels = cellfun(@numel,CC.PixelIdxList);\n",
    "graphNodes = [];\n",
    "graphPaths = {};\n",
    "\n",
    "for num_pixels_idx = 1:length(numPixels)\n",
    "    if numPixels(num_pixels_idx) > 15\n",
    "        skelIm = bwmorph(logical(tempGraph),'skel',Inf);\n",
    "        bridgedIm = bwmorph(skelIm,'bridge');\n",
    "        skelImFinal = bwmorph(logical(bridgedIm),'skel',Inf);\n",
    "        for temp_idx = 1:length(numPixels)\n",
    "            if temp_idx ~= num_pixels_idx\n",
    "                skelImFinal(CC.PixelIdxList{temp_idx}) = 0;\n",
    "            end\n",
    "        end\n",
    "        \n",
    "        %find end and branch points\n",
    "        shape_endpts = bwmorph(skelImFinal,'endpoints');\n",
    "        shape_branchdpts = bwmorph(skelImFinal,'branchpoints');\n",
    "        ind_endpts = find(shape_endpts == 1);\n",
    "        ind_branchpts = find(shape_branchdpts == 1);\n",
    "        [I,J] = ind2sub(size(skelImFinal),ind_endpts);\n",
    "        index_endpts = [I, J];\n",
    "        [I,J] = ind2sub(size(skelImFinal),ind_branchpts);\n",
    "        index_branchpts = [I, J];\n",
    "        \n",
    "        currEndPoint = index_endpts(2, :);\n",
    "        currPoint = index_endpts(2, :);\n",
    "        prevPoint = [];\n",
    "        branchPointNodesAvoid = [];\n",
    "        currLength = 0;\n",
    "        graphNodes_temp = [];\n",
    "        spacing = 1;\n",
    "        currPath = [];\n",
    "        graphPaths_temp = {};\n",
    "        \n",
    "        %[tempGraph, currEndPoint, currPoint, prevPoint, spacing, graphNodes_temp, currPath, graphPaths_temp] = riya_recursive_search_2d(tempGraph, currEndPoint, currPoint, prevPoint, branchPointNodesAvoid, currLength, spacing, graphNodes_temp, currPath, graphPaths_temp);\n",
    "        [skelImFinal, currEndPoint, currPoint, prevPoint, spacing, graphNodes_temp, currPath, graphPaths_temp] = riya_recursive_search_2d(skelImFinal, currEndPoint, currPoint, prevPoint, branchPointNodesAvoid, currLength, spacing, graphNodes_temp, currPath, graphPaths_temp); \n",
    "        if isempty(graphNodes) == 1\n",
    "            graphNodes = graphNodes_temp;\n",
    "            graphPaths = graphPaths_temp;\n",
    "        else\n",
    "            graphNodes = [graphNodes; graphNodes_temp];\n",
    "            graphPaths = [graphPaths, graphPaths_temp];\n",
    "        end\n",
    "    end\n",
    "end\n",
    "\n",
    "%make graph with weights\n",
    "sourceNodes = size(graphNodes, 1);\n",
    "sinkNodes = size(graphNodes, 1);\n",
    "edgeLengths = size(graphNodes, 1);\n",
    "for i = 1:size(graphNodes, 1)\n",
    "    sourceNodes(i) = sub2ind(size(tempGraph), graphNodes(i,1), graphNodes(i,2));\n",
    "    sinkNodes(i) = sub2ind(size(tempGraph), graphNodes(i,3), graphNodes(i,4));\n",
    "    edgeLengths(i) = graphNodes(i,5);\n",
    "end\n",
    "\n",
    "hashTable = zeros(2*size(graphNodes, 1),2);\n",
    "count = 1;\n",
    "for i = 1:size(graphNodes, 1)\n",
    "    id = sourceNodes(i);\n",
    "    if i == 1\n",
    "        hashTable(1,:) = [id, count];\n",
    "        count = count + 1;\n",
    "    else\n",
    "        %check if key isn't already used\n",
    "        if sum(hashTable(:,1) == id) == 0\n",
    "            hashTable(count,:) = [id, count];\n",
    "            count = count + 1;\n",
    "        end\n",
    "    end\n",
    "end\n",
    "for i = 1:size(graphNodes, 1)\n",
    "    id = sinkNodes(i);\n",
    "    %check if key isn't already used\n",
    "    if sum(hashTable(:,1) == id) == 0\n",
    "        hashTable(count,:) = [id, count];\n",
    "        count = count + 1;\n",
    "    end\n",
    "end\n",
    "[~, sourceNodesReduced] = max(sourceNodes == hashTable(:,1));\n",
    "[~, sinkNodesReduced] = max(sinkNodes == hashTable(:,1));\n",
    "names = cell(1, size(graphNodes, 1));\n",
    "for i = 1:(count-1)\n",
    "    names{i} = num2str(hashTable(i,1));\n",
    "end\n",
    "\n",
    "G = graph(sourceNodesReduced,sinkNodesReduced,edgeLengths,names);\n",
    "plot(G,'EdgeLabel',G.Edges.Weight)\n",
    "pairwiseDistance = distances(G);\n",
    "\n",
    "%remove certain segments\n",
    "skelImFinal = bwmorph(logical(bridgedIm),'skel',Inf);\n",
    "skelImFinal_Deleted = skelImFinal;\n",
    "path_to_delete = graphPaths{10};\n",
    "for i = 1:size(path_to_delete,1)\n",
    "    skelImFinal_Deleted(path_to_delete(i, 1), path_to_delete(i, 2)) = 0;\n",
    "end\n",
    "ha = tight_subplot(1,2,[.01 .01],[.01 .01],[.01 .01]);\n",
    "axes(ha(1));\n",
    "imshow(skelImFinal)\n",
    "axes(ha(2));\n",
    "imshow(skelImFinal_Deleted)\n"
   ]
  }
 ],
 "metadata": {
  "kernelspec": {
   "display_name": "Python 3",
   "language": "python",
   "name": "python3"
  },
  "language_info": {
   "codemirror_mode": {
    "name": "ipython",
    "version": 3
   },
   "file_extension": ".py",
   "mimetype": "text/x-python",
   "name": "python",
   "nbconvert_exporter": "python",
   "pygments_lexer": "ipython3",
   "version": "3.6.9"
  }
 },
 "nbformat": 4,
 "nbformat_minor": 5
}

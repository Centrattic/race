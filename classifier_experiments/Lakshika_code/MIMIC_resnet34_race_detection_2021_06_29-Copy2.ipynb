{
 "cells": [
  {
   "cell_type": "code",
   "execution_count": 1,
   "metadata": {
    "scrolled": true
   },
   "outputs": [
    {
     "name": "stdout",
     "output_type": "stream",
     "text": [
      "Requirement already satisfied: image-classifiers==1.0.0b1 in /usr/local/lib/python3.6/dist-packages (1.0.0b1)\n",
      "\u001b[33mWARNING: You are using pip version 21.0.1; however, version 21.3.1 is available.\n",
      "You should consider upgrading via the '/usr/bin/python3.6 -m pip install --upgrade pip' command.\u001b[0m\n",
      "Requirement already satisfied: keras-applications in /usr/local/lib/python3.6/dist-packages (1.0.8)\n",
      "Requirement already satisfied: h5py in /usr/local/lib/python3.6/dist-packages (from keras-applications) (2.10.0)\n",
      "Requirement already satisfied: numpy>=1.9.1 in /usr/local/lib/python3.6/dist-packages (from keras-applications) (1.19.2)\n",
      "Requirement already satisfied: six in /usr/local/lib/python3.6/dist-packages (from h5py->keras-applications) (1.15.0)\n",
      "\u001b[33mWARNING: You are using pip version 21.0.1; however, version 21.3.1 is available.\n",
      "You should consider upgrading via the '/usr/bin/python3.6 -m pip install --upgrade pip' command.\u001b[0m\n"
     ]
    }
   ],
   "source": [
    "#!pip install tensorflow==2.5.0\n",
    "import math\n",
    "from datetime import datetime\n",
    "from PIL import Image\n",
    "import numpy as np\n",
    "import pandas as pd\n",
    "import matplotlib.pyplot as plt\n",
    "import tensorflow as tf\n",
    "from tensorflow.keras.optimizers import Adam\n",
    "from tensorflow.keras.layers import GlobalAveragePooling2D, Input, Dense, Activation\n",
    "from tensorflow.keras.models import Model\n",
    "from tensorflow.keras import initializers\n",
    "from tensorflow.keras.callbacks import EarlyStopping, LearningRateScheduler, ReduceLROnPlateau, ModelCheckpoint\n",
    "from tensorflow.keras.preprocessing.image import ImageDataGenerator\n",
    "from tensorflow.keras.models import load_model\n",
    "from tensorflow.keras.mixed_precision import experimental as mixed_precision\n",
    "from sklearn.metrics import confusion_matrix, roc_auc_score, roc_curve, accuracy_score, recall_score, precision_score, f1_score\n",
    "import random as python_random\n",
    "\n",
    "!pip install image-classifiers==1.0.0b1\n",
    "!pip install keras-applications\n",
    "from classification_models.tfkeras import Classifiers"
   ]
  },
  {
   "cell_type": "code",
   "execution_count": 2,
   "metadata": {},
   "outputs": [],
   "source": [
    "np.random.seed(2021)\n",
    "python_random.seed(2021)\n",
    "tf.random.set_seed(2021)"
   ]
  },
  {
   "cell_type": "code",
   "execution_count": 3,
   "metadata": {},
   "outputs": [
    {
     "name": "stdout",
     "output_type": "stream",
     "text": [
      "INFO:tensorflow:Using MirroredStrategy with devices ('/job:localhost/replica:0/task:0/device:GPU:0', '/job:localhost/replica:0/task:0/device:GPU:1')\n",
      "Number of devices: 2\n",
      "WARNING:tensorflow:Mixed precision compatibility check (mixed_float16): WARNING\n",
      "Your GPUs may run slowly with dtype policy mixed_float16 because they do not have compute capability of at least 7.0. Your GPUs:\n",
      "  GeForce GTX 1080 Ti, compute capability 6.1 (x2)\n",
      "See https://developer.nvidia.com/cuda-gpus for a list of GPUs and their compute capabilities.\n",
      "If you will use compatible GPU(s) not attached to this host, e.g. by running a multi-worker model, you can ignore this warning. This message will only be logged once\n"
     ]
    }
   ],
   "source": [
    "mirrored_strategy = tf.distribute.MirroredStrategy()\n",
    "print('Number of devices: {}'.format(mirrored_strategy.num_replicas_in_sync))\n",
    "\n",
    "policy = mixed_precision.Policy('mixed_float16')\n",
    "mixed_precision.set_policy(policy)"
   ]
  },
  {
   "cell_type": "code",
   "execution_count": 4,
   "metadata": {},
   "outputs": [],
   "source": [
    "#test_model = \"saved_models/MIMIC-256x25660-10-30-split-resnet-Float16_2-race_detection_W2B_CXR_LR-0.001_20211214-130208_epoch:005_val_loss:0.17098.hdf5\"\n",
    "#test_model = \"saved_models/MIMIC-256x25660-10-30-split-resnet-Float16_3-race_detection_CXR_LR-0.001_20211021-052440_epoch:016_val_loss:0.24378.hdf5\"\n",
    "#test_model = \"saved_models/MIMIC-256x25660-10-30-split-resnet-Float16_2-race_detection_w2b_weigh_CXR_LR-0.001_20211222-062809_epoch:008_val_loss:0.13848.hdf5\"\n",
    "test_model = \"saved_models/MIMIC-256x25680-20-split-resnet-Float16_2-race_detection_rop_seg_data_rop_seg-0.001_20220321-054140_epoch:011.hdf5\"\n",
    "#test_model = \"saved_models/MIMIC-256x25680-20-split-resnet18-Float16_2-race_detection_rop_seg_data_rop_seg-0.001_20220322-174916_epoch:004.hdf5\""
   ]
  },
  {
   "cell_type": "code",
   "execution_count": 5,
   "metadata": {},
   "outputs": [],
   "source": [
    "model = tf.keras.models.load_model(test_model)"
   ]
  },
  {
   "cell_type": "code",
   "execution_count": 6,
   "metadata": {},
   "outputs": [],
   "source": [
    "import os\n",
    "#gen0_10epoch_lrby2_bs8\n",
    "ls = os.listdir(\"pytorch-CycleGAN-and-pix2pix-master/results/rop_seg_data_gfrozen5_lrby2/test_35_setA_white/images/\")"
   ]
  },
  {
   "cell_type": "code",
   "execution_count": 7,
   "metadata": {},
   "outputs": [],
   "source": [
    "ls.sort()"
   ]
  },
  {
   "cell_type": "code",
   "execution_count": 8,
   "metadata": {},
   "outputs": [
    {
     "data": {
      "text/plain": [
       "562"
      ]
     },
     "execution_count": 8,
     "metadata": {},
     "output_type": "execute_result"
    }
   ],
   "source": [
    "len(ls)"
   ]
  },
  {
   "cell_type": "code",
   "execution_count": 11,
   "metadata": {},
   "outputs": [],
   "source": [
    "data = []\n",
    "for i in range(len(ls)//2):\n",
    "    data.append([ls[2*i], \"WHITE\"])\n",
    "    data.append([ls[2*i+1], \"BLACK/AFRICAN AMERICAN\"])"
   ]
  },
  {
   "cell_type": "code",
   "execution_count": 12,
   "metadata": {},
   "outputs": [],
   "source": [
    "combined = pd.DataFrame(data, columns=[\"path\", \"race\"])"
   ]
  },
  {
   "cell_type": "code",
   "execution_count": 13,
   "metadata": {},
   "outputs": [],
   "source": [
    "resnet34, preprocess_input = Classifiers.get('resnet34')\n",
    "validate_gen = ImageDataGenerator(preprocessing_function=preprocess_input)"
   ]
  },
  {
   "cell_type": "code",
   "execution_count": 14,
   "metadata": {},
   "outputs": [
    {
     "name": "stdout",
     "output_type": "stream",
     "text": [
      "Found 562 validated image filenames belonging to 2 classes.\n"
     ]
    }
   ],
   "source": [
    "test_batches = validate_gen.flow_from_dataframe(combined, directory = \"pytorch-CycleGAN-and-pix2pix-master/results/rop_seg_data_gfrozen5_lrby2/test_35_setA_white/images/\",x_col=\"path\", y_col=\"race\", class_mode=\"categorical\",target_size=(256, 256),shuffle=False,batch_size=128, dtype='float32', interpolation='bilinear')"
   ]
  },
  {
   "cell_type": "code",
   "execution_count": 15,
   "metadata": {},
   "outputs": [
    {
     "name": "stdout",
     "output_type": "stream",
     "text": [
      "5/5 [==============================] - 1s 227ms/step\n"
     ]
    }
   ],
   "source": [
    "#with mirrored_strategy.scope():\n",
    "multilabel_predict_test = model.predict(test_batches, max_queue_size=10, verbose=1, steps=math.ceil(len(combined)/128), workers=16)"
   ]
  },
  {
   "cell_type": "code",
   "execution_count": 16,
   "metadata": {},
   "outputs": [
    {
     "name": "stderr",
     "output_type": "stream",
     "text": [
      "/usr/local/lib/python3.6/dist-packages/ipykernel_launcher.py:4: FutureWarning: Passing a negative integer is deprecated in version 1.0 and will not be supported in future version. Instead, use None to not limit the column width.\n",
      "  after removing the cwd from sys.path.\n"
     ]
    }
   ],
   "source": [
    "pd.set_option('display.max_rows', None)\n",
    "pd.set_option('display.max_columns', None)\n",
    "pd.set_option('display.width', None)\n",
    "pd.set_option('display.max_colwidth', -1)"
   ]
  },
  {
   "cell_type": "code",
   "execution_count": 17,
   "metadata": {},
   "outputs": [
    {
     "data": {
      "text/plain": [
       "562"
      ]
     },
     "execution_count": 17,
     "metadata": {},
     "output_type": "execute_result"
    }
   ],
   "source": [
    "len(multilabel_predict_test)"
   ]
  },
  {
   "cell_type": "code",
   "execution_count": 18,
   "metadata": {},
   "outputs": [],
   "source": [
    "result = multilabel_predict_test\n",
    "#result = model.predict(validate_batches, val_epoch)\n",
    "labels = np.argmax(result, axis=1)\n",
    "target_names = ['Black', 'White']"
   ]
  },
  {
   "cell_type": "code",
   "execution_count": 19,
   "metadata": {},
   "outputs": [],
   "source": [
    "labels = np.argmax(result, axis=1)"
   ]
  },
  {
   "cell_type": "code",
   "execution_count": 22,
   "metadata": {},
   "outputs": [],
   "source": [
    "predicted_white = []\n",
    "predicted_black = []\n",
    "\n",
    "for i in range(len(combined)//2):\n",
    "    if labels[2*i+1]==1:\n",
    "        predicted_white.append(i)\n",
    "    elif labels[2*i+1]==0:\n",
    "        predicted_black.append(i)"
   ]
  },
  {
   "cell_type": "code",
   "execution_count": 23,
   "metadata": {},
   "outputs": [
    {
     "name": "stdout",
     "output_type": "stream",
     "text": [
      "predicted_black -  [0, 1, 5, 9, 16, 22, 32, 37, 38, 41, 44, 54, 55, 75, 82, 93, 95, 98, 112, 113, 129, 130, 131, 134, 146, 149, 151, 156, 164, 169, 180, 181, 182, 184, 198, 200, 201, 205, 212, 214, 234, 236, 237, 259, 273]\n",
      "predicted_white -  [2, 3, 4, 6, 7, 8, 10, 11, 12, 13, 14, 15, 17, 18, 19, 20, 21, 23, 24, 25, 26, 27, 28, 29, 30, 31, 33, 34, 35, 36, 39, 40, 42, 43, 45, 46, 47, 48, 49, 50, 51, 52, 53, 56, 57, 58, 59, 60, 61, 62, 63, 64, 65, 66, 67, 68, 69, 70, 71, 72, 73, 74, 76, 77, 78, 79, 80, 81, 83, 84, 85, 86, 87, 88, 89, 90, 91, 92, 94, 96, 97, 99, 100, 101, 102, 103, 104, 105, 106, 107, 108, 109, 110, 111, 114, 115, 116, 117, 118, 119, 120, 121, 122, 123, 124, 125, 126, 127, 128, 132, 133, 135, 136, 137, 138, 139, 140, 141, 142, 143, 144, 145, 147, 148, 150, 152, 153, 154, 155, 157, 158, 159, 160, 161, 162, 163, 165, 166, 167, 168, 170, 171, 172, 173, 174, 175, 176, 177, 178, 179, 183, 185, 186, 187, 188, 189, 190, 191, 192, 193, 194, 195, 196, 197, 199, 202, 203, 204, 206, 207, 208, 209, 210, 211, 213, 215, 216, 217, 218, 219, 220, 221, 222, 223, 224, 225, 226, 227, 228, 229, 230, 231, 232, 233, 235, 238, 239, 240, 241, 242, 243, 244, 245, 246, 247, 248, 249, 250, 251, 252, 253, 254, 255, 256, 257, 258, 260, 261, 262, 263, 264, 265, 266, 267, 268, 269, 270, 271, 272, 274, 275, 276, 277, 278, 279, 280]\n"
     ]
    }
   ],
   "source": [
    "print(\"predicted_black - \", predicted_black)\n",
    "print(\"predicted_white - \", predicted_white)"
   ]
  },
  {
   "cell_type": "code",
   "execution_count": 21,
   "metadata": {},
   "outputs": [
    {
     "data": {
      "text/plain": [
       "0.4134078212290503"
      ]
     },
     "execution_count": 21,
     "metadata": {},
     "output_type": "execute_result"
    }
   ],
   "source": [
    "74/179"
   ]
  },
  {
   "cell_type": "code",
   "execution_count": 24,
   "metadata": {},
   "outputs": [
    {
     "data": {
      "text/plain": [
       "0.8770949720670391"
      ]
     },
     "execution_count": 24,
     "metadata": {},
     "output_type": "execute_result"
    }
   ],
   "source": [
    "157/179"
   ]
  },
  {
   "cell_type": "code",
   "execution_count": 129,
   "metadata": {},
   "outputs": [
    {
     "data": {
      "text/plain": [
       "0.8398576512455516"
      ]
     },
     "execution_count": 129,
     "metadata": {},
     "output_type": "execute_result"
    }
   ],
   "source": [
    "236/281"
   ]
  },
  {
   "cell_type": "code",
   "execution_count": 132,
   "metadata": {},
   "outputs": [
    {
     "data": {
      "text/plain": [
       "0.9430604982206405"
      ]
     },
     "execution_count": 132,
     "metadata": {},
     "output_type": "execute_result"
    }
   ],
   "source": [
    "265/281"
   ]
  },
  {
   "cell_type": "code",
   "execution_count": 150,
   "metadata": {},
   "outputs": [
    {
     "data": {
      "text/plain": [
       "0.776536312849162"
      ]
     },
     "execution_count": 150,
     "metadata": {},
     "output_type": "execute_result"
    }
   ],
   "source": [
    "139/179"
   ]
  },
  {
   "cell_type": "code",
   "execution_count": 153,
   "metadata": {},
   "outputs": [
    {
     "data": {
      "text/plain": [
       "0.9050279329608939"
      ]
     },
     "execution_count": 153,
     "metadata": {},
     "output_type": "execute_result"
    }
   ],
   "source": [
    "162/179"
   ]
  },
  {
   "cell_type": "code",
   "execution_count": null,
   "metadata": {},
   "outputs": [],
   "source": []
  },
  {
   "cell_type": "code",
   "execution_count": 41,
   "metadata": {},
   "outputs": [
    {
     "data": {
      "text/plain": [
       "28"
      ]
     },
     "execution_count": 41,
     "metadata": {},
     "output_type": "execute_result"
    }
   ],
   "source": [
    "len(predicted_white)"
   ]
  },
  {
   "cell_type": "code",
   "execution_count": 42,
   "metadata": {},
   "outputs": [
    {
     "data": {
      "text/plain": [
       "151"
      ]
     },
     "execution_count": 42,
     "metadata": {},
     "output_type": "execute_result"
    }
   ],
   "source": [
    "len(predicted_black)"
   ]
  },
  {
   "cell_type": "code",
   "execution_count": 52,
   "metadata": {},
   "outputs": [
    {
     "data": {
      "text/plain": [
       "0.9050279329608939"
      ]
     },
     "execution_count": 52,
     "metadata": {},
     "output_type": "execute_result"
    }
   ],
   "source": [
    "162/(162+17)"
   ]
  },
  {
   "cell_type": "code",
   "execution_count": 22,
   "metadata": {},
   "outputs": [],
   "source": [
    "real_predicted_white = []\n",
    "fake_predicted_white = []\n",
    "fake_predicted_black = []\n",
    "\n",
    "for i in range(len(result)//2):\n",
    "    real_predicted_white.append(result[2*i+1][1])\n",
    "    fake_predicted_white.append(result[2*i][1])\n",
    "    fake_predicted_black.append(result[2*i][0])"
   ]
  },
  {
   "cell_type": "code",
   "execution_count": 23,
   "metadata": {
    "scrolled": true
   },
   "outputs": [
    {
     "name": "stdout",
     "output_type": "stream",
     "text": [
      "real_predicted_white- 0.98262364\n",
      "fake_predicted_white- 0.49948698\n",
      "fake_predicted_black- 0.500513\n"
     ]
    }
   ],
   "source": [
    "import statistics\n",
    "print(\"real_predicted_white- \"+str(statistics.mean(real_predicted_white)))\n",
    "print(\"fake_predicted_white- \"+str(statistics.mean(fake_predicted_white)))\n",
    "print(\"fake_predicted_black- \"+str(statistics.mean(fake_predicted_black)))"
   ]
  },
  {
   "cell_type": "code",
   "execution_count": 24,
   "metadata": {},
   "outputs": [
    {
     "data": {
      "text/plain": [
       "<matplotlib.legend.Legend at 0x7fdf20262f60>"
      ]
     },
     "execution_count": 24,
     "metadata": {},
     "output_type": "execute_result"
    },
    {
     "data": {
      "image/png": "[encoded data removed]",
      "text/plain": [
       "<Figure size 1080x360 with 2 Axes>"
      ]
     },
     "metadata": {
      "needs_background": "light"
     },
     "output_type": "display_data"
    }
   ],
   "source": [
    "plt.figure(figsize=(15,5))\n",
    "plt.suptitle(\"50 White Images, Epoch 55, Untrained Discriminator for initial 5 epochs\")\n",
    "\n",
    "plt.subplot(121), plt.title(\"Real Images, Mean_white=0.958\")\n",
    "plt.plot(real_predicted_white)\n",
    "plt.xlabel(\"Images\")\n",
    "plt.ylabel(\"Probabilities\")\n",
    "plt.ylim(-0.1,1.1)\n",
    "plt.legend([\"White probabilities\"])\n",
    "\n",
    "plt.subplot(122), plt.title(\"Fake Images, Mean_black=0.556, Mean_white=0.444\")\n",
    "plt.plot(fake_predicted_white)\n",
    "plt.plot(fake_predicted_black)\n",
    "plt.xlabel(\"Images\")\n",
    "plt.ylim(-0.1,1.1)\n",
    "plt.ylabel(\"Probabilities\")\n",
    "plt.legend([\"White probabilities\", \"Black probabilities\",])"
   ]
  },
  {
   "cell_type": "code",
   "execution_count": 25,
   "metadata": {},
   "outputs": [],
   "source": [
    "labels = np.argmax(result, axis=1)"
   ]
  },
  {
   "cell_type": "code",
   "execution_count": 26,
   "metadata": {},
   "outputs": [],
   "source": [
    "predicted_white = []\n",
    "predicted_black = []\n",
    "\n",
    "for i in range(50):\n",
    "    if labels[2*i]==1:\n",
    "        predicted_white.append(i)\n",
    "    elif labels[2*i]==0:\n",
    "        predicted_black.append(i)"
   ]
  },
  {
   "cell_type": "code",
   "execution_count": 27,
   "metadata": {},
   "outputs": [
    {
     "name": "stdout",
     "output_type": "stream",
     "text": [
      "predicted_black -  [1, 3, 4, 5, 6, 7, 10, 15, 16, 18, 19, 21, 23, 26, 28, 30, 31, 32, 36, 37, 38, 40, 43, 44, 48, 49]\n",
      "predicted_white -  [0, 2, 8, 9, 11, 12, 13, 14, 17, 20, 22, 24, 25, 27, 29, 33, 34, 35, 39, 41, 42, 45, 46, 47]\n"
     ]
    }
   ],
   "source": [
    "print(\"predicted_black - \", predicted_black)\n",
    "print(\"predicted_white - \", predicted_white)"
   ]
  },
  {
   "cell_type": "code",
   "execution_count": 109,
   "metadata": {},
   "outputs": [
    {
     "data": {
      "text/plain": [
       "17"
      ]
     },
     "execution_count": 109,
     "metadata": {},
     "output_type": "execute_result"
    }
   ],
   "source": [
    "len(predicted_white)"
   ]
  },
  {
   "cell_type": "code",
   "execution_count": 19,
   "metadata": {},
   "outputs": [],
   "source": [
    "import matplotlib.pyplot as plt\n",
    "import numpy as np"
   ]
  },
  {
   "cell_type": "code",
   "execution_count": 8,
   "metadata": {},
   "outputs": [
    {
     "data": {
      "text/plain": [
       "['008a9e2d-12d54693-44c8caa1-6ef5d6a8-a39291ec_fake.png',\n",
       " '008a9e2d-12d54693-44c8caa1-6ef5d6a8-a39291ec_real.png']"
      ]
     },
     "execution_count": 8,
     "metadata": {},
     "output_type": "execute_result"
    }
   ],
   "source": [
    "ls[:2]"
   ]
  },
  {
   "cell_type": "code",
   "execution_count": 9,
   "metadata": {},
   "outputs": [
    {
     "data": {
      "text/plain": [
       "'008a9e2d-12d54693-44c8caa1-6ef5d6a8-a39291ec_fake.png'"
      ]
     },
     "execution_count": 9,
     "metadata": {},
     "output_type": "execute_result"
    }
   ],
   "source": [
    "ls[0]"
   ]
  },
  {
   "cell_type": "code",
   "execution_count": 31,
   "metadata": {},
   "outputs": [],
   "source": [
    "import cv2\n",
    "path_fakeB = \"pytorch-CycleGAN-and-pix2pix-master/results/gen0_5epoch_lrby2_bs8/test_30/images_white50_genA/1c50eb4e-cea17351-b9ba5502-b20d7a71-ea827c80_fake.png\"\n",
    "path_realA = \"pytorch-CycleGAN-and-pix2pix-master/results/gen0_5epoch_lrby2_bs8/test_30/images_white50_genA/1c50eb4e-cea17351-b9ba5502-b20d7a71-ea827c80_real.png\"\n",
    "path_fakeA = \"pytorch-CycleGAN-and-pix2pix-master/results/gen0_5epoch_lrby2_bs8/test_35/images_black50_genB/008a9e2d-12d54693-44c8caa1-6ef5d6a8-a39291ec_fake.png\"\n",
    "path_realB = \"pytorch-CycleGAN-and-pix2pix-master/results/gen0_5epoch_lrby2_bs8/test_35/images_black50_genB/008a9e2d-12d54693-44c8caa1-6ef5d6a8-a39291ec_real.png\"\n",
    "#path_realA = \"pytorch-CycleGAN-and-pix2pix-master/results/dislrby2_bs8/test_15/images/6b386bd8-a7aff797-97dfd9e7-bdf03f67-e1dd7870_real_A.png\"\n",
    "#path_realB = \"pytorch-CycleGAN-and-pix2pix-master/results/dislrby2_bs8/test_15/images/6b386bd8-a7aff797-97dfd9e7-bdf03f67-e1dd7870_real_B.png\"\n",
    "\n",
    "img_fakeA = cv2.imread(path_fakeA, cv2.IMREAD_GRAYSCALE)\n",
    "img_fakeA = cv2.resize(img_fakeA, (256,256))\n",
    "img_fakeB = cv2.imread(path_fakeB, cv2.IMREAD_GRAYSCALE)\n",
    "img_fakeB = cv2.resize(img_fakeB, (256,256))\n",
    "img_realA = cv2.imread(path_realA, cv2.IMREAD_GRAYSCALE)\n",
    "img_realA = cv2.resize(img_realA, (256,256))\n",
    "img_realB = cv2.imread(path_realB, cv2.IMREAD_GRAYSCALE)\n",
    "img_realB = cv2.resize(img_realB, (256,256))"
   ]
  },
  {
   "cell_type": "code",
   "execution_count": 32,
   "metadata": {},
   "outputs": [],
   "source": [
    "image1= np.float32(img_fakeA)\n",
    "\n",
    "image2= np.float32(img_realB)\n",
    "\n",
    "diff_farb = image1 - image2\n",
    "\n",
    "image1= np.float32(img_fakeB)\n",
    "\n",
    "image2= np.float32(img_realA)\n",
    "\n",
    "diff_fbra = image1 - image2"
   ]
  },
  {
   "cell_type": "code",
   "execution_count": null,
   "metadata": {},
   "outputs": [],
   "source": []
  }
 ],
 "metadata": {
  "interpreter": {
   "hash": "31f2aee4e71d21fbe5cf8b01ff0e069b9275f58929596ceb00d14d90e3e16cd6"
  },
  "kernelspec": {
   "display_name": "Python 3",
   "language": "python",
   "name": "python3"
  },
  "language_info": {
   "codemirror_mode": {
    "name": "ipython",
    "version": 3
   },
   "file_extension": ".py",
   "mimetype": "text/x-python",
   "name": "python",
   "nbconvert_exporter": "python",
   "pygments_lexer": "ipython3",
   "version": "3.6.9"
  }
 },
 "nbformat": 4,
 "nbformat_minor": 4
}

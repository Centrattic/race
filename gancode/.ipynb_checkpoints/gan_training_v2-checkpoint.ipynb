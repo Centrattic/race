{
 "cells": [
  {
   "cell_type": "code",
   "execution_count": 1,
   "id": "d2b3ab33",
   "metadata": {},
   "outputs": [],
   "source": [
    "import matplotlib.image as mpimg\n",
    "import matplotlib.pyplot as plt\n",
    "import pandas as pd\n",
    "import os"
   ]
  },
  {
   "cell_type": "markdown",
   "id": "6695b6c6",
   "metadata": {},
   "source": [
    "## Training Model"
   ]
  },
  {
   "cell_type": "markdown",
   "id": "8c48e4c4",
   "metadata": {},
   "source": [
    "#### Very useful to mark succesful training\n",
    "\n",
    "https://machinelearningmastery.com/practical-guide-to-gan-failure-modes/"
   ]
  },
  {
   "cell_type": "code",
   "execution_count": 2,
   "id": "842628d7",
   "metadata": {},
   "outputs": [
    {
     "data": {
      "text/plain": [
       "'/users/riya/race/gancode'"
      ]
     },
     "execution_count": 2,
     "metadata": {},
     "output_type": "execute_result"
    }
   ],
   "source": [
    "os.getcwd()"
   ]
  },
  {
   "cell_type": "code",
   "execution_count": 3,
   "id": "26b4be22",
   "metadata": {},
   "outputs": [
    {
     "data": {
      "text/plain": [
       "'/users/riya/race/gancode/pytorch-CycleGAN-and-pix2pix'"
      ]
     },
     "execution_count": 3,
     "metadata": {},
     "output_type": "execute_result"
    }
   ],
   "source": [
    "os.chdir('/users/riya/race/gancode/pytorch-CycleGAN-and-pix2pix/')\n",
    "os.getcwd()"
   ]
  },
  {
   "cell_type": "code",
   "execution_count": null,
   "id": "ce16cc72",
   "metadata": {
    "scrolled": true
   },
   "outputs": [
    {
     "name": "stdout",
     "output_type": "stream",
     "text": [
      "----------------- Options ---------------\n",
      "               batch_size: 1                             \n",
      "                    beta1: 0.5                           \n",
      "          checkpoints_dir: ./checkpoints                 \n",
      "           continue_train: False                         \n",
      "                crop_size: 256                           \n",
      "                 dataroot: /users/riya/race/gandataset   \t[default: None]\n",
      "             dataset_mode: aligned                       \n",
      "                direction: AtoB                          \n",
      "              display_env: main                          \n",
      "             display_freq: 400                           \n",
      "               display_id: 1                             \n",
      "            display_ncols: 4                             \n",
      "             display_port: 8097                          \n",
      "           display_server: http://localhost              \n",
      "          display_winsize: 256                           \n",
      "                    epoch: latest                        \n",
      "              epoch_count: 1                             \n",
      "                 gan_mode: vanilla                       \n",
      "                  gpu_ids: 3                             \t[default: 0]\n",
      "                init_gain: 0.02                          \n",
      "                init_type: normal                        \n",
      "                 input_nc: 3                             \n",
      "                  isTrain: True                          \t[default: None]\n",
      "                lambda_L1: 10.0                          \t[default: 100.0]\n",
      "                load_iter: 0                             \t[default: 0]\n",
      "                load_size: 256                           \t[default: 286]\n",
      "                       lr: 2e-07                         \t[default: 0.0002]\n",
      "           lr_decay_iters: 50                            \n",
      "                lr_policy: linear                        \n",
      "         max_dataset_size: inf                           \n",
      "                    model: pix2pix                       \t[default: cycle_gan]\n",
      "                 n_epochs: 100                           \n",
      "           n_epochs_decay: 100                           \n",
      "               n_layers_D: 3                             \n",
      "                     name: raceGAN_combo2                \t[default: experiment_name]\n",
      "                      ndf: 64                            \n",
      "                     netD: basic                         \n",
      "                     netG: unet_256                      \n",
      "                      ngf: 64                            \n",
      "               no_dropout: False                         \n",
      "                  no_flip: False                         \n",
      "                  no_html: False                         \n",
      "                     norm: batch                         \n",
      "              num_threads: 4                             \n",
      "                output_nc: 3                             \n",
      "                    phase: train                         \n",
      "                pool_size: 0                             \n",
      "               preprocess: resize_and_crop               \n",
      "               print_freq: 100                           \n",
      "             save_by_iter: False                         \n",
      "          save_epoch_freq: 5                             \n",
      "         save_latest_freq: 5000                          \n",
      "           serial_batches: False                         \n",
      "                   suffix:                               \n",
      "         update_html_freq: 1000                          \n",
      "                use_wandb: False                         \n",
      "                  verbose: False                         \n",
      "----------------- End -------------------\n",
      "dataset [AlignedDataset] was created\n",
      "The number of training images = 1623\n",
      "initialize network with normal\n",
      "initialize network with normal\n",
      "model [Pix2PixModel] was created\n",
      "---------- Networks initialized -------------\n",
      "[Network G] Total number of parameters : 54.414 M\n",
      "[Network D] Total number of parameters : 2.769 M\n",
      "-----------------------------------------------\n",
      "Setting up a new session...\n",
      "Exception in user code:\n",
      "------------------------------------------------------------\n",
      "Traceback (most recent call last):\n",
      "  File \"/usr/local/lib/python3.6/dist-packages/urllib3/connection.py\", line 175, in _new_conn\n",
      "    (self._dns_host, self.port), self.timeout, **extra_kw\n",
      "  File \"/usr/local/lib/python3.6/dist-packages/urllib3/util/connection.py\", line 95, in create_connection\n",
      "    raise err\n",
      "  File \"/usr/local/lib/python3.6/dist-packages/urllib3/util/connection.py\", line 85, in create_connection\n",
      "    sock.connect(sa)\n",
      "ConnectionRefusedError: [Errno 111] Connection refused\n",
      "\n",
      "During handling of the above exception, another exception occurred:\n",
      "\n",
      "Traceback (most recent call last):\n",
      "  File \"/usr/local/lib/python3.6/dist-packages/urllib3/connectionpool.py\", line 710, in urlopen\n",
      "    chunked=chunked,\n",
      "  File \"/usr/local/lib/python3.6/dist-packages/urllib3/connectionpool.py\", line 398, in _make_request\n",
      "    conn.request(method, url, **httplib_request_kw)\n",
      "  File \"/usr/local/lib/python3.6/dist-packages/urllib3/connection.py\", line 239, in request\n",
      "    super(HTTPConnection, self).request(method, url, body=body, headers=headers)\n",
      "  File \"/usr/lib/python3.6/http/client.py\", line 1281, in request\n",
      "    self._send_request(method, url, body, headers, encode_chunked)\n",
      "  File \"/usr/lib/python3.6/http/client.py\", line 1327, in _send_request\n",
      "    self.endheaders(body, encode_chunked=encode_chunked)\n",
      "  File \"/usr/lib/python3.6/http/client.py\", line 1276, in endheaders\n",
      "    self._send_output(message_body, encode_chunked=encode_chunked)\n",
      "  File \"/usr/lib/python3.6/http/client.py\", line 1042, in _send_output\n",
      "    self.send(msg)\n",
      "  File \"/usr/lib/python3.6/http/client.py\", line 980, in send\n",
      "    self.connect()\n",
      "  File \"/usr/local/lib/python3.6/dist-packages/urllib3/connection.py\", line 205, in connect\n",
      "    conn = self._new_conn()\n",
      "  File \"/usr/local/lib/python3.6/dist-packages/urllib3/connection.py\", line 187, in _new_conn\n",
      "    self, \"Failed to establish a new connection: %s\" % e\n",
      "urllib3.exceptions.NewConnectionError: <urllib3.connection.HTTPConnection object at 0x7efdfb181550>: Failed to establish a new connection: [Errno 111] Connection refused\n",
      "\n",
      "During handling of the above exception, another exception occurred:\n",
      "\n",
      "Traceback (most recent call last):\n",
      "  File \"/usr/local/lib/python3.6/dist-packages/requests/adapters.py\", line 449, in send\n",
      "    timeout=timeout\n",
      "  File \"/usr/local/lib/python3.6/dist-packages/urllib3/connectionpool.py\", line 786, in urlopen\n",
      "    method, url, error=e, _pool=self, _stacktrace=sys.exc_info()[2]\n",
      "  File \"/usr/local/lib/python3.6/dist-packages/urllib3/util/retry.py\", line 592, in increment\n",
      "    raise MaxRetryError(_pool, url, error or ResponseError(cause))\n",
      "urllib3.exceptions.MaxRetryError: HTTPConnectionPool(host='localhost', port=8097): Max retries exceeded with url: /env/main (Caused by NewConnectionError('<urllib3.connection.HTTPConnection object at 0x7efdfb181550>: Failed to establish a new connection: [Errno 111] Connection refused',))\n",
      "\n",
      "During handling of the above exception, another exception occurred:\n",
      "\n",
      "Traceback (most recent call last):\n",
      "  File \"/usr/local/lib/python3.6/dist-packages/visdom/__init__.py\", line 711, in _send\n",
      "    data=json.dumps(msg),\n",
      "  File \"/usr/local/lib/python3.6/dist-packages/visdom/__init__.py\", line 677, in _handle_post\n",
      "    r = self.session.post(url, data=data)\n",
      "  File \"/usr/local/lib/python3.6/dist-packages/requests/sessions.py\", line 590, in post\n",
      "    return self.request('POST', url, data=data, json=json, **kwargs)\n",
      "  File \"/usr/local/lib/python3.6/dist-packages/requests/sessions.py\", line 542, in request\n",
      "    resp = self.send(prep, **send_kwargs)\n",
      "  File \"/usr/local/lib/python3.6/dist-packages/requests/sessions.py\", line 655, in send\n",
      "    r = adapter.send(request, **kwargs)\n",
      "  File \"/usr/local/lib/python3.6/dist-packages/requests/adapters.py\", line 516, in send\n",
      "    raise ConnectionError(e, request=request)\n",
      "requests.exceptions.ConnectionError: HTTPConnectionPool(host='localhost', port=8097): Max retries exceeded with url: /env/main (Caused by NewConnectionError('<urllib3.connection.HTTPConnection object at 0x7efdfb181550>: Failed to establish a new connection: [Errno 111] Connection refused',))\n",
      "[Errno 111] Connection refused\n",
      "\n",
      "\n",
      "Could not connect to Visdom server. \n",
      " Trying to start a server....\n",
      "Command: /usr/local/bin/python -m visdom.server -p 8097 &>/dev/null &\n",
      "create web directory ./checkpoints/raceGAN_combo2/web...\n",
      "/usr/local/lib/python3.6/dist-packages/torch/optim/lr_scheduler.py:134: UserWarning: Detected call of `lr_scheduler.step()` before `optimizer.step()`. In PyTorch 1.1.0 and later, you should call them in the opposite order: `optimizer.step()` before `lr_scheduler.step()`.  Failure to do this will result in PyTorch skipping the first value of the learning rate schedule. See more details at https://pytorch.org/docs/stable/optim.html#how-to-adjust-learning-rate\n",
      "  \"https://pytorch.org/docs/stable/optim.html#how-to-adjust-learning-rate\", UserWarning)\n",
      "learning rate 0.0000002 -> 0.0000002\n"
     ]
    },
    {
     "name": "stdout",
     "output_type": "stream",
     "text": [
      "(epoch: 1, iters: 100, time: 0.210, data: 0.490) G_GAN: 0.796 G_L1: 4.120 D_real: 0.776 D_fake: 0.819 \n",
      "(epoch: 1, iters: 200, time: 0.210, data: 0.001) G_GAN: 0.822 G_L1: 4.086 D_real: 0.808 D_fake: 0.810 \n",
      "(epoch: 1, iters: 300, time: 0.210, data: 0.001) G_GAN: 0.817 G_L1: 4.183 D_real: 0.749 D_fake: 0.807 \n",
      "(epoch: 1, iters: 400, time: 0.377, data: 0.001) G_GAN: 0.765 G_L1: 6.772 D_real: 0.689 D_fake: 0.798 \n",
      "(epoch: 1, iters: 500, time: 0.216, data: 0.001) G_GAN: 0.785 G_L1: 5.001 D_real: 0.656 D_fake: 0.791 \n",
      "(epoch: 1, iters: 600, time: 0.216, data: 0.001) G_GAN: 0.787 G_L1: 5.158 D_real: 0.628 D_fake: 0.769 \n",
      "(epoch: 1, iters: 700, time: 0.211, data: 0.001) G_GAN: 0.805 G_L1: 5.544 D_real: 0.716 D_fake: 0.764 \n",
      "(epoch: 1, iters: 800, time: 0.271, data: 0.001) G_GAN: 0.825 G_L1: 4.739 D_real: 0.659 D_fake: 0.752 \n",
      "(epoch: 1, iters: 900, time: 0.211, data: 0.002) G_GAN: 0.851 G_L1: 4.539 D_real: 0.670 D_fake: 0.744 \n",
      "(epoch: 1, iters: 1000, time: 0.214, data: 0.002) G_GAN: 0.818 G_L1: 3.756 D_real: 0.586 D_fake: 0.731 \n",
      "(epoch: 1, iters: 1100, time: 0.217, data: 0.002) G_GAN: 0.851 G_L1: 4.328 D_real: 0.605 D_fake: 0.704 \n",
      "(epoch: 1, iters: 1200, time: 0.281, data: 0.002) G_GAN: 0.860 G_L1: 5.405 D_real: 0.577 D_fake: 0.719 \n",
      "(epoch: 1, iters: 1300, time: 0.215, data: 0.001) G_GAN: 0.887 G_L1: 5.632 D_real: 0.643 D_fake: 0.675 \n",
      "(epoch: 1, iters: 1400, time: 0.218, data: 0.001) G_GAN: 0.902 G_L1: 4.431 D_real: 0.614 D_fake: 0.676 \n",
      "(epoch: 1, iters: 1500, time: 0.216, data: 0.001) G_GAN: 0.906 G_L1: 4.517 D_real: 0.534 D_fake: 0.665 \n",
      "(epoch: 1, iters: 1600, time: 0.283, data: 0.002) G_GAN: 0.905 G_L1: 4.271 D_real: 0.526 D_fake: 0.639 \n",
      "End of epoch 1 / 200 \t Time Taken: 196 sec\n",
      "learning rate 0.0000002 -> 0.0000002\n",
      "(epoch: 2, iters: 77, time: 0.216, data: 0.002) G_GAN: 0.923 G_L1: 5.370 D_real: 0.564 D_fake: 0.646 \n",
      "(epoch: 2, iters: 177, time: 0.221, data: 0.002) G_GAN: 0.940 G_L1: 3.646 D_real: 0.491 D_fake: 0.628 \n",
      "(epoch: 2, iters: 277, time: 0.214, data: 0.002) G_GAN: 0.958 G_L1: 4.978 D_real: 0.578 D_fake: 0.601 \n",
      "(epoch: 2, iters: 377, time: 0.362, data: 0.002) G_GAN: 0.970 G_L1: 3.827 D_real: 0.586 D_fake: 0.611 \n",
      "(epoch: 2, iters: 477, time: 0.212, data: 0.003) G_GAN: 0.970 G_L1: 4.926 D_real: 0.491 D_fake: 0.602 \n"
     ]
    }
   ],
   "source": [
    "!python train.py --dataroot /users/riya/race/gandataset --lambda_L1 10.0 --lr 0.0000002 --name raceGAN_combo2 --model pix2pix --gpu_ids 3 --load_size 256 --crop_size 256"
   ]
  },
  {
   "cell_type": "code",
   "execution_count": null,
   "id": "b1521809",
   "metadata": {},
   "outputs": [],
   "source": []
  }
 ],
 "metadata": {
  "kernelspec": {
   "display_name": "Python 3",
   "language": "python",
   "name": "python3"
  },
  "language_info": {
   "codemirror_mode": {
    "name": "ipython",
    "version": 3
   },
   "file_extension": ".py",
   "mimetype": "text/x-python",
   "name": "python",
   "nbconvert_exporter": "python",
   "pygments_lexer": "ipython3",
   "version": "3.6.9"
  }
 },
 "nbformat": 4,
 "nbformat_minor": 5
}

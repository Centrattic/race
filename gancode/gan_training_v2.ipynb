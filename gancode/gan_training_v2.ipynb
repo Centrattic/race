{
 "cells": [
  {
   "cell_type": "code",
   "execution_count": 1,
   "id": "d2b3ab33",
   "metadata": {},
   "outputs": [],
   "source": [
    "import matplotlib.image as mpimg\n",
    "import matplotlib.pyplot as plt\n",
    "import pandas as pd\n",
    "import os"
   ]
  },
  {
   "cell_type": "markdown",
   "id": "6695b6c6",
   "metadata": {},
   "source": [
    "## Training Model"
   ]
  },
  {
   "cell_type": "markdown",
   "id": "8c48e4c4",
   "metadata": {},
   "source": [
    "#### Very useful to mark succesful training\n",
    "\n",
    "https://machinelearningmastery.com/practical-guide-to-gan-failure-modes/"
   ]
  },
  {
   "cell_type": "code",
   "execution_count": 2,
   "id": "842628d7",
   "metadata": {},
   "outputs": [
    {
     "data": {
      "text/plain": [
       "'/users/riya/race/gancode'"
      ]
     },
     "execution_count": 2,
     "metadata": {},
     "output_type": "execute_result"
    }
   ],
   "source": [
    "os.getcwd()"
   ]
  },
  {
   "cell_type": "code",
   "execution_count": 3,
   "id": "26b4be22",
   "metadata": {
    "scrolled": true
   },
   "outputs": [
    {
     "data": {
      "text/plain": [
       "'/users/riya/race/gancode/pytorch-CycleGAN-and-pix2pix'"
      ]
     },
     "execution_count": 3,
     "metadata": {},
     "output_type": "execute_result"
    }
   ],
   "source": [
    "os.chdir('/users/riya/race/gancode/pytorch-CycleGAN-and-pix2pix/')\n",
    "os.getcwd()"
   ]
  },
  {
   "cell_type": "code",
   "execution_count": null,
   "id": "f508cb2d",
   "metadata": {},
   "outputs": [
    {
     "name": "stdout",
     "output_type": "stream",
     "text": [
      "----------------- Options ---------------\n",
      "               batch_size: 1                             \n",
      "                    beta1: 0.5                           \n",
      "          checkpoints_dir: ./checkpoints                 \n",
      "           continue_train: False                         \n",
      "                crop_size: 256                           \n",
      "                 dataroot: /users/riya/race/gandataset   \t[default: None]\n",
      "             dataset_mode: aligned                       \n",
      "                direction: AtoB                          \n",
      "              display_env: main                          \n",
      "             display_freq: 400                           \n",
      "               display_id: 1                             \n",
      "            display_ncols: 4                             \n",
      "             display_port: 8097                          \n",
      "           display_server: http://localhost              \n",
      "          display_winsize: 256                           \n",
      "                    epoch: latest                        \n",
      "              epoch_count: 1                             \n",
      "                 gan_mode: vanilla                       \n",
      "                  gpu_ids: 1,2                           \t[default: 0]\n",
      "                init_gain: 0.02                          \n",
      "                init_type: normal                        \n",
      "                 input_nc: 3                             \n",
      "                  isTrain: True                          \t[default: None]\n",
      "                lambda_L1: 100000.0                      \t[default: 100.0]\n",
      "                load_iter: 0                             \t[default: 0]\n",
      "                load_size: 286                           \n",
      "                       lr: 2e-05                         \t[default: 0.0002]\n",
      "           lr_decay_iters: 50                            \n",
      "                lr_policy: linear                        \n",
      "         max_dataset_size: inf                           \n",
      "                    model: pix2pix                       \t[default: cycle_gan]\n",
      "                 n_epochs: 100                           \n",
      "           n_epochs_decay: 100                           \n",
      "               n_layers_D: 3                             \n",
      "                     name: raceGAN_baseline              \t[default: experiment_name]\n",
      "                      ndf: 64                            \n",
      "                     netD: basic                         \n",
      "                     netG: unet_256                      \n",
      "                      ngf: 64                            \n",
      "               no_dropout: False                         \n",
      "                  no_flip: False                         \n",
      "                  no_html: False                         \n",
      "                     norm: batch                         \n",
      "              num_threads: 4                             \n",
      "                output_nc: 3                             \n",
      "                    phase: train                         \n",
      "                pool_size: 0                             \n",
      "               preprocess: resize_and_crop               \n",
      "               print_freq: 100                           \n",
      "             save_by_iter: False                         \n",
      "          save_epoch_freq: 5                             \n",
      "         save_latest_freq: 5000                          \n",
      "           serial_batches: False                         \n",
      "                   suffix:                               \n",
      "         update_html_freq: 1000                          \n",
      "                use_wandb: False                         \n",
      "                  verbose: False                         \n",
      "----------------- End -------------------\n",
      "dataset [AlignedDataset] was created\n",
      "The number of training images = 1623\n",
      "initialize network with normal\n",
      "initialize network with normal\n",
      "model [Pix2PixModel] was created\n",
      "---------- Networks initialized -------------\n",
      "[Network G] Total number of parameters : 54.414 M\n",
      "[Network D] Total number of parameters : 2.769 M\n",
      "-----------------------------------------------\n",
      "Setting up a new session...\n",
      "Exception in user code:\n",
      "------------------------------------------------------------\n",
      "Traceback (most recent call last):\n",
      "  File \"/usr/local/lib/python3.6/dist-packages/urllib3/connection.py\", line 175, in _new_conn\n",
      "    (self._dns_host, self.port), self.timeout, **extra_kw\n",
      "  File \"/usr/local/lib/python3.6/dist-packages/urllib3/util/connection.py\", line 95, in create_connection\n",
      "    raise err\n",
      "  File \"/usr/local/lib/python3.6/dist-packages/urllib3/util/connection.py\", line 85, in create_connection\n",
      "    sock.connect(sa)\n",
      "ConnectionRefusedError: [Errno 111] Connection refused\n",
      "\n",
      "During handling of the above exception, another exception occurred:\n",
      "\n",
      "Traceback (most recent call last):\n",
      "  File \"/usr/local/lib/python3.6/dist-packages/urllib3/connectionpool.py\", line 710, in urlopen\n",
      "    chunked=chunked,\n",
      "  File \"/usr/local/lib/python3.6/dist-packages/urllib3/connectionpool.py\", line 398, in _make_request\n",
      "    conn.request(method, url, **httplib_request_kw)\n",
      "  File \"/usr/local/lib/python3.6/dist-packages/urllib3/connection.py\", line 239, in request\n",
      "    super(HTTPConnection, self).request(method, url, body=body, headers=headers)\n",
      "  File \"/usr/lib/python3.6/http/client.py\", line 1281, in request\n",
      "    self._send_request(method, url, body, headers, encode_chunked)\n",
      "  File \"/usr/lib/python3.6/http/client.py\", line 1327, in _send_request\n",
      "    self.endheaders(body, encode_chunked=encode_chunked)\n",
      "  File \"/usr/lib/python3.6/http/client.py\", line 1276, in endheaders\n",
      "    self._send_output(message_body, encode_chunked=encode_chunked)\n",
      "  File \"/usr/lib/python3.6/http/client.py\", line 1042, in _send_output\n",
      "    self.send(msg)\n",
      "  File \"/usr/lib/python3.6/http/client.py\", line 980, in send\n",
      "    self.connect()\n",
      "  File \"/usr/local/lib/python3.6/dist-packages/urllib3/connection.py\", line 205, in connect\n",
      "    conn = self._new_conn()\n",
      "  File \"/usr/local/lib/python3.6/dist-packages/urllib3/connection.py\", line 187, in _new_conn\n",
      "    self, \"Failed to establish a new connection: %s\" % e\n",
      "urllib3.exceptions.NewConnectionError: <urllib3.connection.HTTPConnection object at 0x7f4fb4c55518>: Failed to establish a new connection: [Errno 111] Connection refused\n",
      "\n",
      "During handling of the above exception, another exception occurred:\n",
      "\n",
      "Traceback (most recent call last):\n",
      "  File \"/usr/local/lib/python3.6/dist-packages/requests/adapters.py\", line 449, in send\n",
      "    timeout=timeout\n",
      "  File \"/usr/local/lib/python3.6/dist-packages/urllib3/connectionpool.py\", line 786, in urlopen\n",
      "    method, url, error=e, _pool=self, _stacktrace=sys.exc_info()[2]\n",
      "  File \"/usr/local/lib/python3.6/dist-packages/urllib3/util/retry.py\", line 592, in increment\n",
      "    raise MaxRetryError(_pool, url, error or ResponseError(cause))\n",
      "urllib3.exceptions.MaxRetryError: HTTPConnectionPool(host='localhost', port=8097): Max retries exceeded with url: /env/main (Caused by NewConnectionError('<urllib3.connection.HTTPConnection object at 0x7f4fb4c55518>: Failed to establish a new connection: [Errno 111] Connection refused',))\n",
      "\n",
      "During handling of the above exception, another exception occurred:\n",
      "\n",
      "Traceback (most recent call last):\n",
      "  File \"/usr/local/lib/python3.6/dist-packages/visdom/__init__.py\", line 711, in _send\n",
      "    data=json.dumps(msg),\n",
      "  File \"/usr/local/lib/python3.6/dist-packages/visdom/__init__.py\", line 677, in _handle_post\n",
      "    r = self.session.post(url, data=data)\n",
      "  File \"/usr/local/lib/python3.6/dist-packages/requests/sessions.py\", line 590, in post\n",
      "    return self.request('POST', url, data=data, json=json, **kwargs)\n",
      "  File \"/usr/local/lib/python3.6/dist-packages/requests/sessions.py\", line 542, in request\n",
      "    resp = self.send(prep, **send_kwargs)\n",
      "  File \"/usr/local/lib/python3.6/dist-packages/requests/sessions.py\", line 655, in send\n",
      "    r = adapter.send(request, **kwargs)\n",
      "  File \"/usr/local/lib/python3.6/dist-packages/requests/adapters.py\", line 516, in send\n",
      "    raise ConnectionError(e, request=request)\n",
      "requests.exceptions.ConnectionError: HTTPConnectionPool(host='localhost', port=8097): Max retries exceeded with url: /env/main (Caused by NewConnectionError('<urllib3.connection.HTTPConnection object at 0x7f4fb4c55518>: Failed to establish a new connection: [Errno 111] Connection refused',))\n",
      "[Errno 111] Connection refused\n",
      "\n",
      "\n",
      "Could not connect to Visdom server. \n",
      " Trying to start a server....\n",
      "Command: /usr/local/bin/python -m visdom.server -p 8097 &>/dev/null &\n"
     ]
    },
    {
     "name": "stdout",
     "output_type": "stream",
     "text": [
      "create web directory ./checkpoints/raceGAN_baseline/web...\n",
      "/usr/local/lib/python3.6/dist-packages/torch/optim/lr_scheduler.py:134: UserWarning: Detected call of `lr_scheduler.step()` before `optimizer.step()`. In PyTorch 1.1.0 and later, you should call them in the opposite order: `optimizer.step()` before `lr_scheduler.step()`.  Failure to do this will result in PyTorch skipping the first value of the learning rate schedule. See more details at https://pytorch.org/docs/stable/optim.html#how-to-adjust-learning-rate\n",
      "  \"https://pytorch.org/docs/stable/optim.html#how-to-adjust-learning-rate\", UserWarning)\n",
      "learning rate 0.0000200 -> 0.0000200\n",
      "(epoch: 1, iters: 100, time: 0.212, data: 0.124) G_GAN: 2.171 G_L1: 29395.223 D_real: 0.226 D_fake: 0.163 \n",
      "(epoch: 1, iters: 200, time: 0.214, data: 0.002) G_GAN: 3.487 G_L1: 18737.859 D_real: 0.065 D_fake: 0.041 \n",
      "(epoch: 1, iters: 300, time: 0.209, data: 0.003) G_GAN: 4.128 G_L1: 39242.746 D_real: 0.028 D_fake: 0.021 \n",
      "(epoch: 1, iters: 400, time: 0.372, data: 0.002) G_GAN: 3.718 G_L1: 24505.311 D_real: 0.064 D_fake: 0.031 \n",
      "(epoch: 1, iters: 500, time: 0.211, data: 0.002) G_GAN: 4.555 G_L1: 16813.693 D_real: 0.037 D_fake: 0.012 \n",
      "(epoch: 1, iters: 600, time: 0.216, data: 0.003) G_GAN: 3.259 G_L1: 21842.066 D_real: 0.113 D_fake: 0.049 \n",
      "(epoch: 1, iters: 700, time: 0.213, data: 0.003) G_GAN: 4.131 G_L1: 61059.082 D_real: 0.012 D_fake: 0.031 \n",
      "(epoch: 1, iters: 800, time: 0.283, data: 0.003) G_GAN: 4.715 G_L1: 24475.312 D_real: 0.008 D_fake: 0.013 \n",
      "(epoch: 1, iters: 900, time: 0.221, data: 0.002) G_GAN: 4.721 G_L1: 21975.117 D_real: 0.008 D_fake: 0.022 \n",
      "(epoch: 1, iters: 1000, time: 0.218, data: 0.002) G_GAN: 5.199 G_L1: 24574.518 D_real: 0.003 D_fake: 0.008 \n",
      "(epoch: 1, iters: 1100, time: 0.221, data: 0.002) G_GAN: 3.234 G_L1: 21113.561 D_real: 0.034 D_fake: 0.064 \n",
      "(epoch: 1, iters: 1200, time: 0.284, data: 0.002) G_GAN: 5.501 G_L1: 19795.152 D_real: 0.005 D_fake: 0.005 \n",
      "(epoch: 1, iters: 1300, time: 0.219, data: 0.002) G_GAN: 5.203 G_L1: 28822.727 D_real: 0.003 D_fake: 0.008 \n",
      "(epoch: 1, iters: 1400, time: 0.222, data: 0.003) G_GAN: 5.959 G_L1: 41432.949 D_real: 0.004 D_fake: 0.003 \n",
      "(epoch: 1, iters: 1500, time: 0.216, data: 0.002) G_GAN: 6.383 G_L1: 22350.859 D_real: 0.005 D_fake: 0.002 \n",
      "(epoch: 1, iters: 1600, time: 0.289, data: 0.002) G_GAN: 5.948 G_L1: 26610.400 D_real: 0.002 D_fake: 0.004 \n",
      "End of epoch 1 / 200 \t Time Taken: 204 sec\n",
      "learning rate 0.0000200 -> 0.0000200\n",
      "(epoch: 2, iters: 77, time: 0.220, data: 0.002) G_GAN: 6.729 G_L1: 21997.633 D_real: 0.002 D_fake: 0.002 \n",
      "(epoch: 2, iters: 177, time: 0.217, data: 0.002) G_GAN: 5.592 G_L1: 19897.689 D_real: 0.006 D_fake: 0.006 \n",
      "(epoch: 2, iters: 277, time: 0.213, data: 0.002) G_GAN: 6.545 G_L1: 23597.537 D_real: 0.001 D_fake: 0.002 \n",
      "(epoch: 2, iters: 377, time: 0.377, data: 0.003) G_GAN: 6.259 G_L1: 19047.820 D_real: 0.002 D_fake: 0.003 \n",
      "(epoch: 2, iters: 477, time: 0.219, data: 0.002) G_GAN: 1.947 G_L1: 14799.773 D_real: 0.854 D_fake: 0.016 \n",
      "(epoch: 2, iters: 577, time: 0.216, data: 0.002) G_GAN: 5.925 G_L1: 14536.223 D_real: 0.003 D_fake: 0.003 \n",
      "(epoch: 2, iters: 677, time: 0.217, data: 0.003) G_GAN: 5.662 G_L1: 21236.873 D_real: 0.001 D_fake: 0.005 \n",
      "(epoch: 2, iters: 777, time: 0.296, data: 0.003) G_GAN: 6.368 G_L1: 33553.750 D_real: 0.001 D_fake: 0.002 \n",
      "(epoch: 2, iters: 877, time: 0.224, data: 0.002) G_GAN: 6.078 G_L1: 26285.455 D_real: 0.001 D_fake: 0.003 \n",
      "(epoch: 2, iters: 977, time: 0.223, data: 0.003) G_GAN: 5.443 G_L1: 17774.980 D_real: 0.001 D_fake: 0.006 \n",
      "(epoch: 2, iters: 1077, time: 0.219, data: 0.002) G_GAN: 6.775 G_L1: 17118.287 D_real: 0.001 D_fake: 0.001 \n",
      "(epoch: 2, iters: 1177, time: 0.291, data: 0.002) G_GAN: 7.015 G_L1: 16866.494 D_real: 0.000 D_fake: 0.001 \n",
      "(epoch: 2, iters: 1277, time: 0.224, data: 0.002) G_GAN: 5.322 G_L1: 34428.145 D_real: 0.000 D_fake: 0.008 \n",
      "(epoch: 2, iters: 1377, time: 0.221, data: 0.002) G_GAN: 7.155 G_L1: 21744.451 D_real: 0.000 D_fake: 0.001 \n",
      "(epoch: 2, iters: 1477, time: 0.222, data: 0.003) G_GAN: 6.273 G_L1: 26923.078 D_real: 0.000 D_fake: 0.003 \n",
      "(epoch: 2, iters: 1577, time: 0.291, data: 0.003) G_GAN: 5.240 G_L1: 21256.596 D_real: 0.001 D_fake: 0.010 \n",
      "End of epoch 2 / 200 \t Time Taken: 203 sec\n",
      "learning rate 0.0000200 -> 0.0000200\n"
     ]
    }
   ],
   "source": [
    "!python train.py --dataroot /users/riya/race/gandataset --batch_size 1 --lambda_L1 100000.0 --lr .00002 --name raceGAN_baseline --model pix2pix --gpu_ids 1,2"
   ]
  },
  {
   "cell_type": "markdown",
   "id": "0c0dea25",
   "metadata": {},
   "source": [
    "3/20 10:51 PM: this test will be very interesting! Let's see what goes on, how the model performs. Should also re-try my control with lambda l1. Perhaps that is the key. I gotta try that as well. Two models tonight ig.\n",
    "\n",
    "Also need to train a baseline model (with really high l1) but lets see. Maybe high l1 is the way to go. I should be able to test by 50, because there is so many artifacts. \n",
    "\n",
    "https://www.semanticscholar.org/paper/CycleGAN-based-deep-learning-technique-for-artifact-Yoo-Choi/43fe259a1f5527a2261451001b986bb08b1576be ooh"
   ]
  },
  {
   "cell_type": "code",
   "execution_count": null,
   "id": "7ba574a9",
   "metadata": {},
   "outputs": [],
   "source": []
  }
 ],
 "metadata": {
  "kernelspec": {
   "display_name": "Python 3",
   "language": "python",
   "name": "python3"
  },
  "language_info": {
   "codemirror_mode": {
    "name": "ipython",
    "version": 3
   },
   "file_extension": ".py",
   "mimetype": "text/x-python",
   "name": "python",
   "nbconvert_exporter": "python",
   "pygments_lexer": "ipython3",
   "version": "3.6.9"
  }
 },
 "nbformat": 4,
 "nbformat_minor": 5
}
